{
 "cells": [
  {
   "cell_type": "code",
   "execution_count": 1,
   "metadata": {
    "pycharm": {
     "is_executing": false
    }
   },
   "outputs": [],
   "source": [
    "import numpy as np\n",
    "import scipy.spatial\n",
    "import tensorflow.keras.datasets as datasets\n",
    "import matplotlib.pyplot as plt\n",
    "import skimage as ski\n",
    "import pandas as pd\n",
    "from sklearn.linear_model import LinearRegression\n",
    "from sklearn.metrics import mean_squared_error, r2_score\n",
    "import seaborn as sns\n",
    "from sklearn.linear_model import LogisticRegression\n",
    "\n",
    "np.random.seed(1337)\n",
    "plt.set_cmap('gray')"
   ]
  },
  {
   "cell_type": "markdown",
   "source": [
    "## A KNN\n",
    "\n",
    "1. Für jedes Sample für das man ein Label vorhersagen möchste muss man den Abstand zu allen Datenpunkten aus dem\n",
    "Trainingsset bestimmen. Bei 50 Samples und 60.000 Trainingsdatenpunkten erhält man 50 * 60.0000 = 3.000.000 Vergleiche\n",
    "2. Wenn wir jetzt die Größe des Trainingssets durch n ersetzen erhalten wir n * 50 = 50n Vergleiche.\n"
   ],
   "metadata": {
    "collapsed": false,
    "pycharm": {
     "name": "#%% md\n"
    }
   }
  },
  {
   "cell_type": "markdown",
   "source": [
    "## B KNN MNIST\n",
    "\n",
    "Als gelabeltes Trainingsset nehmen wir 10.000 zufällige Bilder und als Testset 1.000 zufällige Bilder\n",
    "\n",
    "### Datenset laden, splitten und formatieren"
   ],
   "metadata": {
    "collapsed": false,
    "pycharm": {
     "name": "#%% md\n"
    }
   }
  },
  {
   "cell_type": "code",
   "execution_count": 2,
   "outputs": [],
   "source": [
    "mnist = datasets.mnist.load_data()\n",
    "\n",
    "train, test = mnist[0], mnist[1]\n",
    "\n",
    "X_train, Y_train = train[0], train[1]\n",
    "\n",
    "X_test, Y_test = test[0], test[1]\n",
    "\n",
    "n_train = X_train.shape[0]\n",
    "n_test = X_test.shape[0]\n",
    "\n",
    "m = X_train.shape[1]**2\n",
    "\n",
    "X_train = X_train.reshape([n_train, m])\n",
    "X_test = X_test.reshape([n_test, m])"
   ],
   "metadata": {
    "collapsed": false,
    "pycharm": {
     "name": "#%%\n",
     "is_executing": false
    }
   }
  },
  {
   "cell_type": "markdown",
   "source": [
    "### Subsamples definieren"
   ],
   "metadata": {
    "collapsed": false
   }
  },
  {
   "cell_type": "code",
   "execution_count": 3,
   "outputs": [],
   "source": [
    "idx = np.random.randint(n_train, size=10000)\n",
    "x_train_sample = X_train[idx]\n",
    "y_train_sample = Y_train[idx]"
   ],
   "metadata": {
    "collapsed": false,
    "pycharm": {
     "name": "#%%\n",
     "is_executing": false
    }
   }
  },
  {
   "cell_type": "code",
   "execution_count": 4,
   "outputs": [],
   "source": [
    "idx = np.random.randint(n_test, size=100)\n",
    "x_test_sample = X_test[idx]\n",
    "y_test_sample = Y_test[idx]"
   ],
   "metadata": {
    "collapsed": false,
    "pycharm": {
     "name": "#%%\n",
     "is_executing": false
    }
   }
  },
  {
   "cell_type": "markdown",
   "source": [
    "### Anhand von k das label vorhersagen und kontrollieren"
   ],
   "metadata": {
    "collapsed": false,
    "pycharm": {
     "name": "#%% md\n"
    }
   }
  },
  {
   "cell_type": "code",
   "execution_count": 5,
   "outputs": [],
   "source": [
    "def get_error_rate(y_train, y_test, dists, k):\n",
    "    total = {0: 0, 1: 0, 2: 0, 3: 0, 4: 0, 5: 0, 6: 0, 7: 0, 8: 0, 9: 0}\n",
    "    err = {0: 0, 1: 0, 2: 0, 3: 0, 4: 0, 5: 0, 6: 0, 7: 0, 8: 0, 9: 0}\n",
    "    for test_idx in range(len(dists)):\n",
    "        # die k nächsten indizes suchen\n",
    "        voter_indices = dists[test_idx].argsort()[:k]\n",
    "        # die werte zu den inizes lesen\n",
    "        voters = y_train[voter_indices]\n",
    "        # den wert nehmen der am häufigsten vor kam\n",
    "        predicted = max(set(voters), key=list(voters).count)\n",
    "        # die werte vergleichen und fehler beziehungsweise den gesamtzähler hochsetzen\n",
    "        if predicted != y_test[test_idx]:\n",
    "            total[y_test[test_idx]] += 1\n",
    "            err[y_test[test_idx]] += 1\n",
    "        else:\n",
    "            total[y_test_sample[test_idx]] += 1\n",
    "    return total, err"
   ],
   "metadata": {
    "collapsed": false,
    "pycharm": {
     "name": "#%%\n",
     "is_executing": false
    }
   }
  },
  {
   "cell_type": "markdown",
   "source": [
    "### schöne ausgabe der ergebnisse"
   ],
   "metadata": {
    "collapsed": false,
    "pycharm": {
     "name": "#%% md\n"
    }
   }
  },
  {
   "cell_type": "code",
   "execution_count": 6,
   "outputs": [],
   "source": [
    "def print_knn_results(total, error):\n",
    "    print(\"Fehlerrate: {}%\".format(\n",
    "        int(sum(error.values()) / sum(total.values()) * 100)))\n",
    "    print(\"Fehlerrate nach Label (Fehler/Total):\")\n",
    "    for key in total.keys():\n",
    "        print(\"{}: {}/{} -> {}%\".format(key, error[key], total[key], int(error[key] / total[key] * 100)))"
   ],
   "metadata": {
    "collapsed": false,
    "pycharm": {
     "name": "#%%\n",
     "is_executing": false
    }
   }
  },
  {
   "cell_type": "markdown",
   "source": [
    "### die oberen beiden funktionen und die berechnung der distanzen zusammennehmen"
   ],
   "metadata": {
    "collapsed": false,
    "pycharm": {
     "name": "#%% md\n"
    }
   }
  },
  {
   "cell_type": "code",
   "execution_count": 7,
   "outputs": [],
   "source": [
    "def do_knn(x_train, y_train, x_test, y_test, k: int):\n",
    "    dists = scipy.spatial.distance.cdist(x_test, x_train, metric='euclid')\n",
    "    erg_total, erg_error = get_error_rate(y_train, y_test, dists, k)\n",
    "    print_knn_results(erg_total, erg_error)"
   ],
   "metadata": {
    "collapsed": false,
    "pycharm": {
     "name": "#%%\n",
     "is_executing": false
    }
   }
  },
  {
   "cell_type": "markdown",
   "source": [
    "### testen der funktionen mit k=3"
   ],
   "metadata": {
    "collapsed": false,
    "pycharm": {
     "name": "#%% md\n"
    }
   }
  },
  {
   "cell_type": "code",
   "execution_count": 8,
   "outputs": [
    {
     "name": "stdout",
     "text": [
      "Fehlerrate: 6%\nFehlerrate nach Label (Fehler/Total):\n0: 0/10 -> 0%\n1: 2/14 -> 14%\n2: 2/16 -> 12%\n3: 0/13 -> 0%\n4: 0/3 -> 0%\n5: 1/9 -> 11%\n6: 0/8 -> 0%\n7: 0/8 -> 0%\n8: 1/14 -> 7%\n9: 0/5 -> 0%\n"
     ],
     "output_type": "stream"
    }
   ],
   "source": [
    "do_knn(x_train_sample, y_train_sample, x_test_sample, y_test_sample, 3)"
   ],
   "metadata": {
    "collapsed": false,
    "pycharm": {
     "name": "#%%\n",
     "is_executing": false
    }
   }
  },
  {
   "cell_type": "markdown",
   "source": [
    "### für k = 2, 4, 8\n",
    "\n",
    "Tendenziell verbessert sich die Fehlerrate durch ein höheres k, allerdings handelt es sich hierbei nur um wenige\n",
    "Prozentpunkte: 2-5%. (Ab und an kann sich aber auch um 1-2% verschlechtern)"
   ],
   "metadata": {
    "collapsed": false,
    "pycharm": {
     "name": "#%% md\n"
    }
   }
  },
  {
   "cell_type": "code",
   "execution_count": 9,
   "outputs": [
    {
     "name": "stdout",
     "text": [
      "\n\nk = 2\n",
      "Fehlerrate: 6%\nFehlerrate nach Label (Fehler/Total):\n0: 0/10 -> 0%\n1: 2/14 -> 14%\n2: 0/16 -> 0%\n3: 1/13 -> 7%\n4: 0/3 -> 0%\n5: 1/9 -> 11%\n6: 0/8 -> 0%\n7: 0/8 -> 0%\n8: 1/14 -> 7%\n9: 1/5 -> 20%\n\n\nk = 4\n",
      "Fehlerrate: 7%\nFehlerrate nach Label (Fehler/Total):\n0: 0/10 -> 0%\n1: 2/14 -> 14%\n2: 3/16 -> 18%\n3: 0/13 -> 0%\n4: 0/3 -> 0%\n5: 1/9 -> 11%\n6: 1/8 -> 12%\n7: 0/8 -> 0%\n8: 0/14 -> 0%\n9: 0/5 -> 0%\n\n\nk = 8\n",
      "Fehlerrate: 6%\nFehlerrate nach Label (Fehler/Total):\n0: 0/10 -> 0%\n1: 2/14 -> 14%\n2: 3/16 -> 18%\n3: 0/13 -> 0%\n4: 0/3 -> 0%\n5: 0/9 -> 0%\n6: 1/8 -> 12%\n7: 0/8 -> 0%\n8: 0/14 -> 0%\n9: 0/5 -> 0%\n"
     ],
     "output_type": "stream"
    }
   ],
   "source": [
    "for rate in [2, 4, 8]:\n",
    "    print(\"\\n\\nk = {}\".format(rate))\n",
    "    do_knn(x_train_sample, y_train_sample, x_test_sample, y_test_sample, rate)"
   ],
   "metadata": {
    "collapsed": false,
    "pycharm": {
     "name": "#%%\n",
     "is_executing": false
    }
   }
  },
  {
   "cell_type": "markdown",
   "source": [
    "# C K-means MNIST\n",
    "\n",
    "Da wir wissen, dass es im Datensatz 10 verschiedene Ziffern gibt, werden wir 10 Cluster bilden\n",
    "\n",
    "### Splitten und formatieren der Daten\n",
    "Als Sample nehmen wir 1000 Bilder und wir bilden 10 Cluster da es 10 Ziffern gibt"
   ],
   "metadata": {
    "collapsed": false,
    "pycharm": {
     "name": "#%% md\n"
    }
   }
  },
  {
   "cell_type": "code",
   "execution_count": 10,
   "outputs": [],
   "source": [
    "X_train, Y_train = train[0], train[1]\n",
    "\n",
    "n = X_train.shape[0]\n",
    "m = X_train.shape[1]**2\n",
    "\n",
    "X_train = X_train.reshape((n, m))\n",
    "\n",
    "n_sample = 1000\n",
    "\n",
    "idx = np.random.randint(n, size=n_sample)\n",
    "X_sample = X_train[idx]\n",
    "Y_sample = Y_train[idx]"
   ],
   "metadata": {
    "collapsed": false,
    "pycharm": {
     "name": "#%%\n",
     "is_executing": false
    }
   }
  },
  {
   "cell_type": "markdown",
   "source": [
    "### Algorithmus"
   ],
   "metadata": {
    "collapsed": false,
    "pycharm": {
     "name": "#%% md\n"
    }
   }
  },
  {
   "cell_type": "code",
   "execution_count": 11,
   "outputs": [],
   "source": [
    "def do_kmeans(n, k, x_sample, y_sample):\n",
    "    # init centroids\n",
    "    idx_centroids = np.random.randint(x_sample.shape[0], size=k)\n",
    "    centroids = x_sample[idx_centroids]\n",
    "    labels = []\n",
    "    \n",
    "    for j in range(n):\n",
    "        \n",
    "        # calc distances\n",
    "        dists = scipy.spatial.distance.cdist(x_sample, centroids, metric='euclid')\n",
    "        \n",
    "        # label according to nearest centroids\n",
    "        labels = np.argmin(dists, axis=1)\n",
    "        \n",
    "        # get new centroids\n",
    "        centroid_list = [x_sample[labels == i].mean(0) for i in range(k)]\n",
    "        centroids = np.stack(centroid_list)\n",
    "    \n",
    "    if len(labels) > 0:\n",
    "        print_kmeans_results(k, labels, y_sample)"
   ],
   "metadata": {
    "collapsed": false,
    "pycharm": {
     "name": "#%%\n",
     "is_executing": false
    }
   }
  },
  {
   "cell_type": "markdown",
   "source": [
    "### Schöne ausgabe der ergebnisse"
   ],
   "metadata": {
    "collapsed": false,
    "pycharm": {
     "name": "#%% md\n"
    }
   }
  },
  {
   "cell_type": "code",
   "execution_count": 12,
   "outputs": [],
   "source": [
    "def print_kmeans_results(k, labels, y_sample):\n",
    "    labels_contained = []\n",
    "    for i in range(k):\n",
    "        cluster = y_sample[labels == i]\n",
    "        label, count = np.unique(cluster, return_counts=True)\n",
    "        max_idx = 0\n",
    "        cluster_elements = count[0]\n",
    "        for j in range(1, len(label)):\n",
    "            cluster_elements += count[j]\n",
    "            if count[j] > count[max_idx]:\n",
    "                max_idx = j\n",
    "        if label[max_idx] not in labels_contained:\n",
    "            labels_contained.append(label[max_idx])\n",
    "        print(\"cluster:\", i, \"majority:\", label[max_idx], \"percentage\", int(count[max_idx]/cluster_elements*100))\n",
    "    print()\n",
    "    if len(labels_contained) == 10:\n",
    "        print(\"Each label has its own cluster\")\n",
    "    else:\n",
    "        for i in range(k):\n",
    "            if i not in labels_contained:\n",
    "                print(\"{} did not get it's own cluster\".format(i))"
   ],
   "metadata": {
    "collapsed": false,
    "pycharm": {
     "name": "#%%\n",
     "is_executing": false
    }
   }
  },
  {
   "cell_type": "markdown",
   "source": [
    "### test mit n = 50"
   ],
   "metadata": {
    "collapsed": false,
    "pycharm": {
     "name": "#%% md\n"
    }
   }
  },
  {
   "cell_type": "code",
   "execution_count": 13,
   "outputs": [
    {
     "name": "stdout",
     "text": [
      "cluster: 0 majority: 1 percentage 42\ncluster: 1 majority: 7 percentage 96\ncluster: 2 majority: 6 percentage 46\ncluster: 3 majority: 7 percentage 48\ncluster: 4 majority: 2 percentage 71\ncluster: 5 majority: 4 percentage 38\ncluster: 6 majority: 9 percentage 51\ncluster: 7 majority: 3 percentage 41\ncluster: 8 majority: 0 percentage 93\ncluster: 9 majority: 1 percentage 56\n\n5 did not get it's own cluster\n8 did not get it's own cluster\n"
     ],
     "output_type": "stream"
    }
   ],
   "source": [
    "do_kmeans(50, 10, X_sample, Y_sample)"
   ],
   "metadata": {
    "collapsed": false,
    "pycharm": {
     "name": "#%%\n",
     "is_executing": false
    }
   }
  },
  {
   "cell_type": "markdown",
   "source": [
    "### für n = 10, 100, 1000"
   ],
   "metadata": {
    "collapsed": false,
    "pycharm": {
     "name": "#%% md\n"
    }
   }
  },
  {
   "cell_type": "code",
   "execution_count": 14,
   "outputs": [
    {
     "name": "stdout",
     "text": [
      "\n\nn = 10\n",
      "cluster: 0 majority: 8 percentage 50\ncluster: 1 majority: 6 percentage 59\ncluster: 2 majority: 4 percentage 43\ncluster: 3 majority: 7 percentage 64\ncluster: 4 majority: 1 percentage 46\ncluster: 5 majority: 0 percentage 88\ncluster: 6 majority: 3 percentage 52\ncluster: 7 majority: 4 percentage 50\ncluster: 8 majority: 7 percentage 71\ncluster: 9 majority: 0 percentage 93\n\n2 did not get it's own cluster\n5 did not get it's own cluster\n9 did not get it's own cluster\n\n\nn = 100\n",
      "cluster: 0 majority: 4 percentage 29\ncluster: 1 majority: 9 percentage 36\ncluster: 2 majority: 6 percentage 42\ncluster: 3 majority: 7 percentage 71\ncluster: 4 majority: 1 percentage 50\ncluster: 5 majority: 0 percentage 93\ncluster: 6 majority: 5 percentage 55\ncluster: 7 majority: 3 percentage 66\ncluster: 8 majority: 8 percentage 53\ncluster: 9 majority: 6 percentage 38\n\n2 did not get it's own cluster\n\n\nn = 1000\n",
      "cluster: 0 majority: 6 percentage 69\ncluster: 1 majority: 8 percentage 55\ncluster: 2 majority: 1 percentage 37\ncluster: 3 majority: 0 percentage 96\ncluster: 4 majority: 7 percentage 91\ncluster: 5 majority: 5 percentage 30\ncluster: 6 majority: 9 percentage 49\ncluster: 7 majority: 4 percentage 56\ncluster: 8 majority: 3 percentage 50\ncluster: 9 majority: 1 percentage 61\n\n2 did not get it's own cluster\n"
     ],
     "output_type": "stream"
    }
   ],
   "source": [
    "for n in [10, 100, 1000]:\n",
    "    print(\"\\n\\nn = {}\".format(n))\n",
    "    do_kmeans(n, 10, X_sample, Y_sample)\n"
   ],
   "metadata": {
    "collapsed": false,
    "pycharm": {
     "name": "#%%\n",
     "is_executing": false
    }
   }
  },
  {
   "cell_type": "markdown",
   "source": [
    "# D MNIST understanding"
   ],
   "metadata": {
    "collapsed": false,
    "pycharm": {
     "name": "#%% md\n"
    }
   }
  },
  {
   "cell_type": "code",
   "execution_count": 15,
   "outputs": [
    {
     "name": "stdout",
     "text": [
      "1\n"
     ],
     "output_type": "stream"
    },
    {
     "data": {
      "text/plain": "<Figure size 432x288 with 1 Axes>",
      "image/png": "[encoded data removed]"
     },
     "metadata": {
      "needs_background": "light"
     },
     "output_type": "display_data"
    }
   ],
   "source": [
    "print(train[1][3])\n",
    "_ = plt.imshow(train[0][3])"
   ],
   "metadata": {
    "collapsed": false,
    "pycharm": {
     "name": "#%%\n",
     "is_executing": false
    }
   }
  },
  {
   "cell_type": "code",
   "execution_count": 16,
   "outputs": [
    {
     "name": "stdout",
     "text": [
      "1\n"
     ],
     "output_type": "stream"
    },
    {
     "data": {
      "text/plain": "<Figure size 432x288 with 1 Axes>",
      "image/png": "[encoded data removed]"
     },
     "metadata": {
      "needs_background": "light"
     },
     "output_type": "display_data"
    }
   ],
   "source": [
    "print(train[1][24])\n",
    "_ = plt.imshow(train[0][24])"
   ],
   "metadata": {
    "collapsed": false,
    "pycharm": {
     "name": "#%%\n",
     "is_executing": false
    }
   }
  },
  {
   "cell_type": "code",
   "source": [
    "print(train[1][29])\n",
    "_ = plt.imshow(train[0][29])"
   ],
   "metadata": {
    "collapsed": false,
    "pycharm": {
     "name": "#%%\n",
     "is_executing": false
    }
   },
   "execution_count": 17,
   "outputs": [
    {
     "name": "stdout",
     "text": [
      "7\n"
     ],
     "output_type": "stream"
    },
    {
     "data": {
      "text/plain": "<Figure size 432x288 with 1 Axes>",
      "image/png": "[encoded data removed]"
     },
     "metadata": {
      "needs_background": "light"
     },
     "output_type": "display_data"
    }
   ]
  },
  {
   "cell_type": "markdown",
   "source": [
    "Wie man hier sehen kann ist es schwierig zu sagen ob das dritte Bild eine eins oder eine sieben ist. Da sich der\n",
    "Algorithmus an der Distanz zwischen den Bildern orientiert (einfach gesagt die Anzahl der Pixel zwischen zwei\n",
    "Bildern die unterschiedlich sind) kann es passieren, dass zwei Bilder die zwar verschiedene Zahlen sind, sehr ähnlich\n",
    "sind (Bild 1 und 3). Und andere Bilder, die zwar die selbe Zahl sind, sind sehr verschieden (Bild 1 und 2).\n",
    "\n",
    "Das liegt daran, dass die Art und Weise wie Zahlen geschrieben werden stark variiert. Die Algorithmen KNN und K-Means\n",
    "orientieren sich nicht an Muster oder der Art und Weise wie die Zahlen geschrieben werden sondern nur an den Bildern\n",
    "beziehungsweise nur an den einzelnen Pixelwerten (keine zusammenhängenden Flächen) und sind dadurch sehr\n",
    "eingeschränkt in ihrer Möglichkeit die Bilder richtig zuzuordnen.\n",
    "\n",
    "Würde man berücksichtigen wie die Zahlen geschrieben wurden, indem man die Vektoren (Striche) mit denen die Zahlen\n",
    "geschrieben wurden oder zumindest die Zusammenhängendne Flächen, könnte man bessere Muster erkennen. Beispielsweise,\n",
    "dass der Strich am unterem Ende der Zahl ein Anzeichen für eine eins ist und ein Strich in der Mitte der Zahl ein\n",
    "Anzeichen für eine sieben."
   ],
   "metadata": {
    "collapsed": false,
    "pycharm": {
     "name": "#%% md\n"
    }
   }
  },
  {
   "cell_type": "markdown",
   "source": [
    "# E KNN and K-Means CIFAR\n",
    "\n",
    "### Laden, Splitten und Samplen der Daten"
   ],
   "metadata": {
    "collapsed": false,
    "pycharm": {
     "name": "#%% md\n"
    }
   }
  },
  {
   "cell_type": "code",
   "execution_count": 18,
   "outputs": [],
   "source": [
    "cifar = datasets.cifar10.load_data()\n",
    "\n",
    "n_train = 1000\n",
    "n_test = 100\n",
    "\n",
    "train = cifar[0]\n",
    "test = cifar[1]\n",
    "\n",
    "X_train = train[0]\n",
    "Y_train = train[1]\n",
    "\n",
    "X_test = test[0]\n",
    "Y_test = test[1]"
   ],
   "metadata": {
    "collapsed": false,
    "pycharm": {
     "name": "#%%\n",
     "is_executing": false
    }
   }
  },
  {
   "cell_type": "code",
   "execution_count": 19,
   "outputs": [],
   "source": [
    "idx = np.random.randint(X_train.shape[0], size=n_train)\n",
    "X_train_sample = X_train[idx]\n",
    "Y_train_sample = Y_train[idx]"
   ],
   "metadata": {
    "collapsed": false,
    "pycharm": {
     "name": "#%%\n",
     "is_executing": false
    }
   }
  },
  {
   "cell_type": "code",
   "execution_count": 20,
   "outputs": [],
   "source": [
    "idx = np.random.randint(X_test.shape[0], size=n_test)\n",
    "X_test_sample = X_test[idx]\n",
    "Y_test_sample = Y_test[idx]"
   ],
   "metadata": {
    "collapsed": false,
    "pycharm": {
     "name": "#%%\n",
     "is_executing": false
    }
   }
  },
  {
   "cell_type": "markdown",
   "source": [
    "### Bilder in Graustufen konvertieren "
   ],
   "metadata": {
    "collapsed": false,
    "pycharm": {
     "name": "#%% md\n"
    }
   }
  },
  {
   "cell_type": "code",
   "execution_count": 21,
   "outputs": [],
   "source": [
    "X_train_sample = ski.color.rgb2gray(X_train_sample)\n",
    "X_test_sample = ski.color.rgb2gray(X_test_sample)"
   ],
   "metadata": {
    "collapsed": false,
    "pycharm": {
     "name": "#%%\n",
     "is_executing": false
    }
   }
  },
  {
   "cell_type": "markdown",
   "source": [
    "### Samples nehmen"
   ],
   "metadata": {
    "collapsed": false,
    "pycharm": {
     "name": "#%% md\n"
    }
   }
  },
  {
   "cell_type": "code",
   "execution_count": 22,
   "outputs": [],
   "source": [
    "X_train_sample = X_train_sample.reshape((X_train_sample.shape[0], X_train_sample.shape[1]**2))\n",
    "X_test_sample = X_test_sample.reshape((X_test_sample.shape[0], X_test_sample.shape[1]**2))"
   ],
   "metadata": {
    "collapsed": false,
    "pycharm": {
     "name": "#%%\n",
     "is_executing": false
    }
   }
  },
  {
   "cell_type": "markdown",
   "source": [
    "remove last dimension from Y (where ever that comes from)"
   ],
   "metadata": {
    "collapsed": false,
    "pycharm": {
     "name": "#%% md\n",
     "is_executing": false
    }
   }
  },
  {
   "cell_type": "code",
   "execution_count": 23,
   "outputs": [],
   "source": [
    "Y_train_sample = Y_train_sample[:,0]\n",
    "Y_test_sample = Y_test_sample[:,0]"
   ],
   "metadata": {
    "collapsed": false,
    "pycharm": {
     "name": "#%%\n",
     "is_executing": false
    }
   }
  },
  {
   "cell_type": "markdown",
   "source": [
    "### KNN mit CIFAR10 für k = 2, 4, 8"
   ],
   "metadata": {
    "collapsed": false,
    "pycharm": {
     "name": "#%% md\n"
    }
   }
  },
  {
   "cell_type": "code",
   "execution_count": 24,
   "outputs": [
    {
     "name": "stdout",
     "text": [
      "\n\nk = 2\nFehlerrate: 79%\nFehlerrate nach Label (Fehler/Total):\n0: 5/8 -> 62%\n1: 16/19 -> 84%\n2: 6/7 -> 85%\n3: 4/5 -> 80%\n4: 10/11 -> 90%\n5: 12/12 -> 100%\n6: 8/10 -> 80%\n7: 9/10 -> 90%\n8: 2/11 -> 18%\n9: 7/7 -> 100%\n\n\nk = 4\n",
      "Fehlerrate: 79%\nFehlerrate nach Label (Fehler/Total):\n0: 5/6 -> 83%\n1: 16/19 -> 84%\n2: 5/6 -> 83%\n3: 4/6 -> 66%\n4: 11/12 -> 91%\n5: 12/13 -> 92%\n6: 7/10 -> 70%\n7: 9/10 -> 90%\n8: 2/10 -> 20%\n9: 8/8 -> 100%\n\n\nk = 8\nFehlerrate: 75%\nFehlerrate nach Label (Fehler/Total):\n0: 4/6 -> 66%\n1: 16/19 -> 84%\n2: 5/9 -> 55%\n3: 5/7 -> 71%\n4: 8/8 -> 100%\n5: 10/12 -> 83%\n6: 7/9 -> 77%\n7: 9/10 -> 90%\n8: 2/11 -> 18%\n9: 9/9 -> 100%\n"
     ],
     "output_type": "stream"
    }
   ],
   "source": [
    "for k in [2, 4, 8]:\n",
    "    print(\"\\n\\nk = {}\".format(k))\n",
    "    do_knn(X_train_sample, Y_train_sample, X_test_sample, Y_test_sample, k)"
   ],
   "metadata": {
    "collapsed": false,
    "pycharm": {
     "name": "#%%\n",
     "is_executing": false
    }
   }
  },
  {
   "cell_type": "markdown",
   "source": [
    "### KMeans mit CIFAR10 für k = 10 and n = 10, 100, 1000"
   ],
   "metadata": {
    "collapsed": false,
    "pycharm": {
     "name": "#%% md\n"
    }
   }
  },
  {
   "cell_type": "code",
   "execution_count": 25,
   "outputs": [
    {
     "name": "stdout",
     "text": [
      "\n\nn = 10\n",
      "cluster:",
      " 0 majority: 9 percentage 24\ncluster: 1 majority: 8 percentage 34\ncluster: 2 majority: 5 percentage 18\ncluster: 3 majority: 6 percentage 19\ncluster: 4 majority: 2 percentage 15\ncluster: 5 majority: 2 percentage 16\ncluster: 6 majority: 1 percentage 100\ncluster: 7 majority: 7 percentage 24\ncluster: 8 majority: 0 percentage 26\ncluster: 9 majority: 2 percentage 19\n\n3 did not get it's own cluster\n4 did not get it's own cluster\n\n\nn = 100\n",
      "cluster: 0 majority: 8 percentage 36\ncluster: 1 majority: 6 percentage 16\ncluster: 2 majority: 2 percentage 19\ncluster: 3 majority: 0 percentage 26\ncluster: 4 majority: 6 percentage 18\ncluster: 5 majority: 2 percentage 17\ncluster: 6 majority: 9 percentage 25\ncluster: 7 majority: 8 percentage 17\ncluster: 8 majority: 7 percentage 33\ncluster: 9 majority: 3 percentage 17\n\n1 did not get it's own cluster\n4 did not get it's own cluster\n5 did not get it's own cluster\n\n\nn = 1000\n",
      "cluster: 0 majority: 9 percentage 20\ncluster: 1 majority: 3 percentage 14\ncluster: 2 majority: 8 percentage 33\ncluster: 3 majority: 6 percentage 19\ncluster: 4 majority: 2 percentage 19\ncluster: 5 majority: 0 percentage 34\ncluster: 6 majority: 6 percentage 17\ncluster: 7 majority: 5 percentage 18\ncluster: 8 majority: 2 percentage 19\ncluster: 9 majority: 9 percentage 25\n\n1 did not get it's own cluster\n4 did not get it's own cluster\n7 did not get it's own cluster\n"
     ],
     "output_type": "stream"
    }
   ],
   "source": [
    "for n in [10, 100, 1000]:\n",
    "    print(\"\\n\\nn = {}\".format(n))\n",
    "    do_kmeans(n, 10, X_train_sample, Y_train_sample)"
   ],
   "metadata": {
    "collapsed": false,
    "pycharm": {
     "name": "#%%\n",
     "is_executing": false
    }
   }
  },
  {
   "cell_type": "markdown",
   "source": [
    "Wie man an den Ergebnissen sehen kann funktionieren KNN und KMeans praktisch garnicht. Die Fehlerraten bei KNN sind um\n",
    "die 80% (90% wäre der Erwartungswert wenn man rät) und bei K-Means liegen die Anteile der häufisten Zahlen teilweise\n",
    "nur knapp über 10% (10% wäre der Erwartungswert bei einer Zufallsverteilung).  \n",
    "Das liegt vermutlich daran, dass durch das Zusammenfassen der Farbwerte in Graustufen viele Informationen verloren\n",
    "gehen, denn einem Grauwert kann man immer mehrere verschiedene Farbwerte zuordnen und der Algorithmus basiert auf den\n",
    "Abständen zwischen den Werten."
   ],
   "metadata": {
    "collapsed": false,
    "pycharm": {
     "name": "#%% md\n"
    }
   }
  },
  {
   "cell_type": "markdown",
   "source": [
    "# F Linear Regression Boston"
   ],
   "metadata": {
    "collapsed": false,
    "pycharm": {
     "name": "#%% md\n"
    }
   }
  },
  {
   "cell_type": "code",
   "execution_count": 26,
   "outputs": [],
   "source": [
    "boston = datasets.boston_housing.load_data()\n",
    "\n",
    "train = boston[0]\n",
    "test = boston[1]\n",
    "\n",
    "X_train = train[0]\n",
    "Y_train = train[1]\n",
    "\n",
    "X_test = test[0]\n",
    "Y_test = test[1]"
   ],
   "metadata": {
    "collapsed": false,
    "pycharm": {
     "name": "#%%\n",
     "is_executing": false
    }
   }
  },
  {
   "cell_type": "code",
   "execution_count": 27,
   "outputs": [
    {
     "data": {
      "text/plain": "<Figure size 1080x576 with 2 Axes>",
      "image/png": "[encoded data removed]"
     },
     "metadata": {
      "needs_background": "light"
     },
     "output_type": "display_data"
    }
   ],
   "source": [
    "c = [\"crim\", \"zn\", \"indus\", \"chas\", \"nox\", \"rm\", \"age\", \"dis\", \"rad\", \"tax\", \"ptratio\", \"black\", \"lstat\", 'medv']\n",
    "boston = pd.DataFrame({c: X_train[:, i] for i, c in enumerate(c[:-1])})\n",
    "boston[c[-1]] = Y_train\n",
    "\n",
    "plt.rcParams['figure.figsize'] = [15, 8]\n",
    "\n",
    "correlation_matrix = boston.corr().round(2)\n",
    "_ = sns.heatmap(data=correlation_matrix, annot=True)"
   ],
   "metadata": {
    "collapsed": false,
    "pycharm": {
     "name": "#%%\n",
     "is_executing": false
    }
   }
  },
  {
   "cell_type": "markdown",
   "source": [
    "Diese Heatmap zeit uns sehr deutlich, dass die Faktoren, die den Preis am stärksten beeinflussen, die Anzahl an Räumen\n",
    "und der Prozentsatz der Menschen die einen niedriegeren Satus haben.  \n",
    "Man kann auch klar erkennen, dass 'chas' ein dummy-Wert ist, der nicht mit dem eigentlichen Datensatz zu tun hat, da\n",
    "er zu keinem adneren Wert eine nennenswerte Korrelation aufzeigt.  "
   ],
   "metadata": {
    "collapsed": false,
    "pycharm": {
     "name": "#%% md\n"
    }
   }
  },
  {
   "cell_type": "markdown",
   "source": [
    "### Trainieren des Modells"
   ],
   "metadata": {
    "collapsed": false,
    "pycharm": {
     "name": "#%% md\n"
    }
   }
  },
  {
   "cell_type": "code",
   "execution_count": 28,
   "outputs": [],
   "source": [
    "lin_model = LinearRegression(fit_intercept=True, normalize=False)\n",
    "_ = lin_model.fit(X_train, Y_train)"
   ],
   "metadata": {
    "collapsed": false,
    "pycharm": {
     "name": "#%%\n",
     "is_executing": false
    }
   }
  },
  {
   "cell_type": "markdown",
   "source": [
    "### Validierung anhand der Testdaten"
   ],
   "metadata": {
    "collapsed": false,
    "pycharm": {
     "name": "#%% md\n"
    }
   }
  },
  {
   "cell_type": "code",
   "execution_count": 29,
   "outputs": [
    {
     "name": "stdout",
     "text": [
      "RMSE: 4.82 * 1.000$\n"
     ],
     "output_type": "stream"
    }
   ],
   "source": [
    "y_test_predict = lin_model.predict(X_test)\n",
    "rmse = (np.sqrt(mean_squared_error(Y_test, y_test_predict)))\n",
    "\n",
    "print('RMSE: {} * {}'.format(round(rmse, 2), \"1.000$\"))"
   ],
   "metadata": {
    "collapsed": false,
    "pycharm": {
     "name": "#%%\n",
     "is_executing": false
    }
   }
  },
  {
   "cell_type": "markdown",
   "source": [
    "Der RMSE (Root of Mean Squared Error) ist mit 4.82 (= 4820$ durchschnittliche Abweichung) relativ gering."
   ],
   "metadata": {
    "collapsed": false,
    "pycharm": {
     "name": "#%% md\n"
    }
   }
  },
  {
   "cell_type": "markdown",
   "source": [
    "# G Logistic Regression MNIST\n",
    "\n",
    "### Daten aufteilen"
   ],
   "metadata": {
    "collapsed": false,
    "pycharm": {
     "name": "#%% md\n"
    }
   }
  },
  {
   "cell_type": "code",
   "execution_count": 30,
   "outputs": [],
   "source": [
    "train = mnist[0]\n",
    "test = mnist[1]\n",
    "\n",
    "X_train = train[0]\n",
    "Y_train = train[1]\n",
    "\n",
    "X_test = test[0]\n",
    "Y_test = test[1]\n",
    "\n",
    "X_train = X_train.reshape((X_train.shape[0], X_train.shape[1]**2))\n",
    "X_test = X_test.reshape((X_test.shape[0], X_test.shape[1]**2))"
   ],
   "metadata": {
    "collapsed": false,
    "pycharm": {
     "name": "#%%\n",
     "is_executing": false
    }
   }
  },
  {
   "cell_type": "markdown",
   "source": [
    "### Samples nehmen"
   ],
   "metadata": {
    "collapsed": false,
    "pycharm": {
     "name": "#%% md\n",
     "is_executing": false
    }
   }
  },
  {
   "cell_type": "code",
   "execution_count": 31,
   "outputs": [],
   "source": [
    "idx = np.random.randint(X_train.shape[0], size=3000)\n",
    "X_train_sample = X_train[idx]\n",
    "Y_train_sample = Y_train[idx]\n",
    "\n",
    "idx = np.random.randint(X_test.shape[0], size=100)\n",
    "X_test_sample = X_test[idx]\n",
    "Y_test_sample = Y_test[idx]"
   ],
   "metadata": {
    "collapsed": false,
    "pycharm": {
     "name": "#%%\n",
     "is_executing": false
    }
   }
  },
  {
   "cell_type": "markdown",
   "source": [
    "### Modell trainieren"
   ],
   "metadata": {
    "collapsed": false,
    "pycharm": {
     "name": "#%% md\n"
    }
   }
  },
  {
   "cell_type": "code",
   "execution_count": 32,
   "outputs": [],
   "source": [
    "lr = LogisticRegression(multi_class='auto', solver='liblinear')\n",
    "_ = lr.fit(X_train_sample, Y_train_sample)"
   ],
   "metadata": {
    "collapsed": false,
    "pycharm": {
     "name": "#%%\n",
     "is_executing": false
    }
   }
  },
  {
   "cell_type": "markdown",
   "source": [
    "### Testdaten berechnen lassen"
   ],
   "metadata": {
    "collapsed": false,
    "pycharm": {
     "name": "#%% md\n"
    }
   }
  },
  {
   "cell_type": "code",
   "execution_count": 33,
   "outputs": [],
   "source": [
    "Y_test_sample_predicted = lr.predict(X_test_sample)"
   ],
   "metadata": {
    "collapsed": false,
    "pycharm": {
     "name": "#%%\n",
     "is_executing": false
    }
   }
  },
  {
   "cell_type": "markdown",
   "source": [
    "### Ergebnis validieren"
   ],
   "metadata": {
    "collapsed": false,
    "pycharm": {
     "name": "#%% md\n",
     "is_executing": false
    }
   }
  },
  {
   "cell_type": "code",
   "execution_count": null,
   "outputs": [],
   "source": [
    "total = {0: 0, 1: 0, 2: 0, 3: 0, 4: 0, 5: 0, 6: 0, 7: 0, 8: 0, 9: 0}\n",
    "error = {0: 0, 1: 0, 2: 0, 3: 0, 4: 0, 5: 0, 6: 0, 7: 0, 8: 0, 9: 0}\n",
    "\n",
    "for idx in range(len(Y_test_sample_predicted)):\n",
    "    if Y_test_sample_predicted[idx] == Y_test_sample[idx]:\n",
    "        total[Y_test_sample[idx]] += 1\n",
    "    else:\n",
    "        total[Y_test_sample[idx]] += 1\n",
    "        error[Y_test_sample[idx]] += 1\n",
    "\n",
    "print(\"Fehlerrate: {}%\\n\".format(int(sum(error.values()) / sum(total.values()) * 100)))\n",
    "\n",
    "print(\"(error/total)\")\n",
    "for num in total.keys():\n",
    "    print(\"label {}: {}/{} -> {}%\".format(num, error[num], total[num], int(error[num] / total[num] * 100)))"
   ],
   "metadata": {
    "collapsed": false,
    "pycharm": {
     "name": "#%%\n"
    }
   }
  },
  {
   "cell_type": "markdown",
   "source": [
    "Auch hier gilt ähnlich wie bei KNN/K-Means, dass die Informationen die verwendet werden nur die einzelnen Pixel sind.\n",
    "Der Algorithmus kann keine Zusammenhängenden Bereiche oder Linien erkennen die einen Hinweis auf die Form der Ziffer\n",
    "geben könnten. Dementsprechend kann er die Ziffer wenn sie nur leicht rotiert oder versetzt ist nicht mehr richtig\n",
    "erkennen. Die Logistic Regression hat aber den Vorteil, dass sie gewissen Pixeln eine höhere Bedeutung zuweisen kann\n",
    "auch wenn das hier in dem Fall keine Hilfe ist, da die Fehlerrate höher ist. "
   ],
   "metadata": {
    "collapsed": false,
    "pycharm": {
     "name": "#%% md\n"
    }
   }
  },
  {
   "cell_type": "markdown",
   "source": [
    "# H Feedback\n",
    "\n",
    "### Wie viel Zeit habt ihr für das Assignment aufgewendet und wie oft habt ihr euch getroffen?\n",
    "Max: 16  \n",
    "Arne: 15  \n",
    "Getroffen: 3x\n",
    "### Habt ihr Google CoLab oder Anaconda verwendet?  \n",
    "Nein, die Performance Anforderungen waren nicht sehr hoch.  \n",
    "Jein, einmal ja (Arne) und einmal nein (Max: eine normale Python-Installation mit pip als Paketverwaltung und\n",
    "PyCharm als IDE)\n",
    "### Was war eure Lieblingsaufgabe? Warum?  \n",
    "E, wenn man bei den ersten Aufgaben alles schön in Funktionen gefasst hatte, konnte man den Code einfach reusen.\n",
    "### Was war die Aufgabe, die euch am wenigsten gefallen hat? Warum?\n",
    "C, um genau die Anforderungen an die Lösung zu erfüllen haben wir keine passende Library gefunden und mussten viel von\n",
    "Hand machen auch wenn man sich später als Entwickler nicht hinsetzen wird und K-Means selber programmieren würde.\n",
    "### Sonstiges Feedback:  \n",
    "Die Erklärung des theoretischen Hintergrunds der Algorithmen, die wir für die Aufgaben benötigt haben, war sehr gut.\n",
    "\n",
    "Jedoch wurde der technische Teil nur unzureichend erklärt, was dazu geführt hat, dass man den gegebenen Code kopiert und\n",
    "nur die Ausgabe leicht modifiziert hat.\n",
    "\n",
    "Studenten, die keine Erfahrung mit Python haben, hatten keine Chance, sich mit dem Thema Machine Learning an sich zu\n",
    "beschäftigen, da die Einführung in Python/Anaconda/Paketverwaltung zu viel Zeit in Anspruch genommen hat.\n",
    "\n",
    "Ich (Max) hatte das Glück bereits über Vorkenntnisse in Python zu verfügen, konnte mir allerdings nicht komplett\n",
    "erschließen wie die Funktionen, die wir verwendet haben, tatsächlich funktionieren.  \n",
    "Für mich (Arne) lag das Hauptaugenmerk darauf ein grundlegendes Verständnis zu erlangen und Python Basics zu lernen."
   ],
   "metadata": {
    "collapsed": false,
    "pycharm": {
     "name": "#%% md\n"
    }
   }
  }
 ],
 "metadata": {
  "kernelspec": {
   "display_name": "Python 3",
   "language": "python",
   "name": "python3"
  },
  "language_info": {
   "codemirror_mode": {
    "name": "ipython",
    "version": 3
   },
   "file_extension": ".py",
   "mimetype": "text/x-python",
   "name": "python",
   "nbconvert_exporter": "python",
   "pygments_lexer": "ipython3",
   "version": "3.7.2"
  },
  "pycharm": {
   "stem_cell": {
    "cell_type": "raw",
    "source": [],
    "metadata": {
     "collapsed": false
    }
   }
  }
 },
 "nbformat": 4,
 "nbformat_minor": 1
}