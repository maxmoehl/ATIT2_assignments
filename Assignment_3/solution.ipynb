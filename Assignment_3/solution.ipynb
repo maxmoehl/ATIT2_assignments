{
 "cells": [
  {
   "cell_type": "code",
   "execution_count": 1,
   "metadata": {
    "pycharm": {
     "is_executing": false
    }
   },
   "outputs": [
    {
     "name": "stderr",
     "text": [
      "Using TensorFlow backend.\n"
     ],
     "output_type": "stream"
    }
   ],
   "source": [
    "import keras\n",
    "import numpy as np\n",
    "import matplotlib.pyplot as plt"
   ]
  },
  {
   "cell_type": "code",
   "execution_count": 2,
   "metadata": {
    "pycharm": {
     "is_executing": false,
     "name": "#%%\n"
    }
   },
   "outputs": [],
   "source": [
    "# function to display progress\n",
    "\n",
    "def print_progress(org_percentage):\n",
    "    percentage = int(org_percentage / 2)\n",
    "    if percentage < 1:\n",
    "        print(\"[{}]\".format(\" \" * 50), end=\"\")\n",
    "    elif 0 < percentage < 50:\n",
    "        print(\"\\r[{}] {}/100\".format(\"=\" * (percentage - 1) + \">\" + \" \" * (50 - percentage), org_percentage), end=\"\")\n",
    "    else:\n",
    "        print(\"\\r[{}] 100/100\".format(\"=\" * 50))"
   ]
  },
  {
   "cell_type": "markdown",
   "metadata": {},
   "source": [
    "# A\n",
    "\n",
    "## Lösungsansatz\n",
    "Um festzustellen welches Bild zu welchem Modell gehört, schauen wir uns an wie gut die beiden Modelle im Vergleich bei\n",
    "jedem einzelnem Bild performen, denn wenn eins der Modelle das Bild zum trainieren verwendet hat ist es wahrscheinlich,\n",
    "dass es das Bild richtig mit einer höheren Confidence vorhersagt als das andere.\n",
    "\n",
    "Um einen Vergleichswert zu haben laden wir das MNIST Datenset und suchen die original Labels.\n",
    "\n",
    "## Bilder, Modelle und MNIST Set laden"
   ]
  },
  {
   "cell_type": "code",
   "execution_count": 3,
   "metadata": {
    "pycharm": {
     "is_executing": false,
     "name": "#%%\n"
    }
   },
   "outputs": [],
   "source": [
    "images = np.load(\"samples.npy\")\n",
    "\n",
    "model_one = keras.models.load_model(\"model1.hdf5\")\n",
    "model_two = keras.models.load_model(\"model2.hdf5\")\n",
    "\n",
    "# train/test ist egal\n",
    "(X_train, Y_train), (X_test, Y_test) = keras.datasets.mnist.load_data()\n",
    "X = np.concatenate([X_train, X_test])\n",
    "Y = np.concatenate([Y_train, Y_test])"
   ]
  },
  {
   "cell_type": "markdown",
   "metadata": {
    "pycharm": {
     "name": "#%% md\n"
    }
   },
   "source": [
    "## Original Labels aus dem MNIST Datenset extrahieren\n",
    "Zuerst formatieren wir die Bilder aus der Datei etwas, damit wir sie mit den Bildern aus dem MNIST Datenset vergleichen\n",
    "können:\n",
    "* entfernen der letzten Dimension\n",
    "* mit 255 multiplizieren und zu `int` konvertieren\n",
    "\n",
    "Danach vergleichen wir den Array aus Pixeln mit jedem Bild aus dem MNIST-Datenset."
   ]
  },
  {
   "cell_type": "code",
   "execution_count": 4,
   "metadata": {
    "pycharm": {
     "is_executing": false,
     "name": "#%%\n"
    }
   },
   "outputs": [
    {
     "name": "stdout",
     "text": [
      "Labeling Images...\n",
      "[==================================================] 100/100                                           ]\n",
      "Done!\n"
     ],
     "output_type": "stream"
    }
   ],
   "source": [
    "images_flat = (images[:, :, :, 0] * 255).astype(int)\n",
    "\n",
    "data = []\n",
    "\n",
    "print(\"Labeling Images...\")\n",
    "progress = 0\n",
    "\n",
    "for image in images_flat:\n",
    "    print_progress(progress)\n",
    "    found = False\n",
    "    idx = 0\n",
    "    for x in X:\n",
    "        if np.array_equal(image, x):\n",
    "            found = True\n",
    "            data.append({\n",
    "                \"label\": Y[idx],\n",
    "                \"image\": image\n",
    "            })\n",
    "            continue\n",
    "        idx += 1\n",
    "    if not found:\n",
    "        raise ValueError(\"Could not determine Label of Image\")\n",
    "    progress += 1\n",
    "\n",
    "print_progress(progress)\n",
    "print(\"Done!\")\n",
    "\n",
    "for i in range(len(data)):\n",
    "    data[i][\"id\"] = i"
   ]
  },
  {
   "cell_type": "markdown",
   "metadata": {
    "pycharm": {
     "name": "#%% md\n"
    }
   },
   "source": [
    "## Beide Modelle alle Bilder vorhersagen lassen"
   ]
  },
  {
   "cell_type": "code",
   "execution_count": 5,
   "metadata": {
    "pycharm": {
     "is_executing": false,
     "name": "#%%\n"
    }
   },
   "outputs": [],
   "source": [
    "res_model_one = model_one.predict(images)\n",
    "res_model_two = model_two.predict(images)"
   ]
  },
  {
   "cell_type": "markdown",
   "metadata": {
    "pycharm": {
     "name": "#%% md\n"
    }
   },
   "source": [
    "## Validierung der Vorhersagen\n",
    "Um eine erste Einteilung vorzunehmen, wenden wir folgende Regeln an:\n",
    "* Wenn nur eines von beiden Modellen die Zahl richtig vorhergesagt markieren wir das Bild mit `key=1/2` (und\n",
    "`model=1/2)`für das jeweilige Modell und speichern den Score des Modells\n",
    "* Wenn beide das Bild richtig vorhergesagt haben wird das Bild mit `key=b` für both gekennzeichnet und die scores werden\n",
    "gespeichert\n",
    "  * Zusätzlich wird das bild mit `model=1/2` markiert, je nach dem welches Bild den besseren Score hat\n",
    "  * Falls beide gleich gut sind wird das Bild mit `model=e` für equal markiert\n",
    "* Wenn beide Modelle eine falsche Vorhersage gemacht haben wird das Bild mit `key=n` für none markiert\n",
    "* Zusätzlich speichern wir das Modell das bei einem Bild am besten war in `result` allerdings werden wir dieses Feld\n",
    "später noch modifizieren um auf genau 50/50 zu kommen"
   ]
  },
  {
   "cell_type": "code",
   "execution_count": 6,
   "metadata": {
    "pycharm": {
     "is_executing": false,
     "name": "#%%\n"
    }
   },
   "outputs": [],
   "source": [
    "\"\"\"\n",
    "Data-Structure:\n",
    "{\n",
    "    key:       indicates which model got it right (b: both, n: none, 1, 2)\n",
    "    model:     indicates which model performed best (e: equal, 1, 2)\n",
    "    label:     contains the label extracted from the MNIST dataset\n",
    "    image:     contains the image data\n",
    "    model_one: score for model one -> None if the prediction was wrong\n",
    "    model_two: score for model two -> None if the prediction was wrong\n",
    "    result:    contains the final result -> will be modified later on\n",
    "}\n",
    "\"\"\"\n",
    "\n",
    "for idx in range(len(images)):\n",
    "    # Ergebnisse der Größe nach aufsteigend sortieren und den letzten Index nehmen \n",
    "    one_val_idx = np.argsort(res_model_one[idx])[len(res_model_one[idx]) - 1]\n",
    "    two_val_idx = np.argsort(res_model_two[idx])[len(res_model_two[idx]) - 1]\n",
    "    data_point = {\n",
    "        \"key\": \"n\",\n",
    "        \"model\": None,\n",
    "        \"model_one\": None,\n",
    "        \"model_two\": None,\n",
    "    }\n",
    "    if one_val_idx != data[idx][\"label\"] and two_val_idx != data[idx][\"label\"]:\n",
    "        data_point[\"key\"] = \"n\"\n",
    "    elif one_val_idx == data[idx][\"label\"] != two_val_idx:\n",
    "        data_point[\"key\"] = 1\n",
    "        data_point[\"result\"] = 1\n",
    "        data_point[\"model\"] = 1\n",
    "        data_point[\"model_one\"] = res_model_one[idx][one_val_idx]\n",
    "    elif two_val_idx == data[idx][\"label\"] != one_val_idx:\n",
    "        data_point[\"key\"] = 2\n",
    "        data_point[\"result\"] = 2\n",
    "        data_point[\"model\"] = 2\n",
    "        data_point[\"model_two\"] = res_model_two[idx][two_val_idx]\n",
    "    elif res_model_one[idx][one_val_idx] == res_model_two[idx][two_val_idx]:\n",
    "        data_point[\"key\"] = \"b\"\n",
    "        data_point[\"model\"] = \"e\"\n",
    "        data_point[\"model_one\"] = res_model_one[idx][one_val_idx]\n",
    "        data_point[\"model_two\"] = res_model_two[idx][two_val_idx]\n",
    "    else:\n",
    "        data_point[\"key\"] = \"b\"\n",
    "        data_point[\"model\"] = 1 if res_model_one[idx][one_val_idx] > res_model_two[idx][two_val_idx] else 2\n",
    "        data_point[\"result\"] = 1 if res_model_one[idx][one_val_idx] > res_model_two[idx][two_val_idx] else 2\n",
    "        data_point[\"model_one\"] = res_model_one[idx][one_val_idx]\n",
    "        data_point[\"model_two\"] = res_model_two[idx][two_val_idx]\n",
    "    data[idx] = {**data[idx], **data_point}"
   ]
  },
  {
   "cell_type": "markdown",
   "metadata": {
    "pycharm": {
     "name": "#%% md\n"
    }
   },
   "source": [
    "### Ergebnis der Vorhersage"
   ]
  },
  {
   "cell_type": "code",
   "execution_count": 7,
   "metadata": {
    "pycharm": {
     "is_executing": false,
     "name": "#%%\n"
    }
   },
   "outputs": [
    {
     "name": "stdout",
     "text": [
      "None: 0\n",
      "One: 7\n",
      "Two: 8\n",
      "Both: 85\n"
     ],
     "output_type": "stream"
    }
   ],
   "source": [
    "one = 0\n",
    "two = 0\n",
    "non = 0\n",
    "bth = 0\n",
    "\n",
    "for el in data:\n",
    "    if el[\"key\"] == 1:\n",
    "        one += 1\n",
    "    elif el[\"key\"] == 2:\n",
    "        two += 1\n",
    "    elif el[\"key\"] == \"n\":\n",
    "        non += 1\n",
    "    elif el[\"key\"] == \"b\":\n",
    "        bth += 1\n",
    "    else:\n",
    "        raise ValueError(\"Unkown key {}\".format(el[\"key\"]))\n",
    "\n",
    "print(\"None: {}\\nOne: {}\\nTwo: {}\\nBoth: {}\".format(non, one, two, bth))"
   ]
  },
  {
   "cell_type": "markdown",
   "metadata": {
    "pycharm": {
     "name": "#%% md\n"
    }
   },
   "source": [
    "Aufteilung auf Modell eins und zwei:"
   ]
  },
  {
   "cell_type": "code",
   "execution_count": 8,
   "metadata": {
    "pycharm": {
     "is_executing": false,
     "name": "#%%\n"
    }
   },
   "outputs": [
    {
     "name": "stdout",
     "text": [
      "One: 32\n",
      "Two: 68\n",
      "Equal: 0\n"
     ],
     "output_type": "stream"
    }
   ],
   "source": [
    "one = 0\n",
    "two = 0\n",
    "equ = 0\n",
    "\n",
    "for el in data:\n",
    "    if el[\"key\"] == 1:\n",
    "        one += 1\n",
    "    elif el[\"key\"] == 2:\n",
    "        two += 1\n",
    "    elif el[\"key\"] == \"b\":\n",
    "        if el[\"model\"] == 1:\n",
    "            one += 1\n",
    "        elif el[\"model\"] == 2:\n",
    "            two += 1\n",
    "        elif el[\"model\"] == \"e\":\n",
    "            equ += 1\n",
    "        else:\n",
    "            raise ValueError(\"Error\")\n",
    "    else:\n",
    "        raise ValueError(\"Error\")\n",
    "\n",
    "print(\"One: {}\\nTwo: {}\\nEqual: {}\".format(one, two, equ))"
   ]
  },
  {
   "cell_type": "code",
   "execution_count": 9,
   "outputs": [
    {
     "data": {
      "text/plain": "<Figure size 432x288 with 1 Axes>",
      "image/png": "[encoded data removed]"
     },
     "metadata": {
      "needs_background": "light"
     },
     "output_type": "display_data"
    }
   ],
   "source": [
    "plot_data = [el[\"model_one\"] - el[\"model_two\"] for el in data if el[\"key\"] == \"b\" and el[\"model\"] != \"e\"]\n",
    "plot_data.sort()\n",
    "plt.bar(range(len(plot_data)), plot_data, width=1)\n",
    "plt.ylabel(\"Difference in Accuracy\")\n",
    "plt.show()"
   ],
   "metadata": {
    "collapsed": false,
    "pycharm": {
     "name": "#%%\n",
     "is_executing": false
    }
   }
  },
  {
   "cell_type": "markdown",
   "metadata": {
    "pycharm": {
     "name": "#%% md\n"
    }
   },
   "source": [
    "## Auswertung \n",
    "Wie wir sehen können haben wir keine Bilder die von keinem Modell richtig vorhergesagt wurden und auch keine Bilder bei\n",
    "denen beide Modelle gleich gut performed haben. Einige Bilder wurden nur von jeweils einem Modell richtig vorhergesagt,\n",
    "diese Bilder ordnen wir direkt dem entsprechenden Modell zu.   \n",
    "Bei den restlichen Bildern ordnen wir das Bild dem Modell zu, dass das richtige Bild mit höherer Confidence\n",
    "vorhergesagt hat. \n",
    "Dadurch hat Modell 2 wesentlich mehr Bilder zugewiesen bekommen als Modell 1.  \n",
    "In dem Graphen kann man gut erkennen, dass es einige wenige Bilder gibt bei denen wir eine klare zuordnung\n",
    "machen können da die Differenz in der Confidence größer als 0.1 ist.\n",
    "\n",
    "Um die Aufteilung 50/50 zu erhalten, schauen wir jetzt welche Bilder von Modell eins zu Modell zwei umschichten können.\n",
    "\n",
    "Kriterien:\n",
    "1. Beide Modelle müssen das Bild richtig vorhergesagt haben\n",
    "*  Modell 2 muss das Bild mit einer höheren Confidence vorhergesagt haben als Modell 1\n",
    "*  Modell 1 muss das Bild mit möglichst viel Confidence vorhergesagt haben\n",
    "*  Modell 2 muss das Bild mit möglichst wenig Confidence vorhergesagt haben\n",
    "\n",
    "Um die optimalen Bilder zu finden, bilden wir für jedes Bild, das Kriterien 1 & 2 erfüllt, einen Score aus Kriterien\n",
    "3 & 4:  \n",
    "`Score = 1 - Model Two Confidence + Model One Confidence`  \n",
    "_Je niedriger die Confidence von Modell 2 desto höher der Score und je höher die Confidence von Modell 1 desto höher der\n",
    "Score (und jeweils umgekehrt)._  \n",
    "Danach wählen wir die 18 Bilder mit dem höchsten Score aus und ordnen sie dem ersten Modell zu."
   ]
  },
  {
   "cell_type": "code",
   "execution_count": 10,
   "metadata": {
    "pycharm": {
     "is_executing": false,
     "name": "#%%\n"
    }
   },
   "outputs": [],
   "source": [
    "for (i, el) in enumerate(data):\n",
    "    if el[\"key\"] != \"b\" or (el[\"key\"] == \"b\" and el[\"model_one\"] > el[\"model_two\"]):\n",
    "        continue\n",
    "    data[i][\"score\"] = 1 - el[\"model_two\"] + el[\"model_one\"]\n",
    "\n",
    "data.sort(key=lambda el: el[\"score\"] if \"score\" in el.keys() else 0, reverse=True)\n",
    "\n",
    "for i in range(18):\n",
    "    data[i][\"result\"] = 1\n",
    "\n",
    "# um die reihenfolge für das korrekte ergebnis zu bekommen sortieren wir die Liste wieder zurück\n",
    "data.sort(key=lambda el: el[\"id\"])"
   ]
  },
  {
   "cell_type": "markdown",
   "metadata": {
    "pycharm": {
     "name": "#%% md\n"
    }
   },
   "source": [
    "## Ergebnis"
   ]
  },
  {
   "cell_type": "code",
   "execution_count": 11,
   "metadata": {
    "pycharm": {
     "name": "#%%\n",
     "is_executing": false
    }
   },
   "outputs": [
    {
     "name": "stdout",
     "text": [
      "[2, 1, 2, 2, 2, 2, 1, 1, 1, 2, 2, 2, 1, 1, 1, 1, 2, 2, 1, 2, 1, 2, 2, 1, 2, 1, 1, 1, 2, 2, 1, 2, 1, 2, 1, 1, 2, 1, 2, 2, 2, 2, 2, 1, 1, 2, 2, 1, 2, 2, 1, 1, 2, 1, 1, 1, 1, 2, 2, 2, 2, 1, 1, 2, 2, 2, 1, 1, 2, 1, 1, 2, 2, 2, 2, 1, 2, 1, 1, 1, 2, 1, 1, 1, 1, 1, 1, 1, 2, 2, 2, 1, 2, 2, 1, 1, 1, 1, 2, 2]\n"
     ],
     "output_type": "stream"
    }
   ],
   "source": [
    "print([el[\"result\"] for el in data])"
   ]
  },
  {
   "cell_type": "markdown",
   "metadata": {
    "pycharm": {
     "name": "#%% md\n"
    }
   },
   "source": [
    "# B\n",
    "\n",
    "## Aufteilung der Labels auf die beiden Modelle vergleichen\n",
    "\n",
    "### Welches Modell hat von welchen Labels wie viele richtig/falsch vorhergesagt?"
   ]
  },
  {
   "cell_type": "code",
   "execution_count": 12,
   "metadata": {
    "pycharm": {
     "is_executing": false,
     "name": "#%%\n"
    }
   },
   "outputs": [],
   "source": [
    "# zählen wieviele jedes modell von jedem modell richtig und falsch hatte\n",
    "model_one_labels_right = [0, 0, 0, 0, 0, 0, 0, 0, 0, 0]\n",
    "model_one_labels_wrong = [0, 0, 0, 0, 0, 0, 0, 0, 0, 0]\n",
    "model_two_labels_right = [0, 0, 0, 0, 0, 0, 0, 0, 0, 0]\n",
    "model_two_labels_wrong = [0, 0, 0, 0, 0, 0, 0, 0, 0, 0]\n",
    "\n",
    "for el in data:\n",
    "    if el[\"key\"] == \"b\":\n",
    "        model_one_labels_right[el[\"label\"]] += 1\n",
    "        model_two_labels_right[el[\"label\"]] += 1\n",
    "    elif el[\"key\"] == 1:\n",
    "        model_one_labels_right[el[\"label\"]] += 1\n",
    "        model_two_labels_wrong[el[\"label\"]] -= 1\n",
    "    elif el[\"key\"] == 2:\n",
    "        model_two_labels_right[el[\"label\"]] += 1\n",
    "        model_one_labels_wrong[el[\"label\"]] -= 1\n",
    "\n",
    "# labels aus dem datenset lesen\n",
    "(labels, l_counts) = np.unique([el[\"label\"] for el in data], return_counts=True)\n",
    "\n",
    "# und in einheitliche Liste übertragen damit eventuell fehlende labels auf 0 gesetzt werden\n",
    "label_counts = [0, 0, 0, 0, 0, 0, 0, 0, 0, 0]\n",
    "\n",
    "# for (label, count) in labels:\n",
    "    # label_counts[label] = count\n",
    "\n",
    "for idx in range(len(labels)):\n",
    "    label_counts[labels[idx]] = l_counts[idx]\n",
    "\n",
    "# die gezählten werte in prozentzahlen umrechnen\n",
    "for idx in range(10):\n",
    "    if label_counts[idx] == 0:\n",
    "        continue\n",
    "    model_one_labels_right[idx] = model_one_labels_right[idx] / label_counts[idx]\n",
    "    model_one_labels_wrong[idx] = model_one_labels_wrong[idx] / label_counts[idx]\n",
    "    model_two_labels_right[idx] = model_two_labels_right[idx] / label_counts[idx]\n",
    "    model_two_labels_wrong[idx] = model_two_labels_wrong[idx] / label_counts[idx]\n",
    "\n",
    "bar_labels = range(10)"
   ]
  },
  {
   "cell_type": "markdown",
   "source": [
    "### Für Model Eins"
   ],
   "metadata": {
    "collapsed": false,
    "pycharm": {
     "name": "#%% md\n"
    }
   }
  },
  {
   "cell_type": "code",
   "execution_count": 13,
   "outputs": [
    {
     "data": {
      "text/plain": "<Figure size 432x288 with 1 Axes>",
      "image/png": "[encoded data removed]"
     },
     "metadata": {
      "needs_background": "light"
     },
     "output_type": "display_data"
    }
   ],
   "source": [
    "fig = plt.figure()\n",
    "ax = plt.subplot()\n",
    "ax.bar(bar_labels, model_one_labels_wrong, width=0.8, color='r')\n",
    "ax.bar(bar_labels, model_one_labels_right, width=0.8, color='b')\n",
    "\n",
    "plt.show()"
   ],
   "metadata": {
    "collapsed": false,
    "pycharm": {
     "name": "#%%\n",
     "is_executing": false
    }
   }
  },
  {
   "cell_type": "markdown",
   "source": [
    "### Für Modell 2"
   ],
   "metadata": {
    "collapsed": false,
    "pycharm": {
     "name": "#%% md\n"
    }
   }
  },
  {
   "cell_type": "code",
   "execution_count": 14,
   "outputs": [
    {
     "data": {
      "text/plain": "<Figure size 432x288 with 1 Axes>",
      "image/png": "[encoded data removed]"
     },
     "metadata": {
      "needs_background": "light"
     },
     "output_type": "display_data"
    }
   ],
   "source": [
    "fig = plt.figure()\n",
    "ax = plt.subplot()\n",
    "ax.bar(bar_labels, model_two_labels_wrong, width=0.8, color='r')\n",
    "ax.bar(bar_labels, model_two_labels_right, width=0.8, color='b')\n",
    "\n",
    "plt.show()"
   ],
   "metadata": {
    "collapsed": false,
    "pycharm": {
     "name": "#%%\n",
     "is_executing": false
    }
   }
  },
  {
   "cell_type": "markdown",
   "metadata": {
    "pycharm": {
     "name": "#%% md\n"
    }
   },
   "source": [
    "## Auswertung\n",
    "Wie man sehen kann, sind beide Modelle nahezu gleich gut auf den selben Bildern, vermutlich wurden beide Modelle auf\n",
    "ähnlich balancierten Datensets trainiert wurden. Es gibt keine extremen Ausfälle (nicht sehr viel falsche Vorhersagen).\n",
    "\n",
    "Modell 1 hat eine sehr ausgeglichene Verteilung, es erkennt fast alle Zahlen größtenteils richtig mit Ausnahme der\n",
    "Zahl 9.\n",
    "\n",
    "Modell 2 hat bei 1, 4 und 6 keine Fehler, vermutlich hatte das Modell im Trainingsset mehr von diesen Bildern.\n",
    "Besonders bei der drei treten vermehrt Fehler aus, vermutlich waren wenige dreier im Modell enthalten."
   ]
  },
  {
   "cell_type": "markdown",
   "metadata": {
    "pycharm": {
     "name": "#%% md\n"
    }
   },
   "source": [
    "# C\n",
    "\n",
    "### A\n",
    "Die Datensets auszugleichen ist nicht einfach zuerst habe ich probiert Bilder einzeln anzuschauen und so zuzuordnen,\n",
    "allerdings ist das nahezu unmöglich und auch nur bedingt begründbar, der Score war dann die einfachste und logischste\n",
    "Lösung.\n",
    "### B\n",
    "Es ist schwierig genaue Einblicke in die Daten zu erhalten wenn die einzige Grundlage eine grobe Einteilung ist die man\n",
    "selbst gemacht hat. Durch das anschauen verschiedener Auswertungen habe ich dann ein halbwegs klares Bild bekommen."
   ]
  }
 ],
 "metadata": {
  "kernelspec": {
   "display_name": "Python 3",
   "language": "python",
   "name": "python3"
  },
  "language_info": {
   "codemirror_mode": {
    "name": "ipython",
    "version": 3
   },
   "file_extension": ".py",
   "mimetype": "text/x-python",
   "name": "python",
   "nbconvert_exporter": "python",
   "pygments_lexer": "ipython3",
   "version": "3.7.2"
  },
  "pycharm": {
   "stem_cell": {
    "cell_type": "raw",
    "source": [],
    "metadata": {
     "collapsed": false
    }
   }
  }
 },
 "nbformat": 4,
 "nbformat_minor": 1
}