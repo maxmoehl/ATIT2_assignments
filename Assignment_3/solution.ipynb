{
 "cells": [
  {
   "cell_type": "code",
   "execution_count": 1,
   "metadata": {
    "collapsed": true,
    "pycharm": {
     "is_executing": false
    }
   },
   "outputs": [
    {
     "name": "stderr",
     "text": [
      "Using TensorFlow backend.\n"
     ],
     "output_type": "stream"
    }
   ],
   "source": [
    "import keras\n",
    "import numpy as np\n",
    "import matplotlib.pyplot as plt\n",
    "\n",
    "plt.gray()"
   ]
  },
  {
   "cell_type": "code",
   "execution_count": 2,
   "outputs": [],
   "source": [
    "# function to display progress\n",
    "\n",
    "def print_progress(org_percentage):\n",
    "    percentage = int(org_percentage / 2)\n",
    "    if percentage < 1:\n",
    "        print(\"[{}]\".format(\" \" * 50), end=\"\\r\")\n",
    "    elif 0 < percentage < 50:\n",
    "        print(\"[{}] {}/100\".format(\"=\" * (percentage - 1) + \">\" + \" \" * (50 - percentage), org_percentage), end=\"\\r\")\n",
    "    else:\n",
    "        print(\"[{}] 100/100\".format(\"=\" * 50))"
   ],
   "metadata": {
    "collapsed": false,
    "pycharm": {
     "name": "#%%\n",
     "is_executing": false
    }
   }
  },
  {
   "cell_type": "markdown",
   "source": [
    "# A\n",
    "\n",
    "## Lösungsansatz\n",
    "Um festzustellen welches Bild zu welchem Modell gehört, schauen wir uns an wie gut die beiden Modelle im Vergleich bei\n",
    "jedem einzelnem Bild performen, denn wenn eins der Modelle das Bild zum trainieren verwendet hat ist es wahrscheinlich,\n",
    "dass es das Bild richtig mit einer höheren Confidence vorhersagt als das andere.\n",
    "\n",
    "Um einen Vergleichswert zu haben laden wir das MNIST Datenset und suchen die original Labels.\n",
    "\n",
    "## Bilder, Modelle und MNIST Set laden"
   ],
   "metadata": {
    "collapsed": false
   }
  },
  {
   "cell_type": "code",
   "execution_count": 3,
   "outputs": [],
   "source": [
    "images = np.load(\"samples.npy\")\n",
    "\n",
    "model_one = keras.models.load_model(\"model1.hdf5\")\n",
    "model_two = keras.models.load_model(\"model2.hdf5\")\n",
    "\n",
    "# train/test ist egal\n",
    "(X_train, Y_train), (X_test, Y_test) = keras.datasets.mnist.load_data()\n",
    "X = np.concatenate([X_train, X_test])\n",
    "Y = np.concatenate([Y_train, Y_test])"
   ],
   "metadata": {
    "collapsed": false,
    "pycharm": {
     "name": "#%%\n",
     "is_executing": false
    }
   }
  },
  {
   "cell_type": "markdown",
   "source": [
    "## Original Labels aus dem MNIST Datenset extrahieren\n",
    "Zuerst formatieren wir die Bilder aus der Datei etwas, damit wir sie mit den Bildern aus dem MNIST Datenset vergleichen\n",
    "können:\n",
    "* entfernen der letzten Dimension\n",
    "* mit 255 multiplizieren und zu `int` konvertieren\n",
    "\n",
    "Danach vergleichen wir den Array aus Pixeln mit jedem Bild aus dem MNIST-Datenset."
   ],
   "metadata": {
    "collapsed": false,
    "pycharm": {
     "name": "#%% md\n"
    }
   }
  },
  {
   "cell_type": "code",
   "execution_count": 4,
   "outputs": [
    {
     "name": "stdout",
     "text": [
      "Labeling Images...\n",
      "[==================================================] 100/100\n",
      "Done!\n"
     ],
     "output_type": "stream"
    }
   ],
   "source": [
    "images_flat = (images[:, :, :, 0] * 255).astype(int)\n",
    "\n",
    "data = []\n",
    "\n",
    "print(\"Labeling Images...\")\n",
    "progress = 0\n",
    "\n",
    "for image in images_flat:\n",
    "    print_progress(progress)\n",
    "    found = False\n",
    "    idx = 0\n",
    "    for x in X:\n",
    "        if np.array_equal(image, x):\n",
    "            found = True\n",
    "            data.append({\n",
    "                \"label\": Y[idx],\n",
    "                \"image\": image\n",
    "            })\n",
    "            continue\n",
    "        idx += 1\n",
    "    if not found:\n",
    "        raise ValueError(\"Could not determine Label of Image\")\n",
    "    progress += 1\n",
    "\n",
    "print_progress(progress)\n",
    "print(\"Done!\")\n",
    "\n",
    "for i in range(len(data)):\n",
    "    data[i][\"id\"] = i"
   ],
   "metadata": {
    "collapsed": false,
    "pycharm": {
     "name": "#%%\n",
     "is_executing": false
    }
   }
  },
  {
   "cell_type": "markdown",
   "source": [
    "## Beide Modelle alle Bilder vorhersagen lassen"
   ],
   "metadata": {
    "collapsed": false,
    "pycharm": {
     "name": "#%% md\n"
    }
   }
  },
  {
   "cell_type": "code",
   "execution_count": 5,
   "outputs": [],
   "source": [
    "res_model_one = model_one.predict(images)\n",
    "res_model_two = model_two.predict(images)"
   ],
   "metadata": {
    "collapsed": false,
    "pycharm": {
     "name": "#%%\n",
     "is_executing": false
    }
   }
  },
  {
   "cell_type": "markdown",
   "source": [
    "## Validierung der Vorhersagen\n",
    "Um eine erste Einteilung vorzunehmen, wenden wir folgende Regeln an:\n",
    "* Wenn nur eines von beiden Modellen die Zahl richtig vorhergesagt markieren wir das Bild mit `key=1/2` (und\n",
    "`model=1/2)`für das jeweilige Modell und speichern den Score des Modells\n",
    "* Wenn beide das Bild richtig vorhergesagt haben wird das Bild mit `key=b` für both gekennzeichnet und die scores werden\n",
    "gespeichert\n",
    "  * Zusätzlich wird das bild mit `model=1/2` markiert, je nach dem welches Bild den besseren Score hat\n",
    "  * Falls beide gleich gut sind wird das Bild mit `model=e` für equal markiert\n",
    "* Wenn beide Modelle eine falsche Vorhersage gemacht haben wird das Bild mit `key=n` für none markiert\n",
    "* Zusätzlich speichern wir das Modell das bei einem Bild am besten war in `result` allerdings werden wir dieses Feld\n",
    "später noch modifizieren um auf genau 50/50 zu kommen"
   ],
   "metadata": {
    "collapsed": false,
    "pycharm": {
     "name": "#%% md\n"
    }
   }
  },
  {
   "cell_type": "code",
   "execution_count": 6,
   "outputs": [],
   "source": [
    "\"\"\"\n",
    "Data-Structure:\n",
    "{\n",
    "    key:       indicates which model got it right (b: both, n: none, 1, 2)\n",
    "    model:     indicates which model performed best (e: equal, 1, 2)\n",
    "    label:     contains the label extracted from the MNIST dataset\n",
    "    image:     contains the image data\n",
    "    model_one: score for model one -> None if the prediction was wrong\n",
    "    model_two: score for model two -> None if the prediction was wrong\n",
    "    result:    contains the final result -> will be modified later on\n",
    "}\n",
    "\"\"\"\n",
    "\n",
    "for idx in range(len(images)):\n",
    "    # Ergebnisse der Größe nach aufsteigend sortieren und den letzten Index nehmen \n",
    "    one_val_idx = np.argsort(res_model_one[idx])[len(res_model_one[idx]) - 1]\n",
    "    two_val_idx = np.argsort(res_model_two[idx])[len(res_model_two[idx]) - 1]\n",
    "    data_point = {\n",
    "        \"key\": \"n\",\n",
    "        \"model\": None,\n",
    "        \"model_one\": None,\n",
    "        \"model_two\": None,\n",
    "    }\n",
    "    if one_val_idx != data[idx][\"label\"] and two_val_idx != data[idx][\"label\"]:\n",
    "        data_point[\"key\"] = \"n\"\n",
    "    elif one_val_idx == data[idx][\"label\"] != two_val_idx:\n",
    "        data_point[\"key\"] = 1\n",
    "        data_point[\"result\"] = 1\n",
    "        data_point[\"model\"] = 1\n",
    "        data_point[\"model_one\"] = res_model_one[idx][one_val_idx]\n",
    "    elif two_val_idx == data[idx][\"label\"] != one_val_idx:\n",
    "        data_point[\"key\"] = 2\n",
    "        data_point[\"result\"] = 2\n",
    "        data_point[\"model_two\"] = res_model_two[idx][two_val_idx]\n",
    "    elif res_model_one[idx][one_val_idx] == res_model_two[idx][two_val_idx]:\n",
    "        data_point[\"key\"] = \"b\"\n",
    "        data_point[\"model\"] = \"e\"\n",
    "        data_point[\"model_one\"] = res_model_one[idx][one_val_idx]\n",
    "        data_point[\"model_two\"] = res_model_two[idx][two_val_idx]\n",
    "    else:\n",
    "        data_point[\"key\"] = \"b\"\n",
    "        data_point[\"model\"] = 1 if res_model_one[idx][one_val_idx] > res_model_two[idx][two_val_idx] else 2\n",
    "        data_point[\"result\"] = 1 if res_model_one[idx][one_val_idx] > res_model_two[idx][two_val_idx] else 2\n",
    "        data_point[\"model_one\"] = res_model_one[idx][one_val_idx]\n",
    "        data_point[\"model_two\"] = res_model_two[idx][two_val_idx]\n",
    "    data[idx] = {**data[idx], **data_point}"
   ],
   "metadata": {
    "collapsed": false,
    "pycharm": {
     "name": "#%%\n",
     "is_executing": false
    }
   }
  },
  {
   "cell_type": "markdown",
   "source": [
    "### Ergebnis"
   ],
   "metadata": {
    "collapsed": false,
    "pycharm": {
     "name": "#%% md\n"
    }
   }
  },
  {
   "cell_type": "code",
   "execution_count": 7,
   "outputs": [
    {
     "name": "stdout",
     "text": [
      "None: 0\n",
      "One: 20\n",
      "Two: 0\n",
      "Both: 80\n"
     ],
     "output_type": "stream"
    }
   ],
   "source": [
    "one = 0\n",
    "two = 0\n",
    "non = 0\n",
    "bth = 0\n",
    "\n",
    "for el in data:\n",
    "    if el[\"key\"] == 1:\n",
    "        one += 1\n",
    "    elif el[\"key\"] == 2:\n",
    "        two += 1\n",
    "    elif el[\"key\"] == \"n\":\n",
    "        non += 1\n",
    "    elif el[\"key\"] == \"b\":\n",
    "        bth += 1\n",
    "    else:\n",
    "        raise ValueError(\"Unkown key {}\".format(el[\"key\"]))\n",
    "\n",
    "print(\"None: {}\\nOne: {}\\nTwo: {}\\nBoth: {}\".format(non, one, two, bth))"
   ],
   "metadata": {
    "collapsed": false,
    "pycharm": {
     "name": "#%%\n",
     "is_executing": false
    }
   }
  },
  {
   "cell_type": "markdown",
   "source": [
    "Aufteilung auf Modell eins und zwei:"
   ],
   "metadata": {
    "collapsed": false,
    "pycharm": {
     "name": "#%% md\n"
    }
   }
  },
  {
   "cell_type": "code",
   "execution_count": 8,
   "outputs": [
    {
     "name": "stdout",
     "text": [
      "One: 66\n",
      "Two: 34\n"
     ],
     "output_type": "stream"
    }
   ],
   "source": [
    "one = 0\n",
    "two = 0\n",
    "equ = 0\n",
    "\n",
    "for el in data:\n",
    "    if el[\"key\"] == 1:\n",
    "        one += 1\n",
    "    elif el[\"key\"] == 2:\n",
    "        two += 1\n",
    "    elif el[\"key\"] == \"b\":\n",
    "        if el[\"model\"] == 1:\n",
    "            one += 1\n",
    "        elif el[\"model\"] == 2:\n",
    "            two += 1\n",
    "        elif el[\"model\"] == \"e\":\n",
    "            equ += 1\n",
    "        else:\n",
    "            raise ValueError(\"Error\")\n",
    "    else:\n",
    "        raise ValueError(\"Error\")\n",
    "\n",
    "print(\"One: {}\\nTwo: {}\".format(one, two))"
   ],
   "metadata": {
    "collapsed": false,
    "pycharm": {
     "name": "#%%\n",
     "is_executing": false
    }
   }
  },
  {
   "cell_type": "markdown",
   "source": [
    "## Auswertung \n",
    "Wie wir sehen können haben wir keine Bilder die von keinem Modell richtig vorhergesagt wurden und auch keine Bilder bei\n",
    "denen beide Modelle gleich gut performed haben. Allerdings hat Modell eins wesentlich mehr Bilder zugewiesen bekommen\n",
    "als Modell 2.  \n",
    "Um die Aufteilung 50/50 zu erhalten, schauen wir jetzt welche Bilder von Modell eins zu Modell zwei umschichten können.\n",
    "\n",
    "Kriterien:\n",
    "1. Beide Modelle müssen das Bild richtig vorhergesagt haben\n",
    "*  Modell 1 muss das Bild besser vorhergesagt haben als Modell 2\n",
    "*  Modell 2 muss das Bild mit möglichst viel Confidence vorhergesagt haben\n",
    "*  Modell 1 muss das Bild mit möglichst wenig Confidence vorhergesagt haben\n",
    "\n",
    "Um die optimalen Bilder zu finden, bilden wir für jedes Bild, das Kriterien 1 & 2 erfüllt, einen Score aus Kriterium\n",
    "3 & 4:  \n",
    "`Score = 1 - Model One Confidence + Model Two Confidence`  \n",
    "_Je niedriger die Confidence von Modell 1 desto höher der Score und je höher die Confidence von Modell 2 desto höher der\n",
    "Score (und jeweils umgekehrt)._  \n",
    "Danach wählen wir die 16 Bilder mit dem höchsten Score aus und ordnen sie dem zweiten Modell zu."
   ],
   "metadata": {
    "collapsed": false,
    "pycharm": {
     "name": "#%% md\n"
    }
   }
  },
  {
   "cell_type": "code",
   "execution_count": 9,
   "outputs": [
    {
     "name": "stdout",
     "text": [
      "[1, 2, 2, 1, 2, 2, 1, 1, 1, 1, 2, 1, 1, 1, 1, 2, 2, 1, 1, 2, 2, 2, 2, 2, 2, 1, 2, 2, 2, 1, 2, 2, 1, 2, 1, 1, 2, 2, 2, 1, 1, 1, 2, 2, 1, 1, 1, 1, 2, 2, 1, 2, 1, 2, 2, 1, 1, 2, 1, 1, 1, 1, 1, 2, 2, 1, 2, 2, 2, 1, 1, 2, 2, 1, 2, 1, 2, 2, 1, 2, 2, 2, 2, 1, 1, 1, 2, 1, 2, 1, 2, 1, 2, 2, 1, 1, 2, 1, 1, 1]\n"
     ],
     "output_type": "stream"
    }
   ],
   "source": [
    "for (i, el) in enumerate(data):\n",
    "    if el[\"key\"] != \"b\" or (el[\"key\"] == \"b\" and el[\"model_one\"] < el[\"model_two\"]):\n",
    "        continue\n",
    "    data[i][\"score\"] = 1 - el[\"model_one\"] + el[\"model_two\"]\n",
    "\n",
    "data.sort(key=lambda el: el[\"score\"] if \"score\" in el.keys() else 0, reverse=True)\n",
    "\n",
    "for i in range(16):\n",
    "    data[i][\"result\"] = 2\n",
    "\n",
    "# um die reihenfolge für das korrekte ergebnis zu bekommen sortieren wir die Liste wieder zurück\n",
    "data.sort(key=lambda el: el[\"id\"])\n",
    "\n",
    "print([el[\"result\"] for el in data])"
   ],
   "metadata": {
    "collapsed": false,
    "pycharm": {
     "name": "#%%\n",
     "is_executing": false
    }
   }
  },
  {
   "cell_type": "markdown",
   "source": [
    "# B\n",
    "\n",
    "## Aufteilung der Labels auf die beiden Modell\n",
    "\n",
    "### Welches Modell hat von welchen Labels wie viele richtig vorhergesagt?\n",
    " "
   ],
   "metadata": {
    "collapsed": false,
    "pycharm": {
     "name": "#%% md\n"
    }
   }
  },
  {
   "cell_type": "code",
   "execution_count": 10,
   "outputs": [
    {
     "name": "stdout",
     "text": [
      "Model One:\n",
      "\tLabel: 0 Count: 8\n",
      "\tLabel: 1 Count: 6\n",
      "\tLabel: 3 Count: 8\n",
      "\tLabel: 4 Count: 10\n",
      "\tLabel: 6 Count: 10\n",
      "\tLabel: 7 Count: 16\n",
      "\tLabel: 9 Count: 8\n",
      "Model Two:\n",
      "\tLabel: 0 Count: 2\n",
      "\tLabel: 1 Count: 14\n",
      "\tLabel: 3 Count: 2\n",
      "\tLabel: 4 Count: 10\n",
      "\tLabel: 7 Count: 4\n",
      "\tLabel: 9 Count: 2\n"
     ],
     "output_type": "stream"
    }
   ],
   "source": [
    "model_one_labels = []\n",
    "model_two_labels = []\n",
    "\n",
    "for el in data:\n",
    "    if el[\"model\"] == 1:\n",
    "        model_one_labels.append(el[\"label\"])\n",
    "    elif el[\"result\"] == 2:\n",
    "        model_two_labels.append(el[\"label\"])\n",
    "\n",
    "def print_results(model):\n",
    "    (keys, values) = model\n",
    "    for i in range(len(keys)):\n",
    "        print(\"\\tLabel: {} Count: {}\".format(keys[i], values[i]))\n",
    "\n",
    "print(\"Model One:\")\n",
    "print_results(np.unique(model_one_labels, return_counts=True))\n",
    "print(\"Model Two:\")\n",
    "print_results(np.unique(model_two_labels, return_counts=True))"
   ],
   "metadata": {
    "collapsed": false,
    "pycharm": {
     "name": "#%%\n",
     "is_executing": false
    }
   }
  },
  {
   "cell_type": "markdown",
   "source": [
    "### Welches Label hat welche Labels falsch vorhergesagt?\n",
    "Wie wir von der Ausgabe weiter oben wissen gibt es 20 Bilder die nur Modell 1 richtig hat und es gibt keine Bilder die\n",
    "nur Modell 2 richtig hat -> wir schauen uns also nur an welche Bilder Modell 2 falsch gemacht hat."
   ],
   "metadata": {
    "collapsed": false,
    "pycharm": {
     "name": "#%% md\n"
    }
   }
  },
  {
   "cell_type": "code",
   "execution_count": 12,
   "outputs": [
    {
     "name": "stdout",
     "text": [
      "Model Two:\n",
      "\tLabel: 3 Count: 2\n",
      "\tLabel: 4 Count: 6\n",
      "\tLabel: 6 Count: 2\n",
      "\tLabel: 7 Count: 4\n",
      "\tLabel: 9 Count: 6\n"
     ],
     "output_type": "stream"
    }
   ],
   "source": [
    "wrong_labels = [el[\"label\"] for el in data if el[\"key\"] != \"b\"]\n",
    "\n",
    "print(\"Model Two:\")\n",
    "print_results(np.unique(wrong_labels, return_counts=True))"
   ],
   "metadata": {
    "collapsed": false,
    "pycharm": {
     "name": "#%%\n",
     "is_executing": false
    }
   }
  },
  {
   "cell_type": "markdown",
   "source": [
    "## Auswertung\n",
    "Wie man sehr deutlich sehen kann hat Modell eins wesentlich häufiger Bilder von siebenern richtig/besser erkannt und\n",
    "Modell 2 hat bei einsern wesentlich besser performed. Bei der 4 haben beide Modell ziemlich genau gleich gut\n",
    "gearbeitet.\n",
    "\n",
    "Vermutung:\n",
    "* vierer waren ungefähr gleichmäßig verteilt\n",
    "* Modell 1:\n",
    "  * da dieses Modell von anfang an bessere vorhersagen gemacht hat, ist das ein Hinweis darauf, dass dieses Modell\n",
    "  auf einem besseren Datenset trainiert wurde\n",
    "  * hauptsächlich auf 6, 7 und 9 trainiert\n",
    "  * generell ausgewogener trainiert worden\n",
    "* Modell 2:\n",
    "  * hauptsächlich 0 und 1\n",
    "  * auf sehr wenigen 6 und 9 trainiert\n",
    "  * auf sehr unausgewogenem Set trainiert worden\n",
    "\n",
    "Außerdem kann man bei der Auswertung, wieviele Ziffern nur von 1/2 oder beiden richtig vorhergesagt wurden, sehen, dass\n",
    "Modell 2 keine einzige Ziffer alleine richtig vorhergesagt hat"
   ],
   "metadata": {
    "collapsed": false,
    "pycharm": {
     "name": "#%% md\n"
    }
   }
  },
  {
   "cell_type": "markdown",
   "source": [
    "# C\n",
    "\n",
    "### A\n",
    "Die Datensets auszugleichen ist nicht einfach zuerst habe ich probiert Bilder einzeln anzuschauen und so zuzuordnen,\n",
    "allerdings ist das nahezu unmöglich und auch nur bedingt begründbar, der Score war dann die einfachste und logischte\n",
    "Lösung  \n",
    "### B\n",
    "Es ist schwierig genaue Einblicke in die Daten zu erhalten wenn die einzige Grundlage eine grobe Einteilung ist die man\n",
    "selbst gemacht hat. Durch das anschauen verschiedener Auswertungen habe ich dann ein halbwegs klares Bild bekommen."
   ],
   "metadata": {
    "collapsed": false,
    "pycharm": {
     "name": "#%% md\n"
    }
   }
  }
 ],
 "metadata": {
  "kernelspec": {
   "display_name": "Python 3",
   "language": "python",
   "name": "python3"
  },
  "language_info": {
   "codemirror_mode": {
    "name": "ipython",
    "version": 2
   },
   "file_extension": ".py",
   "mimetype": "text/x-python",
   "name": "python",
   "nbconvert_exporter": "python",
   "pygments_lexer": "ipython2",
   "version": "2.7.6"
  },
  "pycharm": {
   "stem_cell": {
    "cell_type": "raw",
    "source": [],
    "metadata": {
     "collapsed": false
    }
   }
  }
 },
 "nbformat": 4,
 "nbformat_minor": 0
}