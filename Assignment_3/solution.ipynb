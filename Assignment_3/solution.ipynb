{
 "cells": [
  {
   "cell_type": "code",
   "execution_count": 33,
   "metadata": {
    "collapsed": true,
    "pycharm": {
     "is_executing": false
    }
   },
   "outputs": [],
   "source": [
    "import keras\n",
    "import numpy as np\n",
    "import matplotlib.pyplot as plt"
   ]
  },
  {
   "cell_type": "code",
   "execution_count": 34,
   "outputs": [],
   "source": [
    "# function to display progress\n",
    "\n",
    "def print_progress(percentage):\n",
    "    percentage = int(percentage / 2)\n",
    "    if percentage < 1:\n",
    "        print(\"[{}]\".format(\" \" * 50), end=\"\\r\")\n",
    "    elif 0 < percentage < 50:\n",
    "        print(\"[{}]\".format(\"=\" * (percentage - 1) + \">\" + \" \" * (50 - percentage)), end=\"\\r\")\n",
    "    else:\n",
    "        print(\"[{}]\".format(\"=\" * 50))"
   ],
   "metadata": {
    "collapsed": false,
    "pycharm": {
     "name": "#%%\n",
     "is_executing": false
    }
   }
  },
  {
   "cell_type": "markdown",
   "source": [
    "# A\n",
    "\n",
    "### Bilder, Modelle und MNIST Set laden"
   ],
   "metadata": {
    "collapsed": false
   }
  },
  {
   "cell_type": "code",
   "execution_count": 35,
   "outputs": [],
   "source": [
    "images = np.load(\"samples.npy\")\n",
    "\n",
    "model_one = keras.models.load_model(\"model1.hdf5\")\n",
    "model_two = keras.models.load_model(\"model2.hdf5\")\n",
    "\n",
    "(X_train, Y_train), (X_test, Y_test) = keras.datasets.mnist.load_data()\n",
    "\n",
    "X = np.concatenate([X_train, X_test])\n",
    "Y = np.concatenate([Y_train, Y_test])"
   ],
   "metadata": {
    "collapsed": false,
    "pycharm": {
     "name": "#%%\n",
     "is_executing": false
    }
   }
  },
  {
   "cell_type": "markdown",
   "source": [
    "### Original Labels aus dem MNIST Datenset extrahieren\n",
    "Zuerst formatiere ich die Bilder aus der Datei etwas, damit ich sie mit den Bildern aus dem MNIST Datenset vergleichen\n",
    "kann:\n",
    "* entfernen der letzten Dimension\n",
    "* mit 255 multiplizieren und zum `int` konvertieren"
   ],
   "metadata": {
    "collapsed": false,
    "pycharm": {
     "name": "#%% md\n"
    }
   }
  },
  {
   "cell_type": "code",
   "execution_count": 36,
   "outputs": [
    {
     "name": "stdout",
     "text": [
      "Labeling Pictures...\n",
      "[==================================================]\n",
      "Done!\n"
     ],
     "output_type": "stream"
    }
   ],
   "source": [
    "images_flat = (images[:, :, :, 0] * 255).astype(int)\n",
    "\n",
    "labels = []\n",
    "\n",
    "print(\"Labeling Pictures...\")\n",
    "\n",
    "for image in images_flat:\n",
    "    print_progress(len(labels))\n",
    "    found = False\n",
    "    idx = 0\n",
    "    for x in X:\n",
    "        if np.array_equal(image, x):\n",
    "            found = True\n",
    "            labels.append(Y[idx])\n",
    "            continue\n",
    "        idx += 1\n",
    "    if not found:\n",
    "        raise ValueError(\"Could not determine Label of image\")\n",
    "\n",
    "print_progress(len(labels))\n",
    "\n",
    "print(\"Done!\")"
   ],
   "metadata": {
    "collapsed": false,
    "pycharm": {
     "name": "#%%\n",
     "is_executing": false
    }
   }
  },
  {
   "cell_type": "markdown",
   "source": [
    "### Beide Modelle alle Bilder vorhersagen lassen"
   ],
   "metadata": {
    "collapsed": false,
    "pycharm": {
     "name": "#%% md\n"
    }
   }
  },
  {
   "cell_type": "code",
   "execution_count": 37,
   "outputs": [],
   "source": [
    "res_model_one = model_one.predict(images)\n",
    "res_model_two = model_two.predict(images)"
   ],
   "metadata": {
    "collapsed": false,
    "pycharm": {
     "name": "#%%\n",
     "is_executing": false
    }
   }
  },
  {
   "cell_type": "markdown",
   "source": [
    "### Validierung der Vorhersagen\n",
    "Regeln:\n",
    "* Wenn nur eines von beiden Modellen die Zahl richtig vorhergesagt hat ordnen wir das Bild dem Modell zu\n",
    "* Wenn beide das Bild richtig vorhergesagt haben wird das Bild dem Modell mit der höheren Confidence zugeordnet\n",
    "* Wenn beide Modelle eine falsche Vorhersage gemacht hat wird das Bild nicht zugeordnet (mit '?' markiert)"
   ],
   "metadata": {
    "collapsed": false,
    "pycharm": {
     "name": "#%% md\n"
    }
   }
  },
  {
   "cell_type": "code",
   "execution_count": 38,
   "outputs": [],
   "source": [
    "result = []\n",
    "\n",
    "for idx in range(len(images)):\n",
    "    one_val_idx = np.argsort(res_model_one[idx])[len(res_model_one[idx]) - 1]\n",
    "    two_val_idx = np.argsort(res_model_two[idx])[len(res_model_two[idx]) - 1]\n",
    "    \n",
    "    if one_val_idx != labels[idx] and two_val_idx != labels[idx]:\n",
    "        result.append(\"?\")\n",
    "    elif one_val_idx == labels[idx] != two_val_idx:\n",
    "        result.append(1)\n",
    "    elif two_val_idx == labels[idx] != one_val_idx:\n",
    "        result.append(2)\n",
    "    else:\n",
    "        result.append(1 if res_model_one[idx][one_val_idx] > res_model_two[idx][two_val_idx] else 2)"
   ],
   "metadata": {
    "collapsed": false,
    "pycharm": {
     "name": "#%%\n",
     "is_executing": false
    }
   }
  },
  {
   "cell_type": "code",
   "execution_count": 39,
   "outputs": [
    {
     "name": "stdout",
     "text": [
      "One: 66\n",
      "Two: 34\n",
      "Unmarked: 0\n"
     ],
     "output_type": "stream"
    }
   ],
   "source": [
    "one = 0\n",
    "two = 0\n",
    "unmarked = 0\n",
    "\n",
    "for res in result:\n",
    "    if res == 1:\n",
    "        one += 1\n",
    "    elif res == 2:\n",
    "        two += 1\n",
    "    else:\n",
    "        unmarked += 1\n",
    "\n",
    "print(\"One: {}\\nTwo: {}\\nUnmarked: {}\".format(one, two, unmarked))\n"
   ],
   "metadata": {
    "collapsed": false,
    "pycharm": {
     "name": "#%%\n",
     "is_executing": false
    }
   }
  }
 ],
 "metadata": {
  "kernelspec": {
   "display_name": "Python 3",
   "language": "python",
   "name": "python3"
  },
  "language_info": {
   "codemirror_mode": {
    "name": "ipython",
    "version": 2
   },
   "file_extension": ".py",
   "mimetype": "text/x-python",
   "name": "python",
   "nbconvert_exporter": "python",
   "pygments_lexer": "ipython2",
   "version": "2.7.6"
  },
  "pycharm": {
   "stem_cell": {
    "cell_type": "raw",
    "source": [],
    "metadata": {
     "collapsed": false
    }
   }
  }
 },
 "nbformat": 4,
 "nbformat_minor": 0
}