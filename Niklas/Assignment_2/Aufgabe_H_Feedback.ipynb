{
 "cells": [
  {
   "cell_type": "markdown",
   "metadata": {},
   "source": [
    "# Aufgabe H - Feedback"
   ]
  },
  {
   "cell_type": "markdown",
   "metadata": {},
   "source": [
    "- How much time did you work on this assignment and how often did you meet?\n",
    "\n",
    "Dieses Mal haben wir uns kurz in der Uni nach dem Unterricht immer wieder zusammengesetzt, um das Gröbste wie Fortschritt oder aufgetretene Probleme zu besprechen. Hierbei haben wir relativ schnell die Aufgaben untereinander nach Interessen aufgeteilt und somit dann im Laufe des Assignments selbstständig an unseren Aufgaben gesessen. Trotzdem haben wir uns aber immer konstant untereinander ausgetauscht und - falls nötig - einander beim Verstehen der Aufgaben/Materie/Python geholfen und auch bei Problemen gemeinsam nach Ansätzen gesucht.\n",
    "Zeitlich wurden dementsprechend aber dennoch wieder viele Stunden für das Projekt aufgewandt. Zwar konnten wir größtenteils im Internet auf sehr gute Quellen (bspw. https://keras.io/, Kaggle, TowardsDataScience) zurückgreifen, allerdings musste auch viel Aufwand in die Implementierung des Codes und das Begreifen der Theorie (auch aus dem Unterricht) gesteckt werden. Insgesamt wurden (kummuliert) ca. 50 Stunden in das Projekt gesteckt.\n",
    "\n",
    "\n",
    "- What was your favourite excercise? Why?\n",
    "\n",
    "Wie bereits oben erwähnt, haben wir die Aufgaben untereinander aufgeteilt und hierbei schon in gewisser Weise anfangs die 'favourite excercises' nach Interesse ausgesucht/delegiert. \n",
    "Jedoch war für alle im Team das Thema der neuronalen Netze von besonderem Interesse. Die Möglichkeiten die mit Neuronalen Netzen und Maschninellem Lernen entstehen erstaunen uns immer wieder wenn man schon heute Lösungen sieht. (bspw. wie die Google-Bilder Suche auf einem neuron. Netzw. basiert als ein einfaches Beispiel). Somit wurde hier unser Interesse geweckt, vielleicht selbst nochmal Dinge zu probieren.\n",
    " Eine persönliche Meinung: * Ich persönlich fand Aufgabe G am Interessantesten, da durch vergleichsweise geringen Mehraufwand ein sehr zufriedenstellendes Ergebnis erzielt werden konnte und hierdurch verdeutlicht wurde, dass die schrittweise Verbesserung eines Netzwerkes (wenn dieses im Basiszustand schon konstruiert ist) mit den richtigen Quellen schnell möglich ist. Maschinelles Lernen kann also auch \"einfacher\" sein, was den Frust in der Datenaufbereitung teils wieder gut macht. :D*\n",
    " \n",
    " \n",
    "- What excercise did you like least? Why?\n",
    "\n",
    "A, B, C haben teils unseren Verantwortlichen zur Verzweiflung gebracht. Teils haben einem Ansätze gefehlt, Kleinigkeiten wie Colab funktionierten nicht (hat sich als kein Problem herausgestellt) und insgesamt musste sehr viel Zeit in die Daten Aufbereitung gesteckt werden. In der Aufgabe steckten viele Learnings, trotzdem waren positiven Erfolge im Vergleich zum Zeitaufwand teils frustrierend. Probleme usw wurden ja auch in der D beschrieben.\n",
    "Wenn man sich für genau eine Aufgabe entscheiden müsste würde ich Aufgabe C sagen, da dort das testen der Solver sehr lange gedauert hat."
   ]
  },
  {
   "cell_type": "code",
   "execution_count": null,
   "metadata": {},
   "outputs": [],
   "source": []
  }
 ],
 "metadata": {
  "kernelspec": {
   "display_name": "Python 3",
   "language": "python",
   "name": "python3"
  },
  "language_info": {
   "codemirror_mode": {
    "name": "ipython",
    "version": 3
   },
   "file_extension": ".py",
   "mimetype": "text/x-python",
   "name": "python",
   "nbconvert_exporter": "python",
   "pygments_lexer": "ipython3",
   "version": "3.7.3"
  }
 },
 "nbformat": 4,
 "nbformat_minor": 2
}
