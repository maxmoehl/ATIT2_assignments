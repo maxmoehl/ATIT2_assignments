{
 "cells": [
  {
   "cell_type": "markdown",
   "metadata": {
    "colab_type": "text",
    "id": "bIMpDBV8dR8W"
   },
   "source": [
    "# Aufgabe G Neural Networks Overfitting\n",
    "\n",
    "- Train a neural net and prevent overfitting by regularization.\n",
    "- You can use any combination of regularizers we saw in class.\n",
    "- Use the train and test splits in the data do evaluate the model."
   ]
  },
  {
   "cell_type": "code",
   "execution_count": 1,
   "metadata": {
    "colab": {
     "base_uri": "https://localhost:8080/",
     "height": 101
    },
    "colab_type": "code",
    "id": "Fpn5-LuYdR8m",
    "outputId": "040b023f-90a4-44d3-f9cf-bdcbd372cdb5"
   },
   "outputs": [
    {
     "data": {
      "text/html": [
       "<p style=\"color: red;\">\n",
       "The default version of TensorFlow in Colab will soon switch to TensorFlow 2.x.<br>\n",
       "We recommend you <a href=\"https://www.tensorflow.org/guide/migrate\" target=\"_blank\">upgrade</a> now \n",
       "or ensure your notebook will continue to use TensorFlow 1.x via the <code>%tensorflow_version 1.x</code> magic:\n",
       "<a href=\"https://colab.research.google.com/notebooks/tensorflow_version.ipynb\" target=\"_blank\">more info</a>.</p>\n"
      ],
      "text/plain": [
       "<IPython.core.display.HTML object>"
      ]
     },
     "metadata": {
      "tags": []
     },
     "output_type": "display_data"
    },
    {
     "name": "stderr",
     "output_type": "stream",
     "text": [
      "Using TensorFlow backend.\n"
     ]
    }
   ],
   "source": [
    "import matplotlib.pyplot as plt\n",
    "import numpy as np\n",
    "import tensorflow as tf\n",
    "import keras\n",
    "\n",
    "from tensorflow.keras.datasets import cifar10\n",
    "from tensorflow.keras.models import Sequential\n",
    "from keras import regularizers, optimizers\n",
    "from tensorflow.keras.layers import Dense, Dropout, Flatten\n",
    "from tensorflow.keras.layers import Conv2D, MaxPooling2D, BatchNormalization\n",
    "from tensorflow.keras import backend as K\n"
   ]
  },
  {
   "cell_type": "markdown",
   "metadata": {
    "colab_type": "text",
    "id": "3_pWea-idR9N"
   },
   "source": [
    "# Datenset vorbereiten"
   ]
  },
  {
   "cell_type": "code",
   "execution_count": 0,
   "metadata": {
    "colab": {},
    "colab_type": "code",
    "id": "1RwlPJ3mdR9f"
   },
   "outputs": [],
   "source": [
    "batch_size = 32 #128\n",
    "num_classes = 10\n",
    "epochs = 20 #Wiederholungen (für Testzweck vllt. 3 / für endgültige Lösung ca. 20)\n",
    "\n",
    "# Bildgröße für Input\n",
    "img_rows, img_cols = 32, 32"
   ]
  },
  {
   "cell_type": "code",
   "execution_count": 3,
   "metadata": {
    "colab": {
     "base_uri": "https://localhost:8080/",
     "height": 109
    },
    "colab_type": "code",
    "id": "GDZKEk13dR96",
    "outputId": "a7621433-731b-48c4-d6f9-994186cf3ab1",
    "scrolled": true
   },
   "outputs": [
    {
     "name": "stdout",
     "output_type": "stream",
     "text": [
      "Downloading data from https://www.cs.toronto.edu/~kriz/cifar-10-python.tar.gz\n",
      "170500096/170498071 [==============================] - 4s 0us/step\n",
      "x_train shape: (50000, 32, 32, 3)\n",
      "50000 train samples\n",
      "10000 test samples\n"
     ]
    }
   ],
   "source": [
    "# Datenset, unterteilt in Trainings-/Testset\n",
    "cifar = cifar10\n",
    "(x_train, y_train), (x_test, y_test) = cifar.load_data()\n",
    "\n",
    "print('x_train shape:', x_train.shape)\n",
    "print(x_train.shape[0], 'train samples')\n",
    "print(x_test.shape[0], 'test samples')"
   ]
  },
  {
   "cell_type": "code",
   "execution_count": 4,
   "metadata": {
    "colab": {
     "base_uri": "https://localhost:8080/",
     "height": 35
    },
    "colab_type": "code",
    "id": "NirBWUwtdR-n",
    "outputId": "5a58a766-6ea5-45ea-ec1f-6fca3cf97a6d",
    "scrolled": false
   },
   "outputs": [
    {
     "data": {
      "text/plain": [
       "(50000, 32, 32, 3)"
      ]
     },
     "execution_count": 4,
     "metadata": {
      "tags": []
     },
     "output_type": "execute_result"
    }
   ],
   "source": [
    "x_train.shape"
   ]
  },
  {
   "cell_type": "code",
   "execution_count": 0,
   "metadata": {
    "colab": {},
    "colab_type": "code",
    "id": "2MIgOBl_dR-9"
   },
   "outputs": [],
   "source": [
    "if K.image_data_format() == 'channels_first':\n",
    "    x_train = x_train.reshape(x_train.shape[0], 3, img_rows, img_cols)\n",
    "    x_test = x_test.reshape(x_test.shape[0],3, img_rows, img_cols)\n",
    "    input_shape = (3, img_rows, img_cols)\n",
    "else:\n",
    "    x_train = x_train.reshape(x_train.shape[0], img_rows, img_cols, 3)\n",
    "    x_test = x_test.reshape(x_test.shape[0], img_rows, img_cols, 3)\n",
    "    input_shape = (img_rows, img_cols, 3)"
   ]
  },
  {
   "cell_type": "code",
   "execution_count": 6,
   "metadata": {
    "colab": {
     "base_uri": "https://localhost:8080/",
     "height": 72
    },
    "colab_type": "code",
    "id": "tXC2trLndR_Q",
    "outputId": "d137de70-1108-4077-ec0f-f41031b37e9f"
   },
   "outputs": [
    {
     "name": "stdout",
     "output_type": "stream",
     "text": [
      "x_train shape: (50000, 32, 32, 3)\n",
      "50000 train samples\n",
      "10000 test samples\n"
     ]
    }
   ],
   "source": [
    "# Aufräumen + Anpassen\n",
    "\n",
    "x_train = x_train.astype('float32')\n",
    "x_test = x_test.astype('float32')\n",
    "x_train /= 255\n",
    "x_test /= 255\n",
    "\n",
    "y_train = keras.utils.to_categorical(y_train, num_classes)\n",
    "y_test = keras.utils.to_categorical(y_test, num_classes)\n",
    "\n",
    "print('x_train shape:', x_train.shape)\n",
    "print(x_train.shape[0], 'train samples')\n",
    "print(x_test.shape[0], 'test samples')"
   ]
  },
  {
   "cell_type": "markdown",
   "metadata": {
    "colab_type": "text",
    "id": "LiDaGaGEdR_r"
   },
   "source": [
    "# Modell trainieren + Auswertung"
   ]
  },
  {
   "cell_type": "code",
   "execution_count": 0,
   "metadata": {
    "colab": {},
    "colab_type": "code",
    "id": "YXaUkJ6-dR_u"
   },
   "outputs": [],
   "source": [
    "def model_G():\n",
    "    \n",
    "    weight_decay = 1e-4\n",
    "    model = Sequential()\n",
    "    \n",
    "    model.add(Conv2D(32, (3, 3), activation='relu', padding='same',kernel_regularizer=regularizers.l2(weight_decay), input_shape=input_shape))  \n",
    "    model.add(Conv2D(32, (3, 3), activation='relu'))    \n",
    "    model.add(MaxPooling2D(pool_size=(2, 2)))\n",
    "    model.add(Dropout(0.25))\n",
    "\n",
    "    \n",
    "    model.add(Conv2D(64, (3, 3), activation='relu', padding='same',kernel_regularizer=regularizers.l2(weight_decay)))    \n",
    "    model.add(Conv2D(64, (3, 3), activation='relu'))\n",
    "    model.add(MaxPooling2D(pool_size=(2, 2)))\n",
    "    model.add(Dropout(0.25))\n",
    "\n",
    "    model.add(Flatten())\n",
    "    \n",
    "    model.add(Dense(512, activation='relu',kernel_regularizer=regularizers.l2(weight_decay)))\n",
    "    model.add(Dropout(0.5))\n",
    "    \n",
    "    model.add(Dense(num_classes, activation='softmax'))\n",
    "     \n",
    "         \n",
    "    model.compile(loss='categorical_crossentropy', optimizer='adam', metrics=['accuracy'])\n",
    "        \n",
    "    model.summary()    \n",
    "    return model"
   ]
  },
  {
   "cell_type": "code",
   "execution_count": 8,
   "metadata": {
    "colab": {
     "base_uri": "https://localhost:8080/",
     "height": 680
    },
    "colab_type": "code",
    "id": "mvK_tL-YdSAd",
    "outputId": "a5d338f3-7361-4f32-b04a-66e1bc005b0f"
   },
   "outputs": [
    {
     "name": "stdout",
     "output_type": "stream",
     "text": [
      "WARNING:tensorflow:From /usr/local/lib/python3.6/dist-packages/tensorflow_core/python/ops/resource_variable_ops.py:1630: calling BaseResourceVariable.__init__ (from tensorflow.python.ops.resource_variable_ops) with constraint is deprecated and will be removed in a future version.\n",
      "Instructions for updating:\n",
      "If using Keras pass *_constraint arguments to layers.\n",
      "Model: \"sequential\"\n",
      "_________________________________________________________________\n",
      "Layer (type)                 Output Shape              Param #   \n",
      "=================================================================\n",
      "conv2d (Conv2D)              (None, 32, 32, 32)        896       \n",
      "_________________________________________________________________\n",
      "conv2d_1 (Conv2D)            (None, 30, 30, 32)        9248      \n",
      "_________________________________________________________________\n",
      "max_pooling2d (MaxPooling2D) (None, 15, 15, 32)        0         \n",
      "_________________________________________________________________\n",
      "dropout (Dropout)            (None, 15, 15, 32)        0         \n",
      "_________________________________________________________________\n",
      "conv2d_2 (Conv2D)            (None, 15, 15, 64)        18496     \n",
      "_________________________________________________________________\n",
      "conv2d_3 (Conv2D)            (None, 13, 13, 64)        36928     \n",
      "_________________________________________________________________\n",
      "max_pooling2d_1 (MaxPooling2 (None, 6, 6, 64)          0         \n",
      "_________________________________________________________________\n",
      "dropout_1 (Dropout)          (None, 6, 6, 64)          0         \n",
      "_________________________________________________________________\n",
      "flatten (Flatten)            (None, 2304)              0         \n",
      "_________________________________________________________________\n",
      "dense (Dense)                (None, 512)               1180160   \n",
      "_________________________________________________________________\n",
      "dropout_2 (Dropout)          (None, 512)               0         \n",
      "_________________________________________________________________\n",
      "dense_1 (Dense)              (None, 10)                5130      \n",
      "=================================================================\n",
      "Total params: 1,250,858\n",
      "Trainable params: 1,250,858\n",
      "Non-trainable params: 0\n",
      "_________________________________________________________________\n"
     ]
    }
   ],
   "source": [
    "model_G = model_G()"
   ]
  },
  {
   "cell_type": "code",
   "execution_count": 9,
   "metadata": {
    "colab": {
     "base_uri": "https://localhost:8080/",
     "height": 790
    },
    "colab_type": "code",
    "id": "3Cym67QrdSBB",
    "outputId": "2345c90e-80c1-49a1-e59f-6892dd9bee42",
    "scrolled": false
   },
   "outputs": [
    {
     "name": "stdout",
     "output_type": "stream",
     "text": [
      "Train on 50000 samples, validate on 10000 samples\n",
      "Epoch 1/20\n",
      "50000/50000 [==============================] - 285s 6ms/sample - loss: 1.6412 - acc: 0.4181 - val_loss: 1.2915 - val_acc: 0.5675\n",
      "Epoch 2/20\n",
      "50000/50000 [==============================] - 293s 6ms/sample - loss: 1.2860 - acc: 0.5723 - val_loss: 1.1336 - val_acc: 0.6372\n",
      "Epoch 3/20\n",
      "50000/50000 [==============================] - 285s 6ms/sample - loss: 1.1582 - acc: 0.6306 - val_loss: 1.0735 - val_acc: 0.6628\n",
      "Epoch 4/20\n",
      "50000/50000 [==============================] - 278s 6ms/sample - loss: 1.0890 - acc: 0.6594 - val_loss: 1.0464 - val_acc: 0.6792\n",
      "Epoch 5/20\n",
      "50000/50000 [==============================] - 277s 6ms/sample - loss: 1.0439 - acc: 0.6813 - val_loss: 0.9828 - val_acc: 0.7054\n",
      "Epoch 6/20\n",
      "50000/50000 [==============================] - 279s 6ms/sample - loss: 1.0070 - acc: 0.6969 - val_loss: 0.9154 - val_acc: 0.7310\n",
      "Epoch 7/20\n",
      "50000/50000 [==============================] - 274s 5ms/sample - loss: 0.9807 - acc: 0.7106 - val_loss: 0.9186 - val_acc: 0.7330\n",
      "Epoch 8/20\n",
      "50000/50000 [==============================] - 282s 6ms/sample - loss: 0.9590 - acc: 0.7209 - val_loss: 0.8997 - val_acc: 0.7467\n",
      "Epoch 9/20\n",
      "50000/50000 [==============================] - 273s 5ms/sample - loss: 0.9461 - acc: 0.7269 - val_loss: 0.8734 - val_acc: 0.7592\n",
      "Epoch 10/20\n",
      "50000/50000 [==============================] - 255s 5ms/sample - loss: 0.9367 - acc: 0.7335 - val_loss: 0.8709 - val_acc: 0.7600\n",
      "Epoch 11/20\n",
      "50000/50000 [==============================] - 254s 5ms/sample - loss: 0.9199 - acc: 0.7422 - val_loss: 0.8812 - val_acc: 0.7570\n",
      "Epoch 12/20\n",
      "50000/50000 [==============================] - 256s 5ms/sample - loss: 0.9239 - acc: 0.7416 - val_loss: 0.9157 - val_acc: 0.7498\n",
      "Epoch 13/20\n",
      "50000/50000 [==============================] - 255s 5ms/sample - loss: 0.9064 - acc: 0.7499 - val_loss: 0.8867 - val_acc: 0.7593\n",
      "Epoch 14/20\n",
      "50000/50000 [==============================] - 251s 5ms/sample - loss: 0.9019 - acc: 0.7524 - val_loss: 0.9297 - val_acc: 0.7474\n",
      "Epoch 15/20\n",
      "50000/50000 [==============================] - 250s 5ms/sample - loss: 0.9019 - acc: 0.7535 - val_loss: 0.9389 - val_acc: 0.7503\n",
      "Epoch 16/20\n",
      "50000/50000 [==============================] - 249s 5ms/sample - loss: 0.8974 - acc: 0.7582 - val_loss: 0.8734 - val_acc: 0.7718\n",
      "Epoch 17/20\n",
      "50000/50000 [==============================] - 250s 5ms/sample - loss: 0.8991 - acc: 0.7554 - val_loss: 0.8682 - val_acc: 0.7748\n",
      "Epoch 18/20\n",
      "50000/50000 [==============================] - 250s 5ms/sample - loss: 0.8879 - acc: 0.7614 - val_loss: 0.8776 - val_acc: 0.7659\n",
      "Epoch 19/20\n",
      "50000/50000 [==============================] - 255s 5ms/sample - loss: 0.8895 - acc: 0.7626 - val_loss: 0.8833 - val_acc: 0.7709\n",
      "Epoch 20/20\n",
      "50000/50000 [==============================] - 249s 5ms/sample - loss: 0.8828 - acc: 0.7663 - val_loss: 0.8656 - val_acc: 0.7795\n"
     ]
    }
   ],
   "source": [
    "history = model_G.fit(x_train, y_train, batch_size=batch_size, epochs=epochs, verbose=1, validation_data=(x_test, y_test)) #daueeeert!!!"
   ]
  },
  {
   "cell_type": "code",
   "execution_count": 10,
   "metadata": {
    "colab": {
     "base_uri": "https://localhost:8080/",
     "height": 54
    },
    "colab_type": "code",
    "id": "y_EksaPXdSBd",
    "outputId": "66ce7278-a1cb-4300-83f5-a4f99f32648f"
   },
   "outputs": [
    {
     "name": "stdout",
     "output_type": "stream",
     "text": [
      "Test loss: 0.865588089466095\n",
      "Test accuracy: 0.7795\n"
     ]
    }
   ],
   "source": [
    "#Auswertung\n",
    "ergebnis = model_G.evaluate(x_test, y_test, verbose=0)\n",
    "print('Test loss:', ergebnis[0])\n",
    "print('Test accuracy:', ergebnis[1])\n"
   ]
  },
  {
   "cell_type": "code",
   "execution_count": 12,
   "metadata": {
    "colab": {
     "base_uri": "https://localhost:8080/",
     "height": 573
    },
    "colab_type": "code",
    "id": "jSvOwiw7deOs",
    "outputId": "82d3a064-5306-4a4f-c6d7-6bb2554cc76e"
   },
   "outputs": [
    {
     "data": {
      "image/png": "[encoded data removed]",
      "text/plain": [
       "<Figure size 432x288 with 1 Axes>"
      ]
     },
     "metadata": {
      "tags": []
     },
     "output_type": "display_data"
    },
    {
     "data": {
      "image/png": "[encoded data removed]",
      "text/plain": [
       "<Figure size 432x288 with 1 Axes>"
      ]
     },
     "metadata": {
      "tags": []
     },
     "output_type": "display_data"
    }
   ],
   "source": [
    "# summarize history for accuracy\n",
    "plt.plot(history.history['acc'])\n",
    "plt.plot(history.history['val_acc'])\n",
    "plt.title('model accuracy')\n",
    "plt.ylabel('accuracy')\n",
    "plt.xlabel('epoch')\n",
    "plt.legend(['train', 'test'], loc='upper left')\n",
    "plt.show()\n",
    "# summarize history for loss\n",
    "plt.plot(history.history['loss'])\n",
    "plt.plot(history.history['val_loss'])\n",
    "plt.title('model loss')\n",
    "plt.ylabel('loss')\n",
    "plt.xlabel('epoch')\n",
    "plt.legend(['train', 'test'], loc='upper left')\n",
    "plt.show()"
   ]
  },
  {
   "cell_type": "markdown",
   "metadata": {
    "colab_type": "text",
    "id": "UxRXPP0UdSBy"
   },
   "source": [
    "In Aufgabe G haben wir uns mit der Vermeidung des Overfitting auseinander gesetzt. Um die Differenz zwischen der Genauigkeit auf Test- & Trainingsset zu verringern, haben wir Regularisierer ins Model eingeführt. Hierbei haben wir Dropout Layer und KernelRegularizer verwendet. "
   ]
  },
  {
   "cell_type": "markdown",
   "metadata": {
    "colab_type": "text",
    "id": "HmU7y7KsdSB4"
   },
   "source": [
    "Dropout-Layer sorgen dafür, dass zufällig einzelne Units/Neuronen 'fallen gelassen' werden - diese also zwischendurch ausgelassen/nicht benutzt werden. Dadurch kann verhindert werden, dass die Neuronen sich zu sehr gegenseitig beeinflussen und sich aneinander 'gewöhnen'."
   ]
  },
  {
   "cell_type": "markdown",
   "metadata": {
    "colab_type": "text",
    "id": "YgHDvA-vdSCB"
   },
   "source": [
    "Durch den kernel_regulizer können 'Strafen' auf die Gewichtung der einzelnen Schichten-Parameter oder der Schicht-Aktivitäten während der Optimierung des Systems verhängt werden. Indem über die L2-Norm unsere loss-Funktion um diesen Kernel-Regulizer erweitert wird, kann weiteres Overfitting verhindert werden."
   ]
  },
  {
   "cell_type": "markdown",
   "metadata": {
    "colab_type": "text",
    "id": "_siHz6aPdSCF"
   },
   "source": [
    "Das Ergebnis lässt auf eine deutliche Verbesserung im Vergleich zu unserem Model aus Aufgabe F schließen: Statt eines Accuracy-Unterschiedes zwischen Test- und Trainingsset von 24.04%, konnten wir beim Testset eine Genauigkeit von 77.99%, beim Trainingsset eine von 77.58% erzielen. Somit ist die Differenz der Genauigkeiten auf 0.41% gesunken - nicht mal ein halbes Prozent und konnten somit also das Problem des Overfittings unseres Netzwerks nahezu komplett lösen. Wenn man die Graphen zur Aufgabe F vergleicht fällt direkt auf, dass die Kurven sich nicht direkt zu beginn schneiden sondern sich die test Linie mit der train Linie entwickelt. Also findet hier durch unsere eingesetzten Regularisierer kein Auswendiglernen statt."
   ]
  },
  {
   "cell_type": "code",
   "execution_count": 0,
   "metadata": {
    "colab": {},
    "colab_type": "code",
    "id": "IMn0v1sUdSCP"
   },
   "outputs": [],
   "source": []
  },
  {
   "cell_type": "code",
   "execution_count": 0,
   "metadata": {
    "colab": {},
    "colab_type": "code",
    "id": "CYOUHGB7hXpb"
   },
   "outputs": [],
   "source": []
  }
 ],
 "metadata": {
  "colab": {
   "collapsed_sections": [],
   "name": "Aufgabe G Neural Networks Overfitting.ipynb",
   "provenance": []
  },
  "kernelspec": {
   "display_name": "Python 3",
   "language": "python",
   "name": "python3"
  },
  "language_info": {
   "codemirror_mode": {
    "name": "ipython",
    "version": 3
   },
   "file_extension": ".py",
   "mimetype": "text/x-python",
   "name": "python",
   "nbconvert_exporter": "python",
   "pygments_lexer": "ipython3",
   "version": "3.7.3"
  }
 },
 "nbformat": 4,
 "nbformat_minor": 1
}
