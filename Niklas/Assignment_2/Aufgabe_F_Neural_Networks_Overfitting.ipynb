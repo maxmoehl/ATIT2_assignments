{
 "cells": [
  {
   "cell_type": "markdown",
   "metadata": {
    "colab_type": "text",
    "id": "ykt7M1kKc3yo"
   },
   "source": [
    "# Aufgabe F\n",
    "\n",
    "- Train a neural net and overfit it to cifar.\n",
    "- Don't use any regularization.\n",
    "- Don't use my crappy implementation, but use keras. Use the train and test splits in the data do\n",
    "- evaluate the model."
   ]
  },
  {
   "cell_type": "code",
   "execution_count": 1,
   "metadata": {
    "colab": {
     "base_uri": "https://localhost:8080/",
     "height": 101
    },
    "colab_type": "code",
    "id": "oyJxJzFcc3y1",
    "outputId": "bc48f0d6-003c-4bfb-f470-27a45fe210b9"
   },
   "outputs": [
    {
     "data": {
      "text/html": [
       "<p style=\"color: red;\">\n",
       "The default version of TensorFlow in Colab will soon switch to TensorFlow 2.x.<br>\n",
       "We recommend you <a href=\"https://www.tensorflow.org/guide/migrate\" target=\"_blank\">upgrade</a> now \n",
       "or ensure your notebook will continue to use TensorFlow 1.x via the <code>%tensorflow_version 1.x</code> magic:\n",
       "<a href=\"https://colab.research.google.com/notebooks/tensorflow_version.ipynb\" target=\"_blank\">more info</a>.</p>\n"
      ],
      "text/plain": [
       "<IPython.core.display.HTML object>"
      ]
     },
     "metadata": {
      "tags": []
     },
     "output_type": "display_data"
    },
    {
     "name": "stderr",
     "output_type": "stream",
     "text": [
      "Using TensorFlow backend.\n"
     ]
    }
   ],
   "source": [
    "import matplotlib.pyplot as plt\n",
    "import numpy as np\n",
    "import tensorflow as tf\n",
    "import keras\n",
    "\n",
    "from tensorflow.keras.datasets import cifar10\n",
    "from tensorflow.keras.models import Sequential\n",
    "from tensorflow.keras.layers import Dense, Dropout, Flatten\n",
    "from tensorflow.keras.layers import Conv2D, MaxPooling2D, BatchNormalization\n",
    "from tensorflow.keras import backend as K\n"
   ]
  },
  {
   "cell_type": "markdown",
   "metadata": {
    "colab_type": "text",
    "id": "4X2dn1Z1c3zS"
   },
   "source": [
    "# Datenset vorbereiten"
   ]
  },
  {
   "cell_type": "code",
   "execution_count": 0,
   "metadata": {
    "colab": {},
    "colab_type": "code",
    "id": "U1ZVeeCMc3zX"
   },
   "outputs": [],
   "source": [
    "batch_size = 32 #128\n",
    "num_classes = 10\n",
    "epochs = 20 #Wiederholungen (für Testzweck vllt. 3 / für endgültige Lösung ca. 20)\n",
    "\n",
    "# Bildgröße für Input\n",
    "img_rows, img_cols = 32, 32"
   ]
  },
  {
   "cell_type": "code",
   "execution_count": 3,
   "metadata": {
    "colab": {
     "base_uri": "https://localhost:8080/",
     "height": 109
    },
    "colab_type": "code",
    "id": "ghB5bNKhc3zn",
    "outputId": "29225559-06d8-4e42-a882-a87e37691ce2",
    "scrolled": true
   },
   "outputs": [
    {
     "name": "stdout",
     "output_type": "stream",
     "text": [
      "Downloading data from https://www.cs.toronto.edu/~kriz/cifar-10-python.tar.gz\n",
      "170500096/170498071 [==============================] - 2s 0us/step\n",
      "x_train shape: (50000, 32, 32, 3)\n",
      "50000 train samples\n",
      "10000 test samples\n"
     ]
    }
   ],
   "source": [
    "# Datenset, unterteilt in Trainings-/Testset\n",
    "cifar = cifar10\n",
    "(x_train, y_train), (x_test, y_test) = cifar.load_data()\n",
    "\n",
    "print('x_train shape:', x_train.shape)\n",
    "print(x_train.shape[0], 'train samples')\n",
    "print(x_test.shape[0], 'test samples')"
   ]
  },
  {
   "cell_type": "code",
   "execution_count": 4,
   "metadata": {
    "colab": {
     "base_uri": "https://localhost:8080/",
     "height": 35
    },
    "colab_type": "code",
    "id": "fKoF01-Vc30F",
    "outputId": "9844d51c-4dcf-463a-8e4a-9485a3b590b7",
    "scrolled": false
   },
   "outputs": [
    {
     "data": {
      "text/plain": [
       "(50000, 32, 32, 3)"
      ]
     },
     "execution_count": 4,
     "metadata": {
      "tags": []
     },
     "output_type": "execute_result"
    }
   ],
   "source": [
    "x_train.shape"
   ]
  },
  {
   "cell_type": "code",
   "execution_count": 0,
   "metadata": {
    "colab": {},
    "colab_type": "code",
    "id": "cbw_A6axc30U"
   },
   "outputs": [],
   "source": [
    "if K.image_data_format() == 'channels_first':\n",
    "    x_train = x_train.reshape(x_train.shape[0], 3, img_rows, img_cols)\n",
    "    x_test = x_test.reshape(x_test.shape[0],3, img_rows, img_cols)\n",
    "    input_shape = (3, img_rows, img_cols)\n",
    "else:\n",
    "    x_train = x_train.reshape(x_train.shape[0], img_rows, img_cols, 3)\n",
    "    x_test = x_test.reshape(x_test.shape[0], img_rows, img_cols, 3)\n",
    "    input_shape = (img_rows, img_cols, 3)"
   ]
  },
  {
   "cell_type": "code",
   "execution_count": 6,
   "metadata": {
    "colab": {
     "base_uri": "https://localhost:8080/",
     "height": 72
    },
    "colab_type": "code",
    "id": "FJJCl2Ydc30k",
    "outputId": "2edc04ee-3289-44cc-eed1-34282f8bd365"
   },
   "outputs": [
    {
     "name": "stdout",
     "output_type": "stream",
     "text": [
      "x_train shape: (50000, 32, 32, 3)\n",
      "50000 train samples\n",
      "10000 test samples\n"
     ]
    }
   ],
   "source": [
    "# Aufräumen + Anpassen\n",
    "\n",
    "x_train = x_train.astype('float32')\n",
    "x_test = x_test.astype('float32')\n",
    "x_train /= 255\n",
    "x_test /= 255\n",
    "\n",
    "# convert class vectors to binary class matrices\n",
    "y_train = keras.utils.to_categorical(y_train, num_classes)\n",
    "y_test = keras.utils.to_categorical(y_test, num_classes)\n",
    "\n",
    "print('x_train shape:', x_train.shape)\n",
    "print(x_train.shape[0], 'train samples')\n",
    "print(x_test.shape[0], 'test samples')"
   ]
  },
  {
   "cell_type": "markdown",
   "metadata": {
    "colab_type": "text",
    "id": "RE1ZsFbDc302"
   },
   "source": [
    "# Modell erstellen "
   ]
  },
  {
   "cell_type": "code",
   "execution_count": 0,
   "metadata": {
    "colab": {},
    "colab_type": "code",
    "id": "Vp8TjeCyc306"
   },
   "outputs": [],
   "source": [
    "def model():\n",
    "    \n",
    "    model = Sequential()\n",
    "    model.add(Conv2D(32, (3, 3), activation='relu', padding='same', input_shape=input_shape))  \n",
    "    model.add(Conv2D(32, (3, 3), activation='relu'))    \n",
    "    model.add(MaxPooling2D(pool_size=(2, 2)))\n",
    "    model.add(Conv2D(64, (3, 3), activation='relu', padding='same'))    \n",
    "    model.add(Conv2D(64, (3, 3), activation='relu'))\n",
    "    model.add(MaxPooling2D(pool_size=(2, 2)))\n",
    "    model.add(Flatten())    \n",
    "    model.add(Dense(512, activation='relu'))   \n",
    "    model.add(Dense(num_classes, activation='softmax'))\n",
    "     \n",
    "    model.compile(loss='categorical_crossentropy', optimizer='adam', metrics=['accuracy'])   \n",
    "    model.summary()    \n",
    "    return model"
   ]
  },
  {
   "cell_type": "code",
   "execution_count": 8,
   "metadata": {
    "colab": {
     "base_uri": "https://localhost:8080/",
     "height": 570
    },
    "colab_type": "code",
    "id": "9AscNOHnc31J",
    "outputId": "d7b210e3-24d3-4d8a-dae8-c41d47cb0c22",
    "scrolled": true
   },
   "outputs": [
    {
     "name": "stdout",
     "output_type": "stream",
     "text": [
      "WARNING:tensorflow:From /usr/local/lib/python3.6/dist-packages/tensorflow_core/python/ops/resource_variable_ops.py:1630: calling BaseResourceVariable.__init__ (from tensorflow.python.ops.resource_variable_ops) with constraint is deprecated and will be removed in a future version.\n",
      "Instructions for updating:\n",
      "If using Keras pass *_constraint arguments to layers.\n",
      "Model: \"sequential\"\n",
      "_________________________________________________________________\n",
      "Layer (type)                 Output Shape              Param #   \n",
      "=================================================================\n",
      "conv2d (Conv2D)              (None, 32, 32, 32)        896       \n",
      "_________________________________________________________________\n",
      "conv2d_1 (Conv2D)            (None, 30, 30, 32)        9248      \n",
      "_________________________________________________________________\n",
      "max_pooling2d (MaxPooling2D) (None, 15, 15, 32)        0         \n",
      "_________________________________________________________________\n",
      "conv2d_2 (Conv2D)            (None, 15, 15, 64)        18496     \n",
      "_________________________________________________________________\n",
      "conv2d_3 (Conv2D)            (None, 13, 13, 64)        36928     \n",
      "_________________________________________________________________\n",
      "max_pooling2d_1 (MaxPooling2 (None, 6, 6, 64)          0         \n",
      "_________________________________________________________________\n",
      "flatten (Flatten)            (None, 2304)              0         \n",
      "_________________________________________________________________\n",
      "dense (Dense)                (None, 512)               1180160   \n",
      "_________________________________________________________________\n",
      "dense_1 (Dense)              (None, 10)                5130      \n",
      "=================================================================\n",
      "Total params: 1,250,858\n",
      "Trainable params: 1,250,858\n",
      "Non-trainable params: 0\n",
      "_________________________________________________________________\n"
     ]
    }
   ],
   "source": [
    "model = model()"
   ]
  },
  {
   "cell_type": "markdown",
   "metadata": {
    "colab_type": "text",
    "id": "nTr_d8gjc31p"
   },
   "source": [
    "# Modell trainieren + Auswertung"
   ]
  },
  {
   "cell_type": "code",
   "execution_count": 9,
   "metadata": {
    "colab": {
     "base_uri": "https://localhost:8080/",
     "height": 790
    },
    "colab_type": "code",
    "id": "xIW8Wn9cc31t",
    "outputId": "5c00d4b2-76e3-4a4d-838d-cf1ddac3f74f",
    "scrolled": false
   },
   "outputs": [
    {
     "name": "stdout",
     "output_type": "stream",
     "text": [
      "Train on 50000 samples, validate on 10000 samples\n",
      "Epoch 1/20\n",
      "50000/50000 [==============================] - 235s 5ms/sample - loss: 1.3284 - acc: 0.5238 - val_loss: 1.0284 - val_acc: 0.6350\n",
      "Epoch 2/20\n",
      "50000/50000 [==============================] - 233s 5ms/sample - loss: 0.8601 - acc: 0.6972 - val_loss: 0.8256 - val_acc: 0.7135\n",
      "Epoch 3/20\n",
      "50000/50000 [==============================] - 238s 5ms/sample - loss: 0.6621 - acc: 0.7691 - val_loss: 0.7709 - val_acc: 0.7372\n",
      "Epoch 4/20\n",
      "50000/50000 [==============================] - 239s 5ms/sample - loss: 0.5138 - acc: 0.8193 - val_loss: 0.7893 - val_acc: 0.7430\n",
      "Epoch 5/20\n",
      "50000/50000 [==============================] - 239s 5ms/sample - loss: 0.3695 - acc: 0.8701 - val_loss: 0.8681 - val_acc: 0.7420\n",
      "Epoch 6/20\n",
      "50000/50000 [==============================] - 238s 5ms/sample - loss: 0.2622 - acc: 0.9074 - val_loss: 0.9290 - val_acc: 0.7497\n",
      "Epoch 7/20\n",
      "50000/50000 [==============================] - 239s 5ms/sample - loss: 0.1790 - acc: 0.9372 - val_loss: 1.1225 - val_acc: 0.7442\n",
      "Epoch 8/20\n",
      "50000/50000 [==============================] - 239s 5ms/sample - loss: 0.1490 - acc: 0.9480 - val_loss: 1.2920 - val_acc: 0.7361\n",
      "Epoch 9/20\n",
      "50000/50000 [==============================] - 240s 5ms/sample - loss: 0.1202 - acc: 0.9579 - val_loss: 1.3428 - val_acc: 0.7514\n",
      "Epoch 10/20\n",
      "50000/50000 [==============================] - 239s 5ms/sample - loss: 0.1103 - acc: 0.9633 - val_loss: 1.4396 - val_acc: 0.7277\n",
      "Epoch 11/20\n",
      "50000/50000 [==============================] - 239s 5ms/sample - loss: 0.1014 - acc: 0.9659 - val_loss: 1.5639 - val_acc: 0.7393\n",
      "Epoch 12/20\n",
      "50000/50000 [==============================] - 239s 5ms/sample - loss: 0.0962 - acc: 0.9674 - val_loss: 1.6739 - val_acc: 0.7412\n",
      "Epoch 13/20\n",
      "50000/50000 [==============================] - 239s 5ms/sample - loss: 0.0877 - acc: 0.9705 - val_loss: 1.6923 - val_acc: 0.7304\n",
      "Epoch 14/20\n",
      "50000/50000 [==============================] - 240s 5ms/sample - loss: 0.0833 - acc: 0.9725 - val_loss: 1.9453 - val_acc: 0.7234\n",
      "Epoch 15/20\n",
      "50000/50000 [==============================] - 238s 5ms/sample - loss: 0.0831 - acc: 0.9724 - val_loss: 1.9443 - val_acc: 0.7314\n",
      "Epoch 16/20\n",
      "50000/50000 [==============================] - 243s 5ms/sample - loss: 0.0813 - acc: 0.9740 - val_loss: 1.9679 - val_acc: 0.7324\n",
      "Epoch 17/20\n",
      "50000/50000 [==============================] - 241s 5ms/sample - loss: 0.0758 - acc: 0.9759 - val_loss: 1.8766 - val_acc: 0.7359\n",
      "Epoch 18/20\n",
      "50000/50000 [==============================] - 242s 5ms/sample - loss: 0.0757 - acc: 0.9759 - val_loss: 2.0098 - val_acc: 0.7388\n",
      "Epoch 19/20\n",
      "50000/50000 [==============================] - 257s 5ms/sample - loss: 0.0658 - acc: 0.9795 - val_loss: 2.2449 - val_acc: 0.7309\n",
      "Epoch 20/20\n",
      "50000/50000 [==============================] - 254s 5ms/sample - loss: 0.0751 - acc: 0.9764 - val_loss: 1.9502 - val_acc: 0.7443\n"
     ]
    }
   ],
   "source": [
    "history = model.fit(x_train, y_train, batch_size=batch_size, epochs=epochs, verbose=1, validation_data=(x_test, y_test)) #daueeeert!!!"
   ]
  },
  {
   "cell_type": "code",
   "execution_count": 10,
   "metadata": {
    "colab": {
     "base_uri": "https://localhost:8080/",
     "height": 54
    },
    "colab_type": "code",
    "id": "N-LZfRHFc318",
    "outputId": "1b0476d0-a686-4baf-d3b9-dc39026c77fc"
   },
   "outputs": [
    {
     "name": "stdout",
     "output_type": "stream",
     "text": [
      "Test loss: 1.950222935771942\n",
      "Test accuracy: 0.7443\n"
     ]
    }
   ],
   "source": [
    "#Auswertung\n",
    "ergebnis = model.evaluate(x_test, y_test, verbose=0)\n",
    "print('Test loss:', ergebnis[0])\n",
    "print('Test accuracy:', ergebnis[1])\n"
   ]
  },
  {
   "cell_type": "code",
   "execution_count": 12,
   "metadata": {
    "colab": {
     "base_uri": "https://localhost:8080/",
     "height": 573
    },
    "colab_type": "code",
    "id": "ymvUOLUkc32M",
    "outputId": "5bbf7425-7ae2-40e9-82fa-7348e1138fbd"
   },
   "outputs": [
    {
     "data": {
      "image/png": "[encoded data removed]",
      "text/plain": [
       "<Figure size 432x288 with 1 Axes>"
      ]
     },
     "metadata": {
      "tags": []
     },
     "output_type": "display_data"
    },
    {
     "data": {
      "image/png": "[encoded data removed]",
      "text/plain": [
       "<Figure size 432x288 with 1 Axes>"
      ]
     },
     "metadata": {
      "tags": []
     },
     "output_type": "display_data"
    }
   ],
   "source": [
    "# summarize history for accuracy\n",
    "plt.plot(history.history['acc'])\n",
    "plt.plot(history.history['val_acc'])\n",
    "plt.title('model accuracy')\n",
    "plt.ylabel('accuracy')\n",
    "plt.xlabel('epoch')\n",
    "plt.legend(['train', 'test'], loc='upper left')\n",
    "plt.show()\n",
    "# summarize history for loss\n",
    "plt.plot(history.history['loss'])\n",
    "plt.plot(history.history['val_loss'])\n",
    "plt.title('model loss')\n",
    "plt.ylabel('loss')\n",
    "plt.xlabel('epoch')\n",
    "plt.legend(['train', 'test'], loc='upper left')\n",
    "plt.show()"
   ]
  },
  {
   "cell_type": "markdown",
   "metadata": {
    "colab_type": "text",
    "id": "OHOWUj9gc32l"
   },
   "source": [
    "Overfitting ist ein Szenario, in dem das Modell bei Trainingsdaten gut abschneidet, aber bei Daten, die während des Trainings nicht sichtbar sind, schlecht abschneidet. Dies bedeutet im Grunde genommen, dass Ihr Modell die Trainingsdaten auswendig gelernt hat, anstatt die Beziehungen zwischen Features und Labels zu erlernen.\n",
    "\n",
    "Overfitting ist mit den verfügbaren Genauigkeitsvisualisierungen einfach zu diagnostizieren. Wenn \"Accuracy\" (gemessen am Trainingsset) sehr gut ist und \"Validation Accuracy\" (gemessen an einem Validierungsset) nicht so gut ist, dann passt das Modell overfitted.\n",
    "\n",
    "Die Genauigkeit beim Trainingsset von 97.71% zeigt zwar, dass das Modell prinzipiell gut funktioniert, allerdings ernüchtert das Ergebnis dann leider beim Testset - 73.67%. Der Unterschied von 24.04 Prozentpunkten zeigt, dass unser neuronales Netz overfitted. Das bedeutet, dass das Trainingsset von unserem neuronalem Netz auswendig gelernt wurde. Dieser Punkt ist auch gut in den obrigen Graphen zu sehen, wenn im model accuracy Graphen die train Linie sich mit der test Linie schneidet."
   ]
  },
  {
   "cell_type": "code",
   "execution_count": 0,
   "metadata": {
    "colab": {},
    "colab_type": "code",
    "id": "FJzYARfmc32p"
   },
   "outputs": [],
   "source": []
  }
 ],
 "metadata": {
  "colab": {
   "collapsed_sections": [],
   "name": "Aufgabe F Neural Networks Overfitting.ipynb",
   "provenance": []
  },
  "kernelspec": {
   "display_name": "Python 3",
   "language": "python",
   "name": "python3"
  },
  "language_info": {
   "codemirror_mode": {
    "name": "ipython",
    "version": 3
   },
   "file_extension": ".py",
   "mimetype": "text/x-python",
   "name": "python",
   "nbconvert_exporter": "python",
   "pygments_lexer": "ipython3",
   "version": "3.7.3"
  }
 },
 "nbformat": 4,
 "nbformat_minor": 1
}
