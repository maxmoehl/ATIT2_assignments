{
 "cells": [
  {
   "cell_type": "markdown",
   "metadata": {},
   "source": [
    "# A SF Permits Cleaning"
   ]
  },
  {
   "cell_type": "markdown",
   "metadata": {},
   "source": [
    "4 points  \n",
    "Download the Building_Permits.csv from Kaggle  \n",
    "Clean the San Francisco Building permit dataset  \n",
    "Use imputation were necessary  "
   ]
  },
  {
   "cell_type": "code",
   "execution_count": 1,
   "metadata": {},
   "outputs": [],
   "source": [
    "import pandas as pd\n",
    "import matplotlib.pyplot as plt\n",
    "import seaborn as sns\n",
    "plt.rc(\"font\", size=14)\n",
    "sns.set(style=\"white\")\n",
    "sns.set(style=\"whitegrid\", color_codes=True)"
   ]
  },
  {
   "cell_type": "code",
   "execution_count": 2,
   "metadata": {
    "scrolled": true
   },
   "outputs": [
    {
     "name": "stderr",
     "output_type": "stream",
     "text": [
      "c:\\users\\d074009\\appdata\\local\\programs\\python\\python37\\lib\\site-packages\\IPython\\core\\interactiveshell.py:3058: DtypeWarning: Columns (22,32) have mixed types. Specify dtype option on import or set low_memory=False.\n",
      "  interactivity=interactivity, compiler=compiler, result=result)\n"
     ]
    },
    {
     "data": {
      "text/html": [
       "<div>\n",
       "<style scoped>\n",
       "    .dataframe tbody tr th:only-of-type {\n",
       "        vertical-align: middle;\n",
       "    }\n",
       "\n",
       "    .dataframe tbody tr th {\n",
       "        vertical-align: top;\n",
       "    }\n",
       "\n",
       "    .dataframe thead th {\n",
       "        text-align: right;\n",
       "    }\n",
       "</style>\n",
       "<table border=\"1\" class=\"dataframe\">\n",
       "  <thead>\n",
       "    <tr style=\"text-align: right;\">\n",
       "      <th></th>\n",
       "      <th>Permit Number</th>\n",
       "      <th>Permit Type</th>\n",
       "      <th>Permit Type Definition</th>\n",
       "      <th>Permit Creation Date</th>\n",
       "      <th>Block</th>\n",
       "      <th>Lot</th>\n",
       "      <th>Street Number</th>\n",
       "      <th>Street Number Suffix</th>\n",
       "      <th>Street Name</th>\n",
       "      <th>Street Suffix</th>\n",
       "      <th>...</th>\n",
       "      <th>Existing Construction Type</th>\n",
       "      <th>Existing Construction Type Description</th>\n",
       "      <th>Proposed Construction Type</th>\n",
       "      <th>Proposed Construction Type Description</th>\n",
       "      <th>Site Permit</th>\n",
       "      <th>Supervisor District</th>\n",
       "      <th>Neighborhoods - Analysis Boundaries</th>\n",
       "      <th>Zipcode</th>\n",
       "      <th>Location</th>\n",
       "      <th>Record ID</th>\n",
       "    </tr>\n",
       "  </thead>\n",
       "  <tbody>\n",
       "    <tr>\n",
       "      <td>0</td>\n",
       "      <td>201505065519</td>\n",
       "      <td>4</td>\n",
       "      <td>sign - erect</td>\n",
       "      <td>05/06/2015</td>\n",
       "      <td>0326</td>\n",
       "      <td>023</td>\n",
       "      <td>140</td>\n",
       "      <td>NaN</td>\n",
       "      <td>Ellis</td>\n",
       "      <td>St</td>\n",
       "      <td>...</td>\n",
       "      <td>3.0</td>\n",
       "      <td>constr type 3</td>\n",
       "      <td>NaN</td>\n",
       "      <td>NaN</td>\n",
       "      <td>NaN</td>\n",
       "      <td>3.0</td>\n",
       "      <td>Tenderloin</td>\n",
       "      <td>94102.0</td>\n",
       "      <td>(37.785719256680785, -122.40852313194863)</td>\n",
       "      <td>1380611233945</td>\n",
       "    </tr>\n",
       "    <tr>\n",
       "      <td>1</td>\n",
       "      <td>201604195146</td>\n",
       "      <td>4</td>\n",
       "      <td>sign - erect</td>\n",
       "      <td>04/19/2016</td>\n",
       "      <td>0306</td>\n",
       "      <td>007</td>\n",
       "      <td>440</td>\n",
       "      <td>NaN</td>\n",
       "      <td>Geary</td>\n",
       "      <td>St</td>\n",
       "      <td>...</td>\n",
       "      <td>3.0</td>\n",
       "      <td>constr type 3</td>\n",
       "      <td>NaN</td>\n",
       "      <td>NaN</td>\n",
       "      <td>NaN</td>\n",
       "      <td>3.0</td>\n",
       "      <td>Tenderloin</td>\n",
       "      <td>94102.0</td>\n",
       "      <td>(37.78733980600732, -122.41063199757738)</td>\n",
       "      <td>1420164406718</td>\n",
       "    </tr>\n",
       "    <tr>\n",
       "      <td>2</td>\n",
       "      <td>201605278609</td>\n",
       "      <td>3</td>\n",
       "      <td>additions alterations or repairs</td>\n",
       "      <td>05/27/2016</td>\n",
       "      <td>0595</td>\n",
       "      <td>203</td>\n",
       "      <td>1647</td>\n",
       "      <td>NaN</td>\n",
       "      <td>Pacific</td>\n",
       "      <td>Av</td>\n",
       "      <td>...</td>\n",
       "      <td>1.0</td>\n",
       "      <td>constr type 1</td>\n",
       "      <td>1.0</td>\n",
       "      <td>constr type 1</td>\n",
       "      <td>NaN</td>\n",
       "      <td>3.0</td>\n",
       "      <td>Russian Hill</td>\n",
       "      <td>94109.0</td>\n",
       "      <td>(37.7946573324287, -122.42232562979227)</td>\n",
       "      <td>1424856504716</td>\n",
       "    </tr>\n",
       "    <tr>\n",
       "      <td>3</td>\n",
       "      <td>201611072166</td>\n",
       "      <td>8</td>\n",
       "      <td>otc alterations permit</td>\n",
       "      <td>11/07/2016</td>\n",
       "      <td>0156</td>\n",
       "      <td>011</td>\n",
       "      <td>1230</td>\n",
       "      <td>NaN</td>\n",
       "      <td>Pacific</td>\n",
       "      <td>Av</td>\n",
       "      <td>...</td>\n",
       "      <td>5.0</td>\n",
       "      <td>wood frame (5)</td>\n",
       "      <td>5.0</td>\n",
       "      <td>wood frame (5)</td>\n",
       "      <td>NaN</td>\n",
       "      <td>3.0</td>\n",
       "      <td>Nob Hill</td>\n",
       "      <td>94109.0</td>\n",
       "      <td>(37.79595867909168, -122.41557405519474)</td>\n",
       "      <td>1443574295566</td>\n",
       "    </tr>\n",
       "    <tr>\n",
       "      <td>4</td>\n",
       "      <td>201611283529</td>\n",
       "      <td>6</td>\n",
       "      <td>demolitions</td>\n",
       "      <td>11/28/2016</td>\n",
       "      <td>0342</td>\n",
       "      <td>001</td>\n",
       "      <td>950</td>\n",
       "      <td>NaN</td>\n",
       "      <td>Market</td>\n",
       "      <td>St</td>\n",
       "      <td>...</td>\n",
       "      <td>3.0</td>\n",
       "      <td>constr type 3</td>\n",
       "      <td>NaN</td>\n",
       "      <td>NaN</td>\n",
       "      <td>NaN</td>\n",
       "      <td>6.0</td>\n",
       "      <td>Tenderloin</td>\n",
       "      <td>94102.0</td>\n",
       "      <td>(37.78315261897309, -122.40950883997789)</td>\n",
       "      <td>144548169992</td>\n",
       "    </tr>\n",
       "  </tbody>\n",
       "</table>\n",
       "<p>5 rows × 43 columns</p>\n",
       "</div>"
      ],
      "text/plain": [
       "  Permit Number  Permit Type            Permit Type Definition  \\\n",
       "0  201505065519            4                      sign - erect   \n",
       "1  201604195146            4                      sign - erect   \n",
       "2  201605278609            3  additions alterations or repairs   \n",
       "3  201611072166            8            otc alterations permit   \n",
       "4  201611283529            6                       demolitions   \n",
       "\n",
       "  Permit Creation Date Block  Lot  Street Number Street Number Suffix  \\\n",
       "0           05/06/2015  0326  023            140                  NaN   \n",
       "1           04/19/2016  0306  007            440                  NaN   \n",
       "2           05/27/2016  0595  203           1647                  NaN   \n",
       "3           11/07/2016  0156  011           1230                  NaN   \n",
       "4           11/28/2016  0342  001            950                  NaN   \n",
       "\n",
       "  Street Name Street Suffix  ...  Existing Construction Type  \\\n",
       "0       Ellis            St  ...                         3.0   \n",
       "1       Geary            St  ...                         3.0   \n",
       "2     Pacific            Av  ...                         1.0   \n",
       "3     Pacific            Av  ...                         5.0   \n",
       "4      Market            St  ...                         3.0   \n",
       "\n",
       "  Existing Construction Type Description Proposed Construction Type  \\\n",
       "0                          constr type 3                        NaN   \n",
       "1                          constr type 3                        NaN   \n",
       "2                          constr type 1                        1.0   \n",
       "3                         wood frame (5)                        5.0   \n",
       "4                          constr type 3                        NaN   \n",
       "\n",
       "  Proposed Construction Type Description Site Permit Supervisor District  \\\n",
       "0                                    NaN         NaN                 3.0   \n",
       "1                                    NaN         NaN                 3.0   \n",
       "2                          constr type 1         NaN                 3.0   \n",
       "3                         wood frame (5)         NaN                 3.0   \n",
       "4                                    NaN         NaN                 6.0   \n",
       "\n",
       "  Neighborhoods - Analysis Boundaries  Zipcode  \\\n",
       "0                          Tenderloin  94102.0   \n",
       "1                          Tenderloin  94102.0   \n",
       "2                        Russian Hill  94109.0   \n",
       "3                            Nob Hill  94109.0   \n",
       "4                          Tenderloin  94102.0   \n",
       "\n",
       "                                    Location      Record ID  \n",
       "0  (37.785719256680785, -122.40852313194863)  1380611233945  \n",
       "1   (37.78733980600732, -122.41063199757738)  1420164406718  \n",
       "2    (37.7946573324287, -122.42232562979227)  1424856504716  \n",
       "3   (37.79595867909168, -122.41557405519474)  1443574295566  \n",
       "4   (37.78315261897309, -122.40950883997789)   144548169992  \n",
       "\n",
       "[5 rows x 43 columns]"
      ]
     },
     "execution_count": 2,
     "metadata": {},
     "output_type": "execute_result"
    }
   ],
   "source": [
    "# load San Francisco Building Permits into a pandas dataframe\n",
    "sanfrancisco_df = pd.read_csv(\"./Building_Permits.csv\")\n",
    "\n",
    "# preview\n",
    "sanfrancisco_df.head(5)"
   ]
  },
  {
   "cell_type": "markdown",
   "metadata": {},
   "source": [
    "### Data Quality & Missing Value Assessment\n",
    "Um einen Überblick über die Daten zu bekommen, lassen wir uns ausgeben wie hoch der Anteil an fehlenden Werten ist."
   ]
  },
  {
   "cell_type": "code",
   "execution_count": 3,
   "metadata": {
    "scrolled": true
   },
   "outputs": [
    {
     "data": {
      "text/plain": [
       "Permit Number                               0.00\n",
       "Permit Type                                 0.00\n",
       "Permit Type Definition                      0.00\n",
       "Permit Creation Date                        0.00\n",
       "Block                                       0.00\n",
       "Lot                                         0.00\n",
       "Street Number                               0.00\n",
       "Street Number Suffix                       98.89\n",
       "Street Name                                 0.00\n",
       "Street Suffix                               1.39\n",
       "Unit                                       85.18\n",
       "Unit Suffix                                99.01\n",
       "Description                                 0.15\n",
       "Current Status                              0.00\n",
       "Current Status Date                         0.00\n",
       "Filed Date                                  0.00\n",
       "Issued Date                                 7.51\n",
       "Completed Date                             51.14\n",
       "First Construction Document Date            7.51\n",
       "Structural Notification                    96.52\n",
       "Number of Existing Stories                 21.51\n",
       "Number of Proposed Stories                 21.55\n",
       "Voluntary Soft-Story Retrofit              99.98\n",
       "Fire Only Permit                           90.53\n",
       "Permit Expiration Date                     26.08\n",
       "Estimated Cost                             19.14\n",
       "Revised Cost                                3.05\n",
       "Existing Use                               20.67\n",
       "Existing Units                             25.91\n",
       "Proposed Use                               21.34\n",
       "Proposed Units                             25.60\n",
       "Plansets                                   18.76\n",
       "TIDF Compliance                           100.00\n",
       "Existing Construction Type                 21.80\n",
       "Existing Construction Type Description     21.80\n",
       "Proposed Construction Type                 21.70\n",
       "Proposed Construction Type Description     21.70\n",
       "Site Permit                                97.31\n",
       "Supervisor District                         0.86\n",
       "Neighborhoods - Analysis Boundaries         0.87\n",
       "Zipcode                                     0.86\n",
       "Location                                    0.85\n",
       "Record ID                                   0.00\n",
       "dtype: float64"
      ]
     },
     "execution_count": 3,
     "metadata": {},
     "output_type": "execute_result"
    }
   ],
   "source": [
    "n_total = len(sanfrancisco_df)\n",
    "\n",
    "round(sanfrancisco_df.isnull().sum() / n_total * 100, 2)"
   ]
  },
  {
   "cell_type": "markdown",
   "metadata": {},
   "source": [
    "Exploring the dataset in Excel, we discovered that sometimes there is only used a \"Y\" to symbolize true and empty to symbolize false. We decided to use 1 for \"Y\"/true and 0 for empty/false.  \n",
    "Affected columns are:  \n",
    "- Structural Notification\n",
    "- Voluntary Soft-Story Retrofit\n",
    "- Fire Only Permit\n",
    "- TIDF Compliance (but only two rows contain values, therefore we will drop the column)\n",
    "- Site Permit"
   ]
  },
  {
   "cell_type": "code",
   "execution_count": 4,
   "metadata": {
    "scrolled": true
   },
   "outputs": [],
   "source": [
    "def replace_y_with_0_1(df: pd.DataFrame, column: str):\n",
    "    \"\"\"\n",
    "    Ersetzt Y und leere Felder in Spalten die nur Y und leere Felder erhalten durch 1 und 0 \n",
    "    :param df: Dataframe in dem sich die Spalten befinden\n",
    "    :param column: Name der Spalte in der die Werte ersetzt werden sollen\n",
    "    :return: DataFrame mit modifizierten Spalten\n",
    "    \"\"\"\n",
    "    df[column].fillna(0, inplace=True)\n",
    "    df[column].replace('Y', 1, inplace=True)"
   ]
  },
  {
   "cell_type": "code",
   "execution_count": 5,
   "metadata": {},
   "outputs": [],
   "source": [
    "sanfrancisco_df.drop(\"TIDF Compliance\", axis=1, inplace=True)\n",
    "\n",
    "replace_y_with_0_1(sanfrancisco_df, \"Structural Notification\")\n",
    "replace_y_with_0_1(sanfrancisco_df, \"Voluntary Soft-Story Retrofit\")\n",
    "replace_y_with_0_1(sanfrancisco_df, \"Fire Only Permit\")\n",
    "replace_y_with_0_1(sanfrancisco_df, \"Site Permit\")"
   ]
  },
  {
   "cell_type": "markdown",
   "metadata": {},
   "source": [
    "Da wir mit dem `Supervisor District` bereits eine geografische Einteilung in Regionen haben, entfernen wir alle Adressdaten und die Koordinaten, da wir die für unsere Vorhersage in Textform nicht gebrauchen können und One-Hot-Encoding keinen Sinn macht:\n",
    "- Block\n",
    "- Lot\n",
    "- Street Number\n",
    "- Street Number Suffix\n",
    "- Street Name\n",
    "- Street Suffix\n",
    "- Unit\n",
    "- Unit Suffix\n",
    "- Neighborhoods - Analysis Boundaries\n",
    "- Zipcode\n",
    "- Location\n",
    "\n",
    "Außerdem entfernen wir Felder die Freitext enthalten:\n",
    "- Description\n",
    "- Existing Use\n",
    "- Proposed Use"
   ]
  },
  {
   "cell_type": "code",
   "execution_count": 6,
   "metadata": {},
   "outputs": [],
   "source": [
    "sanfrancisco_df.drop(\"Block\", axis=1, inplace=True)\n",
    "sanfrancisco_df.drop(\"Lot\", axis=1, inplace=True)\n",
    "sanfrancisco_df.drop(\"Street Number\", axis=1, inplace=True)\n",
    "sanfrancisco_df.drop(\"Street Number Suffix\", axis=1, inplace=True)\n",
    "sanfrancisco_df.drop(\"Street Name\", axis=1, inplace=True)\n",
    "sanfrancisco_df.drop(\"Street Suffix\", axis=1, inplace=True)\n",
    "sanfrancisco_df.drop(\"Unit\", axis=1, inplace=True)\n",
    "sanfrancisco_df.drop(\"Unit Suffix\", axis=1, inplace=True)\n",
    "sanfrancisco_df.drop(\"Neighborhoods - Analysis Boundaries\", axis=1, inplace=True)\n",
    "sanfrancisco_df.drop(\"Zipcode\", axis=1, inplace=True)\n",
    "sanfrancisco_df.drop(\"Location\", axis=1, inplace=True)\n",
    "\n",
    "sanfrancisco_df.drop(\"Description\", axis=1, inplace=True)\n",
    "sanfrancisco_df.drop(\"Existing Use\", axis=1, inplace=True)\n",
    "sanfrancisco_df.drop(\"Proposed Use\", axis=1, inplace=True)"
   ]
  },
  {
   "cell_type": "markdown",
   "metadata": {},
   "source": [
    "Und alle Zeilen die keinen `Supervisor District` haben werden entfernt da wir die Zeilen nicht manuell den Distrikten zuordnen können."
   ]
  },
  {
   "cell_type": "code",
   "execution_count": 7,
   "metadata": {},
   "outputs": [],
   "source": [
    "sanfrancisco_df = sanfrancisco_df[sanfrancisco_df[\"Supervisor District\"].notna()]"
   ]
  },
  {
   "cell_type": "markdown",
   "metadata": {},
   "source": [
    "For:\n",
    "- Number of Existing Stories\n",
    "- Number of Proposed Stories\n",
    "- Existing Units\n",
    "- Proposed Units\n",
    "\n",
    "we are going to fill empty values with zeros because we may look at the difference between before/after values and filling the values with zeros won't damage the results but ease calculation later on."
   ]
  },
  {
   "cell_type": "code",
   "execution_count": 8,
   "metadata": {},
   "outputs": [],
   "source": [
    "sanfrancisco_df[\"Number of Existing Stories\"].fillna(0, inplace=True)\n",
    "sanfrancisco_df[\"Number of Proposed Stories\"].fillna(0, inplace=True)\n",
    "sanfrancisco_df[\"Existing Units\"].fillna(0, inplace=True)\n",
    "sanfrancisco_df[\"Proposed Units\"].fillna(0, inplace=True)"
   ]
  },
  {
   "cell_type": "markdown",
   "metadata": {},
   "source": [
    "We will drop:\n",
    "- Existing Construction Type\n",
    "- Proposed Construction Type\n",
    "\n",
    "and will use the corresponding Description columns for one-hot encoding later.  \n",
    "We will fill the missing values with \"no constr type 0\"."
   ]
  },
  {
   "cell_type": "code",
   "execution_count": 9,
   "metadata": {},
   "outputs": [],
   "source": [
    "sanfrancisco_df.drop(\"Existing Construction Type\", axis=1, inplace=True)\n",
    "sanfrancisco_df.drop(\"Proposed Construction Type\", axis=1, inplace=True)\n",
    "sanfrancisco_df[\"Existing Construction Type Description\"].fillna(\"no constr type 0\", inplace=True)\n",
    "sanfrancisco_df[\"Proposed Construction Type Description\"].fillna(\"no constr type 0\", inplace=True)"
   ]
  },
  {
   "cell_type": "code",
   "execution_count": 10,
   "metadata": {},
   "outputs": [
    {
     "data": {
      "text/plain": [
       "Permit Number                              0.00\n",
       "Permit Type                                0.00\n",
       "Permit Type Definition                     0.00\n",
       "Permit Creation Date                       0.00\n",
       "Current Status                             0.00\n",
       "Current Status Date                        0.00\n",
       "Filed Date                                 0.00\n",
       "Issued Date                                7.48\n",
       "Completed Date                            50.65\n",
       "First Construction Document Date           7.48\n",
       "Structural Notification                    0.00\n",
       "Number of Existing Stories                 0.00\n",
       "Number of Proposed Stories                 0.00\n",
       "Voluntary Soft-Story Retrofit              0.00\n",
       "Fire Only Permit                           0.00\n",
       "Permit Expiration Date                    25.75\n",
       "Estimated Cost                            18.83\n",
       "Revised Cost                               3.04\n",
       "Existing Units                             0.00\n",
       "Proposed Units                             0.00\n",
       "Plansets                                  18.46\n",
       "Existing Construction Type Description     0.00\n",
       "Proposed Construction Type Description     0.00\n",
       "Site Permit                                0.00\n",
       "Supervisor District                        0.00\n",
       "Record ID                                  0.00\n",
       "dtype: float64"
      ]
     },
     "execution_count": 10,
     "metadata": {},
     "output_type": "execute_result"
    }
   ],
   "source": [
    "round(sanfrancisco_df.isnull().sum() / n_total * 100, 2)"
   ]
  },
  {
   "cell_type": "markdown",
   "metadata": {},
   "source": [
    "We are going to use median values for imputation on:\n",
    "- Estimated Cost\n",
    "- Revised Cost\n",
    "- Plansets"
   ]
  },
  {
   "cell_type": "code",
   "execution_count": 11,
   "metadata": {},
   "outputs": [],
   "source": [
    "def replace_with_median(df: pd.DataFrame, column: str):\n",
    "    median = df[column].median(skipna=True)\n",
    "    df[column].fillna(median, inplace=True)"
   ]
  },
  {
   "cell_type": "code",
   "execution_count": 12,
   "metadata": {},
   "outputs": [],
   "source": [
    "replace_with_median(sanfrancisco_df, \"Estimated Cost\")\n",
    "replace_with_median(sanfrancisco_df, \"Revised Cost\")\n",
    "replace_with_median(sanfrancisco_df, \"Plansets\")"
   ]
  },
  {
   "cell_type": "code",
   "execution_count": 13,
   "metadata": {},
   "outputs": [
    {
     "data": {
      "text/plain": [
       "Permit Number                              0.00\n",
       "Permit Type                                0.00\n",
       "Permit Type Definition                     0.00\n",
       "Permit Creation Date                       0.00\n",
       "Current Status                             0.00\n",
       "Current Status Date                        0.00\n",
       "Filed Date                                 0.00\n",
       "Issued Date                                7.48\n",
       "Completed Date                            50.65\n",
       "First Construction Document Date           7.48\n",
       "Structural Notification                    0.00\n",
       "Number of Existing Stories                 0.00\n",
       "Number of Proposed Stories                 0.00\n",
       "Voluntary Soft-Story Retrofit              0.00\n",
       "Fire Only Permit                           0.00\n",
       "Permit Expiration Date                    25.75\n",
       "Estimated Cost                             0.00\n",
       "Revised Cost                               0.00\n",
       "Existing Units                             0.00\n",
       "Proposed Units                             0.00\n",
       "Plansets                                   0.00\n",
       "Existing Construction Type Description     0.00\n",
       "Proposed Construction Type Description     0.00\n",
       "Site Permit                                0.00\n",
       "Supervisor District                        0.00\n",
       "Record ID                                  0.00\n",
       "dtype: float64"
      ]
     },
     "execution_count": 13,
     "metadata": {},
     "output_type": "execute_result"
    }
   ],
   "source": [
    "round(sanfrancisco_df.isnull().sum() / n_total * 100, 2)"
   ]
  },
  {
   "cell_type": "markdown",
   "metadata": {},
   "source": [
    "The other missing values are dates about the building progress. We will fill in the missing values with `00/00/0000` to symbolize them as missing values."
   ]
  },
  {
   "cell_type": "code",
   "execution_count": 14,
   "metadata": {},
   "outputs": [],
   "source": [
    "sanfrancisco_df[\"Issued Date\"].fillna(\"00/00/0000\", inplace=True)\n",
    "sanfrancisco_df[\"Completed Date\"].fillna(\"00/00/0000\", inplace=True)\n",
    "sanfrancisco_df[\"First Construction Document Date\"].fillna(\"00/00/0000\", inplace=True)\n",
    "sanfrancisco_df[\"Permit Expiration Date\"].fillna(\"00/00/0000\", inplace=True)"
   ]
  },
  {
   "cell_type": "code",
   "execution_count": 15,
   "metadata": {},
   "outputs": [
    {
     "data": {
      "text/plain": [
       "Permit Number                             0.0\n",
       "Permit Type                               0.0\n",
       "Permit Type Definition                    0.0\n",
       "Permit Creation Date                      0.0\n",
       "Current Status                            0.0\n",
       "Current Status Date                       0.0\n",
       "Filed Date                                0.0\n",
       "Issued Date                               0.0\n",
       "Completed Date                            0.0\n",
       "First Construction Document Date          0.0\n",
       "Structural Notification                   0.0\n",
       "Number of Existing Stories                0.0\n",
       "Number of Proposed Stories                0.0\n",
       "Voluntary Soft-Story Retrofit             0.0\n",
       "Fire Only Permit                          0.0\n",
       "Permit Expiration Date                    0.0\n",
       "Estimated Cost                            0.0\n",
       "Revised Cost                              0.0\n",
       "Existing Units                            0.0\n",
       "Proposed Units                            0.0\n",
       "Plansets                                  0.0\n",
       "Existing Construction Type Description    0.0\n",
       "Proposed Construction Type Description    0.0\n",
       "Site Permit                               0.0\n",
       "Supervisor District                       0.0\n",
       "Record ID                                 0.0\n",
       "dtype: float64"
      ]
     },
     "execution_count": 15,
     "metadata": {},
     "output_type": "execute_result"
    }
   ],
   "source": [
    "round(sanfrancisco_df.isnull().sum() / n_total * 100, 2)"
   ]
  },
  {
   "cell_type": "markdown",
   "metadata": {},
   "source": [
    "# B SF Permits Exploration"
   ]
  },
  {
   "cell_type": "markdown",
   "metadata": {},
   "source": [
    "6 points  \n",
    "Explore the data. Which columns correlate strongly with the \"Current Status\" column? How do other\n",
    "columns correlate to each other?  \n",
    "Describe problems with \"Current Status\" as a target column to predict. Can you construct a better\n",
    "target column?  "
   ]
  },
  {
   "cell_type": "markdown",
   "metadata": {},
   "source": [
    "### Exploration of Current Status\n",
    "Um eine Idee davon zu bekommen wie stark die einzelnen Spalten von einander abhängen berrechnen wir eine Korrelationsmatrix. Je näher die Werte an 1/-1 liegen desto stärker ist die Abhängigkeit."
   ]
  },
  {
   "cell_type": "code",
   "execution_count": 16,
   "metadata": {},
   "outputs": [
    {
     "data": {
      "text/plain": [
       "<matplotlib.axes._subplots.AxesSubplot at 0x15f6ddde7f0>"
      ]
     },
     "execution_count": 16,
     "metadata": {},
     "output_type": "execute_result"
    },
    {
     "data": {
      "image/png": "[encoded data removed]",
      "text/plain": [
       "<Figure size 864x648 with 2 Axes>"
      ]
     },
     "metadata": {},
     "output_type": "display_data"
    }
   ],
   "source": [
    "correlation_matrix = sanfrancisco_df.corr().round(2)\n",
    "sns.set(rc={'figure.figsize':(12, 9)})\n",
    "sns.heatmap(data=correlation_matrix, annot=True)"
   ]
  }
 ],
 "metadata": {
  "kernelspec": {
   "display_name": "Python 3",
   "language": "python",
   "name": "python3"
  },
  "language_info": {
   "codemirror_mode": {
    "name": "ipython",
    "version": 3
   },
   "file_extension": ".py",
   "mimetype": "text/x-python",
   "name": "python",
   "nbconvert_exporter": "python",
   "pygments_lexer": "ipython3",
   "version": "3.7.2"
  },
  "pycharm": {
   "stem_cell": {
    "cell_type": "raw",
    "source": [],
    "metadata": {
     "collapsed": false
    }
   }
  }
 },
 "nbformat": 4,
 "nbformat_minor": 2
}