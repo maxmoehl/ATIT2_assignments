{
 "cells": [
  {
   "cell_type": "code",
   "execution_count": 1,
   "metadata": {
    "pycharm": {
     "is_executing": false,
     "name": "#%%\n"
    }
   },
   "outputs": [
    {
     "name": "stderr",
     "output_type": "stream",
     "text": [
      "Using TensorFlow backend.\n"
     ]
    }
   ],
   "source": [
    "import math\n",
    "\n",
    "import keras\n",
    "import numpy as np\n",
    "import pandas as pd\n",
    "import matplotlib.pyplot as plt\n",
    "import tensorflow as tf\n",
    "from keras import models, layers, datasets"
   ]
  },
  {
   "cell_type": "markdown",
   "metadata": {
    "collapsed": true,
    "pycharm": {
     "name": "#%% md\n"
    }
   },
   "source": [
    "# A SF Permits Cleaning\n",
    "\n",
    "### Methode um Y/NaN Spalten zu konvertieren"
   ]
  },
  {
   "cell_type": "code",
   "execution_count": 2,
   "metadata": {
    "pycharm": {
     "is_executing": false,
     "name": "#%%\n"
    }
   },
   "outputs": [],
   "source": [
    "def replace_y_with_0_1(df: pd.DataFrame, column: str) -> pd.DataFrame:\n",
    "    \"\"\"\n",
    "    Ersetzt Y und leere Felder in Spalten die nur Y und leere Felder erhalten durch 1 und 0 \n",
    "    :param df: Dataframe in dem sich die Spalten befinden\n",
    "    :param column: Name der Spalte in der die Werte ersetzt werden sollen\n",
    "    :return: DataFrame mit modifizierten Spalten\n",
    "    \"\"\"\n",
    "    df[column].fillna(0, inplace=True)\n",
    "    df[column].replace('Y', 1, inplace=True)\n",
    "    return df"
   ]
  },
  {
   "cell_type": "markdown",
   "metadata": {
    "pycharm": {
     "name": "#%% md\n"
    }
   },
   "source": [
    "### Datenset laden"
   ]
  },
  {
   "cell_type": "code",
   "execution_count": 3,
   "metadata": {
    "pycharm": {
     "is_executing": false,
     "name": "#%%\n"
    }
   },
   "outputs": [
    {
     "name": "stderr",
     "output_type": "stream",
     "text": [
      "c:\\users\\d074009\\appdata\\local\\programs\\python\\python37\\lib\\site-packages\\IPython\\core\\interactiveshell.py:3058: DtypeWarning: Columns (22,32) have mixed types. Specify dtype option on import or set low_memory=False.\n",
      "  interactivity=interactivity, compiler=compiler, result=result)\n"
     ]
    }
   ],
   "source": [
    "permits_df = pd.read_csv(\"building_permits.csv\")"
   ]
  },
  {
   "cell_type": "markdown",
   "metadata": {
    "pycharm": {
     "name": "#%% md\n"
    }
   },
   "source": [
    "# B SF Permits Exploration"
   ]
  },
  {
   "cell_type": "markdown",
   "metadata": {
    "pycharm": {
     "name": "#%% md\n"
    }
   },
   "source": [
    "# C SF Permits Prediction\n",
    "\n",
    "### Methode für One-Hot-Encoding"
   ]
  },
  {
   "cell_type": "code",
   "execution_count": 4,
   "metadata": {
    "pycharm": {
     "is_executing": false,
     "name": "#%%\n"
    }
   },
   "outputs": [],
   "source": [
    "def one_hot_encode(df: pd.DataFrame, col: str) -> pd.DataFrame:\n",
    "    \"\"\"\n",
    "    Erzeugt Dummy-Spalten für jeden Wert in der Quell-Spalte.\n",
    "    \n",
    "    Beispiel:\n",
    "    Wenn eine Tabelle die Spalte 'Klasse' mit 0, 1, 2 als Werte hat, werden die Spalte Klasse 0, Klasse 1 und Klasse 2\n",
    "    erstellt und die Zeilen der Tabelle an den entsprechenden Stellen auf 0 bzw. 1 gesetzt. \n",
    "    :param df: Dataframe in dem die zu ersetzende Spalte ist\n",
    "    :param col: Spalte die One-Hot-Encoded werden soll\n",
    "    :return: modifizierter DataFrame\n",
    "    \"\"\"\n",
    "    return df.assign(**{str(col + \" \" + str(val)): [1 if str(val) in str(cell) else 0 for cell in df[col]] \n",
    "                                   for val in df[col].unique()})"
   ]
  },
  {
   "cell_type": "markdown",
   "metadata": {
    "pycharm": {
     "name": "#%% md\n"
    }
   },
   "source": [
    "# D SF Challenges"
   ]
  },
  {
   "cell_type": "markdown",
   "metadata": {
    "pycharm": {
     "name": "#%% md\n"
    }
   },
   "source": [
    "# E Neural Networks XOR\n",
    "\n",
    "![XOR Graph](XOR.png)\n",
    "\n",
    "w: weight  \n",
    "b: bias  \n",
    "t: threshold\n",
    "\n",
    "Mathematische Funktion:\n",
    "```\n",
    "SIGMOID(x) = 1 / (1 + e^(-x))\n",
    "AND(x, y) = SIGMOID(50x + 50y - 75)\n",
    "OR(x, y) = SIGMOID(50x + 50y - 25)\n",
    "NOT(x) = SIGMOID(-50x + 10)\n",
    "\n",
    "XOR(x, y) = AND(NOT(AND(x, y)), OR(x, y))\n",
    "\n",
    "XOR(x,y) = SIGMOID(SIGMOID(SIGMOID(50x + 50y - 75) * (-50) + 10) * 50 + SIGMOID(50x + 50y - 25) * 50 - 75)\n",
    "           \\       \\       \\---------AND---------/             /        \\                     /          /\n",
    "            \\       \\-------------------NOT-------------------/          \\--------OR---------/          /\n",
    "             \\-------------------------------------------AND-------------------------------------------/\n",
    "```\n",
    "\n",
    "### Funktionen in Python abbilden und testen"
   ]
  },
  {
   "cell_type": "code",
   "execution_count": 5,
   "metadata": {
    "pycharm": {
     "is_executing": false,
     "name": "#%%\n"
    }
   },
   "outputs": [
    {
     "name": "stdout",
     "output_type": "stream",
     "text": [
      "0.0\n",
      "1.0\n",
      "1.0\n",
      "0.0\n"
     ]
    }
   ],
   "source": [
    "def SIGMOID(x):\n",
    "    return 1 / (1 + (math.e ** (-x)))\n",
    "\n",
    "def AND(x, y):\n",
    "    return SIGMOID(x * 50 + y * 50 - 75)\n",
    "\n",
    "def OR(x, y):\n",
    "    return SIGMOID(x * 50 + y * 50 - 25)\n",
    "    \n",
    "def NOT(x):\n",
    "    return SIGMOID(x * (-50) + 10)\n",
    "\n",
    "def XOR(x, y):\n",
    "    return AND(NOT(AND(x, y)),OR(x, y))\n",
    "\n",
    "print(round(XOR(0, 0), 10))\n",
    "print(round(XOR(0, 1), 10))\n",
    "print(round(XOR(1, 0), 10))\n",
    "print(round(XOR(1, 1), 10))"
   ]
  },
  {
   "cell_type": "markdown",
   "metadata": {
    "pycharm": {
     "name": "#%% md\n"
    }
   },
   "source": [
    "# F Neural Networks Overfitting\n",
    "\n",
    "### Daten Laden und splitten"
   ]
  },
  {
   "cell_type": "code",
   "execution_count": 6,
   "metadata": {
    "pycharm": {
     "is_executing": false,
     "name": "#%%\n"
    }
   },
   "outputs": [],
   "source": [
    "(X_train, Y_train), (X_test, Y_test) = datasets.cifar10.load_data()\n",
    "\n",
    "X_train, X_test = X_train / 255.0, X_test / 255.0\n",
    "\n",
    "num_classes = 10"
   ]
  },
  {
   "cell_type": "markdown",
   "metadata": {
    "pycharm": {
     "name": "#%% md\n"
    }
   },
   "source": [
    "### Modell erstellen"
   ]
  },
  {
   "cell_type": "code",
   "execution_count": 7,
   "metadata": {
    "pycharm": {
     "is_executing": false,
     "name": "#%%\n"
    }
   },
   "outputs": [
    {
     "name": "stdout",
     "output_type": "stream",
     "text": [
      "Model: \"sequential_1\"\n",
      "_________________________________________________________________\n",
      "Layer (type)                 Output Shape              Param #   \n",
      "=================================================================\n",
      "conv2d_1 (Conv2D)            (None, 30, 30, 32)        896       \n",
      "_________________________________________________________________\n",
      "max_pooling2d_1 (MaxPooling2 (None, 15, 15, 32)        0         \n",
      "_________________________________________________________________\n",
      "conv2d_2 (Conv2D)            (None, 13, 13, 64)        18496     \n",
      "_________________________________________________________________\n",
      "max_pooling2d_2 (MaxPooling2 (None, 6, 6, 64)          0         \n",
      "_________________________________________________________________\n",
      "conv2d_3 (Conv2D)            (None, 4, 4, 64)          36928     \n",
      "_________________________________________________________________\n",
      "flatten_1 (Flatten)          (None, 1024)              0         \n",
      "_________________________________________________________________\n",
      "dense_1 (Dense)              (None, 64)                65600     \n",
      "_________________________________________________________________\n",
      "dense_2 (Dense)              (None, 10)                650       \n",
      "=================================================================\n",
      "Total params: 122,570\n",
      "Trainable params: 122,570\n",
      "Non-trainable params: 0\n",
      "_________________________________________________________________\n"
     ]
    }
   ],
   "source": [
    "model = models.Sequential()\n",
    "model.add(layers.Conv2D(32, (3, 3), activation='relu', input_shape=(32, 32, 3)))\n",
    "model.add(layers.MaxPooling2D((2, 2)))\n",
    "model.add(layers.Conv2D(64, (3, 3), activation='relu'))\n",
    "model.add(layers.MaxPooling2D((2, 2)))\n",
    "model.add(layers.Conv2D(64, (3, 3), activation='relu'))\n",
    "\n",
    "model.add(layers.Flatten())\n",
    "model.add(layers.Dense(64, activation='relu'))\n",
    "model.add(layers.Dense(10, activation='softmax'))\n",
    "\n",
    "model.summary()\n",
    "\n",
    "model.compile(loss='sparse_categorical_crossentropy', optimizer='adam', metrics=['accuracy'])"
   ]
  },
  {
   "cell_type": "markdown",
   "metadata": {
    "pycharm": {
     "name": "#%% md\n"
    }
   },
   "source": [
    "### Modell in 40 Epochen trainieren und jede Epoche die Genauigkeit messen"
   ]
  },
  {
   "cell_type": "code",
   "execution_count": 8,
   "metadata": {
    "pycharm": {
     "is_executing": false,
     "name": "#%%\n"
    }
   },
   "outputs": [
    {
     "name": "stdout",
     "output_type": "stream",
     "text": [
      "Epoch 1/1\n",
      "50000/50000 [==============================] - 48s 964us/step - loss: 1.5881 - accuracy: 0.4128\n",
      "50000/50000 [==============================] - 15s 308us/step\n",
      "10000/10000 [==============================] - 3s 286us/step\n",
      "Epoch 1/1\n",
      "50000/50000 [==============================] - 47s 932us/step - loss: 1.2472 - accuracy: 0.5558\n",
      "50000/50000 [==============================] - 16s 315us/step\n",
      "10000/10000 [==============================] - 3s 282us/step\n",
      "Epoch 1/1\n",
      "50000/50000 [==============================] - 48s 957us/step - loss: 1.0991 - accuracy: 0.6126\n",
      "50000/50000 [==============================] - 24s 472us/step\n",
      "10000/10000 [==============================] - 5s 451us/step\n",
      "Epoch 1/1\n",
      "50000/50000 [==============================] - 60s 1ms/step - loss: 1.0101 - accuracy: 0.6473\n",
      "50000/50000 [==============================] - 15s 306us/step\n",
      "10000/10000 [==============================] - 4s 373us/step\n",
      "Epoch 1/1\n",
      "50000/50000 [==============================] - 55s 1ms/step - loss: 0.9376 - accuracy: 0.6739\n",
      "50000/50000 [==============================] - 21s 425us/step\n",
      "10000/10000 [==============================] - 4s 432us/step\n",
      "Epoch 1/1\n",
      "50000/50000 [==============================] - 57s 1ms/step - loss: 0.8852 - accuracy: 0.6905\n",
      "50000/50000 [==============================] - 18s 359us/step\n",
      "10000/10000 [==============================] - 3s 332us/step\n",
      "Epoch 1/1\n",
      "50000/50000 [==============================] - 57s 1ms/step - loss: 0.8367 - accuracy: 0.7086\n",
      "50000/50000 [==============================] - 18s 359us/step\n",
      "10000/10000 [==============================] - 3s 312us/step\n",
      "Epoch 1/1\n",
      "50000/50000 [==============================] - 57s 1ms/step - loss: 0.7939 - accuracy: 0.7243\n",
      "50000/50000 [==============================] - 19s 372us/step\n",
      "10000/10000 [==============================] - 3s 343us/step\n",
      "Epoch 1/1\n",
      "50000/50000 [==============================] - 48s 957us/step - loss: 0.7561 - accuracy: 0.7366\n",
      "50000/50000 [==============================] - 16s 315us/step\n",
      "10000/10000 [==============================] - 3s 320us/step\n",
      "Epoch 1/1\n",
      "50000/50000 [==============================] - 56s 1ms/step - loss: 0.7164 - accuracy: 0.7504\n",
      "50000/50000 [==============================] - 20s 404us/step\n",
      "10000/10000 [==============================] - 3s 345us/step\n",
      "Epoch 1/1\n",
      "50000/50000 [==============================] - 56s 1ms/step - loss: 0.6877 - accuracy: 0.7609\n",
      "50000/50000 [==============================] - 20s 401us/step\n",
      "10000/10000 [==============================] - 4s 355us/step\n",
      "Epoch 1/1\n",
      "50000/50000 [==============================] - 51s 1ms/step - loss: 0.6513 - accuracy: 0.7732\n",
      "50000/50000 [==============================] - 17s 349us/step\n",
      "10000/10000 [==============================] - 3s 326us/step\n",
      "Epoch 1/1\n",
      "50000/50000 [==============================] - 51s 1ms/step - loss: 0.6266 - accuracy: 0.7810\n",
      "50000/50000 [==============================] - 17s 348us/step\n",
      "10000/10000 [==============================] - 3s 328us/step\n",
      "Epoch 1/1\n",
      "50000/50000 [==============================] - 52s 1ms/step - loss: 0.5958 - accuracy: 0.7903\n",
      "50000/50000 [==============================] - 17s 331us/step\n",
      "10000/10000 [==============================] - 3s 339us/step\n",
      "Epoch 1/1\n",
      "50000/50000 [==============================] - 50s 1ms/step - loss: 0.5758 - accuracy: 0.7984\n",
      "50000/50000 [==============================] - 17s 335us/step\n",
      "10000/10000 [==============================] - 3s 340us/step\n",
      "Epoch 1/1\n",
      "50000/50000 [==============================] - 53s 1ms/step - loss: 0.5511 - accuracy: 0.8073\n",
      "50000/50000 [==============================] - 18s 364us/step\n",
      "10000/10000 [==============================] - 4s 371us/step\n",
      "Epoch 1/1\n",
      "50000/50000 [==============================] - 53s 1ms/step - loss: 0.5272 - accuracy: 0.8148\n",
      "50000/50000 [==============================] - 20s 409us/step\n",
      "10000/10000 [==============================] - 4s 354us/step\n",
      "Epoch 1/1\n",
      "50000/50000 [==============================] - 52s 1ms/step - loss: 0.4995 - accuracy: 0.8235\n",
      "50000/50000 [==============================] - 18s 350us/step\n",
      "10000/10000 [==============================] - 4s 352us/step\n",
      "Epoch 1/1\n",
      "50000/50000 [==============================] - 51s 1ms/step - loss: 0.4855 - accuracy: 0.8266 0s - loss: 0.4856 - accuracy: 0.82\n",
      "50000/50000 [==============================] - 17s 344us/step\n",
      "10000/10000 [==============================] - 3s 338us/step\n",
      "Epoch 1/1\n",
      "50000/50000 [==============================] - 54s 1ms/step - loss: 0.4672 - accuracy: 0.8346\n",
      "50000/50000 [==============================] - 17s 346us/step\n",
      "10000/10000 [==============================] - 3s 334us/step\n",
      "Epoch 1/1\n",
      "50000/50000 [==============================] - 51s 1ms/step - loss: 0.4454 - accuracy: 0.8428\n",
      "50000/50000 [==============================] - 17s 339us/step\n",
      "10000/10000 [==============================] - 3s 334us/step\n",
      "Epoch 1/1\n",
      "50000/50000 [==============================] - 51s 1ms/step - loss: 0.4255 - accuracy: 0.8505\n",
      "50000/50000 [==============================] - 17s 339us/step\n",
      "10000/10000 [==============================] - 3s 339us/step\n",
      "Epoch 1/1\n",
      "50000/50000 [==============================] - 52s 1ms/step - loss: 0.4123 - accuracy: 0.8546\n",
      "50000/50000 [==============================] - 18s 353us/step\n",
      "10000/10000 [==============================] - 4s 426us/step\n",
      "Epoch 1/1\n",
      "50000/50000 [==============================] - 51s 1ms/step - loss: 0.3937 - accuracy: 0.8596\n",
      "50000/50000 [==============================] - 18s 353us/step\n",
      "10000/10000 [==============================] - 4s 362us/step\n",
      "Epoch 1/1\n",
      "50000/50000 [==============================] - 51s 1ms/step - loss: 0.3649 - accuracy: 0.8717\n",
      "50000/50000 [==============================] - 17s 345us/step\n",
      "10000/10000 [==============================] - 3s 338us/step\n",
      "Epoch 1/1\n",
      "50000/50000 [==============================] - 52s 1ms/step - loss: 0.3545 - accuracy: 0.8754\n",
      "50000/50000 [==============================] - 17s 340us/step\n",
      "10000/10000 [==============================] - 3s 335us/step\n",
      "Epoch 1/1\n",
      "50000/50000 [==============================] - 53s 1ms/step - loss: 0.3370 - accuracy: 0.8803\n",
      "50000/50000 [==============================] - 17s 333us/step\n",
      "10000/10000 [==============================] - 3s 350us/step\n",
      "Epoch 1/1\n",
      "50000/50000 [==============================] - 51s 1ms/step - loss: 0.3226 - accuracy: 0.8843\n",
      "50000/50000 [==============================] - 17s 337us/step\n",
      "10000/10000 [==============================] - 3s 340us/step\n",
      "Epoch 1/1\n",
      "50000/50000 [==============================] - 51s 1ms/step - loss: 0.3026 - accuracy: 0.8928\n",
      "50000/50000 [==============================] - 17s 344us/step\n",
      "10000/10000 [==============================] - 3s 341us/step\n",
      "Epoch 1/1\n",
      "50000/50000 [==============================] - 51s 1ms/step - loss: 0.3009 - accuracy: 0.8941\n",
      "50000/50000 [==============================] - 18s 350us/step\n",
      "10000/10000 [==============================] - 3s 335us/step\n",
      "Epoch 1/1\n",
      "50000/50000 [==============================] - 54s 1ms/step - loss: 0.2772 - accuracy: 0.9007\n",
      "50000/50000 [==============================] - 18s 359us/step\n",
      "10000/10000 [==============================] - 4s 361us/step\n",
      "Epoch 1/1\n",
      "50000/50000 [==============================] - 53s 1ms/step - loss: 0.2664 - accuracy: 0.9059\n",
      "50000/50000 [==============================] - 18s 354us/step\n",
      "10000/10000 [==============================] - 4s 401us/step\n",
      "Epoch 1/1\n",
      "50000/50000 [==============================] - 52s 1ms/step - loss: 0.2517 - accuracy: 0.9093\n",
      "50000/50000 [==============================] - 17s 335us/step\n",
      "10000/10000 [==============================] - 3s 349us/step\n",
      "Epoch 1/1\n",
      "50000/50000 [==============================] - 54s 1ms/step - loss: 0.2452 - accuracy: 0.9124\n",
      "50000/50000 [==============================] - 17s 342us/step\n",
      "10000/10000 [==============================] - 3s 339us/step\n",
      "Epoch 1/1\n",
      "50000/50000 [==============================] - 53s 1ms/step - loss: 0.2320 - accuracy: 0.9159\n",
      "50000/50000 [==============================] - 18s 361us/step\n",
      "10000/10000 [==============================] - 4s 368us/step\n",
      "Epoch 1/1\n",
      "50000/50000 [==============================] - 52s 1ms/step - loss: 0.2140 - accuracy: 0.9236\n",
      "50000/50000 [==============================] - 17s 348us/step\n"
     ]
    },
    {
     "name": "stdout",
     "output_type": "stream",
     "text": [
      "10000/10000 [==============================] - 3s 320us/step\n",
      "Epoch 1/1\n",
      "50000/50000 [==============================] - 51s 1ms/step - loss: 0.2155 - accuracy: 0.9208\n",
      "50000/50000 [==============================] - 17s 345us/step\n",
      "10000/10000 [==============================] - 3s 332us/step\n",
      "Epoch 1/1\n",
      "50000/50000 [==============================] - 53s 1ms/step - loss: 0.2027 - accuracy: 0.9288\n",
      "50000/50000 [==============================] - 19s 371us/step\n",
      "10000/10000 [==============================] - 4s 353us/step\n",
      "Epoch 1/1\n",
      "50000/50000 [==============================] - 55s 1ms/step - loss: 0.1968 - accuracy: 0.9287\n",
      "50000/50000 [==============================] - 18s 363us/step\n",
      "10000/10000 [==============================] - 4s 437us/step\n",
      "Epoch 1/1\n",
      "50000/50000 [==============================] - 56s 1ms/step - loss: 0.1744 - accuracy: 0.9370\n",
      "50000/50000 [==============================] - 20s 401us/step\n",
      "10000/10000 [==============================] - 4s 381us/step\n"
     ]
    }
   ],
   "source": [
    "acc_train, acc_test = [], []\n",
    "for i in range(40):\n",
    "    model.fit(X_train, Y_train, batch_size=100, epochs=1)\n",
    "    acc_train.append(model.evaluate(X_train, Y_train)[1])\n",
    "    acc_test.append(model.evaluate(X_test, Y_test)[1])"
   ]
  },
  {
   "cell_type": "code",
   "execution_count": 9,
   "metadata": {
    "pycharm": {
     "is_executing": false
    }
   },
   "outputs": [
    {
     "data": {
      "text/plain": [
       "<matplotlib.legend.Legend at 0x178c4398ef0>"
      ]
     },
     "execution_count": 9,
     "metadata": {},
     "output_type": "execute_result"
    },
    {
     "data": {
      "image/png": "[encoded data removed]",
      "text/plain": [
       "<Figure size 432x288 with 1 Axes>"
      ]
     },
     "metadata": {
      "needs_background": "light"
     },
     "output_type": "display_data"
    }
   ],
   "source": [
    "plt.plot(acc_train, label='acc_train')\n",
    "plt.plot(acc_test, label='acc_test')\n",
    "plt.xlabel('Epoch')\n",
    "plt.ylabel('Accuracy')\n",
    "plt.ylim([0, 1])\n",
    "plt.xlim([0,40])\n",
    "plt.legend(loc='lower right')"
   ]
  },
  {
   "cell_type": "markdown",
   "metadata": {
    "pycharm": {
     "name": "#%% md\n"
    }
   },
   "source": [
    "Die Genauigkeit der Vorhersage von Labels des Trainings-Sets erhöht sich kontinuierlich aber die Genauigkeit bei den\n",
    "Test-Daten steigt auf ca 72% an und fällt dann aber wieder auf 69% ab. Das Modell lernt die Bilder aus dem\n",
    "Trainings-Set auswendig und kann deswegen keine guten Vorhersagen für das Test-Set machen."
   ]
  },
  {
   "cell_type": "markdown",
   "metadata": {
    "pycharm": {
     "name": "#%% md\n"
    }
   },
   "source": [
    "# G Neural Networks Overfitting"
   ]
  },
  {
   "cell_type": "markdown",
   "metadata": {
    "pycharm": {
     "name": "#%% md\n"
    }
   },
   "source": [
    "# H Feedback"
   ]
  }
 ],
 "metadata": {
  "kernelspec": {
   "display_name": "Python 3",
   "language": "python",
   "name": "python3"
  },
  "language_info": {
   "codemirror_mode": {
    "name": "ipython",
    "version": 3
   },
   "file_extension": ".py",
   "mimetype": "text/x-python",
   "name": "python",
   "nbconvert_exporter": "python",
   "pygments_lexer": "ipython3",
   "version": "3.7.2"
  },
  "pycharm": {
   "stem_cell": {
    "cell_type": "raw",
    "metadata": {
     "collapsed": false
    },
    "source": []
   }
  }
 },
 "nbformat": 4,
 "nbformat_minor": 1
}
