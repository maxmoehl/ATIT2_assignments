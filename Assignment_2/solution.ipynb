{
  "nbformat": 4,
  "nbformat_minor": 0,
  "metadata": {
    "kernelspec": {
      "name": "python3",
      "display_name": "Python 3"
    },
    "language_info": {
      "codemirror_mode": {
        "name": "ipython",
        "version": 3
      },
      "file_extension": ".py",
      "mimetype": "text/x-python",
      "name": "python",
      "nbconvert_exporter": "python",
      "pygments_lexer": "ipython3",
      "version": "3.7.2"
    },
    "pycharm": {
      "stem_cell": {
        "cell_type": "raw",
        "metadata": {
          "collapsed": false
        },
        "source": []
      }
    },
    "colab": {
      "name": "solution.ipynb",
      "provenance": [],
      "toc_visible": true
    },
    "accelerator": "GPU"
  },
  "cells": [
    {
      "cell_type": "code",
      "metadata": {
        "id": "RgyXdIMsmrAV",
        "colab_type": "code",
        "colab": {}
      },
      "source": [
        "# Run if you are executing this notebook in Colab to ensure tf v2.x.x\n",
        "!pip install -U tensorflow keras"
      ],
      "execution_count": 0,
      "outputs": []
    },
    {
      "cell_type": "code",
      "metadata": {
        "pycharm": {
          "is_executing": false,
          "name": "#%%\n"
        },
        "id": "E18tTiDZmfP9",
        "colab_type": "code",
        "colab": {
          "base_uri": "https://localhost:8080/",
          "height": 34
        },
        "outputId": "479a9c1d-e017-498c-9ea6-6df91b7a8f25"
      },
      "source": [
        "import math\n",
        "\n",
        "import keras\n",
        "import numpy as np\n",
        "import pandas as pd\n",
        "import matplotlib.pyplot as plt\n",
        "import tensorflow as tf\n",
        "from keras import models, layers, datasets"
      ],
      "execution_count": 1,
      "outputs": [
        {
          "output_type": "stream",
          "text": [
            "Using TensorFlow backend.\n"
          ],
          "name": "stderr"
        }
      ]
    },
    {
      "cell_type": "markdown",
      "metadata": {
        "collapsed": true,
        "pycharm": {
          "name": "#%% md\n"
        },
        "id": "xN2MhJZumfRQ",
        "colab_type": "text"
      },
      "source": [
        "# A SF Permits Cleaning\n",
        "\n",
        "### Methode um Y/NaN Spalten zu konvertieren"
      ]
    },
    {
      "cell_type": "code",
      "metadata": {
        "pycharm": {
          "is_executing": false,
          "name": "#%%\n"
        },
        "id": "Ng0A0DrhmfRc",
        "colab_type": "code",
        "colab": {}
      },
      "source": [
        "def replace_y_with_0_1(df: pd.DataFrame, column: str) -> pd.DataFrame:\n",
        "    \"\"\"\n",
        "    Ersetzt Y und leere Felder in Spalten die nur Y und leere Felder erhalten durch 1 und 0 \n",
        "    :param df: Dataframe in dem sich die Spalten befinden\n",
        "    :param column: Name der Spalte in der die Werte ersetzt werden sollen\n",
        "    :return: DataFrame mit modifizierten Spalten\n",
        "    \"\"\"\n",
        "    df[column].fillna(0, inplace=True)\n",
        "    df[column].replace('Y', 1, inplace=True)\n",
        "    return df"
      ],
      "execution_count": 0,
      "outputs": []
    },
    {
      "cell_type": "markdown",
      "metadata": {
        "pycharm": {
          "name": "#%% md\n"
        },
        "id": "KDqipAf6mfRq",
        "colab_type": "text"
      },
      "source": [
        "### Datenset laden"
      ]
    },
    {
      "cell_type": "code",
      "metadata": {
        "pycharm": {
          "is_executing": false,
          "name": "#%%\n"
        },
        "id": "PXvjYpcOmfRt",
        "colab_type": "code",
        "colab": {}
      },
      "source": [
        "permits_df = pd.read_csv(\"building_permits.csv\")"
      ],
      "execution_count": 0,
      "outputs": []
    },
    {
      "cell_type": "markdown",
      "metadata": {
        "pycharm": {
          "name": "#%% md\n"
        },
        "id": "SgiwEGGOmfR8",
        "colab_type": "text"
      },
      "source": [
        "# B SF Permits Exploration"
      ]
    },
    {
      "cell_type": "markdown",
      "metadata": {
        "pycharm": {
          "name": "#%% md\n"
        },
        "id": "uECrkdTMmfSy",
        "colab_type": "text"
      },
      "source": [
        "# C SF Permits Prediction\n",
        "\n",
        "### Methode für One-Hot-Encoding"
      ]
    },
    {
      "cell_type": "code",
      "metadata": {
        "pycharm": {
          "is_executing": false,
          "name": "#%%\n"
        },
        "id": "gEvneBmXmfS1",
        "colab_type": "code",
        "colab": {}
      },
      "source": [
        "def one_hot_encode(df: pd.DataFrame, col: str) -> pd.DataFrame:\n",
        "    \"\"\"\n",
        "    Erzeugt Dummy-Spalten für jeden Wert in der Quell-Spalte.\n",
        "    \n",
        "    Beispiel:\n",
        "    Wenn eine Tabelle die Spalte 'Klasse' mit 0, 1, 2 als Werte hat, werden die Spalte Klasse 0, Klasse 1 und Klasse 2\n",
        "    erstellt und die Zeilen der Tabelle an den entsprechenden Stellen auf 0 bzw. 1 gesetzt. \n",
        "    :param df: Dataframe in dem die zu ersetzende Spalte ist\n",
        "    :param col: Spalte die One-Hot-Encoded werden soll\n",
        "    :return: modifizierter DataFrame\n",
        "    \"\"\"\n",
        "    return df.assign(**{str(col + \" \" + str(val)): [1 if str(val) in str(cell) else 0 for cell in df[col]] \n",
        "                                   for val in df[col].unique()})"
      ],
      "execution_count": 0,
      "outputs": []
    },
    {
      "cell_type": "markdown",
      "metadata": {
        "pycharm": {
          "name": "#%% md\n"
        },
        "id": "8cteI2CSmfTQ",
        "colab_type": "text"
      },
      "source": [
        "# D SF Challenges"
      ]
    },
    {
      "cell_type": "markdown",
      "metadata": {
        "pycharm": {
          "name": "#%% md\n"
        },
        "id": "qq4hg4ZEmfTU",
        "colab_type": "text"
      },
      "source": [
        "# E Neural Networks XOR\n",
        "\n",
        "![XOR Graph](https://github.com/maxmoehl/ATIT2_assignments/blob/max/Assignment_2/XOR.png?raw=1)\n",
        "\n",
        "w: weight  \n",
        "b: bias  \n",
        "t: threshold\n",
        "\n",
        "Mathematische Funktion:\n",
        "```\n",
        "SIGMOID(x) = 1 / (1 + e^(-x))\n",
        "AND(x, y) = SIGMOID(50x + 50y - 75)\n",
        "OR(x, y) = SIGMOID(50x + 50y - 25)\n",
        "NOT(x) = SIGMOID(-50x + 10)\n",
        "\n",
        "XOR(x, y) = AND(NOT(AND(x, y)), OR(x, y))\n",
        "\n",
        "XOR(x,y) = SIGMOID(SIGMOID(SIGMOID(50x + 50y - 75) * (-50) + 10) * 50 + SIGMOID(50x + 50y - 25) * 50 - 75)\n",
        "           \\       \\       \\---------AND---------/             /        \\                     /          /\n",
        "            \\       \\-------------------NOT-------------------/          \\--------OR---------/          /\n",
        "             \\-------------------------------------------AND-------------------------------------------/\n",
        "```\n",
        "\n",
        "### Funktionen in Python abbilden und testen"
      ]
    },
    {
      "cell_type": "code",
      "metadata": {
        "pycharm": {
          "is_executing": false,
          "name": "#%%\n"
        },
        "id": "1TTHzLkbmfTn",
        "colab_type": "code",
        "colab": {
          "base_uri": "https://localhost:8080/",
          "height": 85
        },
        "outputId": "609a8bf0-0e03-4a7d-c2a4-654faa8d6392"
      },
      "source": [
        "def SIGMOID(x):\n",
        "    return 1 / (1 + (math.e ** (-x)))\n",
        "\n",
        "def AND(x, y):\n",
        "    return SIGMOID(x * 50 + y * 50 - 75)\n",
        "\n",
        "def OR(x, y):\n",
        "    return SIGMOID(x * 50 + y * 50 - 25)\n",
        "    \n",
        "def NOT(x):\n",
        "    return SIGMOID(x * (-50) + 10)\n",
        "\n",
        "def XOR(x, y):\n",
        "    return AND(NOT(AND(x, y)),OR(x, y))\n",
        "\n",
        "print(round(XOR(0, 0), 10))\n",
        "print(round(XOR(0, 1), 10))\n",
        "print(round(XOR(1, 0), 10))\n",
        "print(round(XOR(1, 1), 10))"
      ],
      "execution_count": 5,
      "outputs": [
        {
          "output_type": "stream",
          "text": [
            "0.0\n",
            "1.0\n",
            "1.0\n",
            "0.0\n"
          ],
          "name": "stdout"
        }
      ]
    },
    {
      "cell_type": "markdown",
      "metadata": {
        "pycharm": {
          "name": "#%% md\n"
        },
        "id": "eDlLEWzbmfUI",
        "colab_type": "text"
      },
      "source": [
        "# F Neural Networks Overfitting\n",
        "\n",
        "### Daten Laden und splitten"
      ]
    },
    {
      "cell_type": "code",
      "metadata": {
        "pycharm": {
          "is_executing": false,
          "name": "#%%\n"
        },
        "id": "M_yT5hcrmfUS",
        "colab_type": "code",
        "colab": {}
      },
      "source": [
        "(X_test, Y_test), (X_train, Y_train) = datasets.cifar10.load_data()\n",
        "\n",
        "X_train, X_test = X_train / 255.0, X_test / 255.0\n",
        "\n",
        "num_classes = 10"
      ],
      "execution_count": 0,
      "outputs": []
    },
    {
      "cell_type": "markdown",
      "metadata": {
        "pycharm": {
          "name": "#%% md\n"
        },
        "id": "Ct-YymVMmfUh",
        "colab_type": "text"
      },
      "source": [
        "### Modell erstellen"
      ]
    },
    {
      "cell_type": "code",
      "metadata": {
        "pycharm": {
          "is_executing": false,
          "name": "#%%\n"
        },
        "id": "x-SNE32hmfUm",
        "colab_type": "code",
        "colab": {
          "base_uri": "https://localhost:8080/",
          "height": 323
        },
        "outputId": "c0509243-c81e-47cd-e5c1-dc1bc903267a"
      },
      "source": [
        "model = models.Sequential()\n",
        "model.add(layers.Conv2D(32, (3, 3), activation='relu', input_shape=(32, 32, 3)))\n",
        "model.add(layers.MaxPooling2D((2, 2)))\n",
        "model.add(layers.Conv2D(64, (3, 3), activation='relu'))\n",
        "\n",
        "model.add(layers.Flatten())\n",
        "model.add(layers.Dense(10, activation='softmax'))\n",
        "\n",
        "model.summary()\n",
        "\n",
        "model.compile(loss='sparse_categorical_crossentropy', optimizer='adam', metrics=['accuracy'])"
      ],
      "execution_count": 7,
      "outputs": [
        {
          "output_type": "stream",
          "text": [
            "Model: \"sequential_1\"\n",
            "_________________________________________________________________\n",
            "Layer (type)                 Output Shape              Param #   \n",
            "=================================================================\n",
            "conv2d_1 (Conv2D)            (None, 30, 30, 32)        896       \n",
            "_________________________________________________________________\n",
            "max_pooling2d_1 (MaxPooling2 (None, 15, 15, 32)        0         \n",
            "_________________________________________________________________\n",
            "conv2d_2 (Conv2D)            (None, 13, 13, 64)        18496     \n",
            "_________________________________________________________________\n",
            "flatten_1 (Flatten)          (None, 10816)             0         \n",
            "_________________________________________________________________\n",
            "dense_1 (Dense)              (None, 10)                108170    \n",
            "=================================================================\n",
            "Total params: 127,562\n",
            "Trainable params: 127,562\n",
            "Non-trainable params: 0\n",
            "_________________________________________________________________\n"
          ],
          "name": "stdout"
        }
      ]
    },
    {
      "cell_type": "markdown",
      "metadata": {
        "pycharm": {
          "name": "#%% md\n"
        },
        "id": "8JZFmi49mfUz",
        "colab_type": "text"
      },
      "source": [
        "### Modell in 40 Epochen trainieren und jede Epoche die Genauigkeit messen"
      ]
    },
    {
      "cell_type": "code",
      "metadata": {
        "pycharm": {
          "is_executing": false,
          "name": "#%%\n"
        },
        "id": "GBTYy98WmfU2",
        "colab_type": "code",
        "colab": {
          "base_uri": "https://localhost:8080/",
          "height": 714
        },
        "outputId": "ebd5e3e1-ca84-49dc-f18a-4f3bb1507e0b"
      },
      "source": [
        "history = model.fit(X_train, Y_train, batch_size=100, epochs=20, validation_data=(X_test, Y_test))"
      ],
      "execution_count": 8,
      "outputs": [
        {
          "output_type": "stream",
          "text": [
            "Train on 10000 samples, validate on 50000 samples\n",
            "Epoch 1/20\n",
            "10000/10000 [==============================] - 31s 3ms/step - loss: 1.8438 - accuracy: 0.3378 - val_loss: 1.6321 - val_accuracy: 0.4228\n",
            "Epoch 2/20\n",
            "10000/10000 [==============================] - 32s 3ms/step - loss: 1.4938 - accuracy: 0.4669 - val_loss: 1.4520 - val_accuracy: 0.4796\n",
            "Epoch 3/20\n",
            "10000/10000 [==============================] - 32s 3ms/step - loss: 1.3513 - accuracy: 0.5273 - val_loss: 1.4279 - val_accuracy: 0.4885\n",
            "Epoch 4/20\n",
            "10000/10000 [==============================] - 32s 3ms/step - loss: 1.2418 - accuracy: 0.5611 - val_loss: 1.3349 - val_accuracy: 0.5296\n",
            "Epoch 5/20\n",
            "10000/10000 [==============================] - 32s 3ms/step - loss: 1.1636 - accuracy: 0.5896 - val_loss: 1.3153 - val_accuracy: 0.5347\n",
            "Epoch 6/20\n",
            "10000/10000 [==============================] - 32s 3ms/step - loss: 1.0761 - accuracy: 0.6226 - val_loss: 1.2626 - val_accuracy: 0.5575\n",
            "Epoch 7/20\n",
            "10000/10000 [==============================] - 31s 3ms/step - loss: 1.0002 - accuracy: 0.6514 - val_loss: 1.2966 - val_accuracy: 0.5492\n",
            "Epoch 8/20\n",
            "10000/10000 [==============================] - 32s 3ms/step - loss: 0.9354 - accuracy: 0.6747 - val_loss: 1.3119 - val_accuracy: 0.5502\n",
            "Epoch 9/20\n",
            "10000/10000 [==============================] - 32s 3ms/step - loss: 0.8831 - accuracy: 0.6950 - val_loss: 1.2724 - val_accuracy: 0.5645\n",
            "Epoch 10/20\n",
            "10000/10000 [==============================] - 31s 3ms/step - loss: 0.8100 - accuracy: 0.7222 - val_loss: 1.2504 - val_accuracy: 0.5734\n",
            "Epoch 11/20\n",
            "10000/10000 [==============================] - 31s 3ms/step - loss: 0.7413 - accuracy: 0.7434 - val_loss: 1.2809 - val_accuracy: 0.5701\n",
            "Epoch 12/20\n",
            "10000/10000 [==============================] - 31s 3ms/step - loss: 0.6804 - accuracy: 0.7698 - val_loss: 1.2749 - val_accuracy: 0.5795\n",
            "Epoch 13/20\n",
            "10000/10000 [==============================] - 31s 3ms/step - loss: 0.6282 - accuracy: 0.7949 - val_loss: 1.2887 - val_accuracy: 0.5829\n",
            "Epoch 14/20\n",
            "10000/10000 [==============================] - 31s 3ms/step - loss: 0.5693 - accuracy: 0.8133 - val_loss: 1.4379 - val_accuracy: 0.5593\n",
            "Epoch 15/20\n",
            "10000/10000 [==============================] - 31s 3ms/step - loss: 0.5324 - accuracy: 0.8246 - val_loss: 1.4048 - val_accuracy: 0.5710\n",
            "Epoch 16/20\n",
            "10000/10000 [==============================] - 31s 3ms/step - loss: 0.4688 - accuracy: 0.8490 - val_loss: 1.4680 - val_accuracy: 0.5632\n",
            "Epoch 17/20\n",
            "10000/10000 [==============================] - 31s 3ms/step - loss: 0.4277 - accuracy: 0.8643 - val_loss: 1.4558 - val_accuracy: 0.5719\n",
            "Epoch 18/20\n",
            "10000/10000 [==============================] - 31s 3ms/step - loss: 0.3603 - accuracy: 0.8927 - val_loss: 1.5226 - val_accuracy: 0.5670\n",
            "Epoch 19/20\n",
            "10000/10000 [==============================] - 31s 3ms/step - loss: 0.3322 - accuracy: 0.9005 - val_loss: 1.5704 - val_accuracy: 0.5670\n",
            "Epoch 20/20\n",
            "10000/10000 [==============================] - 31s 3ms/step - loss: 0.3077 - accuracy: 0.9094 - val_loss: 1.6275 - val_accuracy: 0.5678\n"
          ],
          "name": "stdout"
        }
      ]
    },
    {
      "cell_type": "code",
      "metadata": {
        "pycharm": {
          "is_executing": false
        },
        "id": "j91wYUKSmfVQ",
        "colab_type": "code",
        "colab": {
          "base_uri": "https://localhost:8080/",
          "height": 283
        },
        "outputId": "82951cf4-6500-43f5-eab9-fdffeb0f7f31"
      },
      "source": [
        "def plot_results(history, epoch_lim=20):\n",
        "  plt.plot(history.history['loss'], label='train')\n",
        "  plt.plot(history.history['val_loss'], label='test')\n",
        "  plt.xlabel('Epoch')\n",
        "  plt.ylabel('Loss')\n",
        "  plt.ylim([0, 2.5])\n",
        "  plt.xlim([0, epoch_lim])\n",
        "  plt.legend(loc='upper left')\n",
        "\n",
        "plot_results(history)"
      ],
      "execution_count": 9,
      "outputs": [
        {
          "output_type": "display_data",
          "data": {
            "image/png": "[encoded data removed]",
            "text/plain": [
              "<Figure size 432x288 with 1 Axes>"
            ]
          },
          "metadata": {
            "tags": []
          }
        }
      ]
    },
    {
      "cell_type": "code",
      "metadata": {
        "id": "COw_3pnZPW1Y",
        "colab_type": "code",
        "colab": {
          "base_uri": "https://localhost:8080/",
          "height": 51
        },
        "outputId": "26dba518-3145-438a-c156-3ab1545aab0b"
      },
      "source": [
        "print(\"Train accuracy: {}%\".format(round(history.history['accuracy'][-1] * 100, 2)))\n",
        "print(\"Test accuracy: {}%\".format(round(history.history['val_accuracy'][-1] * 100, 2)))"
      ],
      "execution_count": 10,
      "outputs": [
        {
          "output_type": "stream",
          "text": [
            "Train accuracy: 90.94%\n",
            "Test accuracy: 56.78%\n"
          ],
          "name": "stdout"
        }
      ]
    },
    {
      "cell_type": "markdown",
      "metadata": {
        "pycharm": {
          "name": "#%% md\n"
        },
        "id": "QvoaEtspmfVq",
        "colab_type": "text"
      },
      "source": [
        "Wie man am Graphen sehen kann steigt der Loss der Test-Daten nach Epoche 20 wieder stark an, während der Trainings-Loss weiter fällt und das Modell beginnt die Bilder auswendig zu lernen anstatt die Muster zu erkennen. Das ist auch daran zu erkennen, dass die Accuracy auf den Trainings Daten bei ca 90% liegt und auf den Test Daten nur bei um die 60%.\n",
        "\n",
        "Das liegt in diesem Fall besonders daran, dass es viel zu wenig Trainings-Daten sind und das Modell für zu viele Epochen trainiert wird."
      ]
    },
    {
      "cell_type": "markdown",
      "metadata": {
        "pycharm": {
          "name": "#%% md\n"
        },
        "id": "lKmfzO1ImfVs",
        "colab_type": "text"
      },
      "source": [
        "# G Neural Networks Overfitting"
      ]
    },
    {
      "cell_type": "code",
      "metadata": {
        "id": "c4zsJTxnn2iq",
        "colab_type": "code",
        "colab": {}
      },
      "source": [
        "(X_train, Y_train), (X_test, Y_test) = datasets.cifar10.load_data()\n",
        "\n",
        "X_train, X_test = X_train / 255.0, X_test / 255.0\n",
        "\n",
        "num_classes = 10"
      ],
      "execution_count": 0,
      "outputs": []
    },
    {
      "cell_type": "code",
      "metadata": {
        "id": "MlyA-wrxspiV",
        "colab_type": "code",
        "colab": {
          "base_uri": "https://localhost:8080/",
          "height": 425
        },
        "outputId": "aaa0b365-da7a-43fd-8480-d2a33a816d3b"
      },
      "source": [
        "model = models.Sequential()\n",
        "model.add(layers.Conv2D(32, (3, 3), activation='relu', input_shape=(32, 32, 3)))\n",
        "model.add(layers.MaxPooling2D((2, 2)))\n",
        "model.add(layers.Conv2D(64, (3, 3), activation='relu'))\n",
        "model.add(layers.MaxPooling2D((2, 2)))\n",
        "model.add(layers.Conv2D(64, (3, 3), activation='relu'))\n",
        "\n",
        "model.add(layers.Flatten())\n",
        "model.add(layers.Dense(64, activation='relu'))\n",
        "model.add(layers.Dense(10, activation='softmax'))\n",
        "\n",
        "model.summary()\n",
        "\n",
        "model.compile(loss='sparse_categorical_crossentropy', optimizer='adam', metrics=['accuracy'])"
      ],
      "execution_count": 12,
      "outputs": [
        {
          "output_type": "stream",
          "text": [
            "Model: \"sequential_2\"\n",
            "_________________________________________________________________\n",
            "Layer (type)                 Output Shape              Param #   \n",
            "=================================================================\n",
            "conv2d_3 (Conv2D)            (None, 30, 30, 32)        896       \n",
            "_________________________________________________________________\n",
            "max_pooling2d_2 (MaxPooling2 (None, 15, 15, 32)        0         \n",
            "_________________________________________________________________\n",
            "conv2d_4 (Conv2D)            (None, 13, 13, 64)        18496     \n",
            "_________________________________________________________________\n",
            "max_pooling2d_3 (MaxPooling2 (None, 6, 6, 64)          0         \n",
            "_________________________________________________________________\n",
            "conv2d_5 (Conv2D)            (None, 4, 4, 64)          36928     \n",
            "_________________________________________________________________\n",
            "flatten_2 (Flatten)          (None, 1024)              0         \n",
            "_________________________________________________________________\n",
            "dense_2 (Dense)              (None, 64)                65600     \n",
            "_________________________________________________________________\n",
            "dense_3 (Dense)              (None, 10)                650       \n",
            "=================================================================\n",
            "Total params: 122,570\n",
            "Trainable params: 122,570\n",
            "Non-trainable params: 0\n",
            "_________________________________________________________________\n"
          ],
          "name": "stdout"
        }
      ]
    },
    {
      "cell_type": "code",
      "metadata": {
        "id": "XbmV_PDjns8O",
        "colab_type": "code",
        "colab": {
          "base_uri": "https://localhost:8080/",
          "height": 544
        },
        "outputId": "0d0c7d6c-5e3d-4d16-f26e-a4fb68d02607"
      },
      "source": [
        "history = model.fit(X_train, Y_train, batch_size=100, epochs=15, validation_data=(X_test, Y_test))"
      ],
      "execution_count": 13,
      "outputs": [
        {
          "output_type": "stream",
          "text": [
            "Train on 50000 samples, validate on 10000 samples\n",
            "Epoch 1/15\n",
            "50000/50000 [==============================] - 72s 1ms/step - loss: 1.6217 - accuracy: 0.4083 - val_loss: 1.3799 - val_accuracy: 0.5025\n",
            "Epoch 2/15\n",
            "50000/50000 [==============================] - 72s 1ms/step - loss: 1.2940 - accuracy: 0.5380 - val_loss: 1.2133 - val_accuracy: 0.5622\n",
            "Epoch 3/15\n",
            "50000/50000 [==============================] - 71s 1ms/step - loss: 1.1357 - accuracy: 0.5982 - val_loss: 1.0966 - val_accuracy: 0.6134\n",
            "Epoch 4/15\n",
            "50000/50000 [==============================] - 71s 1ms/step - loss: 1.0330 - accuracy: 0.6370 - val_loss: 1.0196 - val_accuracy: 0.6421\n",
            "Epoch 5/15\n",
            "50000/50000 [==============================] - 71s 1ms/step - loss: 0.9602 - accuracy: 0.6619 - val_loss: 1.0083 - val_accuracy: 0.6498\n",
            "Epoch 6/15\n",
            "50000/50000 [==============================] - 70s 1ms/step - loss: 0.9007 - accuracy: 0.6828 - val_loss: 0.9314 - val_accuracy: 0.6766\n",
            "Epoch 7/15\n",
            "50000/50000 [==============================] - 71s 1ms/step - loss: 0.8419 - accuracy: 0.7040 - val_loss: 0.8947 - val_accuracy: 0.6914\n",
            "Epoch 8/15\n",
            "50000/50000 [==============================] - 71s 1ms/step - loss: 0.8123 - accuracy: 0.7151 - val_loss: 0.8770 - val_accuracy: 0.6943\n",
            "Epoch 9/15\n",
            "50000/50000 [==============================] - 71s 1ms/step - loss: 0.7703 - accuracy: 0.7312 - val_loss: 0.8639 - val_accuracy: 0.7004\n",
            "Epoch 10/15\n",
            "50000/50000 [==============================] - 71s 1ms/step - loss: 0.7338 - accuracy: 0.7436 - val_loss: 0.9098 - val_accuracy: 0.6910\n",
            "Epoch 11/15\n",
            "50000/50000 [==============================] - 71s 1ms/step - loss: 0.6996 - accuracy: 0.7542 - val_loss: 0.8907 - val_accuracy: 0.6998\n",
            "Epoch 12/15\n",
            "50000/50000 [==============================] - 70s 1ms/step - loss: 0.6706 - accuracy: 0.7659 - val_loss: 0.8845 - val_accuracy: 0.6958\n",
            "Epoch 13/15\n",
            "50000/50000 [==============================] - 71s 1ms/step - loss: 0.6495 - accuracy: 0.7731 - val_loss: 0.8648 - val_accuracy: 0.7092\n",
            "Epoch 14/15\n",
            "50000/50000 [==============================] - 72s 1ms/step - loss: 0.6225 - accuracy: 0.7826 - val_loss: 0.9287 - val_accuracy: 0.6886\n",
            "Epoch 15/15\n",
            "50000/50000 [==============================] - 72s 1ms/step - loss: 0.5893 - accuracy: 0.7943 - val_loss: 0.8555 - val_accuracy: 0.7198\n"
          ],
          "name": "stdout"
        }
      ]
    },
    {
      "cell_type": "code",
      "metadata": {
        "id": "T_Thc13BsySn",
        "colab_type": "code",
        "colab": {
          "base_uri": "https://localhost:8080/",
          "height": 283
        },
        "outputId": "5e76c3fe-0c03-47be-9847-ec04e7212a04"
      },
      "source": [
        "plot_results(history, epoch_lim=15)"
      ],
      "execution_count": 14,
      "outputs": [
        {
          "output_type": "display_data",
          "data": {
            "image/png": "[encoded data removed]",
            "text/plain": [
              "<Figure size 432x288 with 1 Axes>"
            ]
          },
          "metadata": {
            "tags": []
          }
        }
      ]
    },
    {
      "cell_type": "markdown",
      "metadata": {
        "pycharm": {
          "name": "#%% md\n"
        },
        "id": "c9nEz-InmfV2",
        "colab_type": "text"
      },
      "source": [
        "# H Feedback"
      ]
    }
  ]
}