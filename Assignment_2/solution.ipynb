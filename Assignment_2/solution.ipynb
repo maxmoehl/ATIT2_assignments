{
  "nbformat": 4,
  "nbformat_minor": 0,
  "metadata": {
    "kernelspec": {
      "name": "python3",
      "display_name": "Python 3"
    },
    "language_info": {
      "codemirror_mode": {
        "name": "ipython",
        "version": 3
      },
      "file_extension": ".py",
      "mimetype": "text/x-python",
      "name": "python",
      "nbconvert_exporter": "python",
      "pygments_lexer": "ipython3",
      "version": "3.7.2"
    },
    "pycharm": {
      "stem_cell": {
        "cell_type": "raw",
        "metadata": {
          "collapsed": false
        },
        "source": []
      }
    },
    "colab": {
      "name": "solution.ipynb",
      "provenance": [],
      "toc_visible": true
    },
    "accelerator": "GPU"
  },
  "cells": [
    {
      "cell_type": "code",
      "metadata": {
        "id": "RgyXdIMsmrAV",
        "colab_type": "code",
        "colab": {
          "base_uri": "https://localhost:8080/",
          "height": 666
        },
        "outputId": "2deb61c8-d770-451b-f87f-08d3ea73df6a"
      },
      "source": [
        "!pip install -U tensorflow keras"
      ],
      "execution_count": 16,
      "outputs": [
        {
          "output_type": "stream",
          "text": [
            "Requirement already up-to-date: tensorflow in /usr/local/lib/python3.6/dist-packages (2.0.0)\n",
            "Requirement already up-to-date: keras in /usr/local/lib/python3.6/dist-packages (2.3.1)\n",
            "Requirement already satisfied, skipping upgrade: termcolor>=1.1.0 in /usr/local/lib/python3.6/dist-packages (from tensorflow) (1.1.0)\n",
            "Requirement already satisfied, skipping upgrade: google-pasta>=0.1.6 in /usr/local/lib/python3.6/dist-packages (from tensorflow) (0.1.7)\n",
            "Requirement already satisfied, skipping upgrade: keras-preprocessing>=1.0.5 in /usr/local/lib/python3.6/dist-packages (from tensorflow) (1.1.0)\n",
            "Requirement already satisfied, skipping upgrade: keras-applications>=1.0.8 in /usr/local/lib/python3.6/dist-packages (from tensorflow) (1.0.8)\n",
            "Requirement already satisfied, skipping upgrade: opt-einsum>=2.3.2 in /usr/local/lib/python3.6/dist-packages (from tensorflow) (3.1.0)\n",
            "Requirement already satisfied, skipping upgrade: tensorboard<2.1.0,>=2.0.0 in /usr/local/lib/python3.6/dist-packages (from tensorflow) (2.0.1)\n",
            "Requirement already satisfied, skipping upgrade: astor>=0.6.0 in /usr/local/lib/python3.6/dist-packages (from tensorflow) (0.8.0)\n",
            "Requirement already satisfied, skipping upgrade: grpcio>=1.8.6 in /usr/local/lib/python3.6/dist-packages (from tensorflow) (1.15.0)\n",
            "Requirement already satisfied, skipping upgrade: wheel>=0.26 in /usr/local/lib/python3.6/dist-packages (from tensorflow) (0.33.6)\n",
            "Requirement already satisfied, skipping upgrade: absl-py>=0.7.0 in /usr/local/lib/python3.6/dist-packages (from tensorflow) (0.8.1)\n",
            "Requirement already satisfied, skipping upgrade: tensorflow-estimator<2.1.0,>=2.0.0 in /usr/local/lib/python3.6/dist-packages (from tensorflow) (2.0.1)\n",
            "Requirement already satisfied, skipping upgrade: numpy<2.0,>=1.16.0 in /usr/local/lib/python3.6/dist-packages (from tensorflow) (1.17.3)\n",
            "Requirement already satisfied, skipping upgrade: gast==0.2.2 in /usr/local/lib/python3.6/dist-packages (from tensorflow) (0.2.2)\n",
            "Requirement already satisfied, skipping upgrade: six>=1.10.0 in /usr/local/lib/python3.6/dist-packages (from tensorflow) (1.12.0)\n",
            "Requirement already satisfied, skipping upgrade: protobuf>=3.6.1 in /usr/local/lib/python3.6/dist-packages (from tensorflow) (3.10.0)\n",
            "Requirement already satisfied, skipping upgrade: wrapt>=1.11.1 in /usr/local/lib/python3.6/dist-packages (from tensorflow) (1.11.2)\n",
            "Requirement already satisfied, skipping upgrade: h5py in /usr/local/lib/python3.6/dist-packages (from keras) (2.8.0)\n",
            "Requirement already satisfied, skipping upgrade: scipy>=0.14 in /usr/local/lib/python3.6/dist-packages (from keras) (1.3.1)\n",
            "Requirement already satisfied, skipping upgrade: pyyaml in /usr/local/lib/python3.6/dist-packages (from keras) (3.13)\n",
            "Requirement already satisfied, skipping upgrade: google-auth-oauthlib<0.5,>=0.4.1 in /usr/local/lib/python3.6/dist-packages (from tensorboard<2.1.0,>=2.0.0->tensorflow) (0.4.1)\n",
            "Requirement already satisfied, skipping upgrade: markdown>=2.6.8 in /usr/local/lib/python3.6/dist-packages (from tensorboard<2.1.0,>=2.0.0->tensorflow) (3.1.1)\n",
            "Requirement already satisfied, skipping upgrade: werkzeug>=0.11.15 in /usr/local/lib/python3.6/dist-packages (from tensorboard<2.1.0,>=2.0.0->tensorflow) (0.16.0)\n",
            "Requirement already satisfied, skipping upgrade: google-auth<2,>=1.6.3 in /usr/local/lib/python3.6/dist-packages (from tensorboard<2.1.0,>=2.0.0->tensorflow) (1.6.3)\n",
            "Requirement already satisfied, skipping upgrade: setuptools>=41.0.0 in /usr/local/lib/python3.6/dist-packages (from tensorboard<2.1.0,>=2.0.0->tensorflow) (41.4.0)\n",
            "Requirement already satisfied, skipping upgrade: requests-oauthlib>=0.7.0 in /usr/local/lib/python3.6/dist-packages (from google-auth-oauthlib<0.5,>=0.4.1->tensorboard<2.1.0,>=2.0.0->tensorflow) (1.2.0)\n",
            "Requirement already satisfied, skipping upgrade: pyasn1-modules>=0.2.1 in /usr/local/lib/python3.6/dist-packages (from google-auth<2,>=1.6.3->tensorboard<2.1.0,>=2.0.0->tensorflow) (0.2.7)\n",
            "Requirement already satisfied, skipping upgrade: cachetools>=2.0.0 in /usr/local/lib/python3.6/dist-packages (from google-auth<2,>=1.6.3->tensorboard<2.1.0,>=2.0.0->tensorflow) (3.1.1)\n",
            "Requirement already satisfied, skipping upgrade: rsa>=3.1.4 in /usr/local/lib/python3.6/dist-packages (from google-auth<2,>=1.6.3->tensorboard<2.1.0,>=2.0.0->tensorflow) (4.0)\n",
            "Requirement already satisfied, skipping upgrade: requests>=2.0.0 in /usr/local/lib/python3.6/dist-packages (from requests-oauthlib>=0.7.0->google-auth-oauthlib<0.5,>=0.4.1->tensorboard<2.1.0,>=2.0.0->tensorflow) (2.21.0)\n",
            "Requirement already satisfied, skipping upgrade: oauthlib>=3.0.0 in /usr/local/lib/python3.6/dist-packages (from requests-oauthlib>=0.7.0->google-auth-oauthlib<0.5,>=0.4.1->tensorboard<2.1.0,>=2.0.0->tensorflow) (3.1.0)\n",
            "Requirement already satisfied, skipping upgrade: pyasn1<0.5.0,>=0.4.6 in /usr/local/lib/python3.6/dist-packages (from pyasn1-modules>=0.2.1->google-auth<2,>=1.6.3->tensorboard<2.1.0,>=2.0.0->tensorflow) (0.4.7)\n",
            "Requirement already satisfied, skipping upgrade: urllib3<1.25,>=1.21.1 in /usr/local/lib/python3.6/dist-packages (from requests>=2.0.0->requests-oauthlib>=0.7.0->google-auth-oauthlib<0.5,>=0.4.1->tensorboard<2.1.0,>=2.0.0->tensorflow) (1.24.3)\n",
            "Requirement already satisfied, skipping upgrade: idna<2.9,>=2.5 in /usr/local/lib/python3.6/dist-packages (from requests>=2.0.0->requests-oauthlib>=0.7.0->google-auth-oauthlib<0.5,>=0.4.1->tensorboard<2.1.0,>=2.0.0->tensorflow) (2.8)\n",
            "Requirement already satisfied, skipping upgrade: certifi>=2017.4.17 in /usr/local/lib/python3.6/dist-packages (from requests>=2.0.0->requests-oauthlib>=0.7.0->google-auth-oauthlib<0.5,>=0.4.1->tensorboard<2.1.0,>=2.0.0->tensorflow) (2019.9.11)\n",
            "Requirement already satisfied, skipping upgrade: chardet<3.1.0,>=3.0.2 in /usr/local/lib/python3.6/dist-packages (from requests>=2.0.0->requests-oauthlib>=0.7.0->google-auth-oauthlib<0.5,>=0.4.1->tensorboard<2.1.0,>=2.0.0->tensorflow) (3.0.4)\n"
          ],
          "name": "stdout"
        }
      ]
    },
    {
      "cell_type": "code",
      "metadata": {
        "pycharm": {
          "is_executing": false,
          "name": "#%%\n"
        },
        "id": "E18tTiDZmfP9",
        "colab_type": "code",
        "colab": {}
      },
      "source": [
        "import math\n",
        "\n",
        "import keras\n",
        "import numpy as np\n",
        "import pandas as pd\n",
        "import matplotlib.pyplot as plt\n",
        "import tensorflow as tf\n",
        "from keras import models, layers, datasets"
      ],
      "execution_count": 0,
      "outputs": []
    },
    {
      "cell_type": "markdown",
      "metadata": {
        "collapsed": true,
        "pycharm": {
          "name": "#%% md\n"
        },
        "id": "xN2MhJZumfRQ",
        "colab_type": "text"
      },
      "source": [
        "# A SF Permits Cleaning\n",
        "\n",
        "### Methode um Y/NaN Spalten zu konvertieren"
      ]
    },
    {
      "cell_type": "code",
      "metadata": {
        "pycharm": {
          "is_executing": false,
          "name": "#%%\n"
        },
        "id": "Ng0A0DrhmfRc",
        "colab_type": "code",
        "colab": {}
      },
      "source": [
        "def replace_y_with_0_1(df: pd.DataFrame, column: str) -> pd.DataFrame:\n",
        "    \"\"\"\n",
        "    Ersetzt Y und leere Felder in Spalten die nur Y und leere Felder erhalten durch 1 und 0 \n",
        "    :param df: Dataframe in dem sich die Spalten befinden\n",
        "    :param column: Name der Spalte in der die Werte ersetzt werden sollen\n",
        "    :return: DataFrame mit modifizierten Spalten\n",
        "    \"\"\"\n",
        "    df[column].fillna(0, inplace=True)\n",
        "    df[column].replace('Y', 1, inplace=True)\n",
        "    return df"
      ],
      "execution_count": 0,
      "outputs": []
    },
    {
      "cell_type": "markdown",
      "metadata": {
        "pycharm": {
          "name": "#%% md\n"
        },
        "id": "KDqipAf6mfRq",
        "colab_type": "text"
      },
      "source": [
        "### Datenset laden"
      ]
    },
    {
      "cell_type": "code",
      "metadata": {
        "pycharm": {
          "is_executing": false,
          "name": "#%%\n"
        },
        "id": "PXvjYpcOmfRt",
        "colab_type": "code",
        "colab": {},
        "outputId": "38c31f83-7f01-476a-d748-7c0e2f923fdb"
      },
      "source": [
        "permits_df = pd.read_csv(\"building_permits.csv\")"
      ],
      "execution_count": 0,
      "outputs": [
        {
          "output_type": "stream",
          "text": [
            "c:\\users\\d074009\\appdata\\local\\programs\\python\\python37\\lib\\site-packages\\IPython\\core\\interactiveshell.py:3058: DtypeWarning: Columns (22,32) have mixed types. Specify dtype option on import or set low_memory=False.\n",
            "  interactivity=interactivity, compiler=compiler, result=result)\n"
          ],
          "name": "stderr"
        }
      ]
    },
    {
      "cell_type": "markdown",
      "metadata": {
        "pycharm": {
          "name": "#%% md\n"
        },
        "id": "SgiwEGGOmfR8",
        "colab_type": "text"
      },
      "source": [
        "# B SF Permits Exploration"
      ]
    },
    {
      "cell_type": "markdown",
      "metadata": {
        "pycharm": {
          "name": "#%% md\n"
        },
        "id": "uECrkdTMmfSy",
        "colab_type": "text"
      },
      "source": [
        "# C SF Permits Prediction\n",
        "\n",
        "### Methode für One-Hot-Encoding"
      ]
    },
    {
      "cell_type": "code",
      "metadata": {
        "pycharm": {
          "is_executing": false,
          "name": "#%%\n"
        },
        "id": "gEvneBmXmfS1",
        "colab_type": "code",
        "colab": {}
      },
      "source": [
        "def one_hot_encode(df: pd.DataFrame, col: str) -> pd.DataFrame:\n",
        "    \"\"\"\n",
        "    Erzeugt Dummy-Spalten für jeden Wert in der Quell-Spalte.\n",
        "    \n",
        "    Beispiel:\n",
        "    Wenn eine Tabelle die Spalte 'Klasse' mit 0, 1, 2 als Werte hat, werden die Spalte Klasse 0, Klasse 1 und Klasse 2\n",
        "    erstellt und die Zeilen der Tabelle an den entsprechenden Stellen auf 0 bzw. 1 gesetzt. \n",
        "    :param df: Dataframe in dem die zu ersetzende Spalte ist\n",
        "    :param col: Spalte die One-Hot-Encoded werden soll\n",
        "    :return: modifizierter DataFrame\n",
        "    \"\"\"\n",
        "    return df.assign(**{str(col + \" \" + str(val)): [1 if str(val) in str(cell) else 0 for cell in df[col]] \n",
        "                                   for val in df[col].unique()})"
      ],
      "execution_count": 0,
      "outputs": []
    },
    {
      "cell_type": "markdown",
      "metadata": {
        "pycharm": {
          "name": "#%% md\n"
        },
        "id": "8cteI2CSmfTQ",
        "colab_type": "text"
      },
      "source": [
        "# D SF Challenges"
      ]
    },
    {
      "cell_type": "markdown",
      "metadata": {
        "pycharm": {
          "name": "#%% md\n"
        },
        "id": "qq4hg4ZEmfTU",
        "colab_type": "text"
      },
      "source": [
        "# E Neural Networks XOR\n",
        "\n",
        "![XOR Graph](https://github.com/maxmoehl/ATIT2_assignments/blob/max/Assignment_2/XOR.png?raw=1)\n",
        "\n",
        "w: weight  \n",
        "b: bias  \n",
        "t: threshold\n",
        "\n",
        "Mathematische Funktion:\n",
        "```\n",
        "SIGMOID(x) = 1 / (1 + e^(-x))\n",
        "AND(x, y) = SIGMOID(50x + 50y - 75)\n",
        "OR(x, y) = SIGMOID(50x + 50y - 25)\n",
        "NOT(x) = SIGMOID(-50x + 10)\n",
        "\n",
        "XOR(x, y) = AND(NOT(AND(x, y)), OR(x, y))\n",
        "\n",
        "XOR(x,y) = SIGMOID(SIGMOID(SIGMOID(50x + 50y - 75) * (-50) + 10) * 50 + SIGMOID(50x + 50y - 25) * 50 - 75)\n",
        "           \\       \\       \\---------AND---------/             /        \\                     /          /\n",
        "            \\       \\-------------------NOT-------------------/          \\--------OR---------/          /\n",
        "             \\-------------------------------------------AND-------------------------------------------/\n",
        "```\n",
        "\n",
        "### Funktionen in Python abbilden und testen"
      ]
    },
    {
      "cell_type": "code",
      "metadata": {
        "pycharm": {
          "is_executing": false,
          "name": "#%%\n"
        },
        "id": "1TTHzLkbmfTn",
        "colab_type": "code",
        "colab": {},
        "outputId": "a6b47881-b4b4-4098-8e62-0b7accfe3b6a"
      },
      "source": [
        "def SIGMOID(x):\n",
        "    return 1 / (1 + (math.e ** (-x)))\n",
        "\n",
        "def AND(x, y):\n",
        "    return SIGMOID(x * 50 + y * 50 - 75)\n",
        "\n",
        "def OR(x, y):\n",
        "    return SIGMOID(x * 50 + y * 50 - 25)\n",
        "    \n",
        "def NOT(x):\n",
        "    return SIGMOID(x * (-50) + 10)\n",
        "\n",
        "def XOR(x, y):\n",
        "    return AND(NOT(AND(x, y)),OR(x, y))\n",
        "\n",
        "print(round(XOR(0, 0), 10))\n",
        "print(round(XOR(0, 1), 10))\n",
        "print(round(XOR(1, 0), 10))\n",
        "print(round(XOR(1, 1), 10))"
      ],
      "execution_count": 0,
      "outputs": [
        {
          "output_type": "stream",
          "text": [
            "0.0\n",
            "1.0\n",
            "1.0\n",
            "0.0\n"
          ],
          "name": "stdout"
        }
      ]
    },
    {
      "cell_type": "markdown",
      "metadata": {
        "pycharm": {
          "name": "#%% md\n"
        },
        "id": "eDlLEWzbmfUI",
        "colab_type": "text"
      },
      "source": [
        "# F Neural Networks Overfitting\n",
        "\n",
        "### Daten Laden und splitten"
      ]
    },
    {
      "cell_type": "code",
      "metadata": {
        "pycharm": {
          "is_executing": false,
          "name": "#%%\n"
        },
        "id": "M_yT5hcrmfUS",
        "colab_type": "code",
        "colab": {}
      },
      "source": [
        "(X_test, Y_test), (X_train, Y_train) = datasets.cifar10.load_data()\n",
        "\n",
        "X_train, X_test = X_train / 255.0, X_test / 255.0\n",
        "\n",
        "num_classes = 10"
      ],
      "execution_count": 0,
      "outputs": []
    },
    {
      "cell_type": "markdown",
      "metadata": {
        "pycharm": {
          "name": "#%% md\n"
        },
        "id": "Ct-YymVMmfUh",
        "colab_type": "text"
      },
      "source": [
        "### Modell erstellen"
      ]
    },
    {
      "cell_type": "code",
      "metadata": {
        "pycharm": {
          "is_executing": false,
          "name": "#%%\n"
        },
        "id": "x-SNE32hmfUm",
        "colab_type": "code",
        "colab": {
          "base_uri": "https://localhost:8080/",
          "height": 425
        },
        "outputId": "77113798-fd59-438c-c52c-82f8083c1208"
      },
      "source": [
        "model = models.Sequential()\n",
        "model.add(layers.Conv2D(32, (3, 3), activation='relu', input_shape=(32, 32, 3)))\n",
        "model.add(layers.MaxPooling2D((2, 2)))\n",
        "model.add(layers.Conv2D(64, (3, 3), activation='relu'))\n",
        "model.add(layers.MaxPooling2D((2, 2)))\n",
        "model.add(layers.Conv2D(64, (3, 3), activation='relu'))\n",
        "\n",
        "model.add(layers.Flatten())\n",
        "model.add(layers.Dense(64, activation='relu'))\n",
        "model.add(layers.Dense(10, activation='softmax'))\n",
        "\n",
        "model.summary()\n",
        "\n",
        "model.compile(loss='sparse_categorical_crossentropy', optimizer='adam', metrics=['accuracy'])"
      ],
      "execution_count": 46,
      "outputs": [
        {
          "output_type": "stream",
          "text": [
            "Model: \"sequential_10\"\n",
            "_________________________________________________________________\n",
            "Layer (type)                 Output Shape              Param #   \n",
            "=================================================================\n",
            "conv2d_28 (Conv2D)           (None, 30, 30, 32)        896       \n",
            "_________________________________________________________________\n",
            "max_pooling2d_19 (MaxPooling (None, 15, 15, 32)        0         \n",
            "_________________________________________________________________\n",
            "conv2d_29 (Conv2D)           (None, 13, 13, 64)        18496     \n",
            "_________________________________________________________________\n",
            "max_pooling2d_20 (MaxPooling (None, 6, 6, 64)          0         \n",
            "_________________________________________________________________\n",
            "conv2d_30 (Conv2D)           (None, 4, 4, 64)          36928     \n",
            "_________________________________________________________________\n",
            "flatten_10 (Flatten)         (None, 1024)              0         \n",
            "_________________________________________________________________\n",
            "dense_19 (Dense)             (None, 64)                65600     \n",
            "_________________________________________________________________\n",
            "dense_20 (Dense)             (None, 10)                650       \n",
            "=================================================================\n",
            "Total params: 122,570\n",
            "Trainable params: 122,570\n",
            "Non-trainable params: 0\n",
            "_________________________________________________________________\n"
          ],
          "name": "stdout"
        }
      ]
    },
    {
      "cell_type": "markdown",
      "metadata": {
        "pycharm": {
          "name": "#%% md\n"
        },
        "id": "8JZFmi49mfUz",
        "colab_type": "text"
      },
      "source": [
        "### Modell in 40 Epochen trainieren und jede Epoche die Genauigkeit messen"
      ]
    },
    {
      "cell_type": "code",
      "metadata": {
        "pycharm": {
          "is_executing": false,
          "name": "#%%\n"
        },
        "id": "GBTYy98WmfU2",
        "colab_type": "code",
        "colab": {
          "base_uri": "https://localhost:8080/",
          "height": 1000
        },
        "outputId": "92b1bee0-4edc-4643-bed0-a9d876376559"
      },
      "source": [
        "history = model.fit(X_train, Y_train, batch_size=100, epochs=40, validation_data=(X_test, Y_test))"
      ],
      "execution_count": 25,
      "outputs": [
        {
          "output_type": "stream",
          "text": [
            "Train on 10000 samples, validate on 50000 samples\n",
            "Epoch 1/40\n",
            "10000/10000 [==============================] - 36s 4ms/step - loss: 2.0086 - accuracy: 0.2564 - val_loss: 1.8344 - val_accuracy: 0.3312\n",
            "Epoch 2/40\n",
            "10000/10000 [==============================] - 36s 4ms/step - loss: 1.6770 - accuracy: 0.3811 - val_loss: 1.5995 - val_accuracy: 0.4099\n",
            "Epoch 3/40\n",
            "10000/10000 [==============================] - 36s 4ms/step - loss: 1.5259 - accuracy: 0.4419 - val_loss: 1.5393 - val_accuracy: 0.4351\n",
            "Epoch 4/40\n",
            "10000/10000 [==============================] - 36s 4ms/step - loss: 1.4227 - accuracy: 0.4835 - val_loss: 1.4385 - val_accuracy: 0.4751\n",
            "Epoch 5/40\n",
            "10000/10000 [==============================] - 36s 4ms/step - loss: 1.3291 - accuracy: 0.5260 - val_loss: 1.3763 - val_accuracy: 0.5066\n",
            "Epoch 6/40\n",
            "10000/10000 [==============================] - 36s 4ms/step - loss: 1.2523 - accuracy: 0.5491 - val_loss: 1.3935 - val_accuracy: 0.4941\n",
            "Epoch 7/40\n",
            "10000/10000 [==============================] - 36s 4ms/step - loss: 1.2248 - accuracy: 0.5556 - val_loss: 1.2780 - val_accuracy: 0.5467\n",
            "Epoch 8/40\n",
            "10000/10000 [==============================] - 36s 4ms/step - loss: 1.1440 - accuracy: 0.5918 - val_loss: 1.3183 - val_accuracy: 0.5375\n",
            "Epoch 9/40\n",
            "10000/10000 [==============================] - 36s 4ms/step - loss: 1.1166 - accuracy: 0.6015 - val_loss: 1.2111 - val_accuracy: 0.5719\n",
            "Epoch 10/40\n",
            "10000/10000 [==============================] - 36s 4ms/step - loss: 1.0627 - accuracy: 0.6204 - val_loss: 1.2468 - val_accuracy: 0.5641\n",
            "Epoch 11/40\n",
            "10000/10000 [==============================] - 36s 4ms/step - loss: 1.0134 - accuracy: 0.6392 - val_loss: 1.1940 - val_accuracy: 0.5759\n",
            "Epoch 12/40\n",
            "10000/10000 [==============================] - 36s 4ms/step - loss: 0.9883 - accuracy: 0.6494 - val_loss: 1.1896 - val_accuracy: 0.5863\n",
            "Epoch 13/40\n",
            "10000/10000 [==============================] - 36s 4ms/step - loss: 0.9232 - accuracy: 0.6681 - val_loss: 1.1764 - val_accuracy: 0.5917\n",
            "Epoch 14/40\n",
            "10000/10000 [==============================] - 36s 4ms/step - loss: 0.8755 - accuracy: 0.6853 - val_loss: 1.1522 - val_accuracy: 0.6008\n",
            "Epoch 15/40\n",
            "10000/10000 [==============================] - 35s 4ms/step - loss: 0.8397 - accuracy: 0.7059 - val_loss: 1.1395 - val_accuracy: 0.6053\n",
            "Epoch 16/40\n",
            "10000/10000 [==============================] - 34s 3ms/step - loss: 0.8100 - accuracy: 0.7176 - val_loss: 1.1614 - val_accuracy: 0.6002\n",
            "Epoch 17/40\n",
            "10000/10000 [==============================] - 34s 3ms/step - loss: 0.7753 - accuracy: 0.7308 - val_loss: 1.1953 - val_accuracy: 0.5936\n",
            "Epoch 18/40\n",
            "10000/10000 [==============================] - 35s 3ms/step - loss: 0.7367 - accuracy: 0.7397 - val_loss: 1.2007 - val_accuracy: 0.6013\n",
            "Epoch 19/40\n",
            "10000/10000 [==============================] - 34s 3ms/step - loss: 0.6932 - accuracy: 0.7595 - val_loss: 1.1938 - val_accuracy: 0.6080\n",
            "Epoch 20/40\n",
            "10000/10000 [==============================] - 35s 3ms/step - loss: 0.6651 - accuracy: 0.7720 - val_loss: 1.1921 - val_accuracy: 0.6121\n",
            "Epoch 21/40\n",
            "10000/10000 [==============================] - 34s 3ms/step - loss: 0.6366 - accuracy: 0.7751 - val_loss: 1.2406 - val_accuracy: 0.6032\n",
            "Epoch 22/40\n",
            "10000/10000 [==============================] - 34s 3ms/step - loss: 0.6013 - accuracy: 0.7880 - val_loss: 1.2205 - val_accuracy: 0.6082\n",
            "Epoch 23/40\n",
            "10000/10000 [==============================] - 34s 3ms/step - loss: 0.5439 - accuracy: 0.8128 - val_loss: 1.2851 - val_accuracy: 0.6024\n",
            "Epoch 24/40\n",
            "10000/10000 [==============================] - 34s 3ms/step - loss: 0.5302 - accuracy: 0.8148 - val_loss: 1.2418 - val_accuracy: 0.6149\n",
            "Epoch 25/40\n",
            "10000/10000 [==============================] - 35s 3ms/step - loss: 0.4746 - accuracy: 0.8385 - val_loss: 1.3006 - val_accuracy: 0.6141\n",
            "Epoch 26/40\n",
            "10000/10000 [==============================] - 35s 3ms/step - loss: 0.4475 - accuracy: 0.8481 - val_loss: 1.3985 - val_accuracy: 0.6060\n",
            "Epoch 27/40\n",
            "10000/10000 [==============================] - 35s 3ms/step - loss: 0.4517 - accuracy: 0.8396 - val_loss: 1.3903 - val_accuracy: 0.6069\n",
            "Epoch 28/40\n",
            "10000/10000 [==============================] - 35s 3ms/step - loss: 0.3868 - accuracy: 0.8674 - val_loss: 1.4289 - val_accuracy: 0.6088\n",
            "Epoch 29/40\n",
            "10000/10000 [==============================] - 35s 3ms/step - loss: 0.3763 - accuracy: 0.8743 - val_loss: 1.4441 - val_accuracy: 0.6160\n",
            "Epoch 30/40\n",
            "10000/10000 [==============================] - 35s 3ms/step - loss: 0.3255 - accuracy: 0.8945 - val_loss: 1.4716 - val_accuracy: 0.6051\n",
            "Epoch 31/40\n",
            "10000/10000 [==============================] - 35s 3ms/step - loss: 0.3064 - accuracy: 0.8984 - val_loss: 1.5635 - val_accuracy: 0.6077\n",
            "Epoch 32/40\n",
            "10000/10000 [==============================] - 35s 3ms/step - loss: 0.2761 - accuracy: 0.9117 - val_loss: 1.6585 - val_accuracy: 0.6034\n",
            "Epoch 33/40\n",
            "10000/10000 [==============================] - 35s 3ms/step - loss: 0.2458 - accuracy: 0.9237 - val_loss: 1.6777 - val_accuracy: 0.6092\n",
            "Epoch 34/40\n",
            "10000/10000 [==============================] - 35s 3ms/step - loss: 0.2282 - accuracy: 0.9282 - val_loss: 1.6983 - val_accuracy: 0.6037\n",
            "Epoch 35/40\n",
            "10000/10000 [==============================] - 35s 3ms/step - loss: 0.1922 - accuracy: 0.9433 - val_loss: 1.8104 - val_accuracy: 0.6013\n",
            "Epoch 36/40\n",
            "10000/10000 [==============================] - 35s 3ms/step - loss: 0.1857 - accuracy: 0.9420 - val_loss: 1.8267 - val_accuracy: 0.6001\n",
            "Epoch 37/40\n",
            "10000/10000 [==============================] - 34s 3ms/step - loss: 0.1441 - accuracy: 0.9613 - val_loss: 1.9321 - val_accuracy: 0.5988\n",
            "Epoch 38/40\n",
            "10000/10000 [==============================] - 34s 3ms/step - loss: 0.1520 - accuracy: 0.9533 - val_loss: 1.9695 - val_accuracy: 0.6023\n",
            "Epoch 39/40\n",
            "10000/10000 [==============================] - 34s 3ms/step - loss: 0.1238 - accuracy: 0.9641 - val_loss: 2.0910 - val_accuracy: 0.5939\n",
            "Epoch 40/40\n",
            "10000/10000 [==============================] - 35s 3ms/step - loss: 0.1003 - accuracy: 0.9748 - val_loss: 2.1452 - val_accuracy: 0.5997\n"
          ],
          "name": "stdout"
        }
      ]
    },
    {
      "cell_type": "code",
      "metadata": {
        "pycharm": {
          "is_executing": false
        },
        "id": "j91wYUKSmfVQ",
        "colab_type": "code",
        "colab": {
          "base_uri": "https://localhost:8080/",
          "height": 283
        },
        "outputId": "37d56dfd-9611-465a-dc90-34ae62cdb25e"
      },
      "source": [
        "def plot_results(history, epoch_lim=40):\n",
        "  plt.plot(history.history['loss'], label='train')\n",
        "  plt.plot(history.history['val_loss'], label='test')\n",
        "  plt.xlabel('Epoch')\n",
        "  plt.ylabel('Loss')\n",
        "  plt.ylim([0, 2.5])\n",
        "  plt.xlim([0, epoch_lim])\n",
        "  plt.legend(loc='upper left')\n",
        "\n",
        "plot_results(history)"
      ],
      "execution_count": 41,
      "outputs": [
        {
          "output_type": "display_data",
          "data": {
            "image/png": "[encoded data removed]",
            "text/plain": [
              "<Figure size 432x288 with 1 Axes>"
            ]
          },
          "metadata": {
            "tags": []
          }
        }
      ]
    },
    {
      "cell_type": "markdown",
      "metadata": {
        "pycharm": {
          "name": "#%% md\n"
        },
        "id": "QvoaEtspmfVq",
        "colab_type": "text"
      },
      "source": [
        "Die Genauigkeit der Vorhersage von Labels des Trainings-Sets erhöht sich kontinuierlich aber die Genauigkeit bei den\n",
        "Test-Daten steigt auf ca 72% an und fällt dann aber wieder auf 69% ab. Das Modell lernt die Bilder aus dem\n",
        "Trainings-Set auswendig und kann deswegen keine guten Vorhersagen für das Test-Set machen."
      ]
    },
    {
      "cell_type": "markdown",
      "metadata": {
        "pycharm": {
          "name": "#%% md\n"
        },
        "id": "lKmfzO1ImfVs",
        "colab_type": "text"
      },
      "source": [
        "# G Neural Networks Overfitting"
      ]
    },
    {
      "cell_type": "code",
      "metadata": {
        "id": "c4zsJTxnn2iq",
        "colab_type": "code",
        "colab": {}
      },
      "source": [
        "(X_train, Y_train), (X_test, Y_test) = datasets.cifar10.load_data()\n",
        "\n",
        "X_train, X_test = X_train / 255.0, X_test / 255.0\n",
        "\n",
        "num_classes = 10"
      ],
      "execution_count": 0,
      "outputs": []
    },
    {
      "cell_type": "code",
      "metadata": {
        "id": "MlyA-wrxspiV",
        "colab_type": "code",
        "colab": {
          "base_uri": "https://localhost:8080/",
          "height": 425
        },
        "outputId": "a7ba96b9-ec2e-45a8-f293-3d9670138ad8"
      },
      "source": [
        "model = models.Sequential()\n",
        "model.add(layers.Conv2D(32, (3, 3), activation='relu', input_shape=(32, 32, 3)))\n",
        "model.add(layers.MaxPooling2D((2, 2)))\n",
        "model.add(layers.Conv2D(64, (3, 3), activation='relu'))\n",
        "model.add(layers.MaxPooling2D((2, 2)))\n",
        "model.add(layers.Conv2D(64, (3, 3), activation='relu'))\n",
        "\n",
        "model.add(layers.Flatten())\n",
        "model.add(layers.Dense(64, activation='relu'))\n",
        "model.add(layers.Dense(10, activation='softmax'))\n",
        "\n",
        "model.summary()\n",
        "\n",
        "model.compile(loss='sparse_categorical_crossentropy', optimizer='adam', metrics=['accuracy'])"
      ],
      "execution_count": 38,
      "outputs": [
        {
          "output_type": "stream",
          "text": [
            "Model: \"sequential_8\"\n",
            "_________________________________________________________________\n",
            "Layer (type)                 Output Shape              Param #   \n",
            "=================================================================\n",
            "conv2d_22 (Conv2D)           (None, 30, 30, 32)        896       \n",
            "_________________________________________________________________\n",
            "max_pooling2d_15 (MaxPooling (None, 15, 15, 32)        0         \n",
            "_________________________________________________________________\n",
            "conv2d_23 (Conv2D)           (None, 13, 13, 64)        18496     \n",
            "_________________________________________________________________\n",
            "max_pooling2d_16 (MaxPooling (None, 6, 6, 64)          0         \n",
            "_________________________________________________________________\n",
            "conv2d_24 (Conv2D)           (None, 4, 4, 64)          36928     \n",
            "_________________________________________________________________\n",
            "flatten_8 (Flatten)          (None, 1024)              0         \n",
            "_________________________________________________________________\n",
            "dense_15 (Dense)             (None, 64)                65600     \n",
            "_________________________________________________________________\n",
            "dense_16 (Dense)             (None, 10)                650       \n",
            "=================================================================\n",
            "Total params: 122,570\n",
            "Trainable params: 122,570\n",
            "Non-trainable params: 0\n",
            "_________________________________________________________________\n"
          ],
          "name": "stdout"
        }
      ]
    },
    {
      "cell_type": "code",
      "metadata": {
        "id": "XbmV_PDjns8O",
        "colab_type": "code",
        "colab": {
          "base_uri": "https://localhost:8080/",
          "height": 374
        },
        "outputId": "d66b361f-b4bb-42b0-dfa3-4a447e98082e"
      },
      "source": [
        "history = model.fit(X_train, Y_train, batch_size=100, epochs=10, validation_data=(X_test, Y_test))"
      ],
      "execution_count": 39,
      "outputs": [
        {
          "output_type": "stream",
          "text": [
            "Train on 50000 samples, validate on 10000 samples\n",
            "Epoch 1/10\n",
            "50000/50000 [==============================] - 71s 1ms/step - loss: 1.6506 - accuracy: 0.3944 - val_loss: 1.4211 - val_accuracy: 0.4778\n",
            "Epoch 2/10\n",
            "50000/50000 [==============================] - 71s 1ms/step - loss: 1.3139 - accuracy: 0.5287 - val_loss: 1.2233 - val_accuracy: 0.5646\n",
            "Epoch 3/10\n",
            "50000/50000 [==============================] - 71s 1ms/step - loss: 1.1548 - accuracy: 0.5917 - val_loss: 1.1593 - val_accuracy: 0.5869\n",
            "Epoch 4/10\n",
            "50000/50000 [==============================] - 71s 1ms/step - loss: 1.0563 - accuracy: 0.6285 - val_loss: 1.0736 - val_accuracy: 0.6243\n",
            "Epoch 5/10\n",
            "50000/50000 [==============================] - 71s 1ms/step - loss: 0.9755 - accuracy: 0.6590 - val_loss: 0.9868 - val_accuracy: 0.6516\n",
            "Epoch 6/10\n",
            "50000/50000 [==============================] - 71s 1ms/step - loss: 0.9149 - accuracy: 0.6799 - val_loss: 0.9505 - val_accuracy: 0.6689\n",
            "Epoch 7/10\n",
            "50000/50000 [==============================] - 71s 1ms/step - loss: 0.8636 - accuracy: 0.6993 - val_loss: 0.9176 - val_accuracy: 0.6798\n",
            "Epoch 8/10\n",
            "50000/50000 [==============================] - 71s 1ms/step - loss: 0.8245 - accuracy: 0.7110 - val_loss: 0.9217 - val_accuracy: 0.6808\n",
            "Epoch 9/10\n",
            "50000/50000 [==============================] - 71s 1ms/step - loss: 0.7861 - accuracy: 0.7280 - val_loss: 0.9306 - val_accuracy: 0.6831\n",
            "Epoch 10/10\n",
            "50000/50000 [==============================] - 71s 1ms/step - loss: 0.7539 - accuracy: 0.7383 - val_loss: 0.8904 - val_accuracy: 0.6900\n"
          ],
          "name": "stdout"
        }
      ]
    },
    {
      "cell_type": "code",
      "metadata": {
        "id": "T_Thc13BsySn",
        "colab_type": "code",
        "colab": {
          "base_uri": "https://localhost:8080/",
          "height": 283
        },
        "outputId": "c887ecd0-6d33-4758-eafe-f4debb4d1c4a"
      },
      "source": [
        "plot_results(history, epoch_lim=10)"
      ],
      "execution_count": 42,
      "outputs": [
        {
          "output_type": "display_data",
          "data": {
            "image/png": "[encoded data removed]",
            "text/plain": [
              "<Figure size 432x288 with 1 Axes>"
            ]
          },
          "metadata": {
            "tags": []
          }
        }
      ]
    },
    {
      "cell_type": "markdown",
      "metadata": {
        "pycharm": {
          "name": "#%% md\n"
        },
        "id": "c9nEz-InmfV2",
        "colab_type": "text"
      },
      "source": [
        "# H Feedback"
      ]
    }
  ]
}