{
 "cells": [
  {
   "cell_type": "code",
   "execution_count": null,
   "metadata": {
    "colab": {},
    "colab_type": "code",
    "id": "nRUJgQAI_45z",
    "pycharm": {
     "is_executing": true,
     "name": "#%%\n"
    }
   },
   "outputs": [],
   "source": [
    "# Run if you are executing this notebook in Colab to ensure tf v2.x.x\n",
    "!pip install -U tensorflow keras"
   ]
  },
  {
   "cell_type": "code",
   "execution_count": 1,
   "metadata": {
    "colab": {},
    "colab_type": "code",
    "id": "-4OyQYTU_1ri",
    "pycharm": {
     "is_executing": false,
     "name": "#%%\n"
    }
   },
   "outputs": [
    {
     "name": "stderr",
     "output_type": "stream",
     "text": [
      "Using TensorFlow backend.\n"
     ]
    }
   ],
   "source": [
    "import datetime\n",
    "import math\n",
    "\n",
    "import matplotlib.pyplot as plt\n",
    "import numpy as np\n",
    "import pandas as pd\n",
    "import pandas_profiling\n",
    "import seaborn as sns\n",
    "from keras import models, layers, datasets\n",
    "from keras.callbacks import EarlyStopping"
   ]
  },
  {
   "cell_type": "code",
   "execution_count": null,
   "metadata": {
    "pycharm": {
     "is_executing": true,
     "name": "#%%\n"
    }
   },
   "outputs": [],
   "source": [
    "plt.rc(\"font\", size=14)\n",
    "sns.set(style=\"white\")\n",
    "sns.set(style=\"whitegrid\", color_codes=True)"
   ]
  },
  {
   "cell_type": "markdown",
   "metadata": {
    "colab_type": "text",
    "collapsed": true,
    "id": "cmbCJ0IZ_1rq",
    "pycharm": {
     "name": "#%% md\n"
    }
   },
   "source": [
    "# A SF Permits Cleaning\n",
    "\n",
    "### Methode um Y/NaN Spalten zu konvertieren"
   ]
  },
  {
   "cell_type": "code",
   "execution_count": null,
   "metadata": {
    "colab": {},
    "colab_type": "code",
    "id": "ird9EkPX_1rs",
    "pycharm": {
     "is_executing": true,
     "name": "#%%\n"
    }
   },
   "outputs": [],
   "source": [
    "def replace_y_with_0_1(df: pd.DataFrame, column: str):\n",
    "    \"\"\"\n",
    "    Ersetzt Y und leere Felder in Spalten die nur Y und leere Felder erhalten durch 1 und 0 \n",
    "    :param df: Dataframe in dem sich die Spalten befinden\n",
    "    :param column: Name der Spalte in der die Werte ersetzt werden sollen\n",
    "    :return: DataFrame mit modifizierten Spalten\n",
    "    \"\"\"\n",
    "    df[column].fillna(0, inplace=True)\n",
    "    df[column].replace('Y', 1, inplace=True)"
   ]
  },
  {
   "cell_type": "markdown",
   "metadata": {
    "colab_type": "text",
    "id": "xR7MEk5R_1rz",
    "pycharm": {
     "name": "#%% md\n"
    }
   },
   "source": [
    "### Datenset in ein Dataframe laden laden und Vorschau anzeigen"
   ]
  },
  {
   "cell_type": "code",
   "execution_count": null,
   "metadata": {
    "colab": {},
    "colab_type": "code",
    "id": "F5fMj_vt_1r1",
    "outputId": "420a6327-fde2-4bd7-8d17-5d60cf4ba67b",
    "pycharm": {
     "is_executing": false,
     "name": "#%%\n"
    }
   },
   "outputs": [],
   "source": [
    "sanfrancisco_df = pd.read_csv(\"./Building_Permits.csv\")\n",
    "\n",
    "# sanfrancisco_df.head(5)\n",
    "sanfrancisco_df.profile_report()"
   ]
  },
  {
   "cell_type": "markdown",
   "metadata": {
    "pycharm": {
     "name": "#%% md\n"
    }
   },
   "source": [
    "### Fehlende Werte kontrollieren\n",
    "\n",
    "Um einen Überblick über die Daten zu bekommen, lassen wir uns ausgeben wie hoch der Anteil an fehlenden Werten ist."
   ]
  },
  {
   "cell_type": "code",
   "execution_count": null,
   "metadata": {
    "pycharm": {
     "is_executing": true,
     "name": "#%%\n"
    }
   },
   "outputs": [],
   "source": [
    "round(sanfrancisco_df.isnull().sum() / len(sanfrancisco_df) * 100, 2)"
   ]
  },
  {
   "cell_type": "markdown",
   "metadata": {
    "pycharm": {
     "name": "#%% md\n"
    }
   },
   "source": [
    "Und als nächstes schauen wir uns die Werte die in den einzelnen Spalten sind an.  \n",
    "Format:\n",
    "- Alle möglichen Werte: zuerst der Werte dann die Anzahl (wenn es zu viele werte gibt wird abgekürzt)\n",
    "- als letzte Zeile der Name der Spalte und die Menge an einzigartigen Werte"
   ]
  },
  {
   "cell_type": "code",
   "execution_count": 20,
   "metadata": {
    "pycharm": {
     "is_executing": false,
     "name": "#%%\n"
    }
   },
   "outputs": [
    {
     "name": "stdout",
     "output_type": "stream",
     "text": [
      "201602179765    101\n",
      "201602179758     66\n",
      "201602179775     30\n",
      "201409166451      9\n",
      "201708165004      9\n",
      "               ... \n",
      "M861647           1\n",
      "201308194693      1\n",
      "M688867           1\n",
      "201506108677      1\n",
      "201711224750      1\n",
      "Name: Permit Number, Length: 181495, dtype: int64\n",
      "-----------------------------------------------------------\n",
      "8    178844\n",
      "3     14663\n",
      "4      2892\n",
      "2       950\n",
      "6       600\n",
      "7       511\n",
      "1       349\n",
      "5        91\n",
      "Name: Permit Type, dtype: int64\n",
      "-----------------------------------------------------------\n",
      "otc alterations permit                 178844\n",
      "additions alterations or repairs        14663\n",
      "sign - erect                             2892\n",
      "new construction wood frame               950\n",
      "demolitions                               600\n",
      "wall or painted sign                      511\n",
      "new construction                          349\n",
      "grade or quarry or fill or excavate        91\n",
      "Name: Permit Type Definition, dtype: int64\n",
      "-----------------------------------------------------------\n",
      "09/15/2017    413\n",
      "11/03/2015    396\n",
      "02/17/2016    363\n",
      "09/14/2017    335\n",
      "06/27/2014    307\n",
      "             ... \n",
      "05/24/2016     55\n",
      "12/26/2014     45\n",
      "09/11/2012     17\n",
      "03/28/2012      4\n",
      "12/26/2012      1\n",
      "Name: Permit Creation Date, Length: 1291, dtype: int64\n",
      "-----------------------------------------------------------\n",
      "3708    1195\n",
      "3735     750\n",
      "7331     680\n",
      "0289     640\n",
      "3709     584\n",
      "        ... \n",
      "5471       1\n",
      "6071       1\n",
      "1257       1\n",
      "6221       1\n",
      "5595       1\n",
      "Name: Block, Length: 4896, dtype: int64\n",
      "-----------------------------------------------------------\n",
      "001     10114\n",
      "007      5317\n",
      "002      5183\n",
      "003      5042\n",
      "006      4835\n",
      "        ...  \n",
      "023J        1\n",
      "004S        1\n",
      "468         1\n",
      "847         1\n",
      "384         1\n",
      "Name: Lot, Length: 1055, dtype: int64\n",
      "-----------------------------------------------------------\n",
      "1       2394\n",
      "101     1153\n",
      "100     1143\n",
      "50      1103\n",
      "201     1026\n",
      "        ... \n",
      "5068       1\n",
      "5775       1\n",
      "5196       1\n",
      "3279       1\n",
      "4669       1\n",
      "Name: Street Number, Length: 5099, dtype: int64\n",
      "-----------------------------------------------------------\n",
      "NaN    196684\n",
      "A        1501\n",
      "B         291\n",
      "V         228\n",
      "C          56\n",
      "E          28\n",
      "F          24\n",
      "G          12\n",
      "H          11\n",
      "K          11\n",
      "D          11\n",
      "R          10\n",
      "L          10\n",
      "J           9\n",
      "I           7\n",
      "P           3\n",
      "N           2\n",
      "½           1\n",
      "0           1\n",
      "Name: Street Number Suffix, dtype: int64\n",
      "-----------------------------------------------------------\n",
      "Market         5443\n",
      "California     4587\n",
      "Mission        4209\n",
      "Montgomery     2403\n",
      "Geary          1966\n",
      "               ... \n",
      "Homewood          1\n",
      "Saint Marys       1\n",
      "Annie             1\n",
      "Colonial          1\n",
      "Salinas           1\n",
      "Name: Street Name, Length: 1704, dtype: int64\n",
      "-----------------------------------------------------------\n",
      "St     138358\n",
      "Av      43219\n",
      "Bl       3555\n",
      "Wy       3540\n",
      "Dr       3267\n",
      "NaN      2768\n",
      "Tr       1466\n",
      "Ct        667\n",
      "Pl        538\n",
      "Rd        389\n",
      "Ln        354\n",
      "Hy        240\n",
      "Pz        210\n",
      "Pk        128\n",
      "Cr         97\n",
      "Al         83\n",
      "Wk          9\n",
      "Rw          5\n",
      "So          2\n",
      "No          2\n",
      "Sw          2\n",
      "Hl          1\n",
      "Name: Street Suffix, dtype: int64\n",
      "-----------------------------------------------------------\n",
      "NaN       169421\n",
      "0.0        21410\n",
      "1.0         1312\n",
      "2.0          549\n",
      "3.0          448\n",
      "           ...  \n",
      "69.0           1\n",
      "1124.0         1\n",
      "5106.0         1\n",
      "908.0          1\n",
      "2534.0         1\n",
      "Name: Unit, Length: 661, dtype: int64\n",
      "-----------------------------------------------------------\n",
      "NaN          196939\n",
      "A               346\n",
      "C               226\n",
      "B               191\n",
      "D               135\n",
      "              ...  \n",
      "BASEMENT          1\n",
      "C-4               1\n",
      "PIER 3            1\n",
      "3RD FLOOR         1\n",
      "PH C              1\n",
      "Name: Unit Suffix, Length: 165, dtype: int64\n",
      "-----------------------------------------------------------\n",
      "street space                                                                                                                              22163\n",
      "reroofing                                                                                                                                  9465\n",
      "street space permit                                                                                                                        7549\n",
      "re-roofing                                                                                                                                 2351\n",
      "streetspace                                                                                                                                 819\n",
      "                                                                                                                                          ...  \n",
      "remove & replace four (4) windows in-kind. not seen from street. 0 factor 0.4 max.                                                            1\n",
      "tenant improvement: relocate twenty five sprinkler heads                                                                                      1\n",
      "remodel total   3 (e) bathrooms - one on 3rd floor, one on 2nd floor and one on ground floor.  paint outside, replace water heater            1\n",
      "revision to 201607071733 addmeda #3 fire alarm add mobile generator for 6 weeks period until permanent power isn established. maher na        1\n",
      "2/f bathroom remodel  ; to comply with cec150.0(k)5                                                                                           1\n",
      "Name: Description, Length: 134273, dtype: int64\n",
      "-----------------------------------------------------------\n",
      "complete       97077\n",
      "issued         83559\n",
      "filed          12043\n",
      "withdrawn       1754\n",
      "cancelled       1536\n",
      "expired         1370\n",
      "approved         733\n",
      "reinstated       563\n",
      "suspend          193\n",
      "revoked           50\n",
      "plancheck         16\n",
      "appeal             2\n",
      "disapproved        2\n",
      "incomplete         2\n",
      "Name: Current Status, dtype: int64\n",
      "-----------------------------------------------------------\n",
      "09/15/2017    474\n",
      "09/14/2017    404\n",
      "06/15/2016    370\n",
      "02/22/2018    364\n",
      "02/23/2018    363\n",
      "             ... \n",
      "07/15/2017      1\n",
      "03/27/2016      1\n",
      "03/02/2019      1\n",
      "11/02/2014      1\n",
      "12/25/2014      1\n",
      "Name: Current Status Date, Length: 1307, dtype: int64\n",
      "-----------------------------------------------------------\n",
      "09/15/2017    412\n",
      "11/03/2015    366\n",
      "02/17/2016    364\n",
      "09/14/2017    332\n",
      "06/27/2014    305\n",
      "             ... \n",
      "12/24/2014     68\n",
      "12/24/2015     65\n",
      "07/03/2015     60\n",
      "05/24/2016     56\n",
      "12/26/2014     45\n",
      "Name: Filed Date, Length: 1288, dtype: int64\n",
      "-----------------------------------------------------------\n",
      "NaN           14940\n",
      "06/15/2016      341\n",
      "07/26/2016      274\n",
      "12/18/2015      272\n",
      "12/10/2015      234\n",
      "              ...  \n",
      "12/24/2014       64\n",
      "05/24/2016       63\n",
      "12/26/2014       55\n",
      "12/31/2015       54\n",
      "12/12/2015        2\n",
      "Name: Issued Date, Length: 1290, dtype: int64\n",
      "-----------------------------------------------------------\n",
      "NaN           101709\n",
      "10/30/2015       206\n",
      "01/02/2014       169\n",
      "12/20/2017       162\n",
      "11/26/2013       161\n",
      "               ...  \n",
      "03/23/2013         3\n",
      "01/04/2013         2\n",
      "11/02/2014         1\n",
      "01/07/2013         1\n",
      "12/25/2014         1\n",
      "Name: Completed Date, Length: 1301, dtype: int64\n",
      "-----------------------------------------------------------\n",
      "NaN           14946\n",
      "11/07/2016      339\n",
      "11/01/2016      254\n",
      "12/10/2015      236\n",
      "11/07/2017      235\n",
      "              ...  \n",
      "07/03/2015       65\n",
      "12/24/2014       62\n",
      "12/31/2015       56\n",
      "12/26/2014       53\n",
      "05/24/2016       42\n",
      "Name: First Construction Document Date, Length: 1289, dtype: int64\n",
      "-----------------------------------------------------------\n",
      "NaN    191978\n",
      "Y        6922\n",
      "Name: Structural Notification, dtype: int64\n",
      "-----------------------------------------------------------\n",
      "2.0     52767\n",
      "3.0     45740\n",
      "NaN     42784\n",
      "4.0     16055\n",
      "1.0      8793\n",
      "        ...  \n",
      "49.0        3\n",
      "62.0        2\n",
      "2.5         2\n",
      "78.0        1\n",
      "1.5         1\n",
      "Name: Number of Existing Stories, Length: 65, dtype: int64\n",
      "-----------------------------------------------------------\n",
      "2.0     50991\n",
      "3.0     46802\n",
      "NaN     42868\n",
      "4.0     17593\n",
      "1.0      7893\n",
      "        ...  \n",
      "49.0        3\n",
      "47.0        3\n",
      "2.5         2\n",
      "78.0        1\n",
      "1.5         1\n",
      "Name: Number of Proposed Stories, Length: 65, dtype: int64\n",
      "-----------------------------------------------------------\n",
      "NaN    198865\n",
      "Y          35\n",
      "Name: Voluntary Soft-Story Retrofit, dtype: int64\n",
      "-----------------------------------------------------------\n",
      "NaN    180073\n",
      "Y       18827\n",
      "Name: Fire Only Permit, dtype: int64\n",
      "-----------------------------------------------------------\n",
      "NaN           51880\n",
      "02/28/2018      302\n",
      "02/24/2018      239\n",
      "05/31/2018      234\n",
      "05/04/2018      228\n",
      "              ...  \n",
      "07/20/2020        1\n",
      "11/05/2014        1\n",
      "09/29/2015        1\n",
      "07/28/2015        1\n",
      "07/24/2021        1\n",
      "Name: Permit Expiration Date, Length: 2233, dtype: int64\n",
      "-----------------------------------------------------------\n",
      "NaN         38066\n",
      "1.0         17014\n",
      "10000.0      6695\n",
      "5000.0       6437\n",
      "20000.0      5702\n",
      "            ...  \n",
      "76600.0         1\n",
      "20119.0         1\n",
      "40240.0         1\n",
      "737000.0        1\n",
      "56898.0         1\n",
      "Name: Estimated Cost, Length: 11396, dtype: int64\n",
      "-----------------------------------------------------------\n",
      "1.0         47228\n",
      "0.0          8513\n",
      "NaN          6066\n",
      "10000.0      5474\n",
      "5000.0       5453\n",
      "            ...  \n",
      "41666.0         1\n",
      "920.0           1\n",
      "7256.0          1\n",
      "169600.0        1\n",
      "17955.0         1\n",
      "Name: Revised Cost, Length: 12630, dtype: int64\n",
      "-----------------------------------------------------------\n",
      "1 family dwelling       46766\n",
      "NaN                     41114\n",
      "apartments              40798\n",
      "office                  24616\n",
      "2 family dwelling       20987\n",
      "                        ...  \n",
      "bath house                  2\n",
      "child care                  1\n",
      "orphanage                   1\n",
      "dairies/dairy equip.        1\n",
      "roofing materials           1\n",
      "Name: Existing Use, Length: 94, dtype: int64\n",
      "-----------------------------------------------------------\n",
      "NaN      51538\n",
      "1.0      47346\n",
      "0.0      29134\n",
      "2.0      21804\n",
      "3.0       8616\n",
      "         ...  \n",
      "211.0        1\n",
      "396.0        1\n",
      "193.0        1\n",
      "289.0        1\n",
      "540.0        1\n",
      "Name: Existing Units, Length: 349, dtype: int64\n",
      "-----------------------------------------------------------\n",
      "1 family dwelling       46346\n",
      "apartments              43032\n",
      "NaN                     42439\n",
      "office                  23962\n",
      "2 family dwelling       22061\n",
      "                        ...  \n",
      "meat/produce marts          2\n",
      "roofing materials           1\n",
      "dairies/dairy equip.        1\n",
      "orphanage                   1\n",
      "not applicable              1\n",
      "Name: Proposed Use, Length: 95, dtype: int64\n",
      "-----------------------------------------------------------\n",
      "NaN       50911\n",
      "1.0       46913\n",
      "0.0       26884\n",
      "2.0       22891\n",
      "3.0        9347\n",
      "          ...  \n",
      "1911.0        1\n",
      "280.0         1\n",
      "159.0         1\n",
      "319.0         1\n",
      "305.0         1\n",
      "Name: Proposed Units, Length: 369, dtype: int64\n",
      "-----------------------------------------------------------\n",
      "2.0       98088\n",
      "0.0       63244\n",
      "NaN       37309\n",
      "3.0         250\n",
      "4.0           3\n",
      "1.0           2\n",
      "6.0           2\n",
      "20.0          1\n",
      "9000.0        1\n",
      "Name: Plansets, dtype: int64\n",
      "-----------------------------------------------------------\n",
      "NaN    198898\n",
      "P           1\n",
      "Y           1\n",
      "Name: TIDF Compliance, dtype: int64\n",
      "-----------------------------------------------------------\n",
      "5.0    113350\n",
      "NaN     43366\n",
      "1.0     28072\n",
      "3.0      9663\n",
      "2.0      4068\n",
      "4.0       381\n",
      "Name: Existing Construction Type, dtype: int64\n",
      "-----------------------------------------------------------\n",
      "wood frame (5)    113350\n",
      "NaN                43366\n",
      "constr type 1      28072\n",
      "constr type 3       9663\n",
      "constr type 2       4068\n",
      "constr type 4        381\n",
      "Name: Existing Construction Type Description, dtype: int64\n",
      "-----------------------------------------------------------\n",
      "5.0    114382\n",
      "NaN     43162\n",
      "1.0     27841\n",
      "3.0      9360\n",
      "2.0      3778\n",
      "4.0       377\n",
      "Name: Proposed Construction Type, dtype: int64\n",
      "-----------------------------------------------------------\n",
      "wood frame (5)    114382\n",
      "NaN                43162\n",
      "constr type 1      27841\n",
      "constr type 3       9360\n",
      "constr type 2       3778\n",
      "constr type 4        377\n",
      "Name: Proposed Construction Type Description, dtype: int64\n",
      "-----------------------------------------------------------\n",
      "NaN    193541\n",
      "Y        5359\n",
      "Name: Site Permit, dtype: int64\n",
      "-----------------------------------------------------------\n",
      "3.0     28649\n",
      "8.0     26760\n",
      "2.0     25483\n",
      "6.0     24797\n",
      "5.0     19045\n",
      "9.0     16362\n",
      "7.0     14365\n",
      "1.0     13038\n",
      "10.0    12152\n",
      "4.0      9592\n",
      "11.0     6940\n",
      "NaN      1717\n",
      "Name: Supervisor District, dtype: int64\n",
      "-----------------------------------------------------------\n",
      "Financial District/South Beach    21816\n",
      "Mission                           14681\n",
      "Sunset/Parkside                   10207\n",
      "West of Twin Peaks                 8739\n",
      "Castro/Upper Market                8527\n",
      "Pacific Heights                    8508\n",
      "Marina                             8244\n",
      "Outer Richmond                     7854\n",
      "Noe Valley                         7844\n",
      "South of Market                    7572\n",
      "Bernal Heights                     6067\n",
      "Nob Hill                           6009\n",
      "Haight Ashbury                     5798\n",
      "Inner Sunset                       5776\n",
      "Bayview Hunters Point              5669\n",
      "Russian Hill                       5495\n",
      "Hayes Valley                       5489\n",
      "Tenderloin                         4783\n",
      "Inner Richmond                     4458\n",
      "Potrero Hill                       4293\n",
      "Presidio Heights                   4084\n",
      "North Beach                        4054\n",
      "Western Addition                   3867\n",
      "Chinatown                          3765\n",
      "Lone Mountain/USF                  3358\n",
      "Excelsior                          3072\n",
      "Oceanview/Merced/Ingleside         2654\n",
      "Glen Park                          2637\n",
      "Mission Bay                        2287\n",
      "Outer Mission                      2242\n",
      "NaN                                1725\n",
      "Twin Peaks                         1702\n",
      "Portola                            1433\n",
      "Lakeshore                          1308\n",
      "Seacliff                            992\n",
      "Visitacion Valley                   900\n",
      "Japantown                           700\n",
      "Treasure Island                      81\n",
      "Golden Gate Park                     64\n",
      "Presidio                             51\n",
      "Lincoln Park                         49\n",
      "McLaren Park                         46\n",
      "Name: Neighborhoods - Analysis Boundaries, dtype: int64\n",
      "-----------------------------------------------------------\n",
      "94110.0    17837\n",
      "94114.0    13404\n",
      "94117.0    11780\n",
      "94109.0    11348\n",
      "94103.0    10986\n",
      "94115.0    10095\n",
      "94118.0     9812\n",
      "94123.0     9515\n",
      "94122.0     8886\n",
      "94105.0     8628\n",
      "94112.0     7897\n",
      "94121.0     7773\n",
      "94107.0     7706\n",
      "94131.0     7664\n",
      "94133.0     7424\n",
      "94102.0     7164\n",
      "94116.0     6421\n",
      "94111.0     5385\n",
      "94108.0     5320\n",
      "94124.0     5265\n",
      "94127.0     4993\n",
      "94104.0     4229\n",
      "94132.0     3507\n",
      "94134.0     2983\n",
      "NaN         1716\n",
      "94158.0     1058\n",
      "94130.0       81\n",
      "94129.0       23\n",
      "Name: Zipcode, dtype: int64\n",
      "-----------------------------------------------------------\n",
      "NaN                                          1700\n",
      "(37.79226164705184, -122.4034859571375)       554\n",
      "(37.79294896659241, -122.39809861435491)      330\n",
      "(37.728556952954136, -122.47676641508518)     281\n",
      "(37.77523036414975, -122.4174703200545)       276\n",
      "                                             ... \n",
      "(37.74552206474493, -122.47404856827583)        1\n",
      "(37.73868967785484, -122.44678909781275)        1\n",
      "(37.78412451444347, -122.415684123559)          1\n",
      "(37.73340807970929, -122.42722102976843)        1\n",
      "(37.794197180581854, -122.41926279234312)       1\n",
      "Name: Location, Length: 57605, dtype: int64\n",
      "-----------------------------------------------------------\n",
      "1467180210005    1\n",
      "1464109435631    1\n",
      "1384509283785    1\n",
      "1357940168184    1\n",
      "1346989104633    1\n",
      "                ..\n",
      "1497191205836    1\n",
      "1385125161920    1\n",
      "1335723389947    1\n",
      "1476677143540    1\n",
      "1323096395930    1\n",
      "Name: Record ID, Length: 198900, dtype: int64\n",
      "-----------------------------------------------------------\n"
     ]
    }
   ],
   "source": [
    "for key in sanfrancisco_df.keys():\n",
    "    vals = sanfrancisco_df[key].value_counts(dropna=False)\n",
    "    print(vals)\n",
    "    print(\"-----------------------------------------------------------\")"
   ]
  },
  {
   "cell_type": "markdown",
   "metadata": {
    "pycharm": {
     "name": "#%% md\n"
    }
   },
   "source": [
    "Wie man in unserer Ausgabe oben sehen kann, gibt es einige Spalten in denen nur `Y/NaN` Werte vorhanden sind. `Y` steht\n",
    "dabei für true und `NaN` Feld für false. Um das für unsere Vorhersage besser verwenden zu können ersetzen wir das\n",
    "`Y` durch eine `1` und füllen die leeren Zellen mit `0` auf.  \n",
    "\n",
    "- Structural Notification\n",
    "- Voluntary Soft-Story Retrofit\n",
    "- Fire Only Permit\n",
    "- Site Permit\n",
    "\n",
    "Die Spalte `TIDF Compliance` ist vermutlich auch eine solche Spalte, hat aber insgesamt nur zwei einzelne Werte und ist\n",
    "somit uninteressant für uns und wird entfernt."
   ]
  },
  {
   "cell_type": "code",
   "execution_count": null,
   "metadata": {
    "pycharm": {
     "name": "#%%\n"
    }
   },
   "outputs": [],
   "source": [
    "replace_y_with_0_1(sanfrancisco_df, \"Structural Notification\")\n",
    "replace_y_with_0_1(sanfrancisco_df, \"Voluntary Soft-Story Retrofit\")\n",
    "replace_y_with_0_1(sanfrancisco_df, \"Fire Only Permit\")\n",
    "replace_y_with_0_1(sanfrancisco_df, \"Site Permit\")\n",
    "\n",
    "sanfrancisco_df.drop(\"TIDF Compliance\", axis='columns', inplace=True)"
   ]
  },
  {
   "cell_type": "markdown",
   "metadata": {},
   "source": [
    "Da wir mit dem `Supervisor District` bereits eine geografische Einteilung in Regionen haben, entfernen wir alle\n",
    "Adressdaten und die Koordinaten, da wir die für unsere Vorhersage in Textform nicht gebrauchen können und\n",
    "One-Hot-Encoding keinen Sinn macht:\n",
    "- Block\n",
    "- Lot\n",
    "- Street Number\n",
    "- Street Number Suffix\n",
    "- Street Name\n",
    "- Street Suffix\n",
    "- Unit\n",
    "- Unit Suffix\n",
    "- Neighborhoods - Analysis Boundaries\n",
    "- Zipcode\n",
    "- Location\n",
    "\n",
    "Außerdem entfernen wir Felder die Freitext oder IDs enthalten:\n",
    "- Description\n",
    "- Existing Use\n",
    "- Proposed Use\n",
    "- Permit Number\n",
    "- Record ID"
   ]
  },
  {
   "cell_type": "code",
   "execution_count": null,
   "metadata": {
    "pycharm": {
     "name": "#%%\n"
    }
   },
   "outputs": [],
   "source": [
    "sanfrancisco_df.drop(\"Block\", axis=1, inplace=True)\n",
    "sanfrancisco_df.drop(\"Lot\", axis=1, inplace=True)\n",
    "sanfrancisco_df.drop(\"Street Number\", axis=1, inplace=True)\n",
    "sanfrancisco_df.drop(\"Street Number Suffix\", axis=1, inplace=True)\n",
    "sanfrancisco_df.drop(\"Street Name\", axis=1, inplace=True)\n",
    "sanfrancisco_df.drop(\"Street Suffix\", axis=1, inplace=True)\n",
    "sanfrancisco_df.drop(\"Unit\", axis=1, inplace=True)\n",
    "sanfrancisco_df.drop(\"Unit Suffix\", axis=1, inplace=True)\n",
    "sanfrancisco_df.drop(\"Neighborhoods - Analysis Boundaries\", axis=1, inplace=True)\n",
    "sanfrancisco_df.drop(\"Zipcode\", axis=1, inplace=True)\n",
    "sanfrancisco_df.drop(\"Location\", axis=1, inplace=True)\n",
    "\n",
    "sanfrancisco_df.drop(\"Description\", axis=1, inplace=True)\n",
    "sanfrancisco_df.drop(\"Existing Use\", axis=1, inplace=True)\n",
    "sanfrancisco_df.drop(\"Proposed Use\", axis=1, inplace=True)\n",
    "sanfrancisco_df.drop(\"Permit Number\", axis=1, inplace=True)\n",
    "sanfrancisco_df.drop(\"Record ID\", axis=1, inplace=True)"
   ]
  },
  {
   "cell_type": "markdown",
   "metadata": {},
   "source": [
    "Und alle Zeilen die keinen `Supervisor District` haben werden entfernt da wir die Zeilen nicht manuell den Distrikten\n",
    "zuordnen können."
   ]
  },
  {
   "cell_type": "code",
   "execution_count": null,
   "metadata": {
    "pycharm": {
     "name": "#%%\n"
    }
   },
   "outputs": [],
   "source": [
    "sanfrancisco_df = sanfrancisco_df[sanfrancisco_df[\"Supervisor District\"].notna()]"
   ]
  },
  {
   "cell_type": "markdown",
   "metadata": {},
   "source": [
    "Bei den folgenden Spalten ersetzen wir leere Felder durch `0` da wir uns nur die Differenz zwischen vorher/nachher\n",
    "anschauen wollen und das somit keinen Einfluss hat.\n",
    "- Number of Existing Stories\n",
    "- Number of Proposed Stories\n",
    "- Existing Units\n",
    "- Proposed Units"
   ]
  },
  {
   "cell_type": "code",
   "execution_count": null,
   "metadata": {
    "pycharm": {
     "name": "#%%\n"
    }
   },
   "outputs": [],
   "source": [
    "sanfrancisco_df[\"Number of Existing Stories\"].fillna(0, inplace=True)\n",
    "sanfrancisco_df[\"Number of Proposed Stories\"].fillna(0, inplace=True)\n",
    "sanfrancisco_df[\"Existing Units\"].fillna(0, inplace=True)\n",
    "sanfrancisco_df[\"Proposed Units\"].fillna(0, inplace=True)"
   ]
  },
  {
   "cell_type": "markdown",
   "metadata": {},
   "source": [
    "Die folgenden Spalten sind redundant zu ihren `XYZ Description` Spalten und werden somit nicht weiter benötigt.\n",
    "- Existing Construction Type\n",
    "- Proposed Construction Type\n",
    "\n",
    "Zusätzlich werden die leeren Felder der anderen Spalten mit `no constr type 0`gefüllt, weil wir keine sinnvolle Annahme\n",
    "über den tatsächlichen Wert machen können und so die aufgefüllten Spalten erkennen können."
   ]
  },
  {
   "cell_type": "code",
   "execution_count": null,
   "metadata": {
    "pycharm": {
     "name": "#%%\n"
    }
   },
   "outputs": [],
   "source": [
    "sanfrancisco_df.drop(\"Existing Construction Type\", axis=1, inplace=True)\n",
    "sanfrancisco_df.drop(\"Proposed Construction Type\", axis=1, inplace=True)\n",
    "sanfrancisco_df[\"Existing Construction Type Description\"].fillna(\"no constr type 0\", inplace=True)\n",
    "sanfrancisco_df[\"Proposed Construction Type Description\"].fillna(\"no constr type 0\", inplace=True)"
   ]
  },
  {
   "cell_type": "code",
   "execution_count": null,
   "metadata": {
    "pycharm": {
     "name": "#%%\n"
    }
   },
   "outputs": [],
   "source": [
    "sanfrancisco_df.isnull().sum()"
   ]
  },
  {
   "cell_type": "markdown",
   "metadata": {},
   "source": [
    "In den folgenden Spalten füllen wir die leeren Felder mit dem Median der Spalte:\n",
    "- Estimated Cost\n",
    "- Revised Cost\n",
    "- Plansets"
   ]
  },
  {
   "cell_type": "code",
   "execution_count": null,
   "metadata": {
    "pycharm": {
     "name": "#%%\n"
    }
   },
   "outputs": [],
   "source": [
    "def replace_with_median(df: pd.DataFrame, column: str):\n",
    "    median = df[column].median(skipna=True)\n",
    "    df[column].fillna(median, inplace=True)"
   ]
  },
  {
   "cell_type": "code",
   "execution_count": null,
   "metadata": {
    "pycharm": {
     "name": "#%%\n"
    }
   },
   "outputs": [],
   "source": [
    "replace_with_median(sanfrancisco_df, \"Estimated Cost\")\n",
    "replace_with_median(sanfrancisco_df, \"Revised Cost\")\n",
    "replace_with_median(sanfrancisco_df, \"Plansets\")"
   ]
  },
  {
   "cell_type": "code",
   "execution_count": null,
   "metadata": {
    "pycharm": {
     "name": "#%%\n"
    }
   },
   "outputs": [],
   "source": [
    "sanfrancisco_df.isnull().sum()"
   ]
  },
  {
   "cell_type": "markdown",
   "metadata": {},
   "source": [
    "Die restlichen Spalten mit fehlenden Spalten sind Spalten mit Daten. Einige sind nicht ausgefüllt weil sie erst in der\n",
    "Zukunft gefüllt werden können, wir füllen sie mit `00/00/0000` um später entsprechend die Werte auswählen zu können."
   ]
  },
  {
   "cell_type": "code",
   "execution_count": null,
   "metadata": {
    "pycharm": {
     "name": "#%%\n"
    }
   },
   "outputs": [],
   "source": [
    "sanfrancisco_df[\"Issued Date\"].fillna(\"00/00/0000\", inplace=True)\n",
    "sanfrancisco_df[\"Completed Date\"].fillna(\"00/00/0000\", inplace=True)\n",
    "sanfrancisco_df[\"First Construction Document Date\"].fillna(\"00/00/0000\", inplace=True)\n",
    "sanfrancisco_df[\"Permit Expiration Date\"].fillna(\"00/00/0000\", inplace=True)"
   ]
  },
  {
   "cell_type": "code",
   "execution_count": null,
   "metadata": {
    "pycharm": {
     "name": "#%%\n"
    }
   },
   "outputs": [],
   "source": [
    "sanfrancisco_df.isnull().sum()"
   ]
  },
  {
   "cell_type": "markdown",
   "metadata": {
    "colab_type": "text",
    "id": "HTnfsNBE_1r9",
    "pycharm": {
     "name": "#%% md\n"
    }
   },
   "source": [
    "# B SF Permits Exploration\n",
    "\n",
    "### Lineare abhängikeiten suchen \n",
    "Um eine Idee davon zu bekommen wie stark die einzelnen Spalten von einander abhängen berrechnen wir eine\n",
    "Korrelationsmatrix. Je näher die Werte an 1/-1 liegen desto stärker ist die Abhängigkeit."
   ]
  },
  {
   "cell_type": "code",
   "execution_count": null,
   "metadata": {
    "pycharm": {
     "name": "#%%\n"
    }
   },
   "outputs": [],
   "source": [
    "correlation_matrix = sanfrancisco_df.corr().round(2)\n",
    "sns.set(rc={'figure.figsize':(12, 9)})\n",
    "sns.heatmap(data=correlation_matrix, annot=True)"
   ]
  },
  {
   "cell_type": "markdown",
   "metadata": {
    "colab_type": "text",
    "id": "tzc08M-7_1r_",
    "pycharm": {
     "name": "#%% md\n"
    }
   },
   "source": [
    "# C SF Permits Prediction\n",
    "\n",
    "### Methode für One-Hot-Encoding"
   ]
  },
  {
   "cell_type": "code",
   "execution_count": null,
   "metadata": {
    "colab": {},
    "colab_type": "code",
    "id": "a4l0OiRH_1sA",
    "pycharm": {
     "is_executing": true,
     "name": "#%%\n"
    }
   },
   "outputs": [],
   "source": [
    "def one_hot_encode(df: pd.DataFrame, col: str) -> pd.DataFrame:\n",
    "    \"\"\"\n",
    "    Erzeugt Dummy-Spalten für jeden Wert in der Quell-Spalte.\n",
    "    \n",
    "    Beispiel:\n",
    "    Wenn eine Tabelle die Spalte 'Klasse' mit 0, 1, 2 als Werte hat, werden die Spalte Klasse 0, Klasse 1 und Klasse 2\n",
    "    erstellt und die Zeilen der Tabelle an den entsprechenden Stellen auf 0 bzw. 1 gesetzt. \n",
    "    :param df: Dataframe in dem die zu ersetzende Spalte ist\n",
    "    :param col: Spalte die One-Hot-Encoded werden soll\n",
    "    :return: modifizierter DataFrame\n",
    "    \"\"\"\n",
    "    return df.assign(**{str(col + \" \" + str(val)): [1 if str(val) in str(cell) else 0 for cell in df[col]] \n",
    "                                   for val in df[col].unique()})\n",
    "\n",
    "def days_between_dates(d1: str, d2: str) -> int:\n",
    "    \"\"\"\n",
    "    Akzeptiert zwei Daten in der Form DD/MM/YYYY und berechnet die Tage zwischen den beiden Daten.\n",
    "    :param d1: Erstes Datum\n",
    "    :param d2: Zweites Datum\n",
    "    :return: Anzahl der Tage zwischen den beiden Daten\n",
    "    \"\"\"\n",
    "    d1 = d1.split(\"/\")\n",
    "    d2 = d2.split(\"/\")\n",
    "    if len(d1) != 3 or len(d2) != 3:\n",
    "        raise ValueError(\"Date must consist of three numbers divided by '/'\")\n",
    "    d1 = datetime.date(int(d1[2]), int(d1[1]), int(d1[0]))\n",
    "    d2 = datetime.date(int(d2[2]), int(d2[1]), int(d2[0]))\n",
    "    return (d2 - d1).days"
   ]
  },
  {
   "cell_type": "markdown",
   "metadata": {
    "colab_type": "text",
    "id": "RgVsTouw_1sC",
    "pycharm": {
     "name": "#%% md\n"
    }
   },
   "source": [
    "# D SF Challenges"
   ]
  },
  {
   "cell_type": "markdown",
   "metadata": {
    "colab_type": "text",
    "id": "xu0TfuMH_1sD",
    "pycharm": {
     "name": "#%% md\n"
    }
   },
   "source": [
    "# E Neural Networks XOR\n",
    "\n",
    "![XOR Graph](https://github.com/maxmoehl/ATIT2_assignments/blob/master/Assignment_2/XOR.png?raw=1)\n",
    "\n",
    "w: weight  \n",
    "b: bias  \n",
    "t: threshold\n",
    "\n",
    "Mathematische Funktion:\n",
    "```\n",
    "SIGMOID(x) = 1 / (1 + e^(-x))\n",
    "AND(x, y) = SIGMOID(50x + 50y - 75)\n",
    "OR(x, y) = SIGMOID(50x + 50y - 25)\n",
    "NOT(x) = SIGMOID(-50x + 10)\n",
    "\n",
    "XOR(x, y) = AND(NOT(AND(x, y)), OR(x, y))\n",
    "\n",
    "XOR(x,y) = SIGMOID(SIGMOID(SIGMOID(50x + 50y - 75) * (-50) + 10) * 50 + SIGMOID(50x + 50y - 25) * 50 - 75)\n",
    "           \\       \\       \\---------AND---------/             /        \\                     /          /\n",
    "            \\       \\-------------------NOT-------------------/          \\--------OR---------/          /\n",
    "             \\-------------------------------------------AND-------------------------------------------/\n",
    "```\n",
    "\n",
    "### Funktionen in Python abbilden und testen"
   ]
  },
  {
   "cell_type": "code",
   "execution_count": null,
   "metadata": {
    "colab": {
     "base_uri": "https://localhost:8080/",
     "height": 85
    },
    "colab_type": "code",
    "id": "tbgurGNn_1sE",
    "outputId": "8b97de3f-3ad1-429f-f3c7-54b1a779a0cc",
    "pycharm": {
     "is_executing": true,
     "name": "#%%\n"
    }
   },
   "outputs": [],
   "source": [
    "def SIGMOID(x):\n",
    "    return 1 / (1 + (math.e ** (-x)))\n",
    "\n",
    "def AND(x, y):\n",
    "    return SIGMOID(x * 50 + y * 50 - 75)\n",
    "\n",
    "def OR(x, y):\n",
    "    return SIGMOID(x * 50 + y * 50 - 25)\n",
    "    \n",
    "def NOT(x):\n",
    "    return SIGMOID(x * (-50) + 10)\n",
    "\n",
    "def XOR(x, y):\n",
    "    return AND(NOT(AND(x, y)),OR(x, y))\n",
    "\n",
    "print(round(XOR(0, 0), 2))\n",
    "print(round(XOR(0, 1), 2))\n",
    "print(round(XOR(1, 0), 2))\n",
    "print(round(XOR(1, 1), 2))"
   ]
  },
  {
   "cell_type": "markdown",
   "metadata": {
    "colab_type": "text",
    "id": "cLiGUsgJ_1sG",
    "pycharm": {
     "name": "#%% md\n"
    }
   },
   "source": [
    "# F Neural Networks Overfitting\n",
    "\n",
    "## Daten laden und splitten\n",
    "\n",
    "Das größte Problem wenn man ein Modell hat das overfitted ist das man zu wenige Daten zum trainieren hat, um das hier zu simulieren verwenden wir nicht die 50.000 Datensätze zum trainieren sondern nur die 10.000."
   ]
  },
  {
   "cell_type": "code",
   "execution_count": null,
   "metadata": {
    "colab": {
     "base_uri": "https://localhost:8080/",
     "height": 51
    },
    "colab_type": "code",
    "id": "8f9rm6tZAKE8",
    "outputId": "38e4b6d6-20f2-4021-b147-04967d19673f",
    "pycharm": {
     "is_executing": true
    }
   },
   "outputs": [],
   "source": [
    "(X_test, Y_test), (X_train, Y_train) = datasets.cifar10.load_data()\n",
    "\n",
    "X_train, X_test = X_train / 255.0, X_test / 255.0\n",
    "\n",
    "num_classes = 10"
   ]
  },
  {
   "cell_type": "markdown",
   "metadata": {
    "colab_type": "text",
    "id": "2EHk8pjWAP65"
   },
   "source": [
    "## Modell erstellen\n",
    "\n",
    "Damit das Modell overfitted nehmen wir nur zwei Convolutional und ein MaxPooling Layer und zum auswerten auch nur ein Dense Layer."
   ]
  },
  {
   "cell_type": "code",
   "execution_count": null,
   "metadata": {
    "colab": {
     "base_uri": "https://localhost:8080/",
     "height": 323
    },
    "colab_type": "code",
    "id": "MlZ-GqwJAR2J",
    "outputId": "ea6c71d2-2ef8-4775-a9a6-353884384b68",
    "pycharm": {
     "is_executing": true
    }
   },
   "outputs": [],
   "source": [
    "model = models.Sequential()\n",
    "model.add(layers.Conv2D(32, (3, 3), activation='relu', input_shape=(32, 32, 3)))\n",
    "model.add(layers.MaxPooling2D((2, 2)))\n",
    "model.add(layers.Conv2D(64, (3, 3), activation='relu'))\n",
    "\n",
    "model.add(layers.Flatten())\n",
    "model.add(layers.Dense(10, activation='softmax'))\n",
    "\n",
    "model.summary()\n",
    "\n",
    "model.compile(loss='sparse_categorical_crossentropy', optimizer='adam', metrics=['accuracy'])"
   ]
  },
  {
   "cell_type": "markdown",
   "metadata": {
    "colab_type": "text",
    "id": "eiVydoa1AUy9"
   },
   "source": [
    "## Modell trainieren\n",
    "\n",
    "Zusätzlich trainieren wir das Modell in 20 Epochen, das Modell wird sich also viel zu sehr an die 10.000 Datensätze die wir verwenden anpassen."
   ]
  },
  {
   "cell_type": "code",
   "execution_count": null,
   "metadata": {
    "colab": {
     "base_uri": "https://localhost:8080/",
     "height": 714
    },
    "colab_type": "code",
    "id": "Qu5qdkORAUaa",
    "outputId": "e750d182-8c76-4663-b84e-5ae7a64ce952",
    "pycharm": {
     "is_executing": true
    }
   },
   "outputs": [],
   "source": [
    "history = model.fit(X_train, Y_train, batch_size=100, epochs=20, validation_data=(X_test, Y_test))"
   ]
  },
  {
   "cell_type": "markdown",
   "metadata": {
    "colab_type": "text",
    "id": "OinsFcIpBHAl"
   },
   "source": [
    "## Methode zum visualisieren der Ergebnisse"
   ]
  },
  {
   "cell_type": "code",
   "execution_count": null,
   "metadata": {
    "colab": {},
    "colab_type": "code",
    "id": "7TSZ5ordBK8H",
    "pycharm": {
     "is_executing": true
    }
   },
   "outputs": [],
   "source": [
    "def plot_results(history, epoch_lim=20):\n",
    "  plt.plot(history.history['loss'], label='train')\n",
    "  plt.plot(history.history['val_loss'], label='test')\n",
    "  plt.xlabel('Epoch')\n",
    "  plt.ylabel('Loss')\n",
    "  plt.ylim([0, 2.5])\n",
    "  plt.xlim([0, epoch_lim])\n",
    "  plt.legend(loc='upper left')"
   ]
  },
  {
   "cell_type": "markdown",
   "metadata": {
    "colab_type": "text",
    "id": "5fh4VNWxXMCK"
   },
   "source": [
    "## Ergebnisse visualisieren"
   ]
  },
  {
   "cell_type": "code",
   "execution_count": null,
   "metadata": {
    "colab": {
     "base_uri": "https://localhost:8080/",
     "height": 317
    },
    "colab_type": "code",
    "id": "Z9tCzWu3BMWH",
    "outputId": "1e23c2e0-a54e-49c8-abbc-6eabf78c4369",
    "pycharm": {
     "is_executing": true
    }
   },
   "outputs": [],
   "source": [
    "print(\"Train accuracy: {}%\".format(round(history.history['accuracy'][-1] * 100, 2)))\n",
    "print(\"Test accuracy: {}%\".format(round(history.history['val_accuracy'][-1] * 100, 2)))\n",
    "plot_results(history)"
   ]
  },
  {
   "cell_type": "markdown",
   "metadata": {
    "colab_type": "text",
    "id": "jvwuJRPmYu0Z"
   },
   "source": [
    "Wie man anhand des Graphen sehr gut sehen kann, steigt der Loss der Testdaten nach ca. 12 Epochen wieder an: das Modell overfitted. Das kann man auch an der Accuracy sehen, für die Trainingsdaten liegt die bei über 90% währrend die Testdaten nur um die 55% haben."
   ]
  },
  {
   "cell_type": "markdown",
   "metadata": {
    "colab_type": "text",
    "id": "K4tIuE_o_1sH",
    "pycharm": {
     "name": "#%% md\n"
    }
   },
   "source": [
    "# G Neural Networks Overfitting\n",
    "\n",
    "## Daten laden und splitten\n",
    "\n",
    "Um jetzt in diesem Modell das Overfitting zu verhindern verwenden wir die 50.000 Datensätze zum lernen."
   ]
  },
  {
   "cell_type": "code",
   "execution_count": null,
   "metadata": {
    "colab": {},
    "colab_type": "code",
    "id": "aMyJfP1jBcIb",
    "pycharm": {
     "is_executing": true
    }
   },
   "outputs": [],
   "source": [
    "(X_train, Y_train), (X_test, Y_test) = datasets.cifar10.load_data()\n",
    "\n",
    "X_train, X_test = X_train / 255.0, X_test / 255.0"
   ]
  },
  {
   "cell_type": "markdown",
   "metadata": {
    "colab_type": "text",
    "id": "BZXtK7A2U9D4"
   },
   "source": [
    "## Modell erstellen\n",
    "\n",
    "Damit das Modell die Muster in den Bildern besser erkennen kann fügen wir im Vergleich zu dem ersten Modell eine weitere Conv/MaxPooling Kombi und ein weiteres Dense Layer hinzu."
   ]
  },
  {
   "cell_type": "code",
   "execution_count": null,
   "metadata": {
    "colab": {
     "base_uri": "https://localhost:8080/",
     "height": 493
    },
    "colab_type": "code",
    "id": "G5_iEX1tBeQo",
    "outputId": "b198d165-0a97-403f-d70e-c449b708ad7a",
    "pycharm": {
     "is_executing": true
    }
   },
   "outputs": [],
   "source": [
    "model = models.Sequential()\n",
    "model.add(layers.Conv2D(32, (3, 3), activation='relu', input_shape=(32, 32, 3)))\n",
    "model.add(layers.MaxPooling2D((2, 2)))\n",
    "model.add(layers.Conv2D(64, (3, 3), activation='relu'))\n",
    "model.add(layers.MaxPooling2D((2, 2)))\n",
    "model.add(layers.Conv2D(64, (3, 3), activation='relu'))\n",
    "\n",
    "model.add(layers.Flatten())\n",
    "model.add(layers.Dense(128, activation='relu'))\n",
    "model.add(layers.Dropout(0.5))\n",
    "model.add(layers.Dense(64, activation='relu'))\n",
    "model.add(layers.Dense(10, activation='softmax'))\n",
    "\n",
    "model.summary()\n",
    "\n",
    "model.compile(loss='sparse_categorical_crossentropy', optimizer='adam', metrics=['accuracy'])"
   ]
  },
  {
   "cell_type": "markdown",
   "metadata": {
    "colab_type": "text",
    "id": "g0DTjqEcVP8Y"
   },
   "source": [
    "## Modell trainieren\n",
    "\n",
    "Um Overfitting zu verhindern verringern wir die Anzahl an Epochen."
   ]
  },
  {
   "cell_type": "code",
   "execution_count": null,
   "metadata": {
    "colab": {
     "base_uri": "https://localhost:8080/",
     "height": 374
    },
    "colab_type": "code",
    "id": "WeT93vk7USHx",
    "outputId": "b4916e74-8d38-4923-c2db-56b586116acf",
    "pycharm": {
     "is_executing": true
    }
   },
   "outputs": [],
   "source": [
    "early_stopping = EarlyStopping(monitor='val_loss', min_delta=0, patience=2, verbose=0, mode='auto')\n",
    "history = model.fit(X_train, Y_train, batch_size=10, epochs=15, validation_data=(X_test, Y_test), callbacks=[early_stopping])"
   ]
  },
  {
   "cell_type": "markdown",
   "metadata": {
    "colab_type": "text",
    "id": "Ox6Y5epgVgfx"
   },
   "source": [
    "## Ergebnisse visualisieren"
   ]
  },
  {
   "cell_type": "code",
   "execution_count": null,
   "metadata": {
    "colab": {
     "base_uri": "https://localhost:8080/",
     "height": 317
    },
    "colab_type": "code",
    "id": "X8XBLEXrUS9p",
    "outputId": "891ba079-43f0-4a00-f74c-52d6bf86c4f9",
    "pycharm": {
     "is_executing": true
    }
   },
   "outputs": [],
   "source": [
    "print(\"Train accuracy: {}%\".format(round(history.history['accuracy'][-1] * 100, 2)))\n",
    "print(\"Test accuracy: {}%\".format(round(history.history['val_accuracy'][-1] * 100, 2)))\n",
    "plot_results(history, epoch_lim=15)"
   ]
  },
  {
   "cell_type": "markdown",
   "metadata": {
    "colab_type": "text",
    "id": "u-Wz2rI5blZJ"
   },
   "source": [
    "Wie man an dem Graphen sehen kann sinkt der Loss sowohl für die Trainingsdaten als auch für die Testdaten kontinuierlich. Das Modell generalisiert wesentlich besser anstatt einfach nur die Bilder aus dem Trainingsset auswendig zu lernen. Der Early-Stop Callback verhindert, dass das Modell durch zu viele Trainingsepochen overfitted.  \n",
    "Die Accuracy von Train und Test liegen auch sehr nah beieinander."
   ]
  },
  {
   "cell_type": "markdown",
   "metadata": {
    "colab_type": "text",
    "id": "TFBsqEu1_1sI",
    "pycharm": {
     "name": "#%% md\n"
    }
   },
   "source": [
    "# H Feedback\n",
    "### Wieviel Zeit habt ihr mit dem Assignment verbracht?\n",
    "Max: 15h\n",
    "### Wie oft habt ihr euch getroffen?\n",
    "3\n",
    "### Welche Aufgabe hat euch am besten gefallen?\n",
    "### Welche Aufgabe hat euch am wenigsten gefallen?"
   ]
  }
 ],
 "metadata": {
  "accelerator": "GPU",
  "colab": {
   "name": "solution.ipynb",
   "provenance": [],
   "toc_visible": true
  },
  "kernelspec": {
   "display_name": "Python 3",
   "language": "python",
   "name": "python3"
  },
  "language_info": {
   "codemirror_mode": {
    "name": "ipython",
    "version": 2
   },
   "file_extension": ".py",
   "mimetype": "text/x-python",
   "name": "python",
   "nbconvert_exporter": "python",
   "pygments_lexer": "ipython2",
   "version": "2.7.6"
  },
  "pycharm": {
   "stem_cell": {
    "cell_type": "raw",
    "metadata": {
     "collapsed": false
    },
    "source": []
   }
  }
 },
 "nbformat": 4,
 "nbformat_minor": 1
}
