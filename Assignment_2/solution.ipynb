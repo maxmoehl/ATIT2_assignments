{
 "cells": [
  {
   "cell_type": "code",
   "execution_count": 1,
   "outputs": [],
   "source": [
    "import math\n",
    "import matplotlib.pyplot as plt\n",
    "import numpy as np\n",
    "import pandas as pd\n",
    "import seaborn as sns"
   ],
   "metadata": {
    "collapsed": false,
    "pycharm": {
     "name": "#%%\n",
     "is_executing": false
    }
   }
  },
  {
   "cell_type": "markdown",
   "metadata": {
    "collapsed": true,
    "pycharm": {
     "name": "#%% md\n"
    }
   },
   "source": [
    "# A SF Permits Cleaning\n",
    "\n",
    "### Methode um Y/NaN Spalten zu konvertieren"
   ]
  },
  {
   "cell_type": "code",
   "execution_count": 2,
   "outputs": [],
   "source": [
    "def replace_y_with_0_1(df: pd.DataFrame, column: str) -> pd.DataFrame:\n",
    "    \"\"\"\n",
    "    Ersetzt Y und leere Felder in Spalten die nur Y und leere Felder erhalten durch 1 und 0 \n",
    "    :param df: Dataframe in dem sich die Spalten befinden\n",
    "    :param column: Name der Spalte in der die Werte ersetzt werden sollen\n",
    "    :return: DataFrame mit modifizierten Spalten\n",
    "    \"\"\"\n",
    "    df[column].fillna(0, inplace=True)\n",
    "    df[column].replace('Y', 1, inplace=True)\n",
    "    return df"
   ],
   "metadata": {
    "collapsed": false,
    "pycharm": {
     "name": "#%%\n",
     "is_executing": false
    }
   }
  },
  {
   "cell_type": "markdown",
   "source": [
    "### Datenset laden"
   ],
   "metadata": {
    "collapsed": false,
    "pycharm": {
     "name": "#%% md\n"
    }
   }
  },
  {
   "cell_type": "code",
   "execution_count": 3,
   "outputs": [
    {
     "name": "stderr",
     "text": [
      "c:\\users\\d074009\\appdata\\local\\programs\\python\\python37\\lib\\site-packages\\IPython\\core\\interactiveshell.py:3058: DtypeWarning: Columns (22,32) have mixed types. Specify dtype option on import or set low_memory=False.\n  interactivity=interactivity, compiler=compiler, result=result)\n"
     ],
     "output_type": "stream"
    }
   ],
   "source": [
    "permits_df = pd.read_csv(\"building_permits.csv\")"
   ],
   "metadata": {
    "collapsed": false,
    "pycharm": {
     "name": "#%%\n",
     "is_executing": false
    }
   }
  },
  {
   "cell_type": "markdown",
   "source": [
    "# B SF Permits Exploration"
   ],
   "metadata": {
    "collapsed": false,
    "pycharm": {
     "name": "#%% md\n"
    }
   }
  },
  {
   "cell_type": "markdown",
   "source": [
    "# C SF Permits Prediction\n",
    "\n",
    "### Methode für One-Hot-Encoding"
   ],
   "metadata": {
    "collapsed": false,
    "pycharm": {
     "name": "#%% md\n"
    }
   }
  },
  {
   "cell_type": "code",
   "execution_count": 4,
   "outputs": [],
   "source": [
    "def one_hot_encode(df: pd.DataFrame, col: str) -> pd.DataFrame:\n",
    "    \"\"\"\n",
    "    Erzeugt Dummy-Spalten für jeden Wert in der Quell-Spalte.\n",
    "    \n",
    "    Beispiel:\n",
    "    Wenn eine Tabelle die Spalte 'Klasse' mit 0, 1, 2 als Werte hat, werden die Spalte Klasse 0, Klasse 1 und Klasse 2\n",
    "    erstellt und die Zeilen der Tabelle an den entsprechenden Stellen auf 0 bzw. 1 gesetzt. \n",
    "    :param df: Dataframe in dem die zu ersetzende Spalte ist\n",
    "    :param col: Spalte die One-Hot-Encoded werden soll\n",
    "    :return: modifizierter DataFrame\n",
    "    \"\"\"\n",
    "    return df.assign(**{str(col + \" \" + str(val)): [1 if str(val) in str(cell) else 0 for cell in df[col]] \n",
    "                                   for val in df[col].unique()})"
   ],
   "metadata": {
    "collapsed": false,
    "pycharm": {
     "name": "#%%\n",
     "is_executing": false
    }
   }
  },
  {
   "cell_type": "markdown",
   "source": [
    "# D SF Challenges"
   ],
   "metadata": {
    "collapsed": false,
    "pycharm": {
     "name": "#%% md\n"
    }
   }
  },
  {
   "cell_type": "markdown",
   "source": [
    "# E Neural Networks XOR\n",
    "\n",
    "![XOR Graph](XOR.png)\n",
    "\n",
    "w: weight  \n",
    "b: bias  \n",
    "t: threshold\n",
    "\n",
    "Mathematische Funktion:\n",
    "```\n",
    "SIGMOID(x) = 1 / (1 + e^(-x))\n",
    "AND(x, y) = SIGMOID(50x + 50y - 75)\n",
    "OR(x, y) = SIGMOID(50x + 50y - 25)\n",
    "NOT(x) = SIGMOID(-50x + 10)\n",
    "\n",
    "XOR(x, y) = AND(NOT(AND(x, y)), OR(x, y))\n",
    "\n",
    "XOR(x,y) = SIGMOID(SIGMOID(SIGMOID(50x + 50y - 75) * (-50) + 10) * 50 + SIGMOID(50x + 50y - 25) * 50 - 75)\n",
    "           \\       \\       \\---------AND---------/             /        \\                     /          /\n",
    "            \\       \\-------------------NOT-------------------/          \\--------OR---------/          /\n",
    "             \\-------------------------------------------AND-------------------------------------------/\n",
    "```\n",
    "\n",
    "### Funktionen in Python abbilden und testen"
   ],
   "metadata": {
    "collapsed": false,
    "pycharm": {
     "name": "#%% md\n"
    }
   }
  },
  {
   "cell_type": "code",
   "execution_count": 5,
   "outputs": [],
   "source": [
    "def SIGMOID(x):\n",
    "    return 1 / (1 + (math.e ** (-x)))\n",
    "\n",
    "def AND(x, y):\n",
    "    return SIGMOID(x * 50 + y * 50 - 75)\n",
    "\n",
    "def OR(x, y):\n",
    "    return SIGMOID(x * 50 + y * 50 - 25)\n",
    "    \n",
    "def NOT(x):\n",
    "    return SIGMOID(x * (-50) + 10)\n",
    "\n",
    "def XOR(x, y):\n",
    "    return AND(NOT(AND(x, y)),OR(x, y))\n",
    "\n",
    "print(round(XOR(0, 0), 2))\n",
    "print(round(XOR(0, 1), 2))\n",
    "print(round(XOR(1, 0), 2))\n",
    "print(round(XOR(1, 1), 2))"
   ],
   "metadata": {
    "collapsed": false,
    "pycharm": {
     "name": "#%%\n",
     "is_executing": false
    }
   }
  },
  {
   "cell_type": "markdown",
   "source": [
    "# F Neural Networks Overfitting"
   ],
   "metadata": {
    "collapsed": false,
    "pycharm": {
     "name": "#%% md\n"
    }
   }
  },
  {
   "cell_type": "markdown",
   "source": [
    "# G Neural Networks Overfitting"
   ],
   "metadata": {
    "collapsed": false,
    "pycharm": {
     "name": "#%% md\n"
    }
   }
  },
  {
   "cell_type": "markdown",
   "source": [
    "# H Feedback"
   ],
   "metadata": {
    "collapsed": false,
    "pycharm": {
     "name": "#%% md\n"
    }
   }
  }
 ],
 "metadata": {
  "kernelspec": {
   "display_name": "Python 3",
   "language": "python",
   "name": "python3"
  },
  "language_info": {
   "codemirror_mode": {
    "name": "ipython",
    "version": 2
   },
   "file_extension": ".py",
   "mimetype": "text/x-python",
   "name": "python",
   "nbconvert_exporter": "python",
   "pygments_lexer": "ipython2",
   "version": "2.7.6"
  },
  "pycharm": {
   "stem_cell": {
    "cell_type": "raw",
    "source": [],
    "metadata": {
     "collapsed": false
    }
   }
  }
 },
 "nbformat": 4,
 "nbformat_minor": 0
}