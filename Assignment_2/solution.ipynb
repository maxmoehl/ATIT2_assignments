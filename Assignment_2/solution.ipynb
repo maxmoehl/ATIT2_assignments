{
 "nbformat": 4,
 "nbformat_minor": 0,
 "metadata": {
  "kernelspec": {
   "name": "python3",
   "language": "python",
   "display_name": "Python 3"
  },
  "language_info": {
   "codemirror_mode": {
    "name": "ipython",
    "version": 2
   },
   "file_extension": ".py",
   "mimetype": "text/x-python",
   "name": "python",
   "nbconvert_exporter": "python",
   "pygments_lexer": "ipython2",
   "version": "2.7.6"
  },
  "pycharm": {
   "stem_cell": {
    "cell_type": "raw",
    "source": [],
    "metadata": {
     "collapsed": false
    }
   }
  },
  "colab": {
   "name": "solution.ipynb",
   "provenance": [],
   "toc_visible": true
  },
  "accelerator": "GPU"
 },
 "cells": [
  {
   "cell_type": "code",
   "metadata": {
    "id": "nRUJgQAI_45z",
    "colab_type": "code",
    "colab": {},
    "pycharm": {
     "is_executing": true,
     "name": "#%%\n"
    }
   },
   "source": [
    "# Run if you are executing this notebook in Colab to ensure tf v2.x.x\n",
    "!pip install -U tensorflow keras"
   ],
   "execution_count": null,
   "outputs": []
  },
  {
   "cell_type": "code",
   "metadata": {
    "pycharm": {
     "name": "#%%\n",
     "is_executing": false
    },
    "id": "-4OyQYTU_1ri",
    "colab_type": "code",
    "colab": {}
   },
   "source": [
    "import datetime\n",
    "import math\n",
    "\n",
    "import matplotlib.pyplot as plt\n",
    "import numpy as np\n",
    "import pandas as pd\n",
    "import seaborn as sns\n",
    "from keras import models, layers, datasets\n",
    "from keras.callbacks import EarlyStopping"
   ],
   "execution_count": 1,
   "outputs": [
    {
     "name": "stderr",
     "text": [
      "Using TensorFlow backend.\n"
     ],
     "output_type": "stream"
    }
   ]
  },
  {
   "cell_type": "code",
   "execution_count": null,
   "outputs": [],
   "source": [
    "plt.rc(\"font\", size=14)\n",
    "sns.set(style=\"white\")\n",
    "sns.set(style=\"whitegrid\", color_codes=True)"
   ],
   "metadata": {
    "collapsed": false,
    "pycharm": {
     "name": "#%%\n",
     "is_executing": true
    }
   }
  },
  {
   "cell_type": "markdown",
   "metadata": {
    "collapsed": true,
    "pycharm": {
     "name": "#%% md\n"
    },
    "id": "cmbCJ0IZ_1rq",
    "colab_type": "text"
   },
   "source": [
    "# A SF Permits Cleaning\n",
    "\n",
    "### Methode um Y/NaN Spalten zu konvertieren"
   ]
  },
  {
   "cell_type": "code",
   "metadata": {
    "pycharm": {
     "name": "#%%\n",
     "is_executing": true
    },
    "id": "ird9EkPX_1rs",
    "colab_type": "code",
    "colab": {}
   },
   "source": [
    "def replace_y_with_0_1(df: pd.DataFrame, column: str):\n",
    "    \"\"\"\n",
    "    Ersetzt Y und leere Felder in Spalten die nur Y und leere Felder erhalten durch 1 und 0 \n",
    "    :param df: Dataframe in dem sich die Spalten befinden\n",
    "    :param column: Name der Spalte in der die Werte ersetzt werden sollen\n",
    "    :return: DataFrame mit modifizierten Spalten\n",
    "    \"\"\"\n",
    "    df[column].fillna(0, inplace=True)\n",
    "    df[column].replace('Y', 1, inplace=True)"
   ],
   "execution_count": null,
   "outputs": []
  },
  {
   "cell_type": "markdown",
   "metadata": {
    "collapsed": false,
    "pycharm": {
     "name": "#%% md\n"
    },
    "id": "xR7MEk5R_1rz",
    "colab_type": "text"
   },
   "source": [
    "### Datenset in ein Dataframe laden laden und Vorschau anzeigen"
   ]
  },
  {
   "cell_type": "code",
   "metadata": {
    "pycharm": {
     "name": "#%%\n",
     "is_executing": false
    },
    "id": "F5fMj_vt_1r1",
    "colab_type": "code",
    "colab": {},
    "outputId": "420a6327-fde2-4bd7-8d17-5d60cf4ba67b"
   },
   "source": [
    "sanfrancisco_df = pd.read_csv(\"./Building_Permits.csv\")\n",
    "\n",
    "sanfrancisco_df.head(5)"
   ],
   "execution_count": 2,
   "outputs": [
    {
     "name": "stderr",
     "text": [
      "c:\\users\\d074009\\appdata\\local\\programs\\python\\python37\\lib\\site-packages\\IPython\\core\\interactiveshell.py:3058: DtypeWarning: Columns (22,32) have mixed types. Specify dtype option on import or set low_memory=False.\n  interactivity=interactivity, compiler=compiler, result=result)\n"
     ],
     "output_type": "stream"
    },
    {
     "data": {
      "text/plain": "  Permit Number  Permit Type            Permit Type Definition  \\\n0  201505065519            4                      sign - erect   \n1  201604195146            4                      sign - erect   \n2  201605278609            3  additions alterations or repairs   \n3  201611072166            8            otc alterations permit   \n4  201611283529            6                       demolitions   \n\n  Permit Creation Date Block  Lot  Street Number Street Number Suffix  \\\n0           05/06/2015  0326  023            140                  NaN   \n1           04/19/2016  0306  007            440                  NaN   \n2           05/27/2016  0595  203           1647                  NaN   \n3           11/07/2016  0156  011           1230                  NaN   \n4           11/28/2016  0342  001            950                  NaN   \n\n  Street Name Street Suffix  ...  Existing Construction Type  \\\n0       Ellis            St  ...                         3.0   \n1       Geary            St  ...                         3.0   \n2     Pacific            Av  ...                         1.0   \n3     Pacific            Av  ...                         5.0   \n4      Market            St  ...                         3.0   \n\n  Existing Construction Type Description Proposed Construction Type  \\\n0                          constr type 3                        NaN   \n1                          constr type 3                        NaN   \n2                          constr type 1                        1.0   \n3                         wood frame (5)                        5.0   \n4                          constr type 3                        NaN   \n\n  Proposed Construction Type Description Site Permit Supervisor District  \\\n0                                    NaN         NaN                 3.0   \n1                                    NaN         NaN                 3.0   \n2                          constr type 1         NaN                 3.0   \n3                         wood frame (5)         NaN                 3.0   \n4                                    NaN         NaN                 6.0   \n\n  Neighborhoods - Analysis Boundaries  Zipcode  \\\n0                          Tenderloin  94102.0   \n1                          Tenderloin  94102.0   \n2                        Russian Hill  94109.0   \n3                            Nob Hill  94109.0   \n4                          Tenderloin  94102.0   \n\n                                    Location      Record ID  \n0  (37.785719256680785, -122.40852313194863)  1380611233945  \n1   (37.78733980600732, -122.41063199757738)  1420164406718  \n2    (37.7946573324287, -122.42232562979227)  1424856504716  \n3   (37.79595867909168, -122.41557405519474)  1443574295566  \n4   (37.78315261897309, -122.40950883997789)   144548169992  \n\n[5 rows x 43 columns]",
      "text/html": "<div>\n<style scoped>\n    .dataframe tbody tr th:only-of-type {\n        vertical-align: middle;\n    }\n\n    .dataframe tbody tr th {\n        vertical-align: top;\n    }\n\n    .dataframe thead th {\n        text-align: right;\n    }\n</style>\n<table border=\"1\" class=\"dataframe\">\n  <thead>\n    <tr style=\"text-align: right;\">\n      <th></th>\n      <th>Permit Number</th>\n      <th>Permit Type</th>\n      <th>Permit Type Definition</th>\n      <th>Permit Creation Date</th>\n      <th>Block</th>\n      <th>Lot</th>\n      <th>Street Number</th>\n      <th>Street Number Suffix</th>\n      <th>Street Name</th>\n      <th>Street Suffix</th>\n      <th>...</th>\n      <th>Existing Construction Type</th>\n      <th>Existing Construction Type Description</th>\n      <th>Proposed Construction Type</th>\n      <th>Proposed Construction Type Description</th>\n      <th>Site Permit</th>\n      <th>Supervisor District</th>\n      <th>Neighborhoods - Analysis Boundaries</th>\n      <th>Zipcode</th>\n      <th>Location</th>\n      <th>Record ID</th>\n    </tr>\n  </thead>\n  <tbody>\n    <tr>\n      <td>0</td>\n      <td>201505065519</td>\n      <td>4</td>\n      <td>sign - erect</td>\n      <td>05/06/2015</td>\n      <td>0326</td>\n      <td>023</td>\n      <td>140</td>\n      <td>NaN</td>\n      <td>Ellis</td>\n      <td>St</td>\n      <td>...</td>\n      <td>3.0</td>\n      <td>constr type 3</td>\n      <td>NaN</td>\n      <td>NaN</td>\n      <td>NaN</td>\n      <td>3.0</td>\n      <td>Tenderloin</td>\n      <td>94102.0</td>\n      <td>(37.785719256680785, -122.40852313194863)</td>\n      <td>1380611233945</td>\n    </tr>\n    <tr>\n      <td>1</td>\n      <td>201604195146</td>\n      <td>4</td>\n      <td>sign - erect</td>\n      <td>04/19/2016</td>\n      <td>0306</td>\n      <td>007</td>\n      <td>440</td>\n      <td>NaN</td>\n      <td>Geary</td>\n      <td>St</td>\n      <td>...</td>\n      <td>3.0</td>\n      <td>constr type 3</td>\n      <td>NaN</td>\n      <td>NaN</td>\n      <td>NaN</td>\n      <td>3.0</td>\n      <td>Tenderloin</td>\n      <td>94102.0</td>\n      <td>(37.78733980600732, -122.41063199757738)</td>\n      <td>1420164406718</td>\n    </tr>\n    <tr>\n      <td>2</td>\n      <td>201605278609</td>\n      <td>3</td>\n      <td>additions alterations or repairs</td>\n      <td>05/27/2016</td>\n      <td>0595</td>\n      <td>203</td>\n      <td>1647</td>\n      <td>NaN</td>\n      <td>Pacific</td>\n      <td>Av</td>\n      <td>...</td>\n      <td>1.0</td>\n      <td>constr type 1</td>\n      <td>1.0</td>\n      <td>constr type 1</td>\n      <td>NaN</td>\n      <td>3.0</td>\n      <td>Russian Hill</td>\n      <td>94109.0</td>\n      <td>(37.7946573324287, -122.42232562979227)</td>\n      <td>1424856504716</td>\n    </tr>\n    <tr>\n      <td>3</td>\n      <td>201611072166</td>\n      <td>8</td>\n      <td>otc alterations permit</td>\n      <td>11/07/2016</td>\n      <td>0156</td>\n      <td>011</td>\n      <td>1230</td>\n      <td>NaN</td>\n      <td>Pacific</td>\n      <td>Av</td>\n      <td>...</td>\n      <td>5.0</td>\n      <td>wood frame (5)</td>\n      <td>5.0</td>\n      <td>wood frame (5)</td>\n      <td>NaN</td>\n      <td>3.0</td>\n      <td>Nob Hill</td>\n      <td>94109.0</td>\n      <td>(37.79595867909168, -122.41557405519474)</td>\n      <td>1443574295566</td>\n    </tr>\n    <tr>\n      <td>4</td>\n      <td>201611283529</td>\n      <td>6</td>\n      <td>demolitions</td>\n      <td>11/28/2016</td>\n      <td>0342</td>\n      <td>001</td>\n      <td>950</td>\n      <td>NaN</td>\n      <td>Market</td>\n      <td>St</td>\n      <td>...</td>\n      <td>3.0</td>\n      <td>constr type 3</td>\n      <td>NaN</td>\n      <td>NaN</td>\n      <td>NaN</td>\n      <td>6.0</td>\n      <td>Tenderloin</td>\n      <td>94102.0</td>\n      <td>(37.78315261897309, -122.40950883997789)</td>\n      <td>144548169992</td>\n    </tr>\n  </tbody>\n</table>\n<p>5 rows × 43 columns</p>\n</div>"
     },
     "metadata": {},
     "output_type": "execute_result",
     "execution_count": 2
    }
   ]
  },
  {
   "cell_type": "markdown",
   "source": [
    "### Fehlende Werte kontrollieren\n",
    "\n",
    "Um einen Überblick über die Daten zu bekommen, lassen wir uns ausgeben wie hoch der Anteil an fehlenden Werten ist."
   ],
   "metadata": {
    "collapsed": false,
    "pycharm": {
     "name": "#%% md\n"
    }
   }
  },
  {
   "cell_type": "code",
   "execution_count": null,
   "outputs": [],
   "source": [
    "round(sanfrancisco_df.isnull().sum() / len(sanfrancisco_df) * 100, 2)"
   ],
   "metadata": {
    "collapsed": false,
    "pycharm": {
     "name": "#%%\n",
     "is_executing": true
    }
   }
  },
  {
   "cell_type": "markdown",
   "source": [
    "Und als nächstes schauen wir uns die Werte die in den einzelnen Spalten sind an.  \n",
    "Format:\n",
    "- Alle möglichen Werte: zuerst der Werte dann die Anzahl (wenn es zu viele werte gibt wird abgekürzt)\n",
    "- als letzte Zeile der Name der Spalte und die Menge an einzigartigen Werte"
   ],
   "metadata": {
    "collapsed": false,
    "pycharm": {
     "name": "#%% md\n"
    }
   }
  },
  {
   "cell_type": "code",
   "execution_count": 20,
   "outputs": [
    {
     "name": "stdout",
     "text": [
      "201602179765    101\n201602179758     66\n201602179775     30\n201409166451      9\n201708165004      9\n               ... \nM861647           1\n201308194693      1\nM688867           1\n201506108677      1\n201711224750      1\nName: Permit Number, Length: 181495, dtype: int64\n-----------------------------------------------------------\n8    178844\n3     14663\n4      2892\n2       950\n6       600\n7       511\n1       349\n5        91\nName: Permit Type, dtype: int64\n-----------------------------------------------------------\notc alterations permit                 178844\nadditions alterations or repairs        14663\nsign - erect                             2892\nnew construction wood frame               950\ndemolitions                               600\nwall or painted sign                      511\nnew construction                          349\ngrade or quarry or fill or excavate        91\nName: Permit Type Definition, dtype: int64\n-----------------------------------------------------------\n09/15/2017    413\n11/03/2015    396\n02/17/2016    363\n09/14/2017    335\n06/27/2014    307\n             ... \n05/24/2016     55\n12/26/2014     45\n09/11/2012     17\n03/28/2012      4\n12/26/2012      1\nName: Permit Creation Date, Length: 1291, dtype: int64\n-----------------------------------------------------------\n3708    1195\n3735     750\n7331     680\n0289     640\n3709     584\n        ... \n5471       1\n6071       1\n1257       1\n6221       1\n5595       1\nName: Block, Length: 4896, dtype: int64\n-----------------------------------------------------------\n001     10114\n007      5317\n002      5183\n003      5042\n006      4835\n        ...  \n023J        1\n004S        1\n468         1\n847         1\n384         1\nName: Lot, Length: 1055, dtype: int64\n-----------------------------------------------------------\n1       2394\n101     1153\n100     1143\n50      1103\n201     1026\n        ... \n5068       1\n5775       1\n5196       1\n3279       1\n4669       1\nName: Street Number, Length: 5099, dtype: int64\n-----------------------------------------------------------\nNaN    196684\nA        1501\nB         291\nV         228\nC          56\nE          28\nF          24\nG          12\nH          11\nK          11\nD          11\nR          10\nL          10\nJ           9\nI           7\nP           3\nN           2\n½           1\n0           1\nName: Street Number Suffix, dtype: int64\n-----------------------------------------------------------\nMarket         5443\nCalifornia     4587\nMission        4209\nMontgomery     2403\nGeary          1966\n               ... \nHomewood          1\nSaint Marys       1\nAnnie             1\nColonial          1\nSalinas           1\nName: Street Name, Length: 1704, dtype: int64",
      "\n-----------------------------------------------------------\nSt     138358\nAv      43219\nBl       3555\nWy       3540\nDr       3267\nNaN      2768\nTr       1466\nCt        667\nPl        538\nRd        389\nLn        354\nHy        240\nPz        210\nPk        128\nCr         97\nAl         83\nWk          9\nRw          5\nSo          2\nNo          2\nSw          2\nHl          1\nName: Street Suffix, dtype: int64\n-----------------------------------------------------------\nNaN       169421\n0.0        21410\n1.0         1312\n2.0          549\n3.0          448\n           ...  \n69.0           1\n1124.0         1\n5106.0         1\n908.0          1\n2534.0         1\nName: Unit, Length: 661, dtype: int64\n-----------------------------------------------------------\nNaN          196939\nA               346\nC               226\nB               191\nD               135\n              ...  \nBASEMENT          1\nC-4               1\nPIER 3            1\n3RD FLOOR         1\nPH C              1\nName: Unit Suffix, Length: 165, dtype: int64\n-----------------------------------------------------------\nstreet space                                                                                                                              22163\nreroofing                                                                                                                                  9465\nstreet space permit                                                                                                                        7549\nre-roofing                                                                                                                                 2351\nstreetspace                                                                                                                                 819\n                                                                                                                                          ...  \nremove & replace four (4) windows in-kind. not seen from street. 0 factor 0.4 max.                                                            1\ntenant improvement: relocate twenty five sprinkler heads                                                                                      1\nremodel total   3 (e) bathrooms - one on 3rd floor, one on 2nd floor and one on ground floor.  paint outside, replace water heater            1\nrevision to 201607071733 addmeda #3 fire alarm add mobile generator for 6 weeks period until permanent power isn established. maher na        1\n2/f bathroom remodel  ; to comply with cec150.0(k)5                                                                                           1\nName: Description, Length: 134273, dtype: int64\n-----------------------------------------------------------\n",
      "complete       97077\nissued         83559\nfiled          12043\nwithdrawn       1754\ncancelled       1536\nexpired         1370\napproved         733\nreinstated       563\nsuspend          193\nrevoked           50\nplancheck         16\nappeal             2\ndisapproved        2\nincomplete         2\nName: Current Status, dtype: int64\n-----------------------------------------------------------\n09/15/2017    474\n09/14/2017    404\n06/15/2016    370\n02/22/2018    364\n02/23/2018    363\n             ... \n07/15/2017      1\n03/27/2016      1\n03/02/2019      1\n11/02/2014      1\n12/25/2014      1\nName: Current Status Date, Length: 1307, dtype: int64\n-----------------------------------------------------------\n09/15/2017    412\n11/03/2015    366\n02/17/2016    364\n09/14/2017    332\n06/27/2014    305\n             ... \n12/24/2014     68\n12/24/2015     65\n07/03/2015     60\n05/24/2016     56\n12/26/2014     45\nName: Filed Date, Length: 1288, dtype: int64\n-----------------------------------------------------------\nNaN           14940\n06/15/2016      341\n07/26/2016      274\n12/18/2015      272\n12/10/2015      234\n              ...  \n12/24/2014       64\n05/24/2016       63\n12/26/2014       55\n12/31/2015       54\n12/12/2015        2\nName: Issued Date, Length: 1290, dtype: int64\n-----------------------------------------------------------\nNaN           101709\n10/30/2015       206\n01/02/2014       169\n12/20/2017       162\n11/26/2013       161\n               ...  \n03/23/2013         3\n01/04/2013         2\n11/02/2014         1\n01/07/2013         1\n12/25/2014         1\nName: Completed Date, Length: 1301, dtype: int64",
      "\n-----------------------------------------------------------\nNaN           14946\n11/07/2016      339\n11/01/2016      254\n12/10/2015      236\n11/07/2017      235\n              ...  \n07/03/2015       65\n12/24/2014       62\n12/31/2015       56\n12/26/2014       53\n05/24/2016       42\nName: First Construction Document Date, Length: 1289, dtype: int64\n-----------------------------------------------------------\nNaN    191978\nY        6922\nName: Structural Notification, dtype: int64\n-----------------------------------------------------------\n2.0     52767\n3.0     45740\nNaN     42784\n4.0     16055\n1.0      8793\n        ...  \n49.0        3\n62.0        2\n2.5         2\n78.0        1\n1.5         1\nName: Number of Existing Stories, Length: 65, dtype: int64\n-----------------------------------------------------------\n2.0     50991\n3.0     46802\nNaN     42868\n4.0     17593\n1.0      7893\n        ...  \n49.0        3\n47.0        3\n2.5         2\n78.0        1\n1.5         1\nName: Number of Proposed Stories, Length: 65, dtype: int64\n-----------------------------------------------------------\nNaN    198865\nY          35\nName: Voluntary Soft-Story Retrofit, dtype: int64\n-----------------------------------------------------------\nNaN    180073\nY       18827\nName: Fire Only Permit, dtype: int64\n-----------------------------------------------------------\nNaN           51880\n02/28/2018      302\n02/24/2018      239\n05/31/2018      234\n05/04/2018      228\n              ...  \n07/20/2020        1\n11/05/2014        1\n09/29/2015        1\n07/28/2015        1\n07/24/2021        1\nName: Permit Expiration Date, Length: 2233, dtype: int64\n-----------------------------------------------------------\nNaN         38066\n1.0         17014\n10000.0      6695\n5000.0       6437\n20000.0      5702\n            ...  \n76600.0         1\n20119.0         1\n40240.0         1\n737000.0        1\n56898.0         1\nName: Estimated Cost, Length: 11396, dtype: int64\n-----------------------------------------------------------\n1.0         47228\n0.0          8513\nNaN          6066\n10000.0      5474\n5000.0       5453\n            ...  \n41666.0         1\n920.0           1\n7256.0          1\n169600.0        1\n17955.0         1\nName: Revised Cost, Length: 12630, dtype: int64\n-----------------------------------------------------------\n1 family dwelling       46766\nNaN                     41114\napartments              40798\noffice                  24616\n2 family dwelling       20987\n                        ...  \nbath house                  2\nchild care                  1\norphanage                   1\ndairies/dairy equip.        1\nroofing materials           1\nName: Existing Use, Length: 94, dtype: int64",
      "\n-----------------------------------------------------------\nNaN      51538\n1.0      47346\n0.0      29134\n2.0      21804\n3.0       8616\n         ...  \n211.0        1\n396.0        1\n193.0        1\n289.0        1\n540.0        1\nName: Existing Units, Length: 349, dtype: int64\n-----------------------------------------------------------\n1 family dwelling       46346\napartments              43032\nNaN                     42439\noffice                  23962\n2 family dwelling       22061\n                        ...  \nmeat/produce marts          2\nroofing materials           1\ndairies/dairy equip.        1\norphanage                   1\nnot applicable              1\nName: Proposed Use, Length: 95, dtype: int64\n-----------------------------------------------------------\nNaN       50911\n1.0       46913\n0.0       26884\n2.0       22891\n3.0        9347\n          ...  \n1911.0        1\n280.0         1\n159.0         1\n319.0         1\n305.0         1\nName: Proposed Units, Length: 369, dtype: int64\n-----------------------------------------------------------\n2.0       98088\n0.0       63244\nNaN       37309\n3.0         250\n4.0           3\n1.0           2\n6.0           2\n20.0          1\n9000.0        1\nName: Plansets, dtype: int64\n-----------------------------------------------------------\nNaN    198898\nP           1\nY           1\nName: TIDF Compliance, dtype: int64\n-----------------------------------------------------------\n5.0    113350\nNaN     43366\n1.0     28072\n3.0      9663\n2.0      4068\n4.0       381\nName: Existing Construction Type, dtype: int64\n-----------------------------------------------------------\nwood frame (5)    113350\nNaN                43366\nconstr type 1      28072\nconstr type 3       9663\nconstr type 2       4068\nconstr type 4        381\nName: Existing Construction Type Description, dtype: int64",
      "\n-----------------------------------------------------------\n5.0    114382\nNaN     43162\n1.0     27841\n3.0      9360\n2.0      3778\n4.0       377\nName: Proposed Construction Type, dtype: int64\n-----------------------------------------------------------\nwood frame (5)    114382\nNaN                43162\nconstr type 1      27841\nconstr type 3       9360\nconstr type 2       3778\nconstr type 4        377\nName: Proposed Construction Type Description, dtype: int64\n-----------------------------------------------------------\nNaN    193541\nY        5359\nName: Site Permit, dtype: int64\n-----------------------------------------------------------\n3.0     28649\n8.0     26760\n2.0     25483\n6.0     24797\n5.0     19045\n9.0     16362\n7.0     14365\n1.0     13038\n10.0    12152\n4.0      9592\n11.0     6940\nNaN      1717\nName: Supervisor District, dtype: int64\n-----------------------------------------------------------\nFinancial District/South Beach    21816\nMission                           14681\nSunset/Parkside                   10207\nWest of Twin Peaks                 8739\nCastro/Upper Market                8527\nPacific Heights                    8508\nMarina                             8244\nOuter Richmond                     7854\nNoe Valley                         7844\nSouth of Market                    7572\nBernal Heights                     6067\nNob Hill                           6009\nHaight Ashbury                     5798\nInner Sunset                       5776\nBayview Hunters Point              5669\nRussian Hill                       5495\nHayes Valley                       5489\nTenderloin                         4783\nInner Richmond                     4458\nPotrero Hill                       4293\nPresidio Heights                   4084\nNorth Beach                        4054\nWestern Addition                   3867\nChinatown                          3765\nLone Mountain/USF                  3358\nExcelsior                          3072\nOceanview/Merced/Ingleside         2654\nGlen Park                          2637\nMission Bay                        2287\nOuter Mission                      2242\nNaN                                1725\nTwin Peaks                         1702\nPortola                            1433\nLakeshore                          1308\nSeacliff                            992\nVisitacion Valley                   900\nJapantown                           700\nTreasure Island                      81\nGolden Gate Park                     64\nPresidio                             51\nLincoln Park                         49\nMcLaren Park                         46\nName: Neighborhoods - Analysis Boundaries, dtype: int64\n-----------------------------------------------------------\n94110.0    17837\n94114.0    13404\n94117.0    11780\n94109.0    11348\n94103.0    10986\n94115.0    10095\n94118.0     9812\n94123.0     9515\n94122.0     8886\n94105.0     8628\n94112.0     7897\n94121.0     7773\n94107.0     7706\n94131.0     7664\n94133.0     7424\n94102.0     7164\n94116.0     6421\n94111.0     5385\n94108.0     5320\n94124.0     5265\n94127.0     4993\n94104.0     4229\n94132.0     3507\n94134.0     2983\nNaN         1716\n94158.0     1058\n94130.0       81\n94129.0       23\nName: Zipcode, dtype: int64\n-----------------------------------------------------------\n",
      "NaN                                          1700\n(37.79226164705184, -122.4034859571375)       554\n(37.79294896659241, -122.39809861435491)      330\n(37.728556952954136, -122.47676641508518)     281\n(37.77523036414975, -122.4174703200545)       276\n                                             ... \n(37.74552206474493, -122.47404856827583)        1\n(37.73868967785484, -122.44678909781275)        1\n(37.78412451444347, -122.415684123559)          1\n(37.73340807970929, -122.42722102976843)        1\n(37.794197180581854, -122.41926279234312)       1\nName: Location, Length: 57605, dtype: int64\n-----------------------------------------------------------\n1467180210005    1\n1464109435631    1\n1384509283785    1\n1357940168184    1\n1346989104633    1\n                ..\n1497191205836    1\n1385125161920    1\n1335723389947    1\n1476677143540    1\n1323096395930    1\nName: Record ID, Length: 198900, dtype: int64\n-----------------------------------------------------------\n"
     ],
     "output_type": "stream"
    }
   ],
   "source": [
    "for key in sanfrancisco_df.keys():\n",
    "    vals = sanfrancisco_df[key].value_counts(dropna=False)\n",
    "    print(vals)\n",
    "    print(\"-----------------------------------------------------------\")"
   ],
   "metadata": {
    "collapsed": false,
    "pycharm": {
     "name": "#%%\n",
     "is_executing": false
    }
   }
  },
  {
   "cell_type": "markdown",
   "source": [
    "Wie man in unserer Ausgabe oben sehen kann, gibt es einige Spalten in denen nur `Y/NaN` Werte vorhanden sind. `Y` steht\n",
    "dabei für true und `NaN` Feld für false. Um das für unsere Vorhersage besser verwenden zu können ersetzen wir das\n",
    "`Y` durch eine `1` und füllen die leeren Zellen mit `0` auf.  \n",
    "\n",
    "- Structural Notification\n",
    "- Voluntary Soft-Story Retrofit\n",
    "- Fire Only Permit\n",
    "- Site Permit\n",
    "\n",
    "Die Spalte `TIDF Compliance` ist vermutlich auch eine solche Spalte, hat aber insgesamt nur zwei einzelne Werte und ist\n",
    "somit uninteressant für uns und wird entfernt."
   ],
   "metadata": {
    "collapsed": false,
    "pycharm": {
     "name": "#%% md\n"
    }
   }
  },
  {
   "cell_type": "code",
   "execution_count": null,
   "outputs": [],
   "source": [
    "replace_y_with_0_1(sanfrancisco_df, \"Structural Notification\")\n",
    "replace_y_with_0_1(sanfrancisco_df, \"Voluntary Soft-Story Retrofit\")\n",
    "replace_y_with_0_1(sanfrancisco_df, \"Fire Only Permit\")\n",
    "replace_y_with_0_1(sanfrancisco_df, \"Site Permit\")\n",
    "\n",
    "sanfrancisco_df.drop(\"TIDF Compliance\", axis='columns', inplace=True)"
   ],
   "metadata": {
    "collapsed": false,
    "pycharm": {
     "name": "#%%\n"
    }
   }
  },
  {
   "cell_type": "markdown",
   "source": [
    "Da wir mit dem `Supervisor District` bereits eine geografische Einteilung in Regionen haben, entfernen wir alle\n",
    "Adressdaten und die Koordinaten, da wir die für unsere Vorhersage in Textform nicht gebrauchen können und\n",
    "One-Hot-Encoding keinen Sinn macht:\n",
    "- Block\n",
    "- Lot\n",
    "- Street Number\n",
    "- Street Number Suffix\n",
    "- Street Name\n",
    "- Street Suffix\n",
    "- Unit\n",
    "- Unit Suffix\n",
    "- Neighborhoods - Analysis Boundaries\n",
    "- Zipcode\n",
    "- Location\n",
    "\n",
    "Außerdem entfernen wir Felder die Freitext enthalten:\n",
    "- Description\n",
    "- Existing Use\n",
    "- Proposed Use"
   ],
   "metadata": {
    "collapsed": false
   }
  },
  {
   "cell_type": "code",
   "execution_count": null,
   "outputs": [],
   "source": [
    "sanfrancisco_df.drop(\"Block\", axis=1, inplace=True)\n",
    "sanfrancisco_df.drop(\"Lot\", axis=1, inplace=True)\n",
    "sanfrancisco_df.drop(\"Street Number\", axis=1, inplace=True)\n",
    "sanfrancisco_df.drop(\"Street Number Suffix\", axis=1, inplace=True)\n",
    "sanfrancisco_df.drop(\"Street Name\", axis=1, inplace=True)\n",
    "sanfrancisco_df.drop(\"Street Suffix\", axis=1, inplace=True)\n",
    "sanfrancisco_df.drop(\"Unit\", axis=1, inplace=True)\n",
    "sanfrancisco_df.drop(\"Unit Suffix\", axis=1, inplace=True)\n",
    "sanfrancisco_df.drop(\"Neighborhoods - Analysis Boundaries\", axis=1, inplace=True)\n",
    "sanfrancisco_df.drop(\"Zipcode\", axis=1, inplace=True)\n",
    "sanfrancisco_df.drop(\"Location\", axis=1, inplace=True)\n",
    "\n",
    "sanfrancisco_df.drop(\"Description\", axis=1, inplace=True)\n",
    "sanfrancisco_df.drop(\"Existing Use\", axis=1, inplace=True)\n",
    "sanfrancisco_df.drop(\"Proposed Use\", axis=1, inplace=True)"
   ],
   "metadata": {
    "collapsed": false,
    "pycharm": {
     "name": "#%%\n"
    }
   }
  },
  {
   "cell_type": "markdown",
   "source": [
    "Und alle Zeilen die keinen `Supervisor District` haben werden entfernt da wir die Zeilen nicht manuell den Distrikten\n",
    "zuordnen können."
   ],
   "metadata": {
    "collapsed": false
   }
  },
  {
   "cell_type": "code",
   "execution_count": null,
   "outputs": [],
   "source": [
    "sanfrancisco_df = sanfrancisco_df[sanfrancisco_df[\"Supervisor District\"].notna()]"
   ],
   "metadata": {
    "collapsed": false,
    "pycharm": {
     "name": "#%%\n"
    }
   }
  },
  {
   "cell_type": "markdown",
   "source": [
    "Bei den folgenden Spalten ersetzen wir leere Felder durch `0` da wir uns nur die Differenz zwischen vorher/nachher\n",
    "anschauen wollen und das somit keinen Einfluss hat.\n",
    "- Number of Existing Stories\n",
    "- Number of Proposed Stories\n",
    "- Existing Units\n",
    "- Proposed Units"
   ],
   "metadata": {
    "collapsed": false
   }
  },
  {
   "cell_type": "code",
   "execution_count": null,
   "outputs": [],
   "source": [
    "sanfrancisco_df[\"Number of Existing Stories\"].fillna(0, inplace=True)\n",
    "sanfrancisco_df[\"Number of Proposed Stories\"].fillna(0, inplace=True)\n",
    "sanfrancisco_df[\"Existing Units\"].fillna(0, inplace=True)\n",
    "sanfrancisco_df[\"Proposed Units\"].fillna(0, inplace=True)"
   ],
   "metadata": {
    "collapsed": false,
    "pycharm": {
     "name": "#%%\n"
    }
   }
  },
  {
   "cell_type": "markdown",
   "source": [
    "Die folgenden Spalten sind redundant zu ihren `XYZ Description` Spalten und werden somit nicht weiter benötigt.\n",
    "- Existing Construction Type\n",
    "- Proposed Construction Type\n",
    "\n",
    "Zusätzlich werden die leeren Felder der anderen Spalten mit `no constr type 0`gefüllt, weil wir keine sinnvolle Annahme\n",
    "über den tatsächlichen Wert machen können und so die aufgefüllten Spalten erkennen können."
   ],
   "metadata": {
    "collapsed": false
   }
  },
  {
   "cell_type": "code",
   "execution_count": null,
   "outputs": [],
   "source": [
    "sanfrancisco_df.drop(\"Existing Construction Type\", axis=1, inplace=True)\n",
    "sanfrancisco_df.drop(\"Proposed Construction Type\", axis=1, inplace=True)\n",
    "sanfrancisco_df[\"Existing Construction Type Description\"].fillna(\"no constr type 0\", inplace=True)\n",
    "sanfrancisco_df[\"Proposed Construction Type Description\"].fillna(\"no constr type 0\", inplace=True)"
   ],
   "metadata": {
    "collapsed": false,
    "pycharm": {
     "name": "#%%\n"
    }
   }
  },
  {
   "cell_type": "code",
   "execution_count": null,
   "outputs": [],
   "source": [
    "sanfrancisco_df.isnull().sum()"
   ],
   "metadata": {
    "collapsed": false,
    "pycharm": {
     "name": "#%%\n"
    }
   }
  },
  {
   "cell_type": "markdown",
   "source": [
    "In den folgenden Spalten füllen wir die leeren Felder mit dem Median der Spalte:\n",
    "- Estimated Cost\n",
    "- Revised Cost\n",
    "- Plansets"
   ],
   "metadata": {
    "collapsed": false
   }
  },
  {
   "cell_type": "code",
   "execution_count": null,
   "outputs": [],
   "source": [
    "def replace_with_median(df: pd.DataFrame, column: str):\n",
    "    median = df[column].median(skipna=True)\n",
    "    df[column].fillna(median, inplace=True)"
   ],
   "metadata": {
    "collapsed": false,
    "pycharm": {
     "name": "#%%\n"
    }
   }
  },
  {
   "cell_type": "code",
   "execution_count": null,
   "outputs": [],
   "source": [
    "replace_with_median(sanfrancisco_df, \"Estimated Cost\")\n",
    "replace_with_median(sanfrancisco_df, \"Revised Cost\")\n",
    "replace_with_median(sanfrancisco_df, \"Plansets\")"
   ],
   "metadata": {
    "collapsed": false,
    "pycharm": {
     "name": "#%%\n"
    }
   }
  },
  {
   "cell_type": "code",
   "execution_count": null,
   "outputs": [],
   "source": [
    "sanfrancisco_df.isnull().sum()"
   ],
   "metadata": {
    "collapsed": false,
    "pycharm": {
     "name": "#%%\n"
    }
   }
  },
  {
   "cell_type": "markdown",
   "source": [
    "Die restlichen Spalten mit fehlenden Spalten sind Spalten mit Daten. Einige sind nicht ausgefüllt weil sie erst in der\n",
    "Zukunft gefüllt werden können, wir füllen sie mit `00/00/0000` um später entsprechend die Werte auswählen zu können."
   ],
   "metadata": {
    "collapsed": false
   }
  },
  {
   "cell_type": "code",
   "execution_count": null,
   "outputs": [],
   "source": [
    "sanfrancisco_df[\"Issued Date\"].fillna(\"00/00/0000\", inplace=True)\n",
    "sanfrancisco_df[\"Completed Date\"].fillna(\"00/00/0000\", inplace=True)\n",
    "sanfrancisco_df[\"First Construction Document Date\"].fillna(\"00/00/0000\", inplace=True)\n",
    "sanfrancisco_df[\"Permit Expiration Date\"].fillna(\"00/00/0000\", inplace=True)"
   ],
   "metadata": {
    "collapsed": false,
    "pycharm": {
     "name": "#%%\n"
    }
   }
  },
  {
   "cell_type": "code",
   "execution_count": null,
   "outputs": [],
   "source": [
    "sanfrancisco_df.isnull().sum()"
   ],
   "metadata": {
    "collapsed": false,
    "pycharm": {
     "name": "#%%\n"
    }
   }
  },
  {
   "cell_type": "markdown",
   "metadata": {
    "collapsed": false,
    "pycharm": {
     "name": "#%% md\n"
    },
    "id": "HTnfsNBE_1r9",
    "colab_type": "text"
   },
   "source": [
    "# B SF Permits Exploration\n",
    "\n",
    "### Lineare abhängikeiten suchen \n",
    "Um eine Idee davon zu bekommen wie stark die einzelnen Spalten von einander abhängen berrechnen wir eine\n",
    "Korrelationsmatrix. Je näher die Werte an 1/-1 liegen desto stärker ist die Abhängigkeit."
   ]
  },
  {
   "cell_type": "code",
   "execution_count": null,
   "outputs": [],
   "source": [
    "correlation_matrix = sanfrancisco_df.corr().round(2)\n",
    "sns.set(rc={'figure.figsize':(12, 9)})\n",
    "sns.heatmap(data=correlation_matrix, annot=True)"
   ],
   "metadata": {
    "collapsed": false,
    "pycharm": {
     "name": "#%%\n"
    }
   }
  },
  {
   "cell_type": "markdown",
   "metadata": {
    "collapsed": false,
    "pycharm": {
     "name": "#%% md\n"
    },
    "id": "tzc08M-7_1r_",
    "colab_type": "text"
   },
   "source": [
    "# C SF Permits Prediction\n",
    "\n",
    "### Methode für One-Hot-Encoding"
   ]
  },
  {
   "cell_type": "code",
   "metadata": {
    "pycharm": {
     "name": "#%%\n",
     "is_executing": true
    },
    "id": "a4l0OiRH_1sA",
    "colab_type": "code",
    "colab": {}
   },
   "source": [
    "def one_hot_encode(df: pd.DataFrame, col: str) -> pd.DataFrame:\n",
    "    \"\"\"\n",
    "    Erzeugt Dummy-Spalten für jeden Wert in der Quell-Spalte.\n",
    "    \n",
    "    Beispiel:\n",
    "    Wenn eine Tabelle die Spalte 'Klasse' mit 0, 1, 2 als Werte hat, werden die Spalte Klasse 0, Klasse 1 und Klasse 2\n",
    "    erstellt und die Zeilen der Tabelle an den entsprechenden Stellen auf 0 bzw. 1 gesetzt. \n",
    "    :param df: Dataframe in dem die zu ersetzende Spalte ist\n",
    "    :param col: Spalte die One-Hot-Encoded werden soll\n",
    "    :return: modifizierter DataFrame\n",
    "    \"\"\"\n",
    "    return df.assign(**{str(col + \" \" + str(val)): [1 if str(val) in str(cell) else 0 for cell in df[col]] \n",
    "                                   for val in df[col].unique()})\n",
    "\n",
    "def days_between_dates(d1: str, d2: str) -> int:\n",
    "    \"\"\"\n",
    "    Akzeptiert zwei Daten in der Form DD/MM/YYYY und berechnet die Tage zwischen den beiden Daten.\n",
    "    :param d1: Erstes Datum\n",
    "    :param d2: Zweites Datum\n",
    "    :return: Anzahl der Tage zwischen den beiden Daten\n",
    "    \"\"\"\n",
    "    d1 = d1.split(\"/\")\n",
    "    d2 = d2.split(\"/\")\n",
    "    if len(d1) != 3 or len(d2) != 3:\n",
    "        raise ValueError(\"Date must consist of three numbers divided by '/'\")\n",
    "    d1 = datetime.date(int(d1[2]), int(d1[1]), int(d1[0]))\n",
    "    d2 = datetime.date(int(d2[2]), int(d2[1]), int(d2[0]))\n",
    "    return (d2 - d1).days"
   ],
   "execution_count": null,
   "outputs": []
  },
  {
   "cell_type": "markdown",
   "metadata": {
    "collapsed": false,
    "pycharm": {
     "name": "#%% md\n"
    },
    "id": "RgVsTouw_1sC",
    "colab_type": "text"
   },
   "source": [
    "# D SF Challenges"
   ]
  },
  {
   "cell_type": "markdown",
   "metadata": {
    "collapsed": false,
    "pycharm": {
     "name": "#%% md\n"
    },
    "id": "xu0TfuMH_1sD",
    "colab_type": "text"
   },
   "source": [
    "# E Neural Networks XOR\n",
    "\n",
    "![XOR Graph](https://github.com/maxmoehl/ATIT2_assignments/blob/master/Assignment_2/XOR.png?raw=1)\n",
    "\n",
    "w: weight  \n",
    "b: bias  \n",
    "t: threshold\n",
    "\n",
    "Mathematische Funktion:\n",
    "```\n",
    "SIGMOID(x) = 1 / (1 + e^(-x))\n",
    "AND(x, y) = SIGMOID(50x + 50y - 75)\n",
    "OR(x, y) = SIGMOID(50x + 50y - 25)\n",
    "NOT(x) = SIGMOID(-50x + 10)\n",
    "\n",
    "XOR(x, y) = AND(NOT(AND(x, y)), OR(x, y))\n",
    "\n",
    "XOR(x,y) = SIGMOID(SIGMOID(SIGMOID(50x + 50y - 75) * (-50) + 10) * 50 + SIGMOID(50x + 50y - 25) * 50 - 75)\n",
    "           \\       \\       \\---------AND---------/             /        \\                     /          /\n",
    "            \\       \\-------------------NOT-------------------/          \\--------OR---------/          /\n",
    "             \\-------------------------------------------AND-------------------------------------------/\n",
    "```\n",
    "\n",
    "### Funktionen in Python abbilden und testen"
   ]
  },
  {
   "cell_type": "code",
   "metadata": {
    "pycharm": {
     "name": "#%%\n",
     "is_executing": true
    },
    "id": "tbgurGNn_1sE",
    "colab_type": "code",
    "colab": {
     "base_uri": "https://localhost:8080/",
     "height": 85
    },
    "outputId": "8b97de3f-3ad1-429f-f3c7-54b1a779a0cc"
   },
   "source": [
    "def SIGMOID(x):\n",
    "    return 1 / (1 + (math.e ** (-x)))\n",
    "\n",
    "def AND(x, y):\n",
    "    return SIGMOID(x * 50 + y * 50 - 75)\n",
    "\n",
    "def OR(x, y):\n",
    "    return SIGMOID(x * 50 + y * 50 - 25)\n",
    "    \n",
    "def NOT(x):\n",
    "    return SIGMOID(x * (-50) + 10)\n",
    "\n",
    "def XOR(x, y):\n",
    "    return AND(NOT(AND(x, y)),OR(x, y))\n",
    "\n",
    "print(round(XOR(0, 0), 2))\n",
    "print(round(XOR(0, 1), 2))\n",
    "print(round(XOR(1, 0), 2))\n",
    "print(round(XOR(1, 1), 2))"
   ],
   "execution_count": null,
   "outputs": []
  },
  {
   "cell_type": "markdown",
   "metadata": {
    "collapsed": false,
    "pycharm": {
     "name": "#%% md\n"
    },
    "id": "cLiGUsgJ_1sG",
    "colab_type": "text"
   },
   "source": [
    "# F Neural Networks Overfitting\n",
    "\n",
    "## Daten laden und splitten\n",
    "\n",
    "Das größte Problem wenn man ein Modell hat das overfitted ist das man zu wenige Daten zum trainieren hat, um das hier zu simulieren verwenden wir nicht die 50.000 Datensätze zum trainieren sondern nur die 10.000."
   ]
  },
  {
   "cell_type": "code",
   "metadata": {
    "id": "8f9rm6tZAKE8",
    "colab_type": "code",
    "colab": {
     "base_uri": "https://localhost:8080/",
     "height": 51
    },
    "outputId": "38e4b6d6-20f2-4021-b147-04967d19673f",
    "pycharm": {
     "is_executing": true
    }
   },
   "source": [
    "(X_test, Y_test), (X_train, Y_train) = datasets.cifar10.load_data()\n",
    "\n",
    "X_train, X_test = X_train / 255.0, X_test / 255.0\n",
    "\n",
    "num_classes = 10"
   ],
   "execution_count": null,
   "outputs": []
  },
  {
   "cell_type": "markdown",
   "metadata": {
    "id": "2EHk8pjWAP65",
    "colab_type": "text"
   },
   "source": [
    "## Modell erstellen\n",
    "\n",
    "Damit das Modell overfitted nehmen wir nur zwei Convolutional und ein MaxPooling Layer und zum auswerten auch nur ein Dense Layer."
   ]
  },
  {
   "cell_type": "code",
   "metadata": {
    "id": "MlZ-GqwJAR2J",
    "colab_type": "code",
    "colab": {
     "base_uri": "https://localhost:8080/",
     "height": 323
    },
    "outputId": "ea6c71d2-2ef8-4775-a9a6-353884384b68",
    "pycharm": {
     "is_executing": true
    }
   },
   "source": [
    "model = models.Sequential()\n",
    "model.add(layers.Conv2D(32, (3, 3), activation='relu', input_shape=(32, 32, 3)))\n",
    "model.add(layers.MaxPooling2D((2, 2)))\n",
    "model.add(layers.Conv2D(64, (3, 3), activation='relu'))\n",
    "\n",
    "model.add(layers.Flatten())\n",
    "model.add(layers.Dense(10, activation='softmax'))\n",
    "\n",
    "model.summary()\n",
    "\n",
    "model.compile(loss='sparse_categorical_crossentropy', optimizer='adam', metrics=['accuracy'])"
   ],
   "execution_count": null,
   "outputs": []
  },
  {
   "cell_type": "markdown",
   "metadata": {
    "id": "eiVydoa1AUy9",
    "colab_type": "text"
   },
   "source": [
    "## Modell trainieren\n",
    "\n",
    "Zusätzlich trainieren wir das Modell in 20 Epochen, das Modell wird sich also viel zu sehr an die 10.000 Datensätze die wir verwenden anpassen."
   ]
  },
  {
   "cell_type": "code",
   "metadata": {
    "id": "Qu5qdkORAUaa",
    "colab_type": "code",
    "colab": {
     "base_uri": "https://localhost:8080/",
     "height": 714
    },
    "outputId": "e750d182-8c76-4663-b84e-5ae7a64ce952",
    "pycharm": {
     "is_executing": true
    }
   },
   "source": [
    "history = model.fit(X_train, Y_train, batch_size=100, epochs=20, validation_data=(X_test, Y_test))"
   ],
   "execution_count": null,
   "outputs": []
  },
  {
   "cell_type": "markdown",
   "metadata": {
    "id": "OinsFcIpBHAl",
    "colab_type": "text"
   },
   "source": [
    "## Methode zum visualisieren der Ergebnisse"
   ]
  },
  {
   "cell_type": "code",
   "metadata": {
    "id": "7TSZ5ordBK8H",
    "colab_type": "code",
    "colab": {},
    "pycharm": {
     "is_executing": true
    }
   },
   "source": [
    "def plot_results(history, epoch_lim=20):\n",
    "  plt.plot(history.history['loss'], label='train')\n",
    "  plt.plot(history.history['val_loss'], label='test')\n",
    "  plt.xlabel('Epoch')\n",
    "  plt.ylabel('Loss')\n",
    "  plt.ylim([0, 2.5])\n",
    "  plt.xlim([0, epoch_lim])\n",
    "  plt.legend(loc='upper left')"
   ],
   "execution_count": null,
   "outputs": []
  },
  {
   "cell_type": "markdown",
   "metadata": {
    "id": "5fh4VNWxXMCK",
    "colab_type": "text"
   },
   "source": [
    "## Ergebnisse visualisieren"
   ]
  },
  {
   "cell_type": "code",
   "metadata": {
    "id": "Z9tCzWu3BMWH",
    "colab_type": "code",
    "colab": {
     "base_uri": "https://localhost:8080/",
     "height": 317
    },
    "outputId": "1e23c2e0-a54e-49c8-abbc-6eabf78c4369",
    "pycharm": {
     "is_executing": true
    }
   },
   "source": [
    "print(\"Train accuracy: {}%\".format(round(history.history['accuracy'][-1] * 100, 2)))\n",
    "print(\"Test accuracy: {}%\".format(round(history.history['val_accuracy'][-1] * 100, 2)))\n",
    "plot_results(history)"
   ],
   "execution_count": null,
   "outputs": []
  },
  {
   "cell_type": "markdown",
   "metadata": {
    "id": "jvwuJRPmYu0Z",
    "colab_type": "text"
   },
   "source": [
    "Wie man anhand des Graphen sehr gut sehen kann, steigt der Loss der Testdaten nach ca. 12 Epochen wieder an: das Modell overfitted. Das kann man auch an der Accuracy sehen, für die Trainingsdaten liegt die bei über 90% währrend die Testdaten nur um die 55% haben."
   ]
  },
  {
   "cell_type": "markdown",
   "metadata": {
    "collapsed": false,
    "pycharm": {
     "name": "#%% md\n"
    },
    "id": "K4tIuE_o_1sH",
    "colab_type": "text"
   },
   "source": [
    "# G Neural Networks Overfitting\n",
    "\n",
    "## Daten laden und splitten\n",
    "\n",
    "Um jetzt in diesem Modell das Overfitting zu verhindern verwenden wir die 50.000 Datensätze zum lernen."
   ]
  },
  {
   "cell_type": "code",
   "metadata": {
    "id": "aMyJfP1jBcIb",
    "colab_type": "code",
    "colab": {},
    "pycharm": {
     "is_executing": true
    }
   },
   "source": [
    "(X_train, Y_train), (X_test, Y_test) = datasets.cifar10.load_data()\n",
    "\n",
    "X_train, X_test = X_train / 255.0, X_test / 255.0"
   ],
   "execution_count": null,
   "outputs": []
  },
  {
   "cell_type": "markdown",
   "metadata": {
    "id": "BZXtK7A2U9D4",
    "colab_type": "text"
   },
   "source": [
    "## Modell erstellen\n",
    "\n",
    "Damit das Modell die Muster in den Bildern besser erkennen kann fügen wir im Vergleich zu dem ersten Modell eine weitere Conv/MaxPooling Kombi und ein weiteres Dense Layer hinzu."
   ]
  },
  {
   "cell_type": "code",
   "metadata": {
    "id": "G5_iEX1tBeQo",
    "colab_type": "code",
    "colab": {
     "base_uri": "https://localhost:8080/",
     "height": 493
    },
    "outputId": "b198d165-0a97-403f-d70e-c449b708ad7a",
    "pycharm": {
     "is_executing": true
    }
   },
   "source": [
    "model = models.Sequential()\n",
    "model.add(layers.Conv2D(32, (3, 3), activation='relu', input_shape=(32, 32, 3)))\n",
    "model.add(layers.MaxPooling2D((2, 2)))\n",
    "model.add(layers.Conv2D(64, (3, 3), activation='relu'))\n",
    "model.add(layers.MaxPooling2D((2, 2)))\n",
    "model.add(layers.Conv2D(64, (3, 3), activation='relu'))\n",
    "\n",
    "model.add(layers.Flatten())\n",
    "model.add(layers.Dense(128, activation='relu'))\n",
    "model.add(layers.Dropout(0.5))\n",
    "model.add(layers.Dense(64, activation='relu'))\n",
    "model.add(layers.Dense(10, activation='softmax'))\n",
    "\n",
    "model.summary()\n",
    "\n",
    "model.compile(loss='sparse_categorical_crossentropy', optimizer='adam', metrics=['accuracy'])"
   ],
   "execution_count": null,
   "outputs": []
  },
  {
   "cell_type": "markdown",
   "metadata": {
    "id": "g0DTjqEcVP8Y",
    "colab_type": "text"
   },
   "source": [
    "## Modell trainieren\n",
    "\n",
    "Um Overfitting zu verhindern verringern wir die Anzahl an Epochen."
   ]
  },
  {
   "cell_type": "code",
   "metadata": {
    "id": "WeT93vk7USHx",
    "colab_type": "code",
    "colab": {
     "base_uri": "https://localhost:8080/",
     "height": 374
    },
    "outputId": "b4916e74-8d38-4923-c2db-56b586116acf",
    "pycharm": {
     "is_executing": true
    }
   },
   "source": [
    "early_stopping = EarlyStopping(monitor='val_loss', min_delta=0, patience=2, verbose=0, mode='auto')\n",
    "history = model.fit(X_train, Y_train, batch_size=10, epochs=15, validation_data=(X_test, Y_test), callbacks=[early_stopping])"
   ],
   "execution_count": null,
   "outputs": []
  },
  {
   "cell_type": "markdown",
   "metadata": {
    "id": "Ox6Y5epgVgfx",
    "colab_type": "text"
   },
   "source": [
    "## Ergebnisse visualisieren"
   ]
  },
  {
   "cell_type": "code",
   "metadata": {
    "id": "X8XBLEXrUS9p",
    "colab_type": "code",
    "colab": {
     "base_uri": "https://localhost:8080/",
     "height": 317
    },
    "outputId": "891ba079-43f0-4a00-f74c-52d6bf86c4f9",
    "pycharm": {
     "is_executing": true
    }
   },
   "source": [
    "print(\"Train accuracy: {}%\".format(round(history.history['accuracy'][-1] * 100, 2)))\n",
    "print(\"Test accuracy: {}%\".format(round(history.history['val_accuracy'][-1] * 100, 2)))\n",
    "plot_results(history, epoch_lim=15)"
   ],
   "execution_count": null,
   "outputs": []
  },
  {
   "cell_type": "markdown",
   "metadata": {
    "id": "u-Wz2rI5blZJ",
    "colab_type": "text"
   },
   "source": [
    "Wie man an dem Graphen sehen kann sinkt der Loss sowohl für die Trainingsdaten als auch für die Testdaten kontinuierlich. Das Modell generalisiert wesentlich besser anstatt einfach nur die Bilder aus dem Trainingsset auswendig zu lernen. Der Early-Stop Callback verhindert, dass das Modell durch zu viele Trainingsepochen overfitted.  \n",
    "Die Accuracy von Train und Test liegen auch sehr nah beieinander."
   ]
  },
  {
   "cell_type": "markdown",
   "metadata": {
    "collapsed": false,
    "pycharm": {
     "name": "#%% md\n"
    },
    "id": "TFBsqEu1_1sI",
    "colab_type": "text"
   },
   "source": [
    "# H Feedback\n",
    "### Wieviel Zeit habt ihr mit dem Assignment verbracht?\n",
    "Max: 15h\n",
    "### Wie oft habt ihr euch getroffen?\n",
    "3\n",
    "### Welche Aufgabe hat euch am besten gefallen?\n",
    "### Welche Aufgabe hat euch am wenigsten gefallen?"
   ]
  }
 ]
}