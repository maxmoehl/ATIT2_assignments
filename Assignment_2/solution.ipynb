{
  "nbformat": 4,
  "nbformat_minor": 0,
  "metadata": {
    "kernelspec": {
      "name": "python3",
      "display_name": "Python 3"
    },
    "language_info": {
      "codemirror_mode": {
        "name": "ipython",
        "version": 2
      },
      "file_extension": ".py",
      "mimetype": "text/x-python",
      "name": "python",
      "nbconvert_exporter": "python",
      "pygments_lexer": "ipython2",
      "version": "2.7.6"
    },
    "pycharm": {
      "stem_cell": {
        "cell_type": "raw",
        "source": [],
        "metadata": {
          "collapsed": false
        }
      }
    },
    "colab": {
      "name": "solution.ipynb",
      "provenance": [],
      "toc_visible": true
    },
    "accelerator": "GPU"
  },
  "cells": [
    {
      "cell_type": "code",
      "metadata": {
        "id": "nRUJgQAI_45z",
        "colab_type": "code",
        "colab": {}
      },
      "source": [
        "# Run if you are executing this notebook in Colab to ensure tf v2.x.x\n",
        "!pip install -U tensorflow keras"
      ],
      "execution_count": 0,
      "outputs": []
    },
    {
      "cell_type": "code",
      "metadata": {
        "pycharm": {
          "name": "#%%\n",
          "is_executing": false
        },
        "id": "-4OyQYTU_1ri",
        "colab_type": "code",
        "colab": {}
      },
      "source": [
        "import math\n",
        "import datetime\n",
        "import matplotlib.pyplot as plt\n",
        "import numpy as np\n",
        "import pandas as pd\n",
        "import seaborn as sns\n",
        "import keras\n",
        "import tensorflow as tf\n",
        "from keras import models, layers, datasets\n",
        "from keras.callbacks import EarlyStopping"
      ],
      "execution_count": 0,
      "outputs": []
    },
    {
      "cell_type": "markdown",
      "metadata": {
        "collapsed": true,
        "pycharm": {
          "name": "#%% md\n"
        },
        "id": "cmbCJ0IZ_1rq",
        "colab_type": "text"
      },
      "source": [
        "# A SF Permits Cleaning\n",
        "\n",
        "### Methode um Y/NaN Spalten zu konvertieren"
      ]
    },
    {
      "cell_type": "code",
      "metadata": {
        "pycharm": {
          "name": "#%%\n",
          "is_executing": false
        },
        "id": "ird9EkPX_1rs",
        "colab_type": "code",
        "colab": {}
      },
      "source": [
        "def replace_y_with_0_1(df: pd.DataFrame, column: str) -> pd.DataFrame:\n",
        "    \"\"\"\n",
        "    Ersetzt Y und leere Felder in Spalten die nur Y und leere Felder erhalten durch 1 und 0 \n",
        "    :param df: Dataframe in dem sich die Spalten befinden\n",
        "    :param column: Name der Spalte in der die Werte ersetzt werden sollen\n",
        "    :return: DataFrame mit modifizierten Spalten\n",
        "    \"\"\"\n",
        "    df[column].fillna(0, inplace=True)\n",
        "    df[column].replace('Y', 1, inplace=True)\n",
        "    return df"
      ],
      "execution_count": 0,
      "outputs": []
    },
    {
      "cell_type": "markdown",
      "metadata": {
        "collapsed": false,
        "pycharm": {
          "name": "#%% md\n"
        },
        "id": "xR7MEk5R_1rz",
        "colab_type": "text"
      },
      "source": [
        "### Datenset laden"
      ]
    },
    {
      "cell_type": "code",
      "metadata": {
        "pycharm": {
          "name": "#%%\n",
          "is_executing": false
        },
        "id": "F5fMj_vt_1r1",
        "colab_type": "code",
        "colab": {},
        "outputId": "420a6327-fde2-4bd7-8d17-5d60cf4ba67b"
      },
      "source": [
        "permits_df = pd.read_csv(\"building_permits.csv\")"
      ],
      "execution_count": 0,
      "outputs": [
        {
          "output_type": "stream",
          "text": [
            "c:\\users\\d074009\\appdata\\local\\programs\\python\\python37\\lib\\site-packages\\IPython\\core\\interactiveshell.py:3058: DtypeWarning: Columns (22,32) have mixed types. Specify dtype option on import or set low_memory=False.\n",
            "  interactivity=interactivity, compiler=compiler, result=result)\n"
          ],
          "name": "stderr"
        }
      ]
    },
    {
      "cell_type": "markdown",
      "metadata": {
        "collapsed": false,
        "pycharm": {
          "name": "#%% md\n"
        },
        "id": "HTnfsNBE_1r9",
        "colab_type": "text"
      },
      "source": [
        "# B SF Permits Exploration"
      ]
    },
    {
      "cell_type": "markdown",
      "metadata": {
        "collapsed": false,
        "pycharm": {
          "name": "#%% md\n"
        },
        "id": "tzc08M-7_1r_",
        "colab_type": "text"
      },
      "source": [
        "# C SF Permits Prediction\n",
        "\n",
        "### Methode für One-Hot-Encoding"
      ]
    },
    {
      "cell_type": "code",
      "metadata": {
        "pycharm": {
          "name": "#%%\n",
          "is_executing": false
        },
        "id": "a4l0OiRH_1sA",
        "colab_type": "code",
        "colab": {}
      },
      "source": [
        "def one_hot_encode(df: pd.DataFrame, col: str) -> pd.DataFrame:\n",
        "    \"\"\"\n",
        "    Erzeugt Dummy-Spalten für jeden Wert in der Quell-Spalte.\n",
        "    \n",
        "    Beispiel:\n",
        "    Wenn eine Tabelle die Spalte 'Klasse' mit 0, 1, 2 als Werte hat, werden die Spalte Klasse 0, Klasse 1 und Klasse 2\n",
        "    erstellt und die Zeilen der Tabelle an den entsprechenden Stellen auf 0 bzw. 1 gesetzt. \n",
        "    :param df: Dataframe in dem die zu ersetzende Spalte ist\n",
        "    :param col: Spalte die One-Hot-Encoded werden soll\n",
        "    :return: modifizierter DataFrame\n",
        "    \"\"\"\n",
        "    return df.assign(**{str(col + \" \" + str(val)): [1 if str(val) in str(cell) else 0 for cell in df[col]] \n",
        "                                   for val in df[col].unique()})\n",
        "\n",
        "def days_between_dates(d1: str, d2: str) -> int:\n",
        "    \"\"\"\n",
        "    Akzeptiert zwei Daten in der Form DD/MM/YYYY und berechnet die Tage zwischen den beiden Daten.\n",
        "    :param d1: Erstes Datum\n",
        "    :param d2: Zweites Datum\n",
        "    :return: Anzahl der Tage zwischen den beiden Daten\n",
        "    \"\"\"\n",
        "    d1 = d1.split(\"/\")\n",
        "    d2 = d2.split(\"/\")\n",
        "    if len(d1) != 3 or len(d2) != 3:\n",
        "        raise ValueError(\"Date must consist of three numbers divided by '/'\")\n",
        "    d1 = datetime.date(int(d1[2]), int(d1[1]), int(d1[0]))\n",
        "    d2 = datetime.date(int(d2[2]), int(d2[1]), int(d2[0]))\n",
        "    return (d2 - d1).days"
      ],
      "execution_count": 0,
      "outputs": []
    },
    {
      "cell_type": "markdown",
      "metadata": {
        "collapsed": false,
        "pycharm": {
          "name": "#%% md\n"
        },
        "id": "RgVsTouw_1sC",
        "colab_type": "text"
      },
      "source": [
        "# D SF Challenges"
      ]
    },
    {
      "cell_type": "markdown",
      "metadata": {
        "collapsed": false,
        "pycharm": {
          "name": "#%% md\n"
        },
        "id": "xu0TfuMH_1sD",
        "colab_type": "text"
      },
      "source": [
        "# E Neural Networks XOR\n",
        "\n",
        "![XOR Graph](https://github.com/maxmoehl/ATIT2_assignments/blob/master/Assignment_2/XOR.png?raw=1)\n",
        "\n",
        "w: weight  \n",
        "b: bias  \n",
        "t: threshold\n",
        "\n",
        "Mathematische Funktion:\n",
        "```\n",
        "SIGMOID(x) = 1 / (1 + e^(-x))\n",
        "AND(x, y) = SIGMOID(50x + 50y - 75)\n",
        "OR(x, y) = SIGMOID(50x + 50y - 25)\n",
        "NOT(x) = SIGMOID(-50x + 10)\n",
        "\n",
        "XOR(x, y) = AND(NOT(AND(x, y)), OR(x, y))\n",
        "\n",
        "XOR(x,y) = SIGMOID(SIGMOID(SIGMOID(50x + 50y - 75) * (-50) + 10) * 50 + SIGMOID(50x + 50y - 25) * 50 - 75)\n",
        "           \\       \\       \\---------AND---------/             /        \\                     /          /\n",
        "            \\       \\-------------------NOT-------------------/          \\--------OR---------/          /\n",
        "             \\-------------------------------------------AND-------------------------------------------/\n",
        "```\n",
        "\n",
        "### Funktionen in Python abbilden und testen"
      ]
    },
    {
      "cell_type": "code",
      "metadata": {
        "pycharm": {
          "name": "#%%\n",
          "is_executing": false
        },
        "id": "tbgurGNn_1sE",
        "colab_type": "code",
        "colab": {
          "base_uri": "https://localhost:8080/",
          "height": 85
        },
        "outputId": "8b97de3f-3ad1-429f-f3c7-54b1a779a0cc"
      },
      "source": [
        "def SIGMOID(x):\n",
        "    return 1 / (1 + (math.e ** (-x)))\n",
        "\n",
        "def AND(x, y):\n",
        "    return SIGMOID(x * 50 + y * 50 - 75)\n",
        "\n",
        "def OR(x, y):\n",
        "    return SIGMOID(x * 50 + y * 50 - 25)\n",
        "    \n",
        "def NOT(x):\n",
        "    return SIGMOID(x * (-50) + 10)\n",
        "\n",
        "def XOR(x, y):\n",
        "    return AND(NOT(AND(x, y)),OR(x, y))\n",
        "\n",
        "print(round(XOR(0, 0), 2))\n",
        "print(round(XOR(0, 1), 2))\n",
        "print(round(XOR(1, 0), 2))\n",
        "print(round(XOR(1, 1), 2))"
      ],
      "execution_count": 4,
      "outputs": [
        {
          "output_type": "stream",
          "text": [
            "0.0\n",
            "1.0\n",
            "1.0\n",
            "0.0\n"
          ],
          "name": "stdout"
        }
      ]
    },
    {
      "cell_type": "markdown",
      "metadata": {
        "collapsed": false,
        "pycharm": {
          "name": "#%% md\n"
        },
        "id": "cLiGUsgJ_1sG",
        "colab_type": "text"
      },
      "source": [
        "# F Neural Networks Overfitting\n",
        "\n",
        "## Daten laden und splitten\n",
        "\n",
        "Das größte Problem wenn man ein Modell hat das overfitted ist das man zu wenige Daten zum trainieren hat, um das hier zu simulieren verwenden wir nicht die 50.000 Datensätze zum trainieren sondern nur die 10.000."
      ]
    },
    {
      "cell_type": "code",
      "metadata": {
        "id": "8f9rm6tZAKE8",
        "colab_type": "code",
        "colab": {
          "base_uri": "https://localhost:8080/",
          "height": 51
        },
        "outputId": "38e4b6d6-20f2-4021-b147-04967d19673f"
      },
      "source": [
        "(X_test, Y_test), (X_train, Y_train) = datasets.cifar10.load_data()\n",
        "\n",
        "X_train, X_test = X_train / 255.0, X_test / 255.0\n",
        "\n",
        "num_classes = 10"
      ],
      "execution_count": 5,
      "outputs": [
        {
          "output_type": "stream",
          "text": [
            "Downloading data from https://www.cs.toronto.edu/~kriz/cifar-10-python.tar.gz\n",
            "170500096/170498071 [==============================] - 11s 0us/step\n"
          ],
          "name": "stdout"
        }
      ]
    },
    {
      "cell_type": "markdown",
      "metadata": {
        "id": "2EHk8pjWAP65",
        "colab_type": "text"
      },
      "source": [
        "## Modell erstellen\n",
        "\n",
        "Damit das Modell overfitted nehmen wir nur zwei Convolutional und ein MaxPooling Layer und zum auswerten auch nur ein Dense Layer."
      ]
    },
    {
      "cell_type": "code",
      "metadata": {
        "id": "MlZ-GqwJAR2J",
        "colab_type": "code",
        "colab": {
          "base_uri": "https://localhost:8080/",
          "height": 323
        },
        "outputId": "ea6c71d2-2ef8-4775-a9a6-353884384b68"
      },
      "source": [
        "model = models.Sequential()\n",
        "model.add(layers.Conv2D(32, (3, 3), activation='relu', input_shape=(32, 32, 3)))\n",
        "model.add(layers.MaxPooling2D((2, 2)))\n",
        "model.add(layers.Conv2D(64, (3, 3), activation='relu'))\n",
        "\n",
        "model.add(layers.Flatten())\n",
        "model.add(layers.Dense(10, activation='softmax'))\n",
        "\n",
        "model.summary()\n",
        "\n",
        "model.compile(loss='sparse_categorical_crossentropy', optimizer='adam', metrics=['accuracy'])"
      ],
      "execution_count": 6,
      "outputs": [
        {
          "output_type": "stream",
          "text": [
            "Model: \"sequential_1\"\n",
            "_________________________________________________________________\n",
            "Layer (type)                 Output Shape              Param #   \n",
            "=================================================================\n",
            "conv2d_1 (Conv2D)            (None, 30, 30, 32)        896       \n",
            "_________________________________________________________________\n",
            "max_pooling2d_1 (MaxPooling2 (None, 15, 15, 32)        0         \n",
            "_________________________________________________________________\n",
            "conv2d_2 (Conv2D)            (None, 13, 13, 64)        18496     \n",
            "_________________________________________________________________\n",
            "flatten_1 (Flatten)          (None, 10816)             0         \n",
            "_________________________________________________________________\n",
            "dense_1 (Dense)              (None, 10)                108170    \n",
            "=================================================================\n",
            "Total params: 127,562\n",
            "Trainable params: 127,562\n",
            "Non-trainable params: 0\n",
            "_________________________________________________________________\n"
          ],
          "name": "stdout"
        }
      ]
    },
    {
      "cell_type": "markdown",
      "metadata": {
        "id": "eiVydoa1AUy9",
        "colab_type": "text"
      },
      "source": [
        "## Modell trainieren\n",
        "\n",
        "Zusätzlich trainieren wir das Modell in 20 Epochen, das Modell wird sich also viel zu sehr an die 10.000 Datensätze die wir verwenden anpassen."
      ]
    },
    {
      "cell_type": "code",
      "metadata": {
        "id": "Qu5qdkORAUaa",
        "colab_type": "code",
        "colab": {
          "base_uri": "https://localhost:8080/",
          "height": 714
        },
        "outputId": "e750d182-8c76-4663-b84e-5ae7a64ce952"
      },
      "source": [
        "history = model.fit(X_train, Y_train, batch_size=100, epochs=20, validation_data=(X_test, Y_test))"
      ],
      "execution_count": 7,
      "outputs": [
        {
          "output_type": "stream",
          "text": [
            "Train on 10000 samples, validate on 50000 samples\n",
            "Epoch 1/20\n",
            "10000/10000 [==============================] - 34s 3ms/step - loss: 1.8640 - accuracy: 0.3366 - val_loss: 1.6231 - val_accuracy: 0.4279\n",
            "Epoch 2/20\n",
            "10000/10000 [==============================] - 34s 3ms/step - loss: 1.5130 - accuracy: 0.4629 - val_loss: 1.4850 - val_accuracy: 0.4748\n",
            "Epoch 3/20\n",
            "10000/10000 [==============================] - 33s 3ms/step - loss: 1.3665 - accuracy: 0.5199 - val_loss: 1.4044 - val_accuracy: 0.5083\n",
            "Epoch 4/20\n",
            "10000/10000 [==============================] - 33s 3ms/step - loss: 1.2594 - accuracy: 0.5592 - val_loss: 1.3722 - val_accuracy: 0.5153\n",
            "Epoch 5/20\n",
            "10000/10000 [==============================] - 33s 3ms/step - loss: 1.1956 - accuracy: 0.5838 - val_loss: 1.3470 - val_accuracy: 0.5278\n",
            "Epoch 6/20\n",
            "10000/10000 [==============================] - 33s 3ms/step - loss: 1.1235 - accuracy: 0.6103 - val_loss: 1.3015 - val_accuracy: 0.5441\n",
            "Epoch 7/20\n",
            "10000/10000 [==============================] - 33s 3ms/step - loss: 1.0382 - accuracy: 0.6422 - val_loss: 1.3207 - val_accuracy: 0.5482\n",
            "Epoch 8/20\n",
            "10000/10000 [==============================] - 32s 3ms/step - loss: 0.9964 - accuracy: 0.6579 - val_loss: 1.2988 - val_accuracy: 0.5550\n",
            "Epoch 9/20\n",
            "10000/10000 [==============================] - 32s 3ms/step - loss: 0.9134 - accuracy: 0.6889 - val_loss: 1.2826 - val_accuracy: 0.5644\n",
            "Epoch 10/20\n",
            "10000/10000 [==============================] - 32s 3ms/step - loss: 0.8595 - accuracy: 0.7059 - val_loss: 1.3020 - val_accuracy: 0.5613\n",
            "Epoch 11/20\n",
            "10000/10000 [==============================] - 33s 3ms/step - loss: 0.7961 - accuracy: 0.7290 - val_loss: 1.2890 - val_accuracy: 0.5692\n",
            "Epoch 12/20\n",
            "10000/10000 [==============================] - 34s 3ms/step - loss: 0.7435 - accuracy: 0.7443 - val_loss: 1.2981 - val_accuracy: 0.5716\n",
            "Epoch 13/20\n",
            "10000/10000 [==============================] - 33s 3ms/step - loss: 0.6742 - accuracy: 0.7730 - val_loss: 1.2959 - val_accuracy: 0.5767\n",
            "Epoch 14/20\n",
            "10000/10000 [==============================] - 33s 3ms/step - loss: 0.6054 - accuracy: 0.7995 - val_loss: 1.3409 - val_accuracy: 0.5768\n",
            "Epoch 15/20\n",
            "10000/10000 [==============================] - 33s 3ms/step - loss: 0.5547 - accuracy: 0.8135 - val_loss: 1.4022 - val_accuracy: 0.5737\n",
            "Epoch 16/20\n",
            "10000/10000 [==============================] - 33s 3ms/step - loss: 0.5134 - accuracy: 0.8311 - val_loss: 1.4062 - val_accuracy: 0.5705\n",
            "Epoch 17/20\n",
            "10000/10000 [==============================] - 34s 3ms/step - loss: 0.4542 - accuracy: 0.8562 - val_loss: 1.4382 - val_accuracy: 0.5783\n",
            "Epoch 18/20\n",
            "10000/10000 [==============================] - 34s 3ms/step - loss: 0.4200 - accuracy: 0.8678 - val_loss: 1.4941 - val_accuracy: 0.5749\n",
            "Epoch 19/20\n",
            "10000/10000 [==============================] - 33s 3ms/step - loss: 0.3734 - accuracy: 0.8854 - val_loss: 1.5390 - val_accuracy: 0.5769\n",
            "Epoch 20/20\n",
            "10000/10000 [==============================] - 33s 3ms/step - loss: 0.3325 - accuracy: 0.9017 - val_loss: 1.6402 - val_accuracy: 0.5550\n"
          ],
          "name": "stdout"
        }
      ]
    },
    {
      "cell_type": "markdown",
      "metadata": {
        "id": "OinsFcIpBHAl",
        "colab_type": "text"
      },
      "source": [
        "## Methode zum visualisieren der Ergebnisse"
      ]
    },
    {
      "cell_type": "code",
      "metadata": {
        "id": "7TSZ5ordBK8H",
        "colab_type": "code",
        "colab": {}
      },
      "source": [
        "def plot_results(history, epoch_lim=20):\n",
        "  plt.plot(history.history['loss'], label='train')\n",
        "  plt.plot(history.history['val_loss'], label='test')\n",
        "  plt.xlabel('Epoch')\n",
        "  plt.ylabel('Loss')\n",
        "  plt.ylim([0, 2.5])\n",
        "  plt.xlim([0, epoch_lim])\n",
        "  plt.legend(loc='upper left')"
      ],
      "execution_count": 0,
      "outputs": []
    },
    {
      "cell_type": "markdown",
      "metadata": {
        "id": "5fh4VNWxXMCK",
        "colab_type": "text"
      },
      "source": [
        "## Ergebnisse visualisieren"
      ]
    },
    {
      "cell_type": "code",
      "metadata": {
        "id": "Z9tCzWu3BMWH",
        "colab_type": "code",
        "colab": {
          "base_uri": "https://localhost:8080/",
          "height": 317
        },
        "outputId": "1e23c2e0-a54e-49c8-abbc-6eabf78c4369"
      },
      "source": [
        "print(\"Train accuracy: {}%\".format(round(history.history['accuracy'][-1] * 100, 2)))\n",
        "print(\"Test accuracy: {}%\".format(round(history.history['val_accuracy'][-1] * 100, 2)))\n",
        "plot_results(history)"
      ],
      "execution_count": 9,
      "outputs": [
        {
          "output_type": "stream",
          "text": [
            "Train accuracy: 90.17%\n",
            "Test accuracy: 55.5%\n"
          ],
          "name": "stdout"
        },
        {
          "output_type": "display_data",
          "data": {
            "image/png": "[encoded data removed]",
            "text/plain": [
              "<Figure size 432x288 with 1 Axes>"
            ]
          },
          "metadata": {
            "tags": []
          }
        }
      ]
    },
    {
      "cell_type": "markdown",
      "metadata": {
        "id": "jvwuJRPmYu0Z",
        "colab_type": "text"
      },
      "source": [
        "Wie man anhand des Graphen sehr gut sehen kann, steigt der Loss der Testdaten nach ca. 12 Epochen wieder an: das Modell overfitted. Das kann man auch an der Accuracy sehen, für die Trainingsdaten liegt die bei über 90% währrend die Testdaten nur um die 55% haben."
      ]
    },
    {
      "cell_type": "markdown",
      "metadata": {
        "collapsed": false,
        "pycharm": {
          "name": "#%% md\n"
        },
        "id": "K4tIuE_o_1sH",
        "colab_type": "text"
      },
      "source": [
        "# G Neural Networks Overfitting\n",
        "\n",
        "## Daten laden und splitten\n",
        "\n",
        "Um jetzt in diesem Modell das Overfitting zu verhindern verwenden wir die 50.000 Datensätze zum lernen."
      ]
    },
    {
      "cell_type": "code",
      "metadata": {
        "id": "aMyJfP1jBcIb",
        "colab_type": "code",
        "colab": {}
      },
      "source": [
        "(X_train, Y_train), (X_test, Y_test) = datasets.cifar10.load_data()\n",
        "\n",
        "X_train, X_test = X_train / 255.0, X_test / 255.0\n",
        "\n",
        "num_classes = 10"
      ],
      "execution_count": 0,
      "outputs": []
    },
    {
      "cell_type": "markdown",
      "metadata": {
        "id": "BZXtK7A2U9D4",
        "colab_type": "text"
      },
      "source": [
        "## Modell erstellen\n",
        "\n",
        "Damit das Modell die Muster in den Bildern besser erkennen kann fügen wir im Vergleich zu dem ersten Modell eine weitere Conv/MaxPooling Kombi und ein weiteres Dense Layer hinzu."
      ]
    },
    {
      "cell_type": "code",
      "metadata": {
        "id": "G5_iEX1tBeQo",
        "colab_type": "code",
        "colab": {
          "base_uri": "https://localhost:8080/",
          "height": 493
        },
        "outputId": "b198d165-0a97-403f-d70e-c449b708ad7a"
      },
      "source": [
        "model = models.Sequential()\n",
        "model.add(layers.Conv2D(32, (3, 3), activation='relu', input_shape=(32, 32, 3)))\n",
        "model.add(layers.MaxPooling2D((2, 2)))\n",
        "model.add(layers.Conv2D(64, (3, 3), activation='relu'))\n",
        "model.add(layers.MaxPooling2D((2, 2)))\n",
        "model.add(layers.Conv2D(64, (3, 3), activation='relu'))\n",
        "\n",
        "model.add(layers.Flatten())\n",
        "model.add(layers.Dense(128, activation='relu'))\n",
        "model.add(layers.Dropout(0.5))\n",
        "model.add(layers.Dense(64, activation='relu'))\n",
        "model.add(layers.Dense(10, activation='softmax'))\n",
        "\n",
        "model.summary()\n",
        "\n",
        "model.compile(loss='sparse_categorical_crossentropy', optimizer='adam', metrics=['accuracy'])"
      ],
      "execution_count": 31,
      "outputs": [
        {
          "output_type": "stream",
          "text": [
            "Model: \"sequential_8\"\n",
            "_________________________________________________________________\n",
            "Layer (type)                 Output Shape              Param #   \n",
            "=================================================================\n",
            "conv2d_21 (Conv2D)           (None, 30, 30, 32)        896       \n",
            "_________________________________________________________________\n",
            "max_pooling2d_14 (MaxPooling (None, 15, 15, 32)        0         \n",
            "_________________________________________________________________\n",
            "conv2d_22 (Conv2D)           (None, 13, 13, 64)        18496     \n",
            "_________________________________________________________________\n",
            "max_pooling2d_15 (MaxPooling (None, 6, 6, 64)          0         \n",
            "_________________________________________________________________\n",
            "conv2d_23 (Conv2D)           (None, 4, 4, 64)          36928     \n",
            "_________________________________________________________________\n",
            "flatten_8 (Flatten)          (None, 1024)              0         \n",
            "_________________________________________________________________\n",
            "dense_19 (Dense)             (None, 128)               131200    \n",
            "_________________________________________________________________\n",
            "dropout_10 (Dropout)         (None, 128)               0         \n",
            "_________________________________________________________________\n",
            "dense_20 (Dense)             (None, 64)                8256      \n",
            "_________________________________________________________________\n",
            "dense_21 (Dense)             (None, 10)                650       \n",
            "=================================================================\n",
            "Total params: 196,426\n",
            "Trainable params: 196,426\n",
            "Non-trainable params: 0\n",
            "_________________________________________________________________\n"
          ],
          "name": "stdout"
        }
      ]
    },
    {
      "cell_type": "markdown",
      "metadata": {
        "id": "g0DTjqEcVP8Y",
        "colab_type": "text"
      },
      "source": [
        "## Modell trainieren\n",
        "\n",
        "Um Overfitting zu verhindern verringern wir die Anzahl an Epochen."
      ]
    },
    {
      "cell_type": "code",
      "metadata": {
        "id": "WeT93vk7USHx",
        "colab_type": "code",
        "colab": {
          "base_uri": "https://localhost:8080/",
          "height": 374
        },
        "outputId": "b4916e74-8d38-4923-c2db-56b586116acf"
      },
      "source": [
        "early_stopping = EarlyStopping(monitor='val_loss', min_delta=0, patience=2, verbose=0, mode='auto')\n",
        "history = model.fit(X_train, Y_train, batch_size=10, epochs=15, validation_data=(X_test, Y_test), callbacks=[early_stopping])"
      ],
      "execution_count": 32,
      "outputs": [
        {
          "output_type": "stream",
          "text": [
            "Train on 50000 samples, validate on 10000 samples\n",
            "Epoch 1/15\n",
            "50000/50000 [==============================] - 106s 2ms/step - loss: 1.6400 - accuracy: 0.3914 - val_loss: 1.3406 - val_accuracy: 0.5171\n",
            "Epoch 2/15\n",
            "50000/50000 [==============================] - 104s 2ms/step - loss: 1.2924 - accuracy: 0.5390 - val_loss: 1.2690 - val_accuracy: 0.5482\n",
            "Epoch 3/15\n",
            "50000/50000 [==============================] - 101s 2ms/step - loss: 1.1615 - accuracy: 0.5889 - val_loss: 1.1041 - val_accuracy: 0.6162\n",
            "Epoch 4/15\n",
            "50000/50000 [==============================] - 101s 2ms/step - loss: 1.0742 - accuracy: 0.6245 - val_loss: 1.0711 - val_accuracy: 0.6281\n",
            "Epoch 5/15\n",
            "50000/50000 [==============================] - 102s 2ms/step - loss: 1.0151 - accuracy: 0.6454 - val_loss: 0.9853 - val_accuracy: 0.6638\n",
            "Epoch 6/15\n",
            "50000/50000 [==============================] - 101s 2ms/step - loss: 0.9653 - accuracy: 0.6644 - val_loss: 0.9457 - val_accuracy: 0.6751\n",
            "Epoch 7/15\n",
            "50000/50000 [==============================] - 102s 2ms/step - loss: 0.9297 - accuracy: 0.6776 - val_loss: 0.9505 - val_accuracy: 0.6720\n",
            "Epoch 8/15\n",
            "50000/50000 [==============================] - 103s 2ms/step - loss: 0.8932 - accuracy: 0.6904 - val_loss: 0.9354 - val_accuracy: 0.6794\n",
            "Epoch 9/15\n",
            "50000/50000 [==============================] - 103s 2ms/step - loss: 0.8655 - accuracy: 0.7008 - val_loss: 0.9432 - val_accuracy: 0.6831\n",
            "Epoch 10/15\n",
            "50000/50000 [==============================] - 103s 2ms/step - loss: 0.8415 - accuracy: 0.7092 - val_loss: 0.9411 - val_accuracy: 0.6863\n"
          ],
          "name": "stdout"
        }
      ]
    },
    {
      "cell_type": "markdown",
      "metadata": {
        "id": "Ox6Y5epgVgfx",
        "colab_type": "text"
      },
      "source": [
        "## Ergebnisse visualisieren"
      ]
    },
    {
      "cell_type": "code",
      "metadata": {
        "id": "X8XBLEXrUS9p",
        "colab_type": "code",
        "colab": {
          "base_uri": "https://localhost:8080/",
          "height": 317
        },
        "outputId": "891ba079-43f0-4a00-f74c-52d6bf86c4f9"
      },
      "source": [
        "print(\"Train accuracy: {}%\".format(round(history.history['accuracy'][-1] * 100, 2)))\n",
        "print(\"Test accuracy: {}%\".format(round(history.history['val_accuracy'][-1] * 100, 2)))\n",
        "plot_results(history, epoch_lim=15)"
      ],
      "execution_count": 34,
      "outputs": [
        {
          "output_type": "stream",
          "text": [
            "Train accuracy: 70.92%\n",
            "Test accuracy: 68.63%\n"
          ],
          "name": "stdout"
        },
        {
          "output_type": "display_data",
          "data": {
            "image/png": "[encoded data removed]",
            "text/plain": [
              "<Figure size 432x288 with 1 Axes>"
            ]
          },
          "metadata": {
            "tags": []
          }
        }
      ]
    },
    {
      "cell_type": "markdown",
      "metadata": {
        "id": "u-Wz2rI5blZJ",
        "colab_type": "text"
      },
      "source": [
        "Wie man an dem Graphen sehen kann sinkt der Loss sowohl für die Trainingsdaten als auch für die Testdaten kontinuierlich. Das Modell generalisiert wesentlich besser anstatt einfach nur die Bilder aus dem Trainingsset auswendig zu lernen. Der Early-Stop Callback verhindert, dass das Modell durch zu viele Trainingsepochen overfitted.  \n",
        "Die Accuracy von Train und Test liegen auch sehr nah beieinander."
      ]
    },
    {
      "cell_type": "markdown",
      "metadata": {
        "collapsed": false,
        "pycharm": {
          "name": "#%% md\n"
        },
        "id": "TFBsqEu1_1sI",
        "colab_type": "text"
      },
      "source": [
        "# H Feedback\n",
        "### Wieviel Zeit habt ihr mit dem Assignment verbracht?\n",
        "Max: 15h\n",
        "### Wie oft habt ihr euch getroffen?\n",
        "3\n",
        "### Welche Aufgabe hat euch am besten gefallen?\n",
        "### Welche Aufgabe hat euch am wenigsten gefallen?"
      ]
    }
  ]
}